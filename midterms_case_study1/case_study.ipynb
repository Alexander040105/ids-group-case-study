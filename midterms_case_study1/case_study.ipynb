{
 "cells": [
  {
   "cell_type": "code",
   "execution_count": 79,
   "metadata": {},
   "outputs": [],
   "source": [
    "import os\n",
    "import pandas as pd\n",
    "import numpy\n",
    "import plotly.express as px\n",
    "\n",
    "current_directory = os.getcwd()"
   ]
  },
  {
   "cell_type": "code",
   "execution_count": 80,
   "metadata": {},
   "outputs": [
    {
     "data": {
      "application/vnd.microsoft.datawrangler.viewer.v0+json": {
       "columns": [
        {
         "name": "index",
         "rawType": "int64",
         "type": "integer"
        },
        {
         "name": "Rank",
         "rawType": "int64",
         "type": "integer"
        },
        {
         "name": "Name",
         "rawType": "object",
         "type": "string"
        },
        {
         "name": "Platform",
         "rawType": "object",
         "type": "string"
        },
        {
         "name": "Year",
         "rawType": "float64",
         "type": "float"
        },
        {
         "name": "Genre",
         "rawType": "object",
         "type": "string"
        },
        {
         "name": "Publisher",
         "rawType": "object",
         "type": "unknown"
        },
        {
         "name": "NA_Sales",
         "rawType": "float64",
         "type": "float"
        },
        {
         "name": "EU_Sales",
         "rawType": "float64",
         "type": "float"
        },
        {
         "name": "JP_Sales",
         "rawType": "float64",
         "type": "float"
        },
        {
         "name": "Other_Sales",
         "rawType": "float64",
         "type": "float"
        },
        {
         "name": "Global_Sales",
         "rawType": "float64",
         "type": "float"
        }
       ],
       "conversionMethod": "pd.DataFrame",
       "ref": "7c6bd5d1-23a4-4ef1-8291-217224bd30de",
       "rows": [
        [
         "0",
         "1",
         "Wii Sports",
         "Wii",
         "2006.0",
         "Sports",
         "Nintendo",
         "41.49",
         "29.02",
         "3.77",
         "8.46",
         "82.74"
        ],
        [
         "1",
         "2",
         "Super Mario Bros.",
         "NES",
         "1985.0",
         "Platform",
         "Nintendo",
         "29.08",
         "3.58",
         "6.81",
         "0.77",
         "40.24"
        ],
        [
         "2",
         "3",
         "Mario Kart Wii",
         "Wii",
         "2008.0",
         "Racing",
         "Nintendo",
         "15.85",
         "12.88",
         "3.79",
         "3.31",
         "35.82"
        ],
        [
         "3",
         "4",
         "Wii Sports Resort",
         "Wii",
         "2009.0",
         "Sports",
         "Nintendo",
         "15.75",
         "11.01",
         "3.28",
         "2.96",
         "33.0"
        ],
        [
         "4",
         "5",
         "Pokemon Red/Pokemon Blue",
         "GB",
         "1996.0",
         "Role-Playing",
         "Nintendo",
         "11.27",
         "8.89",
         "10.22",
         "1.0",
         "31.37"
        ],
        [
         "5",
         "6",
         "Tetris",
         "GB",
         "1989.0",
         "Puzzle",
         "Nintendo",
         "23.2",
         "2.26",
         "4.22",
         "0.58",
         "30.26"
        ],
        [
         "6",
         "7",
         "New Super Mario Bros.",
         "DS",
         "2006.0",
         "Platform",
         "Nintendo",
         "11.38",
         "9.23",
         "6.5",
         "2.9",
         "30.01"
        ],
        [
         "7",
         "8",
         "Wii Play",
         "Wii",
         "2006.0",
         "Misc",
         "Nintendo",
         "14.03",
         "9.2",
         "2.93",
         "2.85",
         "29.02"
        ],
        [
         "8",
         "9",
         "New Super Mario Bros. Wii",
         "Wii",
         "2009.0",
         "Platform",
         "Nintendo",
         "14.59",
         "7.06",
         "4.7",
         "2.26",
         "28.62"
        ],
        [
         "9",
         "10",
         "Duck Hunt",
         "NES",
         "1984.0",
         "Shooter",
         "Nintendo",
         "26.93",
         "0.63",
         "0.28",
         "0.47",
         "28.31"
        ],
        [
         "10",
         "11",
         "Nintendogs",
         "DS",
         "2005.0",
         "Simulation",
         "Nintendo",
         "9.07",
         "11.0",
         "1.93",
         "2.75",
         "24.76"
        ],
        [
         "11",
         "12",
         "Mario Kart DS",
         "DS",
         "2005.0",
         "Racing",
         "Nintendo",
         "9.81",
         "7.57",
         "4.13",
         "1.92",
         "23.42"
        ],
        [
         "12",
         "13",
         "Pokemon Gold/Pokemon Silver",
         "GB",
         "1999.0",
         "Role-Playing",
         "Nintendo",
         "9.0",
         "6.18",
         "7.2",
         "0.71",
         "23.1"
        ],
        [
         "13",
         "14",
         "Wii Fit",
         "Wii",
         "2007.0",
         "Sports",
         "Nintendo",
         "8.94",
         "8.03",
         "3.6",
         "2.15",
         "22.72"
        ],
        [
         "14",
         "15",
         "Wii Fit Plus",
         "Wii",
         "2009.0",
         "Sports",
         "Nintendo",
         "9.09",
         "8.59",
         "2.53",
         "1.79",
         "22.0"
        ],
        [
         "15",
         "16",
         "Kinect Adventures!",
         "X360",
         "2010.0",
         "Misc",
         "Microsoft Game Studios",
         "14.97",
         "4.94",
         "0.24",
         "1.67",
         "21.82"
        ],
        [
         "16",
         "17",
         "Grand Theft Auto V",
         "PS3",
         "2013.0",
         "Action",
         "Take-Two Interactive",
         "7.01",
         "9.27",
         "0.97",
         "4.14",
         "21.4"
        ],
        [
         "17",
         "18",
         "Grand Theft Auto: San Andreas",
         "PS2",
         "2004.0",
         "Action",
         "Take-Two Interactive",
         "9.43",
         "0.4",
         "0.41",
         "10.57",
         "20.81"
        ],
        [
         "18",
         "19",
         "Super Mario World",
         "SNES",
         "1990.0",
         "Platform",
         "Nintendo",
         "12.78",
         "3.75",
         "3.54",
         "0.55",
         "20.61"
        ],
        [
         "19",
         "20",
         "Brain Age: Train Your Brain in Minutes a Day",
         "DS",
         "2005.0",
         "Misc",
         "Nintendo",
         "4.75",
         "9.26",
         "4.16",
         "2.05",
         "20.22"
        ],
        [
         "20",
         "21",
         "Pokemon Diamond/Pokemon Pearl",
         "DS",
         "2006.0",
         "Role-Playing",
         "Nintendo",
         "6.42",
         "4.52",
         "6.04",
         "1.37",
         "18.36"
        ],
        [
         "21",
         "22",
         "Super Mario Land",
         "GB",
         "1989.0",
         "Platform",
         "Nintendo",
         "10.83",
         "2.71",
         "4.18",
         "0.42",
         "18.14"
        ],
        [
         "22",
         "23",
         "Super Mario Bros. 3",
         "NES",
         "1988.0",
         "Platform",
         "Nintendo",
         "9.54",
         "3.44",
         "3.84",
         "0.46",
         "17.28"
        ],
        [
         "23",
         "24",
         "Grand Theft Auto V",
         "X360",
         "2013.0",
         "Action",
         "Take-Two Interactive",
         "9.63",
         "5.31",
         "0.06",
         "1.38",
         "16.38"
        ],
        [
         "24",
         "25",
         "Grand Theft Auto: Vice City",
         "PS2",
         "2002.0",
         "Action",
         "Take-Two Interactive",
         "8.41",
         "5.49",
         "0.47",
         "1.78",
         "16.15"
        ],
        [
         "25",
         "26",
         "Pokemon Ruby/Pokemon Sapphire",
         "GBA",
         "2002.0",
         "Role-Playing",
         "Nintendo",
         "6.06",
         "3.9",
         "5.38",
         "0.5",
         "15.85"
        ],
        [
         "26",
         "27",
         "Pokemon Black/Pokemon White",
         "DS",
         "2010.0",
         "Role-Playing",
         "Nintendo",
         "5.57",
         "3.28",
         "5.65",
         "0.82",
         "15.32"
        ],
        [
         "27",
         "28",
         "Brain Age 2: More Training in Minutes a Day",
         "DS",
         "2005.0",
         "Puzzle",
         "Nintendo",
         "3.44",
         "5.36",
         "5.32",
         "1.18",
         "15.3"
        ],
        [
         "28",
         "29",
         "Gran Turismo 3: A-Spec",
         "PS2",
         "2001.0",
         "Racing",
         "Sony Computer Entertainment",
         "6.85",
         "5.09",
         "1.87",
         "1.16",
         "14.98"
        ],
        [
         "29",
         "30",
         "Call of Duty: Modern Warfare 3",
         "X360",
         "2011.0",
         "Shooter",
         "Activision",
         "9.03",
         "4.28",
         "0.13",
         "1.32",
         "14.76"
        ],
        [
         "30",
         "31",
         "Pokémon Yellow: Special Pikachu Edition",
         "GB",
         "1998.0",
         "Role-Playing",
         "Nintendo",
         "5.89",
         "5.04",
         "3.12",
         "0.59",
         "14.64"
        ],
        [
         "31",
         "32",
         "Call of Duty: Black Ops",
         "X360",
         "2010.0",
         "Shooter",
         "Activision",
         "9.67",
         "3.73",
         "0.11",
         "1.13",
         "14.64"
        ],
        [
         "32",
         "33",
         "Pokemon X/Pokemon Y",
         "3DS",
         "2013.0",
         "Role-Playing",
         "Nintendo",
         "5.17",
         "4.05",
         "4.34",
         "0.79",
         "14.35"
        ],
        [
         "33",
         "34",
         "Call of Duty: Black Ops 3",
         "PS4",
         "2015.0",
         "Shooter",
         "Activision",
         "5.77",
         "5.81",
         "0.35",
         "2.31",
         "14.24"
        ],
        [
         "34",
         "35",
         "Call of Duty: Black Ops II",
         "PS3",
         "2012.0",
         "Shooter",
         "Activision",
         "4.99",
         "5.88",
         "0.65",
         "2.52",
         "14.03"
        ],
        [
         "35",
         "36",
         "Call of Duty: Black Ops II",
         "X360",
         "2012.0",
         "Shooter",
         "Activision",
         "8.25",
         "4.3",
         "0.07",
         "1.12",
         "13.73"
        ],
        [
         "36",
         "37",
         "Call of Duty: Modern Warfare 2",
         "X360",
         "2009.0",
         "Shooter",
         "Activision",
         "8.52",
         "3.63",
         "0.08",
         "1.29",
         "13.51"
        ],
        [
         "37",
         "38",
         "Call of Duty: Modern Warfare 3",
         "PS3",
         "2011.0",
         "Shooter",
         "Activision",
         "5.54",
         "5.82",
         "0.49",
         "1.62",
         "13.46"
        ],
        [
         "38",
         "39",
         "Grand Theft Auto III",
         "PS2",
         "2001.0",
         "Action",
         "Take-Two Interactive",
         "6.99",
         "4.51",
         "0.3",
         "1.3",
         "13.1"
        ],
        [
         "39",
         "40",
         "Super Smash Bros. Brawl",
         "Wii",
         "2008.0",
         "Fighting",
         "Nintendo",
         "6.75",
         "2.61",
         "2.66",
         "1.02",
         "13.04"
        ],
        [
         "40",
         "41",
         "Call of Duty: Black Ops",
         "PS3",
         "2010.0",
         "Shooter",
         "Activision",
         "5.98",
         "4.44",
         "0.48",
         "1.83",
         "12.73"
        ],
        [
         "41",
         "42",
         "Animal Crossing: Wild World",
         "DS",
         "2005.0",
         "Simulation",
         "Nintendo",
         "2.55",
         "3.52",
         "5.33",
         "0.88",
         "12.27"
        ],
        [
         "42",
         "43",
         "Mario Kart 7",
         "3DS",
         "2011.0",
         "Racing",
         "Nintendo",
         "4.74",
         "3.91",
         "2.67",
         "0.89",
         "12.21"
        ],
        [
         "43",
         "44",
         "Halo 3",
         "X360",
         "2007.0",
         "Shooter",
         "Microsoft Game Studios",
         "7.97",
         "2.83",
         "0.13",
         "1.21",
         "12.14"
        ],
        [
         "44",
         "45",
         "Grand Theft Auto V",
         "PS4",
         "2014.0",
         "Action",
         "Take-Two Interactive",
         "3.8",
         "5.81",
         "0.36",
         "2.02",
         "11.98"
        ],
        [
         "45",
         "46",
         "Pokemon HeartGold/Pokemon SoulSilver",
         "DS",
         "2009.0",
         "Action",
         "Nintendo",
         "4.4",
         "2.77",
         "3.96",
         "0.77",
         "11.9"
        ],
        [
         "46",
         "47",
         "Super Mario 64",
         "N64",
         "1996.0",
         "Platform",
         "Nintendo",
         "6.91",
         "2.85",
         "1.91",
         "0.23",
         "11.89"
        ],
        [
         "47",
         "48",
         "Gran Turismo 4",
         "PS2",
         "2004.0",
         "Racing",
         "Sony Computer Entertainment",
         "3.01",
         "0.01",
         "1.1",
         "7.53",
         "11.66"
        ],
        [
         "48",
         "49",
         "Super Mario Galaxy",
         "Wii",
         "2007.0",
         "Platform",
         "Nintendo",
         "6.16",
         "3.4",
         "1.2",
         "0.76",
         "11.52"
        ],
        [
         "49",
         "50",
         "Pokemon Omega Ruby/Pokemon Alpha Sapphire",
         "3DS",
         "2014.0",
         "Role-Playing",
         "Nintendo",
         "4.23",
         "3.37",
         "3.08",
         "0.65",
         "11.33"
        ]
       ],
       "shape": {
        "columns": 11,
        "rows": 16598
       }
      },
      "text/html": [
       "<div>\n",
       "<style scoped>\n",
       "    .dataframe tbody tr th:only-of-type {\n",
       "        vertical-align: middle;\n",
       "    }\n",
       "\n",
       "    .dataframe tbody tr th {\n",
       "        vertical-align: top;\n",
       "    }\n",
       "\n",
       "    .dataframe thead th {\n",
       "        text-align: right;\n",
       "    }\n",
       "</style>\n",
       "<table border=\"1\" class=\"dataframe\">\n",
       "  <thead>\n",
       "    <tr style=\"text-align: right;\">\n",
       "      <th></th>\n",
       "      <th>Rank</th>\n",
       "      <th>Name</th>\n",
       "      <th>Platform</th>\n",
       "      <th>Year</th>\n",
       "      <th>Genre</th>\n",
       "      <th>Publisher</th>\n",
       "      <th>NA_Sales</th>\n",
       "      <th>EU_Sales</th>\n",
       "      <th>JP_Sales</th>\n",
       "      <th>Other_Sales</th>\n",
       "      <th>Global_Sales</th>\n",
       "    </tr>\n",
       "  </thead>\n",
       "  <tbody>\n",
       "    <tr>\n",
       "      <th>0</th>\n",
       "      <td>1</td>\n",
       "      <td>Wii Sports</td>\n",
       "      <td>Wii</td>\n",
       "      <td>2006.0</td>\n",
       "      <td>Sports</td>\n",
       "      <td>Nintendo</td>\n",
       "      <td>41.49</td>\n",
       "      <td>29.02</td>\n",
       "      <td>3.77</td>\n",
       "      <td>8.46</td>\n",
       "      <td>82.74</td>\n",
       "    </tr>\n",
       "    <tr>\n",
       "      <th>1</th>\n",
       "      <td>2</td>\n",
       "      <td>Super Mario Bros.</td>\n",
       "      <td>NES</td>\n",
       "      <td>1985.0</td>\n",
       "      <td>Platform</td>\n",
       "      <td>Nintendo</td>\n",
       "      <td>29.08</td>\n",
       "      <td>3.58</td>\n",
       "      <td>6.81</td>\n",
       "      <td>0.77</td>\n",
       "      <td>40.24</td>\n",
       "    </tr>\n",
       "    <tr>\n",
       "      <th>2</th>\n",
       "      <td>3</td>\n",
       "      <td>Mario Kart Wii</td>\n",
       "      <td>Wii</td>\n",
       "      <td>2008.0</td>\n",
       "      <td>Racing</td>\n",
       "      <td>Nintendo</td>\n",
       "      <td>15.85</td>\n",
       "      <td>12.88</td>\n",
       "      <td>3.79</td>\n",
       "      <td>3.31</td>\n",
       "      <td>35.82</td>\n",
       "    </tr>\n",
       "    <tr>\n",
       "      <th>3</th>\n",
       "      <td>4</td>\n",
       "      <td>Wii Sports Resort</td>\n",
       "      <td>Wii</td>\n",
       "      <td>2009.0</td>\n",
       "      <td>Sports</td>\n",
       "      <td>Nintendo</td>\n",
       "      <td>15.75</td>\n",
       "      <td>11.01</td>\n",
       "      <td>3.28</td>\n",
       "      <td>2.96</td>\n",
       "      <td>33.00</td>\n",
       "    </tr>\n",
       "    <tr>\n",
       "      <th>4</th>\n",
       "      <td>5</td>\n",
       "      <td>Pokemon Red/Pokemon Blue</td>\n",
       "      <td>GB</td>\n",
       "      <td>1996.0</td>\n",
       "      <td>Role-Playing</td>\n",
       "      <td>Nintendo</td>\n",
       "      <td>11.27</td>\n",
       "      <td>8.89</td>\n",
       "      <td>10.22</td>\n",
       "      <td>1.00</td>\n",
       "      <td>31.37</td>\n",
       "    </tr>\n",
       "    <tr>\n",
       "      <th>...</th>\n",
       "      <td>...</td>\n",
       "      <td>...</td>\n",
       "      <td>...</td>\n",
       "      <td>...</td>\n",
       "      <td>...</td>\n",
       "      <td>...</td>\n",
       "      <td>...</td>\n",
       "      <td>...</td>\n",
       "      <td>...</td>\n",
       "      <td>...</td>\n",
       "      <td>...</td>\n",
       "    </tr>\n",
       "    <tr>\n",
       "      <th>16593</th>\n",
       "      <td>16596</td>\n",
       "      <td>Woody Woodpecker in Crazy Castle 5</td>\n",
       "      <td>GBA</td>\n",
       "      <td>2002.0</td>\n",
       "      <td>Platform</td>\n",
       "      <td>Kemco</td>\n",
       "      <td>0.01</td>\n",
       "      <td>0.00</td>\n",
       "      <td>0.00</td>\n",
       "      <td>0.00</td>\n",
       "      <td>0.01</td>\n",
       "    </tr>\n",
       "    <tr>\n",
       "      <th>16594</th>\n",
       "      <td>16597</td>\n",
       "      <td>Men in Black II: Alien Escape</td>\n",
       "      <td>GC</td>\n",
       "      <td>2003.0</td>\n",
       "      <td>Shooter</td>\n",
       "      <td>Infogrames</td>\n",
       "      <td>0.01</td>\n",
       "      <td>0.00</td>\n",
       "      <td>0.00</td>\n",
       "      <td>0.00</td>\n",
       "      <td>0.01</td>\n",
       "    </tr>\n",
       "    <tr>\n",
       "      <th>16595</th>\n",
       "      <td>16598</td>\n",
       "      <td>SCORE International Baja 1000: The Official Game</td>\n",
       "      <td>PS2</td>\n",
       "      <td>2008.0</td>\n",
       "      <td>Racing</td>\n",
       "      <td>Activision</td>\n",
       "      <td>0.00</td>\n",
       "      <td>0.00</td>\n",
       "      <td>0.00</td>\n",
       "      <td>0.00</td>\n",
       "      <td>0.01</td>\n",
       "    </tr>\n",
       "    <tr>\n",
       "      <th>16596</th>\n",
       "      <td>16599</td>\n",
       "      <td>Know How 2</td>\n",
       "      <td>DS</td>\n",
       "      <td>2010.0</td>\n",
       "      <td>Puzzle</td>\n",
       "      <td>7G//AMES</td>\n",
       "      <td>0.00</td>\n",
       "      <td>0.01</td>\n",
       "      <td>0.00</td>\n",
       "      <td>0.00</td>\n",
       "      <td>0.01</td>\n",
       "    </tr>\n",
       "    <tr>\n",
       "      <th>16597</th>\n",
       "      <td>16600</td>\n",
       "      <td>Spirits &amp; Spells</td>\n",
       "      <td>GBA</td>\n",
       "      <td>2003.0</td>\n",
       "      <td>Platform</td>\n",
       "      <td>Wanadoo</td>\n",
       "      <td>0.01</td>\n",
       "      <td>0.00</td>\n",
       "      <td>0.00</td>\n",
       "      <td>0.00</td>\n",
       "      <td>0.01</td>\n",
       "    </tr>\n",
       "  </tbody>\n",
       "</table>\n",
       "<p>16598 rows × 11 columns</p>\n",
       "</div>"
      ],
      "text/plain": [
       "        Rank                                              Name Platform  \\\n",
       "0          1                                        Wii Sports      Wii   \n",
       "1          2                                 Super Mario Bros.      NES   \n",
       "2          3                                    Mario Kart Wii      Wii   \n",
       "3          4                                 Wii Sports Resort      Wii   \n",
       "4          5                          Pokemon Red/Pokemon Blue       GB   \n",
       "...      ...                                               ...      ...   \n",
       "16593  16596                Woody Woodpecker in Crazy Castle 5      GBA   \n",
       "16594  16597                     Men in Black II: Alien Escape       GC   \n",
       "16595  16598  SCORE International Baja 1000: The Official Game      PS2   \n",
       "16596  16599                                        Know How 2       DS   \n",
       "16597  16600                                  Spirits & Spells      GBA   \n",
       "\n",
       "         Year         Genre   Publisher  NA_Sales  EU_Sales  JP_Sales  \\\n",
       "0      2006.0        Sports    Nintendo     41.49     29.02      3.77   \n",
       "1      1985.0      Platform    Nintendo     29.08      3.58      6.81   \n",
       "2      2008.0        Racing    Nintendo     15.85     12.88      3.79   \n",
       "3      2009.0        Sports    Nintendo     15.75     11.01      3.28   \n",
       "4      1996.0  Role-Playing    Nintendo     11.27      8.89     10.22   \n",
       "...       ...           ...         ...       ...       ...       ...   \n",
       "16593  2002.0      Platform       Kemco      0.01      0.00      0.00   \n",
       "16594  2003.0       Shooter  Infogrames      0.01      0.00      0.00   \n",
       "16595  2008.0        Racing  Activision      0.00      0.00      0.00   \n",
       "16596  2010.0        Puzzle    7G//AMES      0.00      0.01      0.00   \n",
       "16597  2003.0      Platform     Wanadoo      0.01      0.00      0.00   \n",
       "\n",
       "       Other_Sales  Global_Sales  \n",
       "0             8.46         82.74  \n",
       "1             0.77         40.24  \n",
       "2             3.31         35.82  \n",
       "3             2.96         33.00  \n",
       "4             1.00         31.37  \n",
       "...            ...           ...  \n",
       "16593         0.00          0.01  \n",
       "16594         0.00          0.01  \n",
       "16595         0.00          0.01  \n",
       "16596         0.00          0.01  \n",
       "16597         0.00          0.01  \n",
       "\n",
       "[16598 rows x 11 columns]"
      ]
     },
     "execution_count": 80,
     "metadata": {},
     "output_type": "execute_result"
    }
   ],
   "source": [
    "vgsales_dataset = pd.read_csv(f'{current_directory}//vgsales.csv')\n",
    "\n",
    "vgsales_dataset_copy = vgsales_dataset.copy()\n",
    "\n",
    "vgsales_dataset_copy"
   ]
  },
  {
   "cell_type": "code",
   "execution_count": 81,
   "metadata": {},
   "outputs": [
    {
     "data": {
      "application/vnd.microsoft.datawrangler.viewer.v0+json": {
       "columns": [
        {
         "name": "index",
         "rawType": "object",
         "type": "string"
        },
        {
         "name": "Rank",
         "rawType": "float64",
         "type": "float"
        },
        {
         "name": "Year",
         "rawType": "float64",
         "type": "float"
        },
        {
         "name": "NA_Sales",
         "rawType": "float64",
         "type": "float"
        },
        {
         "name": "EU_Sales",
         "rawType": "float64",
         "type": "float"
        },
        {
         "name": "JP_Sales",
         "rawType": "float64",
         "type": "float"
        },
        {
         "name": "Other_Sales",
         "rawType": "float64",
         "type": "float"
        },
        {
         "name": "Global_Sales",
         "rawType": "float64",
         "type": "float"
        }
       ],
       "conversionMethod": "pd.DataFrame",
       "ref": "2ced5be9-5a9c-4e04-8ced-3ce5f076b82f",
       "rows": [
        [
         "count",
         "16598.0",
         "16327.0",
         "16598.0",
         "16598.0",
         "16598.0",
         "16598.0",
         "16598.0"
        ],
        [
         "mean",
         "8300.605253645017",
         "2006.4064433147546",
         "0.26466742981082064",
         "0.14665200626581515",
         "0.077781660441017",
         "0.0480630196409206",
         "0.5374406555006628"
        ],
        [
         "std",
         "4791.853932896403",
         "5.828981114712805",
         "0.8166830292988796",
         "0.5053512312869116",
         "0.30929064808220297",
         "0.18858840291271461",
         "1.5550279355699124"
        ],
        [
         "min",
         "1.0",
         "1980.0",
         "0.0",
         "0.0",
         "0.0",
         "0.0",
         "0.01"
        ],
        [
         "25%",
         "4151.25",
         "2003.0",
         "0.0",
         "0.0",
         "0.0",
         "0.0",
         "0.06"
        ],
        [
         "50%",
         "8300.5",
         "2007.0",
         "0.08",
         "0.02",
         "0.0",
         "0.01",
         "0.17"
        ],
        [
         "75%",
         "12449.75",
         "2010.0",
         "0.24",
         "0.11",
         "0.04",
         "0.04",
         "0.47"
        ],
        [
         "max",
         "16600.0",
         "2020.0",
         "41.49",
         "29.02",
         "10.22",
         "10.57",
         "82.74"
        ]
       ],
       "shape": {
        "columns": 7,
        "rows": 8
       }
      },
      "text/html": [
       "<div>\n",
       "<style scoped>\n",
       "    .dataframe tbody tr th:only-of-type {\n",
       "        vertical-align: middle;\n",
       "    }\n",
       "\n",
       "    .dataframe tbody tr th {\n",
       "        vertical-align: top;\n",
       "    }\n",
       "\n",
       "    .dataframe thead th {\n",
       "        text-align: right;\n",
       "    }\n",
       "</style>\n",
       "<table border=\"1\" class=\"dataframe\">\n",
       "  <thead>\n",
       "    <tr style=\"text-align: right;\">\n",
       "      <th></th>\n",
       "      <th>Rank</th>\n",
       "      <th>Year</th>\n",
       "      <th>NA_Sales</th>\n",
       "      <th>EU_Sales</th>\n",
       "      <th>JP_Sales</th>\n",
       "      <th>Other_Sales</th>\n",
       "      <th>Global_Sales</th>\n",
       "    </tr>\n",
       "  </thead>\n",
       "  <tbody>\n",
       "    <tr>\n",
       "      <th>count</th>\n",
       "      <td>16598.000000</td>\n",
       "      <td>16327.000000</td>\n",
       "      <td>16598.000000</td>\n",
       "      <td>16598.000000</td>\n",
       "      <td>16598.000000</td>\n",
       "      <td>16598.000000</td>\n",
       "      <td>16598.000000</td>\n",
       "    </tr>\n",
       "    <tr>\n",
       "      <th>mean</th>\n",
       "      <td>8300.605254</td>\n",
       "      <td>2006.406443</td>\n",
       "      <td>0.264667</td>\n",
       "      <td>0.146652</td>\n",
       "      <td>0.077782</td>\n",
       "      <td>0.048063</td>\n",
       "      <td>0.537441</td>\n",
       "    </tr>\n",
       "    <tr>\n",
       "      <th>std</th>\n",
       "      <td>4791.853933</td>\n",
       "      <td>5.828981</td>\n",
       "      <td>0.816683</td>\n",
       "      <td>0.505351</td>\n",
       "      <td>0.309291</td>\n",
       "      <td>0.188588</td>\n",
       "      <td>1.555028</td>\n",
       "    </tr>\n",
       "    <tr>\n",
       "      <th>min</th>\n",
       "      <td>1.000000</td>\n",
       "      <td>1980.000000</td>\n",
       "      <td>0.000000</td>\n",
       "      <td>0.000000</td>\n",
       "      <td>0.000000</td>\n",
       "      <td>0.000000</td>\n",
       "      <td>0.010000</td>\n",
       "    </tr>\n",
       "    <tr>\n",
       "      <th>25%</th>\n",
       "      <td>4151.250000</td>\n",
       "      <td>2003.000000</td>\n",
       "      <td>0.000000</td>\n",
       "      <td>0.000000</td>\n",
       "      <td>0.000000</td>\n",
       "      <td>0.000000</td>\n",
       "      <td>0.060000</td>\n",
       "    </tr>\n",
       "    <tr>\n",
       "      <th>50%</th>\n",
       "      <td>8300.500000</td>\n",
       "      <td>2007.000000</td>\n",
       "      <td>0.080000</td>\n",
       "      <td>0.020000</td>\n",
       "      <td>0.000000</td>\n",
       "      <td>0.010000</td>\n",
       "      <td>0.170000</td>\n",
       "    </tr>\n",
       "    <tr>\n",
       "      <th>75%</th>\n",
       "      <td>12449.750000</td>\n",
       "      <td>2010.000000</td>\n",
       "      <td>0.240000</td>\n",
       "      <td>0.110000</td>\n",
       "      <td>0.040000</td>\n",
       "      <td>0.040000</td>\n",
       "      <td>0.470000</td>\n",
       "    </tr>\n",
       "    <tr>\n",
       "      <th>max</th>\n",
       "      <td>16600.000000</td>\n",
       "      <td>2020.000000</td>\n",
       "      <td>41.490000</td>\n",
       "      <td>29.020000</td>\n",
       "      <td>10.220000</td>\n",
       "      <td>10.570000</td>\n",
       "      <td>82.740000</td>\n",
       "    </tr>\n",
       "  </tbody>\n",
       "</table>\n",
       "</div>"
      ],
      "text/plain": [
       "               Rank          Year      NA_Sales      EU_Sales      JP_Sales  \\\n",
       "count  16598.000000  16327.000000  16598.000000  16598.000000  16598.000000   \n",
       "mean    8300.605254   2006.406443      0.264667      0.146652      0.077782   \n",
       "std     4791.853933      5.828981      0.816683      0.505351      0.309291   \n",
       "min        1.000000   1980.000000      0.000000      0.000000      0.000000   \n",
       "25%     4151.250000   2003.000000      0.000000      0.000000      0.000000   \n",
       "50%     8300.500000   2007.000000      0.080000      0.020000      0.000000   \n",
       "75%    12449.750000   2010.000000      0.240000      0.110000      0.040000   \n",
       "max    16600.000000   2020.000000     41.490000     29.020000     10.220000   \n",
       "\n",
       "        Other_Sales  Global_Sales  \n",
       "count  16598.000000  16598.000000  \n",
       "mean       0.048063      0.537441  \n",
       "std        0.188588      1.555028  \n",
       "min        0.000000      0.010000  \n",
       "25%        0.000000      0.060000  \n",
       "50%        0.010000      0.170000  \n",
       "75%        0.040000      0.470000  \n",
       "max       10.570000     82.740000  "
      ]
     },
     "execution_count": 81,
     "metadata": {},
     "output_type": "execute_result"
    }
   ],
   "source": [
    "vgsales_dataset_copy.describe()"
   ]
  },
  {
   "cell_type": "code",
   "execution_count": 82,
   "metadata": {},
   "outputs": [],
   "source": [
    "vgsales_dataset_copy = vgsales_dataset_copy.dropna()"
   ]
  },
  {
   "cell_type": "code",
   "execution_count": 83,
   "metadata": {},
   "outputs": [
    {
     "data": {
      "application/vnd.microsoft.datawrangler.viewer.v0+json": {
       "columns": [
        {
         "name": "index",
         "rawType": "int64",
         "type": "integer"
        },
        {
         "name": "Rank",
         "rawType": "int64",
         "type": "integer"
        },
        {
         "name": "Name",
         "rawType": "object",
         "type": "string"
        }
       ],
       "conversionMethod": "pd.DataFrame",
       "ref": "bc58be7e-2870-40fa-af44-6bf1fc0c6e71",
       "rows": [
        [
         "0",
         "1",
         "Wii Sports"
        ],
        [
         "1",
         "2",
         "Super Mario Bros."
        ],
        [
         "2",
         "3",
         "Mario Kart Wii"
        ],
        [
         "3",
         "4",
         "Wii Sports Resort"
        ],
        [
         "4",
         "5",
         "Pokemon Red/Pokemon Blue"
        ],
        [
         "5",
         "6",
         "Tetris"
        ],
        [
         "6",
         "7",
         "New Super Mario Bros."
        ],
        [
         "7",
         "8",
         "Wii Play"
        ],
        [
         "8",
         "9",
         "New Super Mario Bros. Wii"
        ],
        [
         "9",
         "10",
         "Duck Hunt"
        ],
        [
         "10",
         "11",
         "Nintendogs"
        ],
        [
         "11",
         "12",
         "Mario Kart DS"
        ],
        [
         "12",
         "13",
         "Pokemon Gold/Pokemon Silver"
        ],
        [
         "13",
         "14",
         "Wii Fit"
        ],
        [
         "14",
         "15",
         "Wii Fit Plus"
        ],
        [
         "15",
         "16",
         "Kinect Adventures!"
        ],
        [
         "16",
         "17",
         "Grand Theft Auto V"
        ],
        [
         "17",
         "18",
         "Grand Theft Auto: San Andreas"
        ],
        [
         "18",
         "19",
         "Super Mario World"
        ],
        [
         "19",
         "20",
         "Brain Age: Train Your Brain in Minutes a Day"
        ],
        [
         "20",
         "21",
         "Pokemon Diamond/Pokemon Pearl"
        ],
        [
         "21",
         "22",
         "Super Mario Land"
        ],
        [
         "22",
         "23",
         "Super Mario Bros. 3"
        ],
        [
         "23",
         "24",
         "Grand Theft Auto V"
        ],
        [
         "24",
         "25",
         "Grand Theft Auto: Vice City"
        ],
        [
         "25",
         "26",
         "Pokemon Ruby/Pokemon Sapphire"
        ],
        [
         "26",
         "27",
         "Pokemon Black/Pokemon White"
        ],
        [
         "27",
         "28",
         "Brain Age 2: More Training in Minutes a Day"
        ],
        [
         "28",
         "29",
         "Gran Turismo 3: A-Spec"
        ],
        [
         "29",
         "30",
         "Call of Duty: Modern Warfare 3"
        ],
        [
         "30",
         "31",
         "Pokémon Yellow: Special Pikachu Edition"
        ],
        [
         "31",
         "32",
         "Call of Duty: Black Ops"
        ],
        [
         "32",
         "33",
         "Pokemon X/Pokemon Y"
        ],
        [
         "33",
         "34",
         "Call of Duty: Black Ops 3"
        ],
        [
         "34",
         "35",
         "Call of Duty: Black Ops II"
        ],
        [
         "35",
         "36",
         "Call of Duty: Black Ops II"
        ],
        [
         "36",
         "37",
         "Call of Duty: Modern Warfare 2"
        ],
        [
         "37",
         "38",
         "Call of Duty: Modern Warfare 3"
        ],
        [
         "38",
         "39",
         "Grand Theft Auto III"
        ],
        [
         "39",
         "40",
         "Super Smash Bros. Brawl"
        ],
        [
         "40",
         "41",
         "Call of Duty: Black Ops"
        ],
        [
         "41",
         "42",
         "Animal Crossing: Wild World"
        ],
        [
         "42",
         "43",
         "Mario Kart 7"
        ],
        [
         "43",
         "44",
         "Halo 3"
        ],
        [
         "44",
         "45",
         "Grand Theft Auto V"
        ],
        [
         "45",
         "46",
         "Pokemon HeartGold/Pokemon SoulSilver"
        ],
        [
         "46",
         "47",
         "Super Mario 64"
        ],
        [
         "47",
         "48",
         "Gran Turismo 4"
        ],
        [
         "48",
         "49",
         "Super Mario Galaxy"
        ],
        [
         "49",
         "50",
         "Pokemon Omega Ruby/Pokemon Alpha Sapphire"
        ]
       ],
       "shape": {
        "columns": 2,
        "rows": 16291
       }
      },
      "text/html": [
       "<div>\n",
       "<style scoped>\n",
       "    .dataframe tbody tr th:only-of-type {\n",
       "        vertical-align: middle;\n",
       "    }\n",
       "\n",
       "    .dataframe tbody tr th {\n",
       "        vertical-align: top;\n",
       "    }\n",
       "\n",
       "    .dataframe thead th {\n",
       "        text-align: right;\n",
       "    }\n",
       "</style>\n",
       "<table border=\"1\" class=\"dataframe\">\n",
       "  <thead>\n",
       "    <tr style=\"text-align: right;\">\n",
       "      <th></th>\n",
       "      <th>Rank</th>\n",
       "      <th>Name</th>\n",
       "    </tr>\n",
       "  </thead>\n",
       "  <tbody>\n",
       "    <tr>\n",
       "      <th>0</th>\n",
       "      <td>1</td>\n",
       "      <td>Wii Sports</td>\n",
       "    </tr>\n",
       "    <tr>\n",
       "      <th>1</th>\n",
       "      <td>2</td>\n",
       "      <td>Super Mario Bros.</td>\n",
       "    </tr>\n",
       "    <tr>\n",
       "      <th>2</th>\n",
       "      <td>3</td>\n",
       "      <td>Mario Kart Wii</td>\n",
       "    </tr>\n",
       "    <tr>\n",
       "      <th>3</th>\n",
       "      <td>4</td>\n",
       "      <td>Wii Sports Resort</td>\n",
       "    </tr>\n",
       "    <tr>\n",
       "      <th>4</th>\n",
       "      <td>5</td>\n",
       "      <td>Pokemon Red/Pokemon Blue</td>\n",
       "    </tr>\n",
       "    <tr>\n",
       "      <th>...</th>\n",
       "      <td>...</td>\n",
       "      <td>...</td>\n",
       "    </tr>\n",
       "    <tr>\n",
       "      <th>16593</th>\n",
       "      <td>16596</td>\n",
       "      <td>Woody Woodpecker in Crazy Castle 5</td>\n",
       "    </tr>\n",
       "    <tr>\n",
       "      <th>16594</th>\n",
       "      <td>16597</td>\n",
       "      <td>Men in Black II: Alien Escape</td>\n",
       "    </tr>\n",
       "    <tr>\n",
       "      <th>16595</th>\n",
       "      <td>16598</td>\n",
       "      <td>SCORE International Baja 1000: The Official Game</td>\n",
       "    </tr>\n",
       "    <tr>\n",
       "      <th>16596</th>\n",
       "      <td>16599</td>\n",
       "      <td>Know How 2</td>\n",
       "    </tr>\n",
       "    <tr>\n",
       "      <th>16597</th>\n",
       "      <td>16600</td>\n",
       "      <td>Spirits &amp; Spells</td>\n",
       "    </tr>\n",
       "  </tbody>\n",
       "</table>\n",
       "<p>16291 rows × 2 columns</p>\n",
       "</div>"
      ],
      "text/plain": [
       "        Rank                                              Name\n",
       "0          1                                        Wii Sports\n",
       "1          2                                 Super Mario Bros.\n",
       "2          3                                    Mario Kart Wii\n",
       "3          4                                 Wii Sports Resort\n",
       "4          5                          Pokemon Red/Pokemon Blue\n",
       "...      ...                                               ...\n",
       "16593  16596                Woody Woodpecker in Crazy Castle 5\n",
       "16594  16597                     Men in Black II: Alien Escape\n",
       "16595  16598  SCORE International Baja 1000: The Official Game\n",
       "16596  16599                                        Know How 2\n",
       "16597  16600                                  Spirits & Spells\n",
       "\n",
       "[16291 rows x 2 columns]"
      ]
     },
     "execution_count": 83,
     "metadata": {},
     "output_type": "execute_result"
    }
   ],
   "source": [
    "vgsales_dataset_copy[['Rank', 'Name']]"
   ]
  },
  {
   "cell_type": "code",
   "execution_count": 84,
   "metadata": {},
   "outputs": [
    {
     "data": {
      "application/vnd.microsoft.datawrangler.viewer.v0+json": {
       "columns": [
        {
         "name": "index",
         "rawType": "int64",
         "type": "integer"
        },
        {
         "name": "Name",
         "rawType": "object",
         "type": "string"
        },
        {
         "name": "Rank",
         "rawType": "int64",
         "type": "integer"
        },
        {
         "name": "Year",
         "rawType": "float64",
         "type": "float"
        }
       ],
       "conversionMethod": "pd.DataFrame",
       "ref": "bfe59c2d-95b6-4e4e-b982-67dbf9f00208",
       "rows": [
        [
         "17",
         "Grand Theft Auto: San Andreas",
         "18",
         "2004.0"
        ],
        [
         "47",
         "Gran Turismo 4",
         "48",
         "2004.0"
        ],
        [
         "58",
         "Pokemon FireRed/Pokemon LeafGreen",
         "59",
         "2004.0"
        ],
        [
         "59",
         "Super Mario 64",
         "60",
         "2004.0"
        ],
        [
         "79",
         "Halo 2",
         "80",
         "2004.0"
        ],
        [
         "113",
         "Need for Speed Underground 2",
         "114",
         "2004.0"
        ],
        [
         "130",
         "Pokémon Emerald Version",
         "131",
         "2004.0"
        ],
        [
         "137",
         "World of Warcraft",
         "138",
         "2004.0"
        ],
        [
         "180",
         "Dragon Quest VIII: Journey of the Cursed King",
         "181",
         "2004.0"
        ],
        [
         "238",
         "Madden NFL 2005",
         "239",
         "2004.0"
        ],
        [
         "265",
         "Metal Gear Solid 3: Snake Eater",
         "266",
         "2004.0"
        ],
        [
         "315",
         "World Soccer Winning Eleven 8 International",
         "316",
         "2004.0"
        ],
        [
         "334",
         "FIFA Soccer 2005",
         "335",
         "2004.0"
        ],
        [
         "352",
         "Star Wars: Battlefront",
         "353",
         "2004.0"
        ],
        [
         "390",
         "Spider-Man 2",
         "391",
         "2004.0"
        ],
        [
         "495",
         "Sonic Mega Collection Plus",
         "496",
         "2004.0"
        ],
        [
         "500",
         "Call of Duty: Finest Hour",
         "501",
         "2004.0"
        ],
        [
         "560",
         "Burnout 3: Takedown",
         "561",
         "2004.0"
        ],
        [
         "568",
         "Fable",
         "569",
         "2004.0"
        ],
        [
         "580",
         "ESPN NFL 2K5",
         "581",
         "2004.0"
        ],
        [
         "591",
         "NBA Live 2005",
         "592",
         "2004.0"
        ],
        [
         "597",
         "Ratchet & Clank: Up Your Arsenal",
         "598",
         "2004.0"
        ],
        [
         "665",
         "Half-Life 2",
         "667",
         "2004.0"
        ],
        [
         "666",
         "The Incredibles",
         "668",
         "2004.0"
        ],
        [
         "667",
         "Tony Hawk's Underground 2",
         "669",
         "2004.0"
        ],
        [
         "685",
         "James Bond 007: Everything or Nothing",
         "687",
         "2004.0"
        ],
        [
         "686",
         "WarioWare Touched!",
         "688",
         "2004.0"
        ],
        [
         "696",
         "Need for Speed Underground 2",
         "698",
         "2004.0"
        ],
        [
         "716",
         "Paper Mario: The Thousand-Year Door",
         "718",
         "2004.0"
        ],
        [
         "767",
         "Dance Dance Revolution Extreme",
         "769",
         "2004.0"
        ],
        [
         "817",
         "The Incredibles",
         "819",
         "2004.0"
        ],
        [
         "866",
         "Hot Shots Golf: Open Tee",
         "868",
         "2004.0"
        ],
        [
         "881",
         "Dragon Ball Z: Budokai 3",
         "883",
         "2004.0"
        ],
        [
         "884",
         "X-Men Legends",
         "886",
         "2004.0"
        ],
        [
         "899",
         "MX Unleashed",
         "901",
         "2004.0"
        ],
        [
         "914",
         "Mortal Kombat: Deception",
         "916",
         "2004.0"
        ],
        [
         "925",
         "Shrek 2",
         "927",
         "2004.0"
        ],
        [
         "928",
         "SingStar",
         "930",
         "2004.0"
        ],
        [
         "935",
         "Jak 3",
         "937",
         "2004.0"
        ],
        [
         "937",
         "Kingdom Hearts: Chain of Memories",
         "939",
         "2004.0"
        ],
        [
         "961",
         "Sly 2: Band of Thieves",
         "963",
         "2004.0"
        ],
        [
         "974",
         "The Getaway: Black Monday",
         "976",
         "2004.0"
        ],
        [
         "989",
         "The SpongeBob SquarePants Movie",
         "991",
         "2004.0"
        ],
        [
         "993",
         "Def Jam: Fight for NY",
         "995",
         "2004.0"
        ],
        [
         "1000",
         "The Urbz: Sims in the City",
         "1002",
         "2004.0"
        ],
        [
         "1005",
         "Star Wars: Battlefront",
         "1007",
         "2004.0"
        ],
        [
         "1013",
         "2 Games in 1: Disney Princess & The Lion King",
         "1015",
         "2004.0"
        ],
        [
         "1038",
         "Madden NFL 2005",
         "1040",
         "2004.0"
        ],
        [
         "1044",
         "Ace Combat 5: The Unsung War",
         "1046",
         "2004.0"
        ],
        [
         "1102",
         "NBA Ballers",
         "1104",
         "2004.0"
        ]
       ],
       "shape": {
        "columns": 3,
        "rows": 744
       }
      },
      "text/html": [
       "<div>\n",
       "<style scoped>\n",
       "    .dataframe tbody tr th:only-of-type {\n",
       "        vertical-align: middle;\n",
       "    }\n",
       "\n",
       "    .dataframe tbody tr th {\n",
       "        vertical-align: top;\n",
       "    }\n",
       "\n",
       "    .dataframe thead th {\n",
       "        text-align: right;\n",
       "    }\n",
       "</style>\n",
       "<table border=\"1\" class=\"dataframe\">\n",
       "  <thead>\n",
       "    <tr style=\"text-align: right;\">\n",
       "      <th></th>\n",
       "      <th>Name</th>\n",
       "      <th>Rank</th>\n",
       "      <th>Year</th>\n",
       "    </tr>\n",
       "  </thead>\n",
       "  <tbody>\n",
       "    <tr>\n",
       "      <th>17</th>\n",
       "      <td>Grand Theft Auto: San Andreas</td>\n",
       "      <td>18</td>\n",
       "      <td>2004.0</td>\n",
       "    </tr>\n",
       "    <tr>\n",
       "      <th>47</th>\n",
       "      <td>Gran Turismo 4</td>\n",
       "      <td>48</td>\n",
       "      <td>2004.0</td>\n",
       "    </tr>\n",
       "    <tr>\n",
       "      <th>58</th>\n",
       "      <td>Pokemon FireRed/Pokemon LeafGreen</td>\n",
       "      <td>59</td>\n",
       "      <td>2004.0</td>\n",
       "    </tr>\n",
       "    <tr>\n",
       "      <th>59</th>\n",
       "      <td>Super Mario 64</td>\n",
       "      <td>60</td>\n",
       "      <td>2004.0</td>\n",
       "    </tr>\n",
       "    <tr>\n",
       "      <th>79</th>\n",
       "      <td>Halo 2</td>\n",
       "      <td>80</td>\n",
       "      <td>2004.0</td>\n",
       "    </tr>\n",
       "    <tr>\n",
       "      <th>...</th>\n",
       "      <td>...</td>\n",
       "      <td>...</td>\n",
       "      <td>...</td>\n",
       "    </tr>\n",
       "    <tr>\n",
       "      <th>16330</th>\n",
       "      <td>Ultraman Fighting Evolution 3</td>\n",
       "      <td>16333</td>\n",
       "      <td>2004.0</td>\n",
       "    </tr>\n",
       "    <tr>\n",
       "      <th>16362</th>\n",
       "      <td>Powerdrome</td>\n",
       "      <td>16365</td>\n",
       "      <td>2004.0</td>\n",
       "    </tr>\n",
       "    <tr>\n",
       "      <th>16375</th>\n",
       "      <td>Colin McRae Rally 04</td>\n",
       "      <td>16378</td>\n",
       "      <td>2004.0</td>\n",
       "    </tr>\n",
       "    <tr>\n",
       "      <th>16445</th>\n",
       "      <td>Wade Hixton's Counter Punch</td>\n",
       "      <td>16448</td>\n",
       "      <td>2004.0</td>\n",
       "    </tr>\n",
       "    <tr>\n",
       "      <th>16591</th>\n",
       "      <td>Myst IV: Revelation</td>\n",
       "      <td>16594</td>\n",
       "      <td>2004.0</td>\n",
       "    </tr>\n",
       "  </tbody>\n",
       "</table>\n",
       "<p>744 rows × 3 columns</p>\n",
       "</div>"
      ],
      "text/plain": [
       "                                    Name   Rank    Year\n",
       "17         Grand Theft Auto: San Andreas     18  2004.0\n",
       "47                        Gran Turismo 4     48  2004.0\n",
       "58     Pokemon FireRed/Pokemon LeafGreen     59  2004.0\n",
       "59                        Super Mario 64     60  2004.0\n",
       "79                                Halo 2     80  2004.0\n",
       "...                                  ...    ...     ...\n",
       "16330      Ultraman Fighting Evolution 3  16333  2004.0\n",
       "16362                         Powerdrome  16365  2004.0\n",
       "16375               Colin McRae Rally 04  16378  2004.0\n",
       "16445        Wade Hixton's Counter Punch  16448  2004.0\n",
       "16591                Myst IV: Revelation  16594  2004.0\n",
       "\n",
       "[744 rows x 3 columns]"
      ]
     },
     "execution_count": 84,
     "metadata": {},
     "output_type": "execute_result"
    }
   ],
   "source": [
    "vgsales_dataset_copy[['Name','Rank','Year']][vgsales_dataset_copy['Year'] == 2004 ].sort_values(by='Rank', ascending=True)"
   ]
  },
  {
   "cell_type": "code",
   "execution_count": 85,
   "metadata": {},
   "outputs": [
    {
     "data": {
      "application/vnd.microsoft.datawrangler.viewer.v0+json": {
       "columns": [
        {
         "name": "index",
         "rawType": "int64",
         "type": "integer"
        },
        {
         "name": "Name",
         "rawType": "object",
         "type": "string"
        },
        {
         "name": "Rank",
         "rawType": "int64",
         "type": "integer"
        },
        {
         "name": "Year",
         "rawType": "float64",
         "type": "float"
        }
       ],
       "conversionMethod": "pd.DataFrame",
       "ref": "d03dc487-9efc-4289-bdeb-027a2bd0941e",
       "rows": [
        [
         "1",
         "Super Mario Bros.",
         "2",
         "1985.0"
        ],
        [
         "4",
         "Pokemon Red/Pokemon Blue",
         "5",
         "1996.0"
        ],
        [
         "5",
         "Tetris",
         "6",
         "1989.0"
        ],
        [
         "9",
         "Duck Hunt",
         "10",
         "1984.0"
        ],
        [
         "12",
         "Pokemon Gold/Pokemon Silver",
         "13",
         "1999.0"
        ],
        [
         "18",
         "Super Mario World",
         "19",
         "1990.0"
        ],
        [
         "21",
         "Super Mario Land",
         "22",
         "1989.0"
        ],
        [
         "22",
         "Super Mario Bros. 3",
         "23",
         "1988.0"
        ],
        [
         "30",
         "Pokémon Yellow: Special Pikachu Edition",
         "31",
         "1998.0"
        ],
        [
         "46",
         "Super Mario 64",
         "47",
         "1996.0"
        ],
        [
         "50",
         "Super Mario Land 2: 6 Golden Coins",
         "51",
         "1992.0"
        ],
        [
         "52",
         "Gran Turismo",
         "53",
         "1997.0"
        ],
        [
         "57",
         "Super Mario All-Stars",
         "58",
         "1993.0"
        ],
        [
         "63",
         "Mario Kart 64",
         "64",
         "1996.0"
        ],
        [
         "66",
         "Final Fantasy VII",
         "67",
         "1997.0"
        ],
        [
         "69",
         "Gran Turismo 2",
         "70",
         "1999.0"
        ],
        [
         "71",
         "Donkey Kong Country",
         "72",
         "1994.0"
        ],
        [
         "76",
         "Super Mario Kart",
         "77",
         "1992.0"
        ],
        [
         "84",
         "GoldenEye 007",
         "85",
         "1997.0"
        ],
        [
         "87",
         "Final Fantasy VIII",
         "88",
         "1999.0"
        ],
        [
         "89",
         "Pac-Man",
         "90",
         "1982.0"
        ],
        [
         "94",
         "The Legend of Zelda: Ocarina of Time",
         "95",
         "1998.0"
        ],
        [
         "95",
         "Crash Bandicoot 2: Cortex Strikes Back",
         "96",
         "1997.0"
        ],
        [
         "96",
         "Super Mario Bros. 2",
         "97",
         "1988.0"
        ],
        [
         "105",
         "Tekken 3",
         "106",
         "1998.0"
        ],
        [
         "106",
         "Crash Bandicoot 3: Warped",
         "107",
         "1998.0"
        ],
        [
         "116",
         "Crash Bandicoot",
         "117",
         "1996.0"
        ],
        [
         "127",
         "The Legend of Zelda",
         "128",
         "1986.0"
        ],
        [
         "136",
         "Street Fighter II: The World Warrior",
         "137",
         "1992.0"
        ],
        [
         "138",
         "Driver",
         "139",
         "1999.0"
        ],
        [
         "143",
         "Sonic the Hedgehog 2",
         "144",
         "1992.0"
        ],
        [
         "145",
         "Metal Gear Solid",
         "146",
         "1998.0"
        ],
        [
         "151",
         "Resident Evil 2",
         "152",
         "1998.0"
        ],
        [
         "152",
         "Tekken 2",
         "153",
         "1996.0"
        ],
        [
         "155",
         "Tetris",
         "156",
         "1988.0"
        ],
        [
         "157",
         "Super Smash Bros.",
         "158",
         "1999.0"
        ],
        [
         "165",
         "Pokemon Stadium",
         "166",
         "1999.0"
        ],
        [
         "170",
         "Dr. Mario",
         "171",
         "1989.0"
        ],
        [
         "171",
         "Pokemon Pinball",
         "172",
         "1999.0"
        ],
        [
         "175",
         "Donkey Kong 64",
         "176",
         "1999.0"
        ],
        [
         "178",
         "Tomb Raider II",
         "179",
         "1997.0"
        ],
        [
         "184",
         "Super Mario Land 3: Wario Land",
         "185",
         "1994.0"
        ],
        [
         "187",
         "Donkey Kong Country 2: Diddy's Kong Quest",
         "188",
         "1995.0"
        ],
        [
         "191",
         "Kirby's Dream Land",
         "192",
         "1992.0"
        ],
        [
         "194",
         "Microsoft Flight Simulator",
         "195",
         "1996.0"
        ],
        [
         "200",
         "Super Mario Bros.",
         "201",
         "1999.0"
        ],
        [
         "201",
         "Resident Evil",
         "202",
         "1996.0"
        ],
        [
         "202",
         "Tony Hawk's Pro Skater",
         "203",
         "1999.0"
        ],
        [
         "204",
         "Warzone 2100",
         "205",
         "1999.0"
        ],
        [
         "205",
         "Spyro the Dragon",
         "206",
         "1998.0"
        ]
       ],
       "shape": {
        "columns": 3,
        "rows": 1974
       }
      },
      "text/html": [
       "<div>\n",
       "<style scoped>\n",
       "    .dataframe tbody tr th:only-of-type {\n",
       "        vertical-align: middle;\n",
       "    }\n",
       "\n",
       "    .dataframe tbody tr th {\n",
       "        vertical-align: top;\n",
       "    }\n",
       "\n",
       "    .dataframe thead th {\n",
       "        text-align: right;\n",
       "    }\n",
       "</style>\n",
       "<table border=\"1\" class=\"dataframe\">\n",
       "  <thead>\n",
       "    <tr style=\"text-align: right;\">\n",
       "      <th></th>\n",
       "      <th>Name</th>\n",
       "      <th>Rank</th>\n",
       "      <th>Year</th>\n",
       "    </tr>\n",
       "  </thead>\n",
       "  <tbody>\n",
       "    <tr>\n",
       "      <th>1</th>\n",
       "      <td>Super Mario Bros.</td>\n",
       "      <td>2</td>\n",
       "      <td>1985.0</td>\n",
       "    </tr>\n",
       "    <tr>\n",
       "      <th>4</th>\n",
       "      <td>Pokemon Red/Pokemon Blue</td>\n",
       "      <td>5</td>\n",
       "      <td>1996.0</td>\n",
       "    </tr>\n",
       "    <tr>\n",
       "      <th>5</th>\n",
       "      <td>Tetris</td>\n",
       "      <td>6</td>\n",
       "      <td>1989.0</td>\n",
       "    </tr>\n",
       "    <tr>\n",
       "      <th>9</th>\n",
       "      <td>Duck Hunt</td>\n",
       "      <td>10</td>\n",
       "      <td>1984.0</td>\n",
       "    </tr>\n",
       "    <tr>\n",
       "      <th>12</th>\n",
       "      <td>Pokemon Gold/Pokemon Silver</td>\n",
       "      <td>13</td>\n",
       "      <td>1999.0</td>\n",
       "    </tr>\n",
       "    <tr>\n",
       "      <th>...</th>\n",
       "      <td>...</td>\n",
       "      <td>...</td>\n",
       "      <td>...</td>\n",
       "    </tr>\n",
       "    <tr>\n",
       "      <th>16379</th>\n",
       "      <td>Grand Prix Legends</td>\n",
       "      <td>16382</td>\n",
       "      <td>1997.0</td>\n",
       "    </tr>\n",
       "    <tr>\n",
       "      <th>16436</th>\n",
       "      <td>Worms 2</td>\n",
       "      <td>16439</td>\n",
       "      <td>1997.0</td>\n",
       "    </tr>\n",
       "    <tr>\n",
       "      <th>16506</th>\n",
       "      <td>Samurai Shodown: Warrios Rage</td>\n",
       "      <td>16509</td>\n",
       "      <td>1999.0</td>\n",
       "    </tr>\n",
       "    <tr>\n",
       "      <th>16554</th>\n",
       "      <td>Psychic Detective</td>\n",
       "      <td>16557</td>\n",
       "      <td>1995.0</td>\n",
       "    </tr>\n",
       "    <tr>\n",
       "      <th>16583</th>\n",
       "      <td>Carmageddon 64</td>\n",
       "      <td>16586</td>\n",
       "      <td>1999.0</td>\n",
       "    </tr>\n",
       "  </tbody>\n",
       "</table>\n",
       "<p>1974 rows × 3 columns</p>\n",
       "</div>"
      ],
      "text/plain": [
       "                                Name   Rank    Year\n",
       "1                  Super Mario Bros.      2  1985.0\n",
       "4           Pokemon Red/Pokemon Blue      5  1996.0\n",
       "5                             Tetris      6  1989.0\n",
       "9                          Duck Hunt     10  1984.0\n",
       "12       Pokemon Gold/Pokemon Silver     13  1999.0\n",
       "...                              ...    ...     ...\n",
       "16379             Grand Prix Legends  16382  1997.0\n",
       "16436                        Worms 2  16439  1997.0\n",
       "16506  Samurai Shodown: Warrios Rage  16509  1999.0\n",
       "16554              Psychic Detective  16557  1995.0\n",
       "16583                 Carmageddon 64  16586  1999.0\n",
       "\n",
       "[1974 rows x 3 columns]"
      ]
     },
     "execution_count": 85,
     "metadata": {},
     "output_type": "execute_result"
    }
   ],
   "source": [
    "vgsales_dataset_copy[['Name','Rank','Year']][(vgsales_dataset_copy['Year'] >= 1980) & (vgsales_dataset_copy['Year'] <= 1999)].sort_values(by='Rank', ascending=True)"
   ]
  },
  {
   "cell_type": "code",
   "execution_count": 86,
   "metadata": {},
   "outputs": [
    {
     "data": {
      "application/vnd.microsoft.datawrangler.viewer.v0+json": {
       "columns": [
        {
         "name": "index",
         "rawType": "int64",
         "type": "integer"
        },
        {
         "name": "Name",
         "rawType": "object",
         "type": "string"
        },
        {
         "name": "Rank",
         "rawType": "int64",
         "type": "integer"
        },
        {
         "name": "Year",
         "rawType": "float64",
         "type": "float"
        }
       ],
       "conversionMethod": "pd.DataFrame",
       "ref": "81681b34-04e1-41bd-9da7-accc2bef24de",
       "rows": [
        [
         "3",
         "Wii Sports Resort",
         "4",
         "2009.0"
        ],
        [
         "8",
         "New Super Mario Bros. Wii",
         "9",
         "2009.0"
        ],
        [
         "14",
         "Wii Fit Plus",
         "15",
         "2009.0"
        ],
        [
         "36",
         "Call of Duty: Modern Warfare 2",
         "37",
         "2009.0"
        ],
        [
         "45",
         "Pokemon HeartGold/Pokemon SoulSilver",
         "46",
         "2009.0"
        ],
        [
         "55",
         "Call of Duty: Modern Warfare 2",
         "56",
         "2009.0"
        ],
        [
         "83",
         "The Sims 3",
         "84",
         "2009.0"
        ],
        [
         "102",
         "Just Dance",
         "103",
         "2009.0"
        ],
        [
         "119",
         "Uncharted 2: Among Thieves",
         "120",
         "2009.0"
        ],
        [
         "133",
         "Halo 3: ODST",
         "134",
         "2009.0"
        ],
        [
         "149",
         "Dragon Quest IX: Sentinels of the Starry Skies",
         "150",
         "2009.0"
        ],
        [
         "156",
         "Assassin's Creed II",
         "157",
         "2009.0"
        ],
        [
         "160",
         "Forza Motorsport 3",
         "161",
         "2009.0"
        ],
        [
         "169",
         "Final Fantasy XIII",
         "170",
         "2009.0"
        ],
        [
         "176",
         "Assassin's Creed II",
         "177",
         "2009.0"
        ],
        [
         "196",
         "Resident Evil 5",
         "197",
         "2009.0"
        ],
        [
         "233",
         "Mario & Sonic at the Olympic Winter Games",
         "234",
         "2009.0"
        ],
        [
         "262",
         "Batman: Arkham Asylum",
         "263",
         "2009.0"
        ],
        [
         "274",
         "Street Fighter IV",
         "275",
         "2009.0"
        ],
        [
         "301",
         "Left 4 Dead 2",
         "302",
         "2009.0"
        ],
        [
         "303",
         "EA Sports Active",
         "304",
         "2009.0"
        ],
        [
         "319",
         "Mario & Luigi: Bowser's Inside Story",
         "320",
         "2009.0"
        ],
        [
         "338",
         "Friend Collection",
         "339",
         "2009.0"
        ],
        [
         "347",
         "FIFA Soccer 10",
         "348",
         "2009.0"
        ],
        [
         "370",
         "Mario & Sonic at the Olympic Winter Games",
         "371",
         "2009.0"
        ],
        [
         "371",
         "Resident Evil 5",
         "372",
         "2009.0"
        ],
        [
         "375",
         "Batman: Arkham Asylum",
         "376",
         "2009.0"
        ],
        [
         "384",
         "Borderlands",
         "385",
         "2009.0"
        ],
        [
         "396",
         "The Legend of Zelda: Spirit Tracks",
         "397",
         "2009.0"
        ],
        [
         "413",
         "Gran Turismo (PSP)",
         "414",
         "2009.0"
        ],
        [
         "463",
         "Killzone 2",
         "464",
         "2009.0"
        ],
        [
         "483",
         "Street Fighter IV",
         "484",
         "2009.0"
        ],
        [
         "487",
         "inFAMOUS",
         "488",
         "2009.0"
        ],
        [
         "516",
         "Madden NFL 10",
         "517",
         "2009.0"
        ],
        [
         "535",
         "Professor Layton and the Last Specter",
         "536",
         "2009.0"
        ],
        [
         "540",
         "Tekken 6",
         "541",
         "2009.0"
        ],
        [
         "562",
         "Need for Speed: Shift",
         "563",
         "2009.0"
        ],
        [
         "578",
         "Halo Wars",
         "579",
         "2009.0"
        ],
        [
         "579",
         "God of War Collection",
         "580",
         "2009.0"
        ],
        [
         "583",
         "FIFA Soccer 10",
         "584",
         "2009.0"
        ],
        [
         "592",
         "LittleBigPlanet",
         "593",
         "2009.0"
        ],
        [
         "594",
         "Ghostbusters: The Video Game (DS Version)",
         "595",
         "2009.0"
        ],
        [
         "599",
         "Dragon Age: Origins",
         "600",
         "2009.0"
        ],
        [
         "668",
         "Madden NFL 10",
         "670",
         "2009.0"
        ],
        [
         "697",
         "Pro Evolution Soccer 2010",
         "699",
         "2009.0"
        ],
        [
         "706",
         "Sonic's Ultimate Genesis Collection",
         "708",
         "2009.0"
        ],
        [
         "718",
         "Monster Hunter Tri",
         "720",
         "2009.0"
        ],
        [
         "724",
         "Dance Dance Revolution X2",
         "726",
         "2009.0"
        ],
        [
         "727",
         "Scribblenauts",
         "729",
         "2009.0"
        ],
        [
         "756",
         "Your Shape featuring Jenny McCarthy",
         "758",
         "2009.0"
        ]
       ],
       "shape": {
        "columns": 3,
        "rows": 1431
       }
      },
      "text/html": [
       "<div>\n",
       "<style scoped>\n",
       "    .dataframe tbody tr th:only-of-type {\n",
       "        vertical-align: middle;\n",
       "    }\n",
       "\n",
       "    .dataframe tbody tr th {\n",
       "        vertical-align: top;\n",
       "    }\n",
       "\n",
       "    .dataframe thead th {\n",
       "        text-align: right;\n",
       "    }\n",
       "</style>\n",
       "<table border=\"1\" class=\"dataframe\">\n",
       "  <thead>\n",
       "    <tr style=\"text-align: right;\">\n",
       "      <th></th>\n",
       "      <th>Name</th>\n",
       "      <th>Rank</th>\n",
       "      <th>Year</th>\n",
       "    </tr>\n",
       "  </thead>\n",
       "  <tbody>\n",
       "    <tr>\n",
       "      <th>3</th>\n",
       "      <td>Wii Sports Resort</td>\n",
       "      <td>4</td>\n",
       "      <td>2009.0</td>\n",
       "    </tr>\n",
       "    <tr>\n",
       "      <th>8</th>\n",
       "      <td>New Super Mario Bros. Wii</td>\n",
       "      <td>9</td>\n",
       "      <td>2009.0</td>\n",
       "    </tr>\n",
       "    <tr>\n",
       "      <th>14</th>\n",
       "      <td>Wii Fit Plus</td>\n",
       "      <td>15</td>\n",
       "      <td>2009.0</td>\n",
       "    </tr>\n",
       "    <tr>\n",
       "      <th>36</th>\n",
       "      <td>Call of Duty: Modern Warfare 2</td>\n",
       "      <td>37</td>\n",
       "      <td>2009.0</td>\n",
       "    </tr>\n",
       "    <tr>\n",
       "      <th>45</th>\n",
       "      <td>Pokemon HeartGold/Pokemon SoulSilver</td>\n",
       "      <td>46</td>\n",
       "      <td>2009.0</td>\n",
       "    </tr>\n",
       "    <tr>\n",
       "      <th>...</th>\n",
       "      <td>...</td>\n",
       "      <td>...</td>\n",
       "      <td>...</td>\n",
       "    </tr>\n",
       "    <tr>\n",
       "      <th>16540</th>\n",
       "      <td>15 Days</td>\n",
       "      <td>16543</td>\n",
       "      <td>2009.0</td>\n",
       "    </tr>\n",
       "    <tr>\n",
       "      <th>16551</th>\n",
       "      <td>Sweet Honey Coming</td>\n",
       "      <td>16554</td>\n",
       "      <td>2009.0</td>\n",
       "    </tr>\n",
       "    <tr>\n",
       "      <th>16577</th>\n",
       "      <td>Damnation</td>\n",
       "      <td>16580</td>\n",
       "      <td>2009.0</td>\n",
       "    </tr>\n",
       "    <tr>\n",
       "      <th>16586</th>\n",
       "      <td>Secret Files 2: Puritas Cordis</td>\n",
       "      <td>16589</td>\n",
       "      <td>2009.0</td>\n",
       "    </tr>\n",
       "    <tr>\n",
       "      <th>16587</th>\n",
       "      <td>Mezase!! Tsuri Master DS</td>\n",
       "      <td>16590</td>\n",
       "      <td>2009.0</td>\n",
       "    </tr>\n",
       "  </tbody>\n",
       "</table>\n",
       "<p>1431 rows × 3 columns</p>\n",
       "</div>"
      ],
      "text/plain": [
       "                                       Name   Rank    Year\n",
       "3                         Wii Sports Resort      4  2009.0\n",
       "8                 New Super Mario Bros. Wii      9  2009.0\n",
       "14                             Wii Fit Plus     15  2009.0\n",
       "36           Call of Duty: Modern Warfare 2     37  2009.0\n",
       "45     Pokemon HeartGold/Pokemon SoulSilver     46  2009.0\n",
       "...                                     ...    ...     ...\n",
       "16540                               15 Days  16543  2009.0\n",
       "16551                    Sweet Honey Coming  16554  2009.0\n",
       "16577                             Damnation  16580  2009.0\n",
       "16586        Secret Files 2: Puritas Cordis  16589  2009.0\n",
       "16587              Mezase!! Tsuri Master DS  16590  2009.0\n",
       "\n",
       "[1431 rows x 3 columns]"
      ]
     },
     "execution_count": 86,
     "metadata": {},
     "output_type": "execute_result"
    }
   ],
   "source": [
    "vgsales_dataset_copy[['Name','Rank','Year']][vgsales_dataset_copy['Year'] == 2009].sort_values(by='Rank', ascending=True)"
   ]
  },
  {
   "cell_type": "code",
   "execution_count": 87,
   "metadata": {},
   "outputs": [
    {
     "data": {
      "text/plain": [
       "np.float64(8811.97)"
      ]
     },
     "execution_count": 87,
     "metadata": {},
     "output_type": "execute_result"
    }
   ],
   "source": [
    "vgsales_dataset_copy['Global_Sales'].sum()"
   ]
  },
  {
   "cell_type": "code",
   "execution_count": 88,
   "metadata": {},
   "outputs": [
    {
     "name": "stderr",
     "output_type": "stream",
     "text": [
      "C:\\Users\\63947\\AppData\\Local\\Temp\\ipykernel_6160\\3316628665.py:1: SettingWithCopyWarning:\n",
      "\n",
      "\n",
      "A value is trying to be set on a copy of a slice from a DataFrame.\n",
      "Try using .loc[row_indexer,col_indexer] = value instead\n",
      "\n",
      "See the caveats in the documentation: https://pandas.pydata.org/pandas-docs/stable/user_guide/indexing.html#returning-a-view-versus-a-copy\n",
      "\n"
     ]
    }
   ],
   "source": [
    "vgsales_dataset_copy['Year'] = vgsales_dataset_copy['Year'].astype('int64')"
   ]
  },
  {
   "cell_type": "code",
   "execution_count": 89,
   "metadata": {},
   "outputs": [
    {
     "data": {
      "text/plain": [
       "Rank              int64\n",
       "Name             object\n",
       "Platform         object\n",
       "Year              int64\n",
       "Genre            object\n",
       "Publisher        object\n",
       "NA_Sales        float64\n",
       "EU_Sales        float64\n",
       "JP_Sales        float64\n",
       "Other_Sales     float64\n",
       "Global_Sales    float64\n",
       "dtype: object"
      ]
     },
     "execution_count": 89,
     "metadata": {},
     "output_type": "execute_result"
    }
   ],
   "source": [
    "vgsales_dataset_copy.dtypes"
   ]
  },
  {
   "cell_type": "code",
   "execution_count": 90,
   "metadata": {},
   "outputs": [
    {
     "data": {
      "text/plain": [
       "Year\n",
       "2009    1431\n",
       "2008    1428\n",
       "2010    1257\n",
       "2007    1201\n",
       "2011    1136\n",
       "2006    1008\n",
       "2005     936\n",
       "2002     829\n",
       "2003     775\n",
       "2004     744\n",
       "2012     655\n",
       "2015     614\n",
       "2014     580\n",
       "2013     546\n",
       "2001     482\n",
       "1998     379\n",
       "2000     349\n",
       "2016     342\n",
       "1999     338\n",
       "1997     289\n",
       "1996     263\n",
       "1995     219\n",
       "1994     121\n",
       "1993      60\n",
       "1981      46\n",
       "1992      43\n",
       "1991      41\n",
       "1982      36\n",
       "1986      21\n",
       "1989      17\n",
       "1983      17\n",
       "1987      16\n",
       "1990      16\n",
       "1988      15\n",
       "1985      14\n",
       "1984      14\n",
       "1980       9\n",
       "2017       3\n",
       "2020       1\n",
       "Name: count, dtype: int64"
      ]
     },
     "execution_count": 90,
     "metadata": {},
     "output_type": "execute_result"
    }
   ],
   "source": [
    "counts = vgsales_dataset_copy['Year'].value_counts()\n",
    "\n",
    "counts\n"
   ]
  },
  {
   "cell_type": "code",
   "execution_count": 91,
   "metadata": {},
   "outputs": [
    {
     "data": {
      "application/vnd.microsoft.datawrangler.viewer.v0+json": {
       "columns": [
        {
         "name": "index",
         "rawType": "int64",
         "type": "integer"
        },
        {
         "name": "Year",
         "rawType": "int64",
         "type": "integer"
        },
        {
         "name": "Counts",
         "rawType": "int64",
         "type": "integer"
        }
       ],
       "conversionMethod": "pd.DataFrame",
       "ref": "1d34c62f-9f6d-4fae-9f2e-7a7d36d37dc3",
       "rows": [
        [
         "0",
         "2009",
         "1431"
        ],
        [
         "1",
         "2008",
         "1428"
        ],
        [
         "2",
         "2010",
         "1257"
        ],
        [
         "3",
         "2007",
         "1201"
        ],
        [
         "4",
         "2011",
         "1136"
        ],
        [
         "5",
         "2006",
         "1008"
        ],
        [
         "6",
         "2005",
         "936"
        ],
        [
         "7",
         "2002",
         "829"
        ],
        [
         "8",
         "2003",
         "775"
        ],
        [
         "9",
         "2004",
         "744"
        ],
        [
         "10",
         "2012",
         "655"
        ],
        [
         "11",
         "2015",
         "614"
        ],
        [
         "12",
         "2014",
         "580"
        ],
        [
         "13",
         "2013",
         "546"
        ],
        [
         "14",
         "2001",
         "482"
        ],
        [
         "15",
         "1998",
         "379"
        ],
        [
         "16",
         "2000",
         "349"
        ],
        [
         "17",
         "2016",
         "342"
        ],
        [
         "18",
         "1999",
         "338"
        ],
        [
         "19",
         "1997",
         "289"
        ],
        [
         "20",
         "1996",
         "263"
        ],
        [
         "21",
         "1995",
         "219"
        ],
        [
         "22",
         "1994",
         "121"
        ],
        [
         "23",
         "1993",
         "60"
        ],
        [
         "24",
         "1981",
         "46"
        ],
        [
         "25",
         "1992",
         "43"
        ],
        [
         "26",
         "1991",
         "41"
        ],
        [
         "27",
         "1982",
         "36"
        ],
        [
         "28",
         "1986",
         "21"
        ],
        [
         "29",
         "1989",
         "17"
        ],
        [
         "30",
         "1983",
         "17"
        ],
        [
         "31",
         "1987",
         "16"
        ],
        [
         "32",
         "1990",
         "16"
        ],
        [
         "33",
         "1988",
         "15"
        ],
        [
         "34",
         "1985",
         "14"
        ],
        [
         "35",
         "1984",
         "14"
        ],
        [
         "36",
         "1980",
         "9"
        ],
        [
         "37",
         "2017",
         "3"
        ],
        [
         "38",
         "2020",
         "1"
        ]
       ],
       "shape": {
        "columns": 2,
        "rows": 39
       }
      },
      "text/html": [
       "<div>\n",
       "<style scoped>\n",
       "    .dataframe tbody tr th:only-of-type {\n",
       "        vertical-align: middle;\n",
       "    }\n",
       "\n",
       "    .dataframe tbody tr th {\n",
       "        vertical-align: top;\n",
       "    }\n",
       "\n",
       "    .dataframe thead th {\n",
       "        text-align: right;\n",
       "    }\n",
       "</style>\n",
       "<table border=\"1\" class=\"dataframe\">\n",
       "  <thead>\n",
       "    <tr style=\"text-align: right;\">\n",
       "      <th></th>\n",
       "      <th>Year</th>\n",
       "      <th>Counts</th>\n",
       "    </tr>\n",
       "  </thead>\n",
       "  <tbody>\n",
       "    <tr>\n",
       "      <th>0</th>\n",
       "      <td>2009</td>\n",
       "      <td>1431</td>\n",
       "    </tr>\n",
       "    <tr>\n",
       "      <th>1</th>\n",
       "      <td>2008</td>\n",
       "      <td>1428</td>\n",
       "    </tr>\n",
       "    <tr>\n",
       "      <th>2</th>\n",
       "      <td>2010</td>\n",
       "      <td>1257</td>\n",
       "    </tr>\n",
       "    <tr>\n",
       "      <th>3</th>\n",
       "      <td>2007</td>\n",
       "      <td>1201</td>\n",
       "    </tr>\n",
       "    <tr>\n",
       "      <th>4</th>\n",
       "      <td>2011</td>\n",
       "      <td>1136</td>\n",
       "    </tr>\n",
       "    <tr>\n",
       "      <th>5</th>\n",
       "      <td>2006</td>\n",
       "      <td>1008</td>\n",
       "    </tr>\n",
       "    <tr>\n",
       "      <th>6</th>\n",
       "      <td>2005</td>\n",
       "      <td>936</td>\n",
       "    </tr>\n",
       "    <tr>\n",
       "      <th>7</th>\n",
       "      <td>2002</td>\n",
       "      <td>829</td>\n",
       "    </tr>\n",
       "    <tr>\n",
       "      <th>8</th>\n",
       "      <td>2003</td>\n",
       "      <td>775</td>\n",
       "    </tr>\n",
       "    <tr>\n",
       "      <th>9</th>\n",
       "      <td>2004</td>\n",
       "      <td>744</td>\n",
       "    </tr>\n",
       "    <tr>\n",
       "      <th>10</th>\n",
       "      <td>2012</td>\n",
       "      <td>655</td>\n",
       "    </tr>\n",
       "    <tr>\n",
       "      <th>11</th>\n",
       "      <td>2015</td>\n",
       "      <td>614</td>\n",
       "    </tr>\n",
       "    <tr>\n",
       "      <th>12</th>\n",
       "      <td>2014</td>\n",
       "      <td>580</td>\n",
       "    </tr>\n",
       "    <tr>\n",
       "      <th>13</th>\n",
       "      <td>2013</td>\n",
       "      <td>546</td>\n",
       "    </tr>\n",
       "    <tr>\n",
       "      <th>14</th>\n",
       "      <td>2001</td>\n",
       "      <td>482</td>\n",
       "    </tr>\n",
       "    <tr>\n",
       "      <th>15</th>\n",
       "      <td>1998</td>\n",
       "      <td>379</td>\n",
       "    </tr>\n",
       "    <tr>\n",
       "      <th>16</th>\n",
       "      <td>2000</td>\n",
       "      <td>349</td>\n",
       "    </tr>\n",
       "    <tr>\n",
       "      <th>17</th>\n",
       "      <td>2016</td>\n",
       "      <td>342</td>\n",
       "    </tr>\n",
       "    <tr>\n",
       "      <th>18</th>\n",
       "      <td>1999</td>\n",
       "      <td>338</td>\n",
       "    </tr>\n",
       "    <tr>\n",
       "      <th>19</th>\n",
       "      <td>1997</td>\n",
       "      <td>289</td>\n",
       "    </tr>\n",
       "    <tr>\n",
       "      <th>20</th>\n",
       "      <td>1996</td>\n",
       "      <td>263</td>\n",
       "    </tr>\n",
       "    <tr>\n",
       "      <th>21</th>\n",
       "      <td>1995</td>\n",
       "      <td>219</td>\n",
       "    </tr>\n",
       "    <tr>\n",
       "      <th>22</th>\n",
       "      <td>1994</td>\n",
       "      <td>121</td>\n",
       "    </tr>\n",
       "    <tr>\n",
       "      <th>23</th>\n",
       "      <td>1993</td>\n",
       "      <td>60</td>\n",
       "    </tr>\n",
       "    <tr>\n",
       "      <th>24</th>\n",
       "      <td>1981</td>\n",
       "      <td>46</td>\n",
       "    </tr>\n",
       "    <tr>\n",
       "      <th>25</th>\n",
       "      <td>1992</td>\n",
       "      <td>43</td>\n",
       "    </tr>\n",
       "    <tr>\n",
       "      <th>26</th>\n",
       "      <td>1991</td>\n",
       "      <td>41</td>\n",
       "    </tr>\n",
       "    <tr>\n",
       "      <th>27</th>\n",
       "      <td>1982</td>\n",
       "      <td>36</td>\n",
       "    </tr>\n",
       "    <tr>\n",
       "      <th>28</th>\n",
       "      <td>1986</td>\n",
       "      <td>21</td>\n",
       "    </tr>\n",
       "    <tr>\n",
       "      <th>29</th>\n",
       "      <td>1989</td>\n",
       "      <td>17</td>\n",
       "    </tr>\n",
       "    <tr>\n",
       "      <th>30</th>\n",
       "      <td>1983</td>\n",
       "      <td>17</td>\n",
       "    </tr>\n",
       "    <tr>\n",
       "      <th>31</th>\n",
       "      <td>1987</td>\n",
       "      <td>16</td>\n",
       "    </tr>\n",
       "    <tr>\n",
       "      <th>32</th>\n",
       "      <td>1990</td>\n",
       "      <td>16</td>\n",
       "    </tr>\n",
       "    <tr>\n",
       "      <th>33</th>\n",
       "      <td>1988</td>\n",
       "      <td>15</td>\n",
       "    </tr>\n",
       "    <tr>\n",
       "      <th>34</th>\n",
       "      <td>1985</td>\n",
       "      <td>14</td>\n",
       "    </tr>\n",
       "    <tr>\n",
       "      <th>35</th>\n",
       "      <td>1984</td>\n",
       "      <td>14</td>\n",
       "    </tr>\n",
       "    <tr>\n",
       "      <th>36</th>\n",
       "      <td>1980</td>\n",
       "      <td>9</td>\n",
       "    </tr>\n",
       "    <tr>\n",
       "      <th>37</th>\n",
       "      <td>2017</td>\n",
       "      <td>3</td>\n",
       "    </tr>\n",
       "    <tr>\n",
       "      <th>38</th>\n",
       "      <td>2020</td>\n",
       "      <td>1</td>\n",
       "    </tr>\n",
       "  </tbody>\n",
       "</table>\n",
       "</div>"
      ],
      "text/plain": [
       "    Year  Counts\n",
       "0   2009    1431\n",
       "1   2008    1428\n",
       "2   2010    1257\n",
       "3   2007    1201\n",
       "4   2011    1136\n",
       "5   2006    1008\n",
       "6   2005     936\n",
       "7   2002     829\n",
       "8   2003     775\n",
       "9   2004     744\n",
       "10  2012     655\n",
       "11  2015     614\n",
       "12  2014     580\n",
       "13  2013     546\n",
       "14  2001     482\n",
       "15  1998     379\n",
       "16  2000     349\n",
       "17  2016     342\n",
       "18  1999     338\n",
       "19  1997     289\n",
       "20  1996     263\n",
       "21  1995     219\n",
       "22  1994     121\n",
       "23  1993      60\n",
       "24  1981      46\n",
       "25  1992      43\n",
       "26  1991      41\n",
       "27  1982      36\n",
       "28  1986      21\n",
       "29  1989      17\n",
       "30  1983      17\n",
       "31  1987      16\n",
       "32  1990      16\n",
       "33  1988      15\n",
       "34  1985      14\n",
       "35  1984      14\n",
       "36  1980       9\n",
       "37  2017       3\n",
       "38  2020       1"
      ]
     },
     "execution_count": 91,
     "metadata": {},
     "output_type": "execute_result"
    }
   ],
   "source": [
    "year_counts = counts.reset_index()\n",
    "\n",
    "year_counts.columns = ['Year', 'Counts']\n",
    "\n",
    "year_counts"
   ]
  },
  {
   "cell_type": "code",
   "execution_count": 92,
   "metadata": {},
   "outputs": [
    {
     "data": {
      "application/vnd.plotly.v1+json": {
       "config": {
        "plotlyServerURL": "https://plot.ly"
       },
       "data": [
        {
         "hovertemplate": "Year=%{x}<br>Counts=%{y}<extra></extra>",
         "legendgroup": "",
         "line": {
          "color": "#636efa",
          "dash": "solid"
         },
         "marker": {
          "symbol": "circle"
         },
         "mode": "lines",
         "name": "",
         "orientation": "v",
         "showlegend": false,
         "type": "scatter",
         "x": {
          "bdata": "5AfhB+AH3wfeB90H3AfbB9oH2QfYB9cH1gfVB9QH0wfSB9EH0AfPB84HzQfMB8sHygfJB8gHxwfGB8UHxAfDB8IHwQfAB78Hvge9B7wH",
          "dtype": "i2"
         },
         "xaxis": "x",
         "y": {
          "bdata": "AQADAFYBZgJEAiICjwJwBOkElwWUBbEE8AOoA+gCBwM9A+IBXQFSAXsBIQEHAdsAeQA8ACsAKQAQABEADwAQABUADgAOABEAJAAuAAkA",
          "dtype": "i2"
         },
         "yaxis": "y"
        }
       ],
       "layout": {
        "height": 800,
        "legend": {
         "tracegroupgap": 0
        },
        "margin": {
         "t": 60
        },
        "template": {
         "data": {
          "bar": [
           {
            "error_x": {
             "color": "#2a3f5f"
            },
            "error_y": {
             "color": "#2a3f5f"
            },
            "marker": {
             "line": {
              "color": "#E5ECF6",
              "width": 0.5
             },
             "pattern": {
              "fillmode": "overlay",
              "size": 10,
              "solidity": 0.2
             }
            },
            "type": "bar"
           }
          ],
          "barpolar": [
           {
            "marker": {
             "line": {
              "color": "#E5ECF6",
              "width": 0.5
             },
             "pattern": {
              "fillmode": "overlay",
              "size": 10,
              "solidity": 0.2
             }
            },
            "type": "barpolar"
           }
          ],
          "carpet": [
           {
            "aaxis": {
             "endlinecolor": "#2a3f5f",
             "gridcolor": "white",
             "linecolor": "white",
             "minorgridcolor": "white",
             "startlinecolor": "#2a3f5f"
            },
            "baxis": {
             "endlinecolor": "#2a3f5f",
             "gridcolor": "white",
             "linecolor": "white",
             "minorgridcolor": "white",
             "startlinecolor": "#2a3f5f"
            },
            "type": "carpet"
           }
          ],
          "choropleth": [
           {
            "colorbar": {
             "outlinewidth": 0,
             "ticks": ""
            },
            "type": "choropleth"
           }
          ],
          "contour": [
           {
            "colorbar": {
             "outlinewidth": 0,
             "ticks": ""
            },
            "colorscale": [
             [
              0,
              "#0d0887"
             ],
             [
              0.1111111111111111,
              "#46039f"
             ],
             [
              0.2222222222222222,
              "#7201a8"
             ],
             [
              0.3333333333333333,
              "#9c179e"
             ],
             [
              0.4444444444444444,
              "#bd3786"
             ],
             [
              0.5555555555555556,
              "#d8576b"
             ],
             [
              0.6666666666666666,
              "#ed7953"
             ],
             [
              0.7777777777777778,
              "#fb9f3a"
             ],
             [
              0.8888888888888888,
              "#fdca26"
             ],
             [
              1,
              "#f0f921"
             ]
            ],
            "type": "contour"
           }
          ],
          "contourcarpet": [
           {
            "colorbar": {
             "outlinewidth": 0,
             "ticks": ""
            },
            "type": "contourcarpet"
           }
          ],
          "heatmap": [
           {
            "colorbar": {
             "outlinewidth": 0,
             "ticks": ""
            },
            "colorscale": [
             [
              0,
              "#0d0887"
             ],
             [
              0.1111111111111111,
              "#46039f"
             ],
             [
              0.2222222222222222,
              "#7201a8"
             ],
             [
              0.3333333333333333,
              "#9c179e"
             ],
             [
              0.4444444444444444,
              "#bd3786"
             ],
             [
              0.5555555555555556,
              "#d8576b"
             ],
             [
              0.6666666666666666,
              "#ed7953"
             ],
             [
              0.7777777777777778,
              "#fb9f3a"
             ],
             [
              0.8888888888888888,
              "#fdca26"
             ],
             [
              1,
              "#f0f921"
             ]
            ],
            "type": "heatmap"
           }
          ],
          "histogram": [
           {
            "marker": {
             "pattern": {
              "fillmode": "overlay",
              "size": 10,
              "solidity": 0.2
             }
            },
            "type": "histogram"
           }
          ],
          "histogram2d": [
           {
            "colorbar": {
             "outlinewidth": 0,
             "ticks": ""
            },
            "colorscale": [
             [
              0,
              "#0d0887"
             ],
             [
              0.1111111111111111,
              "#46039f"
             ],
             [
              0.2222222222222222,
              "#7201a8"
             ],
             [
              0.3333333333333333,
              "#9c179e"
             ],
             [
              0.4444444444444444,
              "#bd3786"
             ],
             [
              0.5555555555555556,
              "#d8576b"
             ],
             [
              0.6666666666666666,
              "#ed7953"
             ],
             [
              0.7777777777777778,
              "#fb9f3a"
             ],
             [
              0.8888888888888888,
              "#fdca26"
             ],
             [
              1,
              "#f0f921"
             ]
            ],
            "type": "histogram2d"
           }
          ],
          "histogram2dcontour": [
           {
            "colorbar": {
             "outlinewidth": 0,
             "ticks": ""
            },
            "colorscale": [
             [
              0,
              "#0d0887"
             ],
             [
              0.1111111111111111,
              "#46039f"
             ],
             [
              0.2222222222222222,
              "#7201a8"
             ],
             [
              0.3333333333333333,
              "#9c179e"
             ],
             [
              0.4444444444444444,
              "#bd3786"
             ],
             [
              0.5555555555555556,
              "#d8576b"
             ],
             [
              0.6666666666666666,
              "#ed7953"
             ],
             [
              0.7777777777777778,
              "#fb9f3a"
             ],
             [
              0.8888888888888888,
              "#fdca26"
             ],
             [
              1,
              "#f0f921"
             ]
            ],
            "type": "histogram2dcontour"
           }
          ],
          "mesh3d": [
           {
            "colorbar": {
             "outlinewidth": 0,
             "ticks": ""
            },
            "type": "mesh3d"
           }
          ],
          "parcoords": [
           {
            "line": {
             "colorbar": {
              "outlinewidth": 0,
              "ticks": ""
             }
            },
            "type": "parcoords"
           }
          ],
          "pie": [
           {
            "automargin": true,
            "type": "pie"
           }
          ],
          "scatter": [
           {
            "fillpattern": {
             "fillmode": "overlay",
             "size": 10,
             "solidity": 0.2
            },
            "type": "scatter"
           }
          ],
          "scatter3d": [
           {
            "line": {
             "colorbar": {
              "outlinewidth": 0,
              "ticks": ""
             }
            },
            "marker": {
             "colorbar": {
              "outlinewidth": 0,
              "ticks": ""
             }
            },
            "type": "scatter3d"
           }
          ],
          "scattercarpet": [
           {
            "marker": {
             "colorbar": {
              "outlinewidth": 0,
              "ticks": ""
             }
            },
            "type": "scattercarpet"
           }
          ],
          "scattergeo": [
           {
            "marker": {
             "colorbar": {
              "outlinewidth": 0,
              "ticks": ""
             }
            },
            "type": "scattergeo"
           }
          ],
          "scattergl": [
           {
            "marker": {
             "colorbar": {
              "outlinewidth": 0,
              "ticks": ""
             }
            },
            "type": "scattergl"
           }
          ],
          "scattermap": [
           {
            "marker": {
             "colorbar": {
              "outlinewidth": 0,
              "ticks": ""
             }
            },
            "type": "scattermap"
           }
          ],
          "scattermapbox": [
           {
            "marker": {
             "colorbar": {
              "outlinewidth": 0,
              "ticks": ""
             }
            },
            "type": "scattermapbox"
           }
          ],
          "scatterpolar": [
           {
            "marker": {
             "colorbar": {
              "outlinewidth": 0,
              "ticks": ""
             }
            },
            "type": "scatterpolar"
           }
          ],
          "scatterpolargl": [
           {
            "marker": {
             "colorbar": {
              "outlinewidth": 0,
              "ticks": ""
             }
            },
            "type": "scatterpolargl"
           }
          ],
          "scatterternary": [
           {
            "marker": {
             "colorbar": {
              "outlinewidth": 0,
              "ticks": ""
             }
            },
            "type": "scatterternary"
           }
          ],
          "surface": [
           {
            "colorbar": {
             "outlinewidth": 0,
             "ticks": ""
            },
            "colorscale": [
             [
              0,
              "#0d0887"
             ],
             [
              0.1111111111111111,
              "#46039f"
             ],
             [
              0.2222222222222222,
              "#7201a8"
             ],
             [
              0.3333333333333333,
              "#9c179e"
             ],
             [
              0.4444444444444444,
              "#bd3786"
             ],
             [
              0.5555555555555556,
              "#d8576b"
             ],
             [
              0.6666666666666666,
              "#ed7953"
             ],
             [
              0.7777777777777778,
              "#fb9f3a"
             ],
             [
              0.8888888888888888,
              "#fdca26"
             ],
             [
              1,
              "#f0f921"
             ]
            ],
            "type": "surface"
           }
          ],
          "table": [
           {
            "cells": {
             "fill": {
              "color": "#EBF0F8"
             },
             "line": {
              "color": "white"
             }
            },
            "header": {
             "fill": {
              "color": "#C8D4E3"
             },
             "line": {
              "color": "white"
             }
            },
            "type": "table"
           }
          ]
         },
         "layout": {
          "annotationdefaults": {
           "arrowcolor": "#2a3f5f",
           "arrowhead": 0,
           "arrowwidth": 1
          },
          "autotypenumbers": "strict",
          "coloraxis": {
           "colorbar": {
            "outlinewidth": 0,
            "ticks": ""
           }
          },
          "colorscale": {
           "diverging": [
            [
             0,
             "#8e0152"
            ],
            [
             0.1,
             "#c51b7d"
            ],
            [
             0.2,
             "#de77ae"
            ],
            [
             0.3,
             "#f1b6da"
            ],
            [
             0.4,
             "#fde0ef"
            ],
            [
             0.5,
             "#f7f7f7"
            ],
            [
             0.6,
             "#e6f5d0"
            ],
            [
             0.7,
             "#b8e186"
            ],
            [
             0.8,
             "#7fbc41"
            ],
            [
             0.9,
             "#4d9221"
            ],
            [
             1,
             "#276419"
            ]
           ],
           "sequential": [
            [
             0,
             "#0d0887"
            ],
            [
             0.1111111111111111,
             "#46039f"
            ],
            [
             0.2222222222222222,
             "#7201a8"
            ],
            [
             0.3333333333333333,
             "#9c179e"
            ],
            [
             0.4444444444444444,
             "#bd3786"
            ],
            [
             0.5555555555555556,
             "#d8576b"
            ],
            [
             0.6666666666666666,
             "#ed7953"
            ],
            [
             0.7777777777777778,
             "#fb9f3a"
            ],
            [
             0.8888888888888888,
             "#fdca26"
            ],
            [
             1,
             "#f0f921"
            ]
           ],
           "sequentialminus": [
            [
             0,
             "#0d0887"
            ],
            [
             0.1111111111111111,
             "#46039f"
            ],
            [
             0.2222222222222222,
             "#7201a8"
            ],
            [
             0.3333333333333333,
             "#9c179e"
            ],
            [
             0.4444444444444444,
             "#bd3786"
            ],
            [
             0.5555555555555556,
             "#d8576b"
            ],
            [
             0.6666666666666666,
             "#ed7953"
            ],
            [
             0.7777777777777778,
             "#fb9f3a"
            ],
            [
             0.8888888888888888,
             "#fdca26"
            ],
            [
             1,
             "#f0f921"
            ]
           ]
          },
          "colorway": [
           "#636efa",
           "#EF553B",
           "#00cc96",
           "#ab63fa",
           "#FFA15A",
           "#19d3f3",
           "#FF6692",
           "#B6E880",
           "#FF97FF",
           "#FECB52"
          ],
          "font": {
           "color": "#2a3f5f"
          },
          "geo": {
           "bgcolor": "white",
           "lakecolor": "white",
           "landcolor": "#E5ECF6",
           "showlakes": true,
           "showland": true,
           "subunitcolor": "white"
          },
          "hoverlabel": {
           "align": "left"
          },
          "hovermode": "closest",
          "mapbox": {
           "style": "light"
          },
          "paper_bgcolor": "white",
          "plot_bgcolor": "#E5ECF6",
          "polar": {
           "angularaxis": {
            "gridcolor": "white",
            "linecolor": "white",
            "ticks": ""
           },
           "bgcolor": "#E5ECF6",
           "radialaxis": {
            "gridcolor": "white",
            "linecolor": "white",
            "ticks": ""
           }
          },
          "scene": {
           "xaxis": {
            "backgroundcolor": "#E5ECF6",
            "gridcolor": "white",
            "gridwidth": 2,
            "linecolor": "white",
            "showbackground": true,
            "ticks": "",
            "zerolinecolor": "white"
           },
           "yaxis": {
            "backgroundcolor": "#E5ECF6",
            "gridcolor": "white",
            "gridwidth": 2,
            "linecolor": "white",
            "showbackground": true,
            "ticks": "",
            "zerolinecolor": "white"
           },
           "zaxis": {
            "backgroundcolor": "#E5ECF6",
            "gridcolor": "white",
            "gridwidth": 2,
            "linecolor": "white",
            "showbackground": true,
            "ticks": "",
            "zerolinecolor": "white"
           }
          },
          "shapedefaults": {
           "line": {
            "color": "#2a3f5f"
           }
          },
          "ternary": {
           "aaxis": {
            "gridcolor": "white",
            "linecolor": "white",
            "ticks": ""
           },
           "baxis": {
            "gridcolor": "white",
            "linecolor": "white",
            "ticks": ""
           },
           "bgcolor": "#E5ECF6",
           "caxis": {
            "gridcolor": "white",
            "linecolor": "white",
            "ticks": ""
           }
          },
          "title": {
           "x": 0.05
          },
          "xaxis": {
           "automargin": true,
           "gridcolor": "white",
           "linecolor": "white",
           "ticks": "",
           "title": {
            "standoff": 15
           },
           "zerolinecolor": "white",
           "zerolinewidth": 2
          },
          "yaxis": {
           "automargin": true,
           "gridcolor": "white",
           "linecolor": "white",
           "ticks": "",
           "title": {
            "standoff": 15
           },
           "zerolinecolor": "white",
           "zerolinewidth": 2
          }
         }
        },
        "width": 1000,
        "xaxis": {
         "anchor": "y",
         "domain": [
          0,
          1
         ],
         "title": {
          "text": "Year"
         }
        },
        "yaxis": {
         "anchor": "x",
         "domain": [
          0,
          1
         ],
         "title": {
          "text": "Counts"
         }
        }
       }
      }
     },
     "metadata": {},
     "output_type": "display_data"
    }
   ],
   "source": [
    "year_counts = year_counts.sort_values(by='Year', ascending=False)\n",
    "\n",
    "fig = px.line(year_counts, x='Year', y='Counts', width=1000,height=800)\n",
    "\n",
    "fig.show()"
   ]
  }
 ],
 "metadata": {
  "kernelspec": {
   "display_name": ".venv",
   "language": "python",
   "name": "python3"
  },
  "language_info": {
   "codemirror_mode": {
    "name": "ipython",
    "version": 3
   },
   "file_extension": ".py",
   "mimetype": "text/x-python",
   "name": "python",
   "nbconvert_exporter": "python",
   "pygments_lexer": "ipython3",
   "version": "3.13.2"
  }
 },
 "nbformat": 4,
 "nbformat_minor": 2
}
