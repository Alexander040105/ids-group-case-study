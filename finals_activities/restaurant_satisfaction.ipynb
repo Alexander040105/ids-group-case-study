{
 "cells": [
  {
   "cell_type": "code",
   "execution_count": 121,
   "metadata": {},
   "outputs": [
    {
     "name": "stdout",
     "output_type": "stream",
     "text": [
      "5.10.4\n"
     ]
    }
   ],
   "source": [
    "import os\n",
    "import pandas as pd\n",
    "import plotly.express as px\n",
    "import numpy as np\n",
    "import nbformat\n",
    "print(nbformat.__version__)\n"
   ]
  },
  {
   "cell_type": "code",
   "execution_count": 122,
   "metadata": {},
   "outputs": [],
   "source": [
    "current_directory = os.getcwd()\n",
    "restaurant = pd.read_csv(f\"{current_directory}//restaurant_customer_satisfaction.csv\")\n",
    "\n",
    "restaurant_copy = restaurant.copy()"
   ]
  },
  {
   "cell_type": "code",
   "execution_count": 123,
   "metadata": {},
   "outputs": [
    {
     "data": {
      "text/html": [
       "<div>\n",
       "<style scoped>\n",
       "    .dataframe tbody tr th:only-of-type {\n",
       "        vertical-align: middle;\n",
       "    }\n",
       "\n",
       "    .dataframe tbody tr th {\n",
       "        vertical-align: top;\n",
       "    }\n",
       "\n",
       "    .dataframe thead th {\n",
       "        text-align: right;\n",
       "    }\n",
       "</style>\n",
       "<table border=\"1\" class=\"dataframe\">\n",
       "  <thead>\n",
       "    <tr style=\"text-align: right;\">\n",
       "      <th></th>\n",
       "      <th>CustomerID</th>\n",
       "      <th>Age</th>\n",
       "      <th>Gender</th>\n",
       "      <th>Income</th>\n",
       "      <th>VisitFrequency</th>\n",
       "      <th>AverageSpend</th>\n",
       "      <th>PreferredCuisine</th>\n",
       "      <th>TimeOfVisit</th>\n",
       "      <th>GroupSize</th>\n",
       "      <th>DiningOccasion</th>\n",
       "      <th>MealType</th>\n",
       "      <th>OnlineReservation</th>\n",
       "      <th>DeliveryOrder</th>\n",
       "      <th>LoyaltyProgramMember</th>\n",
       "      <th>WaitTime</th>\n",
       "      <th>ServiceRating</th>\n",
       "      <th>FoodRating</th>\n",
       "      <th>AmbianceRating</th>\n",
       "      <th>HighSatisfaction</th>\n",
       "    </tr>\n",
       "  </thead>\n",
       "  <tbody>\n",
       "    <tr>\n",
       "      <th>0</th>\n",
       "      <td>654</td>\n",
       "      <td>35</td>\n",
       "      <td>Male</td>\n",
       "      <td>83380</td>\n",
       "      <td>Weekly</td>\n",
       "      <td>27.829142</td>\n",
       "      <td>Chinese</td>\n",
       "      <td>Breakfast</td>\n",
       "      <td>3</td>\n",
       "      <td>Business</td>\n",
       "      <td>Takeaway</td>\n",
       "      <td>0</td>\n",
       "      <td>1</td>\n",
       "      <td>1</td>\n",
       "      <td>43.523929</td>\n",
       "      <td>2</td>\n",
       "      <td>5</td>\n",
       "      <td>4</td>\n",
       "      <td>0</td>\n",
       "    </tr>\n",
       "    <tr>\n",
       "      <th>1</th>\n",
       "      <td>655</td>\n",
       "      <td>19</td>\n",
       "      <td>Male</td>\n",
       "      <td>43623</td>\n",
       "      <td>Rarely</td>\n",
       "      <td>115.408622</td>\n",
       "      <td>American</td>\n",
       "      <td>Dinner</td>\n",
       "      <td>1</td>\n",
       "      <td>Casual</td>\n",
       "      <td>Dine-in</td>\n",
       "      <td>0</td>\n",
       "      <td>0</td>\n",
       "      <td>0</td>\n",
       "      <td>57.524294</td>\n",
       "      <td>5</td>\n",
       "      <td>5</td>\n",
       "      <td>3</td>\n",
       "      <td>0</td>\n",
       "    </tr>\n",
       "    <tr>\n",
       "      <th>2</th>\n",
       "      <td>656</td>\n",
       "      <td>41</td>\n",
       "      <td>Female</td>\n",
       "      <td>83737</td>\n",
       "      <td>Weekly</td>\n",
       "      <td>106.693771</td>\n",
       "      <td>American</td>\n",
       "      <td>Dinner</td>\n",
       "      <td>6</td>\n",
       "      <td>Celebration</td>\n",
       "      <td>Dine-in</td>\n",
       "      <td>0</td>\n",
       "      <td>1</td>\n",
       "      <td>0</td>\n",
       "      <td>48.682623</td>\n",
       "      <td>3</td>\n",
       "      <td>4</td>\n",
       "      <td>5</td>\n",
       "      <td>0</td>\n",
       "    </tr>\n",
       "    <tr>\n",
       "      <th>3</th>\n",
       "      <td>657</td>\n",
       "      <td>43</td>\n",
       "      <td>Male</td>\n",
       "      <td>96768</td>\n",
       "      <td>Rarely</td>\n",
       "      <td>43.508508</td>\n",
       "      <td>Indian</td>\n",
       "      <td>Lunch</td>\n",
       "      <td>1</td>\n",
       "      <td>Celebration</td>\n",
       "      <td>Dine-in</td>\n",
       "      <td>0</td>\n",
       "      <td>0</td>\n",
       "      <td>0</td>\n",
       "      <td>7.552993</td>\n",
       "      <td>4</td>\n",
       "      <td>5</td>\n",
       "      <td>1</td>\n",
       "      <td>0</td>\n",
       "    </tr>\n",
       "    <tr>\n",
       "      <th>4</th>\n",
       "      <td>658</td>\n",
       "      <td>55</td>\n",
       "      <td>Female</td>\n",
       "      <td>67937</td>\n",
       "      <td>Monthly</td>\n",
       "      <td>148.084627</td>\n",
       "      <td>Chinese</td>\n",
       "      <td>Breakfast</td>\n",
       "      <td>1</td>\n",
       "      <td>Business</td>\n",
       "      <td>Takeaway</td>\n",
       "      <td>0</td>\n",
       "      <td>0</td>\n",
       "      <td>1</td>\n",
       "      <td>37.789041</td>\n",
       "      <td>2</td>\n",
       "      <td>3</td>\n",
       "      <td>5</td>\n",
       "      <td>0</td>\n",
       "    </tr>\n",
       "    <tr>\n",
       "      <th>5</th>\n",
       "      <td>659</td>\n",
       "      <td>42</td>\n",
       "      <td>Female</td>\n",
       "      <td>28860</td>\n",
       "      <td>Monthly</td>\n",
       "      <td>111.064696</td>\n",
       "      <td>Chinese</td>\n",
       "      <td>Dinner</td>\n",
       "      <td>8</td>\n",
       "      <td>Celebration</td>\n",
       "      <td>Takeaway</td>\n",
       "      <td>0</td>\n",
       "      <td>1</td>\n",
       "      <td>1</td>\n",
       "      <td>26.853298</td>\n",
       "      <td>4</td>\n",
       "      <td>5</td>\n",
       "      <td>3</td>\n",
       "      <td>0</td>\n",
       "    </tr>\n",
       "    <tr>\n",
       "      <th>6</th>\n",
       "      <td>660</td>\n",
       "      <td>20</td>\n",
       "      <td>Female</td>\n",
       "      <td>131104</td>\n",
       "      <td>Weekly</td>\n",
       "      <td>120.236707</td>\n",
       "      <td>Indian</td>\n",
       "      <td>Lunch</td>\n",
       "      <td>6</td>\n",
       "      <td>Business</td>\n",
       "      <td>Dine-in</td>\n",
       "      <td>0</td>\n",
       "      <td>0</td>\n",
       "      <td>0</td>\n",
       "      <td>7.927917</td>\n",
       "      <td>5</td>\n",
       "      <td>4</td>\n",
       "      <td>1</td>\n",
       "      <td>0</td>\n",
       "    </tr>\n",
       "    <tr>\n",
       "      <th>7</th>\n",
       "      <td>661</td>\n",
       "      <td>51</td>\n",
       "      <td>Female</td>\n",
       "      <td>137882</td>\n",
       "      <td>Weekly</td>\n",
       "      <td>160.979098</td>\n",
       "      <td>Mexican</td>\n",
       "      <td>Dinner</td>\n",
       "      <td>6</td>\n",
       "      <td>Business</td>\n",
       "      <td>Dine-in</td>\n",
       "      <td>1</td>\n",
       "      <td>1</td>\n",
       "      <td>0</td>\n",
       "      <td>56.447210</td>\n",
       "      <td>4</td>\n",
       "      <td>3</td>\n",
       "      <td>3</td>\n",
       "      <td>0</td>\n",
       "    </tr>\n",
       "    <tr>\n",
       "      <th>8</th>\n",
       "      <td>662</td>\n",
       "      <td>27</td>\n",
       "      <td>Male</td>\n",
       "      <td>149638</td>\n",
       "      <td>Weekly</td>\n",
       "      <td>56.558632</td>\n",
       "      <td>Indian</td>\n",
       "      <td>Breakfast</td>\n",
       "      <td>5</td>\n",
       "      <td>Celebration</td>\n",
       "      <td>Takeaway</td>\n",
       "      <td>0</td>\n",
       "      <td>1</td>\n",
       "      <td>0</td>\n",
       "      <td>39.568188</td>\n",
       "      <td>2</td>\n",
       "      <td>4</td>\n",
       "      <td>5</td>\n",
       "      <td>0</td>\n",
       "    </tr>\n",
       "    <tr>\n",
       "      <th>9</th>\n",
       "      <td>663</td>\n",
       "      <td>32</td>\n",
       "      <td>Female</td>\n",
       "      <td>136145</td>\n",
       "      <td>Weekly</td>\n",
       "      <td>65.753455</td>\n",
       "      <td>Italian</td>\n",
       "      <td>Lunch</td>\n",
       "      <td>9</td>\n",
       "      <td>Casual</td>\n",
       "      <td>Takeaway</td>\n",
       "      <td>0</td>\n",
       "      <td>0</td>\n",
       "      <td>0</td>\n",
       "      <td>20.782469</td>\n",
       "      <td>4</td>\n",
       "      <td>3</td>\n",
       "      <td>1</td>\n",
       "      <td>0</td>\n",
       "    </tr>\n",
       "    <tr>\n",
       "      <th>10</th>\n",
       "      <td>664</td>\n",
       "      <td>21</td>\n",
       "      <td>Male</td>\n",
       "      <td>79249</td>\n",
       "      <td>Monthly</td>\n",
       "      <td>39.235383</td>\n",
       "      <td>American</td>\n",
       "      <td>Breakfast</td>\n",
       "      <td>5</td>\n",
       "      <td>Business</td>\n",
       "      <td>Takeaway</td>\n",
       "      <td>0</td>\n",
       "      <td>1</td>\n",
       "      <td>0</td>\n",
       "      <td>18.948572</td>\n",
       "      <td>1</td>\n",
       "      <td>3</td>\n",
       "      <td>2</td>\n",
       "      <td>0</td>\n",
       "    </tr>\n",
       "    <tr>\n",
       "      <th>11</th>\n",
       "      <td>665</td>\n",
       "      <td>59</td>\n",
       "      <td>Male</td>\n",
       "      <td>94208</td>\n",
       "      <td>Weekly</td>\n",
       "      <td>132.994918</td>\n",
       "      <td>Italian</td>\n",
       "      <td>Dinner</td>\n",
       "      <td>8</td>\n",
       "      <td>Casual</td>\n",
       "      <td>Dine-in</td>\n",
       "      <td>0</td>\n",
       "      <td>0</td>\n",
       "      <td>1</td>\n",
       "      <td>55.045475</td>\n",
       "      <td>3</td>\n",
       "      <td>3</td>\n",
       "      <td>3</td>\n",
       "      <td>0</td>\n",
       "    </tr>\n",
       "    <tr>\n",
       "      <th>12</th>\n",
       "      <td>666</td>\n",
       "      <td>32</td>\n",
       "      <td>Female</td>\n",
       "      <td>143471</td>\n",
       "      <td>Monthly</td>\n",
       "      <td>156.130808</td>\n",
       "      <td>American</td>\n",
       "      <td>Breakfast</td>\n",
       "      <td>4</td>\n",
       "      <td>Casual</td>\n",
       "      <td>Takeaway</td>\n",
       "      <td>0</td>\n",
       "      <td>1</td>\n",
       "      <td>0</td>\n",
       "      <td>4.710546</td>\n",
       "      <td>5</td>\n",
       "      <td>2</td>\n",
       "      <td>4</td>\n",
       "      <td>0</td>\n",
       "    </tr>\n",
       "    <tr>\n",
       "      <th>13</th>\n",
       "      <td>667</td>\n",
       "      <td>69</td>\n",
       "      <td>Male</td>\n",
       "      <td>38433</td>\n",
       "      <td>Daily</td>\n",
       "      <td>46.136865</td>\n",
       "      <td>Italian</td>\n",
       "      <td>Dinner</td>\n",
       "      <td>4</td>\n",
       "      <td>Business</td>\n",
       "      <td>Takeaway</td>\n",
       "      <td>0</td>\n",
       "      <td>1</td>\n",
       "      <td>1</td>\n",
       "      <td>20.243443</td>\n",
       "      <td>1</td>\n",
       "      <td>4</td>\n",
       "      <td>3</td>\n",
       "      <td>0</td>\n",
       "    </tr>\n",
       "    <tr>\n",
       "      <th>14</th>\n",
       "      <td>668</td>\n",
       "      <td>58</td>\n",
       "      <td>Male</td>\n",
       "      <td>64870</td>\n",
       "      <td>Monthly</td>\n",
       "      <td>88.939098</td>\n",
       "      <td>American</td>\n",
       "      <td>Lunch</td>\n",
       "      <td>2</td>\n",
       "      <td>Celebration</td>\n",
       "      <td>Dine-in</td>\n",
       "      <td>0</td>\n",
       "      <td>0</td>\n",
       "      <td>1</td>\n",
       "      <td>58.271648</td>\n",
       "      <td>2</td>\n",
       "      <td>4</td>\n",
       "      <td>2</td>\n",
       "      <td>0</td>\n",
       "    </tr>\n",
       "    <tr>\n",
       "      <th>15</th>\n",
       "      <td>669</td>\n",
       "      <td>54</td>\n",
       "      <td>Female</td>\n",
       "      <td>135616</td>\n",
       "      <td>Rarely</td>\n",
       "      <td>112.007541</td>\n",
       "      <td>American</td>\n",
       "      <td>Lunch</td>\n",
       "      <td>2</td>\n",
       "      <td>Business</td>\n",
       "      <td>Takeaway</td>\n",
       "      <td>1</td>\n",
       "      <td>0</td>\n",
       "      <td>0</td>\n",
       "      <td>2.328375</td>\n",
       "      <td>4</td>\n",
       "      <td>4</td>\n",
       "      <td>3</td>\n",
       "      <td>0</td>\n",
       "    </tr>\n",
       "    <tr>\n",
       "      <th>16</th>\n",
       "      <td>670</td>\n",
       "      <td>59</td>\n",
       "      <td>Female</td>\n",
       "      <td>123325</td>\n",
       "      <td>Weekly</td>\n",
       "      <td>63.939240</td>\n",
       "      <td>Chinese</td>\n",
       "      <td>Dinner</td>\n",
       "      <td>4</td>\n",
       "      <td>Casual</td>\n",
       "      <td>Takeaway</td>\n",
       "      <td>1</td>\n",
       "      <td>0</td>\n",
       "      <td>1</td>\n",
       "      <td>2.673593</td>\n",
       "      <td>3</td>\n",
       "      <td>5</td>\n",
       "      <td>5</td>\n",
       "      <td>1</td>\n",
       "    </tr>\n",
       "    <tr>\n",
       "      <th>17</th>\n",
       "      <td>671</td>\n",
       "      <td>42</td>\n",
       "      <td>Male</td>\n",
       "      <td>25569</td>\n",
       "      <td>Monthly</td>\n",
       "      <td>120.390191</td>\n",
       "      <td>American</td>\n",
       "      <td>Dinner</td>\n",
       "      <td>3</td>\n",
       "      <td>Casual</td>\n",
       "      <td>Dine-in</td>\n",
       "      <td>0</td>\n",
       "      <td>0</td>\n",
       "      <td>1</td>\n",
       "      <td>54.933784</td>\n",
       "      <td>1</td>\n",
       "      <td>3</td>\n",
       "      <td>3</td>\n",
       "      <td>0</td>\n",
       "    </tr>\n",
       "    <tr>\n",
       "      <th>18</th>\n",
       "      <td>672</td>\n",
       "      <td>26</td>\n",
       "      <td>Female</td>\n",
       "      <td>120447</td>\n",
       "      <td>Weekly</td>\n",
       "      <td>52.110324</td>\n",
       "      <td>Mexican</td>\n",
       "      <td>Dinner</td>\n",
       "      <td>1</td>\n",
       "      <td>Casual</td>\n",
       "      <td>Takeaway</td>\n",
       "      <td>1</td>\n",
       "      <td>1</td>\n",
       "      <td>1</td>\n",
       "      <td>20.726251</td>\n",
       "      <td>3</td>\n",
       "      <td>1</td>\n",
       "      <td>3</td>\n",
       "      <td>0</td>\n",
       "    </tr>\n",
       "    <tr>\n",
       "      <th>19</th>\n",
       "      <td>673</td>\n",
       "      <td>58</td>\n",
       "      <td>Male</td>\n",
       "      <td>70458</td>\n",
       "      <td>Rarely</td>\n",
       "      <td>197.370534</td>\n",
       "      <td>Italian</td>\n",
       "      <td>Dinner</td>\n",
       "      <td>4</td>\n",
       "      <td>Casual</td>\n",
       "      <td>Takeaway</td>\n",
       "      <td>1</td>\n",
       "      <td>0</td>\n",
       "      <td>1</td>\n",
       "      <td>40.374425</td>\n",
       "      <td>1</td>\n",
       "      <td>2</td>\n",
       "      <td>1</td>\n",
       "      <td>0</td>\n",
       "    </tr>\n",
       "  </tbody>\n",
       "</table>\n",
       "</div>"
      ],
      "text/plain": [
       "    CustomerID  Age  Gender  Income VisitFrequency  AverageSpend  \\\n",
       "0          654   35    Male   83380         Weekly     27.829142   \n",
       "1          655   19    Male   43623         Rarely    115.408622   \n",
       "2          656   41  Female   83737         Weekly    106.693771   \n",
       "3          657   43    Male   96768         Rarely     43.508508   \n",
       "4          658   55  Female   67937        Monthly    148.084627   \n",
       "5          659   42  Female   28860        Monthly    111.064696   \n",
       "6          660   20  Female  131104         Weekly    120.236707   \n",
       "7          661   51  Female  137882         Weekly    160.979098   \n",
       "8          662   27    Male  149638         Weekly     56.558632   \n",
       "9          663   32  Female  136145         Weekly     65.753455   \n",
       "10         664   21    Male   79249        Monthly     39.235383   \n",
       "11         665   59    Male   94208         Weekly    132.994918   \n",
       "12         666   32  Female  143471        Monthly    156.130808   \n",
       "13         667   69    Male   38433          Daily     46.136865   \n",
       "14         668   58    Male   64870        Monthly     88.939098   \n",
       "15         669   54  Female  135616         Rarely    112.007541   \n",
       "16         670   59  Female  123325         Weekly     63.939240   \n",
       "17         671   42    Male   25569        Monthly    120.390191   \n",
       "18         672   26  Female  120447         Weekly     52.110324   \n",
       "19         673   58    Male   70458         Rarely    197.370534   \n",
       "\n",
       "   PreferredCuisine TimeOfVisit  GroupSize DiningOccasion  MealType  \\\n",
       "0           Chinese   Breakfast          3       Business  Takeaway   \n",
       "1          American      Dinner          1         Casual   Dine-in   \n",
       "2          American      Dinner          6    Celebration   Dine-in   \n",
       "3            Indian       Lunch          1    Celebration   Dine-in   \n",
       "4           Chinese   Breakfast          1       Business  Takeaway   \n",
       "5           Chinese      Dinner          8    Celebration  Takeaway   \n",
       "6            Indian       Lunch          6       Business   Dine-in   \n",
       "7           Mexican      Dinner          6       Business   Dine-in   \n",
       "8            Indian   Breakfast          5    Celebration  Takeaway   \n",
       "9           Italian       Lunch          9         Casual  Takeaway   \n",
       "10         American   Breakfast          5       Business  Takeaway   \n",
       "11          Italian      Dinner          8         Casual   Dine-in   \n",
       "12         American   Breakfast          4         Casual  Takeaway   \n",
       "13          Italian      Dinner          4       Business  Takeaway   \n",
       "14         American       Lunch          2    Celebration   Dine-in   \n",
       "15         American       Lunch          2       Business  Takeaway   \n",
       "16          Chinese      Dinner          4         Casual  Takeaway   \n",
       "17         American      Dinner          3         Casual   Dine-in   \n",
       "18          Mexican      Dinner          1         Casual  Takeaway   \n",
       "19          Italian      Dinner          4         Casual  Takeaway   \n",
       "\n",
       "    OnlineReservation  DeliveryOrder  LoyaltyProgramMember   WaitTime  \\\n",
       "0                   0              1                     1  43.523929   \n",
       "1                   0              0                     0  57.524294   \n",
       "2                   0              1                     0  48.682623   \n",
       "3                   0              0                     0   7.552993   \n",
       "4                   0              0                     1  37.789041   \n",
       "5                   0              1                     1  26.853298   \n",
       "6                   0              0                     0   7.927917   \n",
       "7                   1              1                     0  56.447210   \n",
       "8                   0              1                     0  39.568188   \n",
       "9                   0              0                     0  20.782469   \n",
       "10                  0              1                     0  18.948572   \n",
       "11                  0              0                     1  55.045475   \n",
       "12                  0              1                     0   4.710546   \n",
       "13                  0              1                     1  20.243443   \n",
       "14                  0              0                     1  58.271648   \n",
       "15                  1              0                     0   2.328375   \n",
       "16                  1              0                     1   2.673593   \n",
       "17                  0              0                     1  54.933784   \n",
       "18                  1              1                     1  20.726251   \n",
       "19                  1              0                     1  40.374425   \n",
       "\n",
       "    ServiceRating  FoodRating  AmbianceRating  HighSatisfaction  \n",
       "0               2           5               4                 0  \n",
       "1               5           5               3                 0  \n",
       "2               3           4               5                 0  \n",
       "3               4           5               1                 0  \n",
       "4               2           3               5                 0  \n",
       "5               4           5               3                 0  \n",
       "6               5           4               1                 0  \n",
       "7               4           3               3                 0  \n",
       "8               2           4               5                 0  \n",
       "9               4           3               1                 0  \n",
       "10              1           3               2                 0  \n",
       "11              3           3               3                 0  \n",
       "12              5           2               4                 0  \n",
       "13              1           4               3                 0  \n",
       "14              2           4               2                 0  \n",
       "15              4           4               3                 0  \n",
       "16              3           5               5                 1  \n",
       "17              1           3               3                 0  \n",
       "18              3           1               3                 0  \n",
       "19              1           2               1                 0  "
      ]
     },
     "execution_count": 123,
     "metadata": {},
     "output_type": "execute_result"
    }
   ],
   "source": [
    "restaurant.head(20)\n"
   ]
  },
  {
   "cell_type": "code",
   "execution_count": 124,
   "metadata": {},
   "outputs": [],
   "source": [
    "restaurant_copy.dropna(inplace=True)\n"
   ]
  },
  {
   "cell_type": "code",
   "execution_count": 125,
   "metadata": {},
   "outputs": [
    {
     "data": {
      "application/vnd.plotly.v1+json": {
       "config": {
        "plotlyServerURL": "https://plot.ly"
       },
       "data": [
        {
         "domain": {
          "x": [
           0,
           1
          ],
          "y": [
           0,
           1
          ]
         },
         "hovertemplate": "Occasion=%{label}<br>Count=%{value}<extra></extra>",
         "labels": [
          "Celebration",
          "Business",
          "Casual"
         ],
         "legendgroup": "",
         "name": "",
         "showlegend": true,
         "type": "pie",
         "values": {
          "bdata": "BwL0AeEB",
          "dtype": "i2"
         }
        }
       ],
       "layout": {
        "legend": {
         "tracegroupgap": 0
        },
        "showlegend": true,
        "template": {
         "data": {
          "bar": [
           {
            "error_x": {
             "color": "#2a3f5f"
            },
            "error_y": {
             "color": "#2a3f5f"
            },
            "marker": {
             "line": {
              "color": "#E5ECF6",
              "width": 0.5
             },
             "pattern": {
              "fillmode": "overlay",
              "size": 10,
              "solidity": 0.2
             }
            },
            "type": "bar"
           }
          ],
          "barpolar": [
           {
            "marker": {
             "line": {
              "color": "#E5ECF6",
              "width": 0.5
             },
             "pattern": {
              "fillmode": "overlay",
              "size": 10,
              "solidity": 0.2
             }
            },
            "type": "barpolar"
           }
          ],
          "carpet": [
           {
            "aaxis": {
             "endlinecolor": "#2a3f5f",
             "gridcolor": "white",
             "linecolor": "white",
             "minorgridcolor": "white",
             "startlinecolor": "#2a3f5f"
            },
            "baxis": {
             "endlinecolor": "#2a3f5f",
             "gridcolor": "white",
             "linecolor": "white",
             "minorgridcolor": "white",
             "startlinecolor": "#2a3f5f"
            },
            "type": "carpet"
           }
          ],
          "choropleth": [
           {
            "colorbar": {
             "outlinewidth": 0,
             "ticks": ""
            },
            "type": "choropleth"
           }
          ],
          "contour": [
           {
            "colorbar": {
             "outlinewidth": 0,
             "ticks": ""
            },
            "colorscale": [
             [
              0,
              "#0d0887"
             ],
             [
              0.1111111111111111,
              "#46039f"
             ],
             [
              0.2222222222222222,
              "#7201a8"
             ],
             [
              0.3333333333333333,
              "#9c179e"
             ],
             [
              0.4444444444444444,
              "#bd3786"
             ],
             [
              0.5555555555555556,
              "#d8576b"
             ],
             [
              0.6666666666666666,
              "#ed7953"
             ],
             [
              0.7777777777777778,
              "#fb9f3a"
             ],
             [
              0.8888888888888888,
              "#fdca26"
             ],
             [
              1,
              "#f0f921"
             ]
            ],
            "type": "contour"
           }
          ],
          "contourcarpet": [
           {
            "colorbar": {
             "outlinewidth": 0,
             "ticks": ""
            },
            "type": "contourcarpet"
           }
          ],
          "heatmap": [
           {
            "colorbar": {
             "outlinewidth": 0,
             "ticks": ""
            },
            "colorscale": [
             [
              0,
              "#0d0887"
             ],
             [
              0.1111111111111111,
              "#46039f"
             ],
             [
              0.2222222222222222,
              "#7201a8"
             ],
             [
              0.3333333333333333,
              "#9c179e"
             ],
             [
              0.4444444444444444,
              "#bd3786"
             ],
             [
              0.5555555555555556,
              "#d8576b"
             ],
             [
              0.6666666666666666,
              "#ed7953"
             ],
             [
              0.7777777777777778,
              "#fb9f3a"
             ],
             [
              0.8888888888888888,
              "#fdca26"
             ],
             [
              1,
              "#f0f921"
             ]
            ],
            "type": "heatmap"
           }
          ],
          "histogram": [
           {
            "marker": {
             "pattern": {
              "fillmode": "overlay",
              "size": 10,
              "solidity": 0.2
             }
            },
            "type": "histogram"
           }
          ],
          "histogram2d": [
           {
            "colorbar": {
             "outlinewidth": 0,
             "ticks": ""
            },
            "colorscale": [
             [
              0,
              "#0d0887"
             ],
             [
              0.1111111111111111,
              "#46039f"
             ],
             [
              0.2222222222222222,
              "#7201a8"
             ],
             [
              0.3333333333333333,
              "#9c179e"
             ],
             [
              0.4444444444444444,
              "#bd3786"
             ],
             [
              0.5555555555555556,
              "#d8576b"
             ],
             [
              0.6666666666666666,
              "#ed7953"
             ],
             [
              0.7777777777777778,
              "#fb9f3a"
             ],
             [
              0.8888888888888888,
              "#fdca26"
             ],
             [
              1,
              "#f0f921"
             ]
            ],
            "type": "histogram2d"
           }
          ],
          "histogram2dcontour": [
           {
            "colorbar": {
             "outlinewidth": 0,
             "ticks": ""
            },
            "colorscale": [
             [
              0,
              "#0d0887"
             ],
             [
              0.1111111111111111,
              "#46039f"
             ],
             [
              0.2222222222222222,
              "#7201a8"
             ],
             [
              0.3333333333333333,
              "#9c179e"
             ],
             [
              0.4444444444444444,
              "#bd3786"
             ],
             [
              0.5555555555555556,
              "#d8576b"
             ],
             [
              0.6666666666666666,
              "#ed7953"
             ],
             [
              0.7777777777777778,
              "#fb9f3a"
             ],
             [
              0.8888888888888888,
              "#fdca26"
             ],
             [
              1,
              "#f0f921"
             ]
            ],
            "type": "histogram2dcontour"
           }
          ],
          "mesh3d": [
           {
            "colorbar": {
             "outlinewidth": 0,
             "ticks": ""
            },
            "type": "mesh3d"
           }
          ],
          "parcoords": [
           {
            "line": {
             "colorbar": {
              "outlinewidth": 0,
              "ticks": ""
             }
            },
            "type": "parcoords"
           }
          ],
          "pie": [
           {
            "automargin": true,
            "type": "pie"
           }
          ],
          "scatter": [
           {
            "fillpattern": {
             "fillmode": "overlay",
             "size": 10,
             "solidity": 0.2
            },
            "type": "scatter"
           }
          ],
          "scatter3d": [
           {
            "line": {
             "colorbar": {
              "outlinewidth": 0,
              "ticks": ""
             }
            },
            "marker": {
             "colorbar": {
              "outlinewidth": 0,
              "ticks": ""
             }
            },
            "type": "scatter3d"
           }
          ],
          "scattercarpet": [
           {
            "marker": {
             "colorbar": {
              "outlinewidth": 0,
              "ticks": ""
             }
            },
            "type": "scattercarpet"
           }
          ],
          "scattergeo": [
           {
            "marker": {
             "colorbar": {
              "outlinewidth": 0,
              "ticks": ""
             }
            },
            "type": "scattergeo"
           }
          ],
          "scattergl": [
           {
            "marker": {
             "colorbar": {
              "outlinewidth": 0,
              "ticks": ""
             }
            },
            "type": "scattergl"
           }
          ],
          "scattermap": [
           {
            "marker": {
             "colorbar": {
              "outlinewidth": 0,
              "ticks": ""
             }
            },
            "type": "scattermap"
           }
          ],
          "scattermapbox": [
           {
            "marker": {
             "colorbar": {
              "outlinewidth": 0,
              "ticks": ""
             }
            },
            "type": "scattermapbox"
           }
          ],
          "scatterpolar": [
           {
            "marker": {
             "colorbar": {
              "outlinewidth": 0,
              "ticks": ""
             }
            },
            "type": "scatterpolar"
           }
          ],
          "scatterpolargl": [
           {
            "marker": {
             "colorbar": {
              "outlinewidth": 0,
              "ticks": ""
             }
            },
            "type": "scatterpolargl"
           }
          ],
          "scatterternary": [
           {
            "marker": {
             "colorbar": {
              "outlinewidth": 0,
              "ticks": ""
             }
            },
            "type": "scatterternary"
           }
          ],
          "surface": [
           {
            "colorbar": {
             "outlinewidth": 0,
             "ticks": ""
            },
            "colorscale": [
             [
              0,
              "#0d0887"
             ],
             [
              0.1111111111111111,
              "#46039f"
             ],
             [
              0.2222222222222222,
              "#7201a8"
             ],
             [
              0.3333333333333333,
              "#9c179e"
             ],
             [
              0.4444444444444444,
              "#bd3786"
             ],
             [
              0.5555555555555556,
              "#d8576b"
             ],
             [
              0.6666666666666666,
              "#ed7953"
             ],
             [
              0.7777777777777778,
              "#fb9f3a"
             ],
             [
              0.8888888888888888,
              "#fdca26"
             ],
             [
              1,
              "#f0f921"
             ]
            ],
            "type": "surface"
           }
          ],
          "table": [
           {
            "cells": {
             "fill": {
              "color": "#EBF0F8"
             },
             "line": {
              "color": "white"
             }
            },
            "header": {
             "fill": {
              "color": "#C8D4E3"
             },
             "line": {
              "color": "white"
             }
            },
            "type": "table"
           }
          ]
         },
         "layout": {
          "annotationdefaults": {
           "arrowcolor": "#2a3f5f",
           "arrowhead": 0,
           "arrowwidth": 1
          },
          "autotypenumbers": "strict",
          "coloraxis": {
           "colorbar": {
            "outlinewidth": 0,
            "ticks": ""
           }
          },
          "colorscale": {
           "diverging": [
            [
             0,
             "#8e0152"
            ],
            [
             0.1,
             "#c51b7d"
            ],
            [
             0.2,
             "#de77ae"
            ],
            [
             0.3,
             "#f1b6da"
            ],
            [
             0.4,
             "#fde0ef"
            ],
            [
             0.5,
             "#f7f7f7"
            ],
            [
             0.6,
             "#e6f5d0"
            ],
            [
             0.7,
             "#b8e186"
            ],
            [
             0.8,
             "#7fbc41"
            ],
            [
             0.9,
             "#4d9221"
            ],
            [
             1,
             "#276419"
            ]
           ],
           "sequential": [
            [
             0,
             "#0d0887"
            ],
            [
             0.1111111111111111,
             "#46039f"
            ],
            [
             0.2222222222222222,
             "#7201a8"
            ],
            [
             0.3333333333333333,
             "#9c179e"
            ],
            [
             0.4444444444444444,
             "#bd3786"
            ],
            [
             0.5555555555555556,
             "#d8576b"
            ],
            [
             0.6666666666666666,
             "#ed7953"
            ],
            [
             0.7777777777777778,
             "#fb9f3a"
            ],
            [
             0.8888888888888888,
             "#fdca26"
            ],
            [
             1,
             "#f0f921"
            ]
           ],
           "sequentialminus": [
            [
             0,
             "#0d0887"
            ],
            [
             0.1111111111111111,
             "#46039f"
            ],
            [
             0.2222222222222222,
             "#7201a8"
            ],
            [
             0.3333333333333333,
             "#9c179e"
            ],
            [
             0.4444444444444444,
             "#bd3786"
            ],
            [
             0.5555555555555556,
             "#d8576b"
            ],
            [
             0.6666666666666666,
             "#ed7953"
            ],
            [
             0.7777777777777778,
             "#fb9f3a"
            ],
            [
             0.8888888888888888,
             "#fdca26"
            ],
            [
             1,
             "#f0f921"
            ]
           ]
          },
          "colorway": [
           "#636efa",
           "#EF553B",
           "#00cc96",
           "#ab63fa",
           "#FFA15A",
           "#19d3f3",
           "#FF6692",
           "#B6E880",
           "#FF97FF",
           "#FECB52"
          ],
          "font": {
           "color": "#2a3f5f"
          },
          "geo": {
           "bgcolor": "white",
           "lakecolor": "white",
           "landcolor": "#E5ECF6",
           "showlakes": true,
           "showland": true,
           "subunitcolor": "white"
          },
          "hoverlabel": {
           "align": "left"
          },
          "hovermode": "closest",
          "mapbox": {
           "style": "light"
          },
          "paper_bgcolor": "white",
          "plot_bgcolor": "#E5ECF6",
          "polar": {
           "angularaxis": {
            "gridcolor": "white",
            "linecolor": "white",
            "ticks": ""
           },
           "bgcolor": "#E5ECF6",
           "radialaxis": {
            "gridcolor": "white",
            "linecolor": "white",
            "ticks": ""
           }
          },
          "scene": {
           "xaxis": {
            "backgroundcolor": "#E5ECF6",
            "gridcolor": "white",
            "gridwidth": 2,
            "linecolor": "white",
            "showbackground": true,
            "ticks": "",
            "zerolinecolor": "white"
           },
           "yaxis": {
            "backgroundcolor": "#E5ECF6",
            "gridcolor": "white",
            "gridwidth": 2,
            "linecolor": "white",
            "showbackground": true,
            "ticks": "",
            "zerolinecolor": "white"
           },
           "zaxis": {
            "backgroundcolor": "#E5ECF6",
            "gridcolor": "white",
            "gridwidth": 2,
            "linecolor": "white",
            "showbackground": true,
            "ticks": "",
            "zerolinecolor": "white"
           }
          },
          "shapedefaults": {
           "line": {
            "color": "#2a3f5f"
           }
          },
          "ternary": {
           "aaxis": {
            "gridcolor": "white",
            "linecolor": "white",
            "ticks": ""
           },
           "baxis": {
            "gridcolor": "white",
            "linecolor": "white",
            "ticks": ""
           },
           "bgcolor": "#E5ECF6",
           "caxis": {
            "gridcolor": "white",
            "linecolor": "white",
            "ticks": ""
           }
          },
          "title": {
           "x": 0.05
          },
          "xaxis": {
           "automargin": true,
           "gridcolor": "white",
           "linecolor": "white",
           "ticks": "",
           "title": {
            "standoff": 15
           },
           "zerolinecolor": "white",
           "zerolinewidth": 2
          },
          "yaxis": {
           "automargin": true,
           "gridcolor": "white",
           "linecolor": "white",
           "ticks": "",
           "title": {
            "standoff": 15
           },
           "zerolinecolor": "white",
           "zerolinewidth": 2
          }
         }
        },
        "title": {
         "text": "Distribution of Occasions"
        },
        "width": 600
       }
      }
     },
     "metadata": {},
     "output_type": "display_data"
    }
   ],
   "source": [
    "restaurant_copy['DiningOccasion'].value_counts()\n",
    "\n",
    "# Create pie chart of time of visit distribution\n",
    "time_counts = restaurant_copy['DiningOccasion'].value_counts().reset_index()\n",
    "time_counts.columns = ['Occasion', 'Count']\n",
    "\n",
    "fig = px.pie(time_counts,\n",
    "            values='Count',\n",
    "            names='Occasion',\n",
    "            title='Distribution of Occasions')\n",
    "\n",
    "# Update layout\n",
    "fig.update_layout(\n",
    "    showlegend=True\n",
    ")\n",
    "fig.update_layout(width=600)\n",
    "fig.show()"
   ]
  },
  {
   "cell_type": "code",
   "execution_count": null,
   "metadata": {},
   "outputs": [],
   "source": []
  },
  {
   "cell_type": "code",
   "execution_count": 126,
   "metadata": {},
   "outputs": [
    {
     "data": {
      "application/vnd.plotly.v1+json": {
       "config": {
        "plotlyServerURL": "https://plot.ly"
       },
       "data": [
        {
         "alignmentgroup": "True",
         "hovertemplate": "Gender=Female<br>VisitFrequency=%{x}<br>Count=%{y}<extra></extra>",
         "legendgroup": "Female",
         "marker": {
          "color": "#636efa",
          "pattern": {
           "shape": ""
          }
         },
         "name": "Female",
         "offsetgroup": "Female",
         "orientation": "v",
         "showlegend": true,
         "textposition": "auto",
         "type": "bar",
         "x": [
          "Weekly",
          "Monthly",
          "Rarely",
          "Daily"
         ],
         "xaxis": "x",
         "y": {
          "bdata": "NwHWAJoAUAA=",
          "dtype": "i2"
         },
         "yaxis": "y"
        },
        {
         "alignmentgroup": "True",
         "hovertemplate": "Gender=Male<br>VisitFrequency=%{x}<br>Count=%{y}<extra></extra>",
         "legendgroup": "Male",
         "marker": {
          "color": "#EF553B",
          "pattern": {
           "shape": ""
          }
         },
         "name": "Male",
         "offsetgroup": "Male",
         "orientation": "v",
         "showlegend": true,
         "textposition": "auto",
         "type": "bar",
         "x": [
          "Weekly",
          "Monthly",
          "Rarely",
          "Daily"
         ],
         "xaxis": "x",
         "y": {
          "bdata": "JwHWAJ8ASQA=",
          "dtype": "i2"
         },
         "yaxis": "y"
        }
       ],
       "layout": {
        "barmode": "group",
        "legend": {
         "title": {
          "text": "Gender"
         },
         "tracegroupgap": 0
        },
        "template": {
         "data": {
          "bar": [
           {
            "error_x": {
             "color": "#2a3f5f"
            },
            "error_y": {
             "color": "#2a3f5f"
            },
            "marker": {
             "line": {
              "color": "#E5ECF6",
              "width": 0.5
             },
             "pattern": {
              "fillmode": "overlay",
              "size": 10,
              "solidity": 0.2
             }
            },
            "type": "bar"
           }
          ],
          "barpolar": [
           {
            "marker": {
             "line": {
              "color": "#E5ECF6",
              "width": 0.5
             },
             "pattern": {
              "fillmode": "overlay",
              "size": 10,
              "solidity": 0.2
             }
            },
            "type": "barpolar"
           }
          ],
          "carpet": [
           {
            "aaxis": {
             "endlinecolor": "#2a3f5f",
             "gridcolor": "white",
             "linecolor": "white",
             "minorgridcolor": "white",
             "startlinecolor": "#2a3f5f"
            },
            "baxis": {
             "endlinecolor": "#2a3f5f",
             "gridcolor": "white",
             "linecolor": "white",
             "minorgridcolor": "white",
             "startlinecolor": "#2a3f5f"
            },
            "type": "carpet"
           }
          ],
          "choropleth": [
           {
            "colorbar": {
             "outlinewidth": 0,
             "ticks": ""
            },
            "type": "choropleth"
           }
          ],
          "contour": [
           {
            "colorbar": {
             "outlinewidth": 0,
             "ticks": ""
            },
            "colorscale": [
             [
              0,
              "#0d0887"
             ],
             [
              0.1111111111111111,
              "#46039f"
             ],
             [
              0.2222222222222222,
              "#7201a8"
             ],
             [
              0.3333333333333333,
              "#9c179e"
             ],
             [
              0.4444444444444444,
              "#bd3786"
             ],
             [
              0.5555555555555556,
              "#d8576b"
             ],
             [
              0.6666666666666666,
              "#ed7953"
             ],
             [
              0.7777777777777778,
              "#fb9f3a"
             ],
             [
              0.8888888888888888,
              "#fdca26"
             ],
             [
              1,
              "#f0f921"
             ]
            ],
            "type": "contour"
           }
          ],
          "contourcarpet": [
           {
            "colorbar": {
             "outlinewidth": 0,
             "ticks": ""
            },
            "type": "contourcarpet"
           }
          ],
          "heatmap": [
           {
            "colorbar": {
             "outlinewidth": 0,
             "ticks": ""
            },
            "colorscale": [
             [
              0,
              "#0d0887"
             ],
             [
              0.1111111111111111,
              "#46039f"
             ],
             [
              0.2222222222222222,
              "#7201a8"
             ],
             [
              0.3333333333333333,
              "#9c179e"
             ],
             [
              0.4444444444444444,
              "#bd3786"
             ],
             [
              0.5555555555555556,
              "#d8576b"
             ],
             [
              0.6666666666666666,
              "#ed7953"
             ],
             [
              0.7777777777777778,
              "#fb9f3a"
             ],
             [
              0.8888888888888888,
              "#fdca26"
             ],
             [
              1,
              "#f0f921"
             ]
            ],
            "type": "heatmap"
           }
          ],
          "histogram": [
           {
            "marker": {
             "pattern": {
              "fillmode": "overlay",
              "size": 10,
              "solidity": 0.2
             }
            },
            "type": "histogram"
           }
          ],
          "histogram2d": [
           {
            "colorbar": {
             "outlinewidth": 0,
             "ticks": ""
            },
            "colorscale": [
             [
              0,
              "#0d0887"
             ],
             [
              0.1111111111111111,
              "#46039f"
             ],
             [
              0.2222222222222222,
              "#7201a8"
             ],
             [
              0.3333333333333333,
              "#9c179e"
             ],
             [
              0.4444444444444444,
              "#bd3786"
             ],
             [
              0.5555555555555556,
              "#d8576b"
             ],
             [
              0.6666666666666666,
              "#ed7953"
             ],
             [
              0.7777777777777778,
              "#fb9f3a"
             ],
             [
              0.8888888888888888,
              "#fdca26"
             ],
             [
              1,
              "#f0f921"
             ]
            ],
            "type": "histogram2d"
           }
          ],
          "histogram2dcontour": [
           {
            "colorbar": {
             "outlinewidth": 0,
             "ticks": ""
            },
            "colorscale": [
             [
              0,
              "#0d0887"
             ],
             [
              0.1111111111111111,
              "#46039f"
             ],
             [
              0.2222222222222222,
              "#7201a8"
             ],
             [
              0.3333333333333333,
              "#9c179e"
             ],
             [
              0.4444444444444444,
              "#bd3786"
             ],
             [
              0.5555555555555556,
              "#d8576b"
             ],
             [
              0.6666666666666666,
              "#ed7953"
             ],
             [
              0.7777777777777778,
              "#fb9f3a"
             ],
             [
              0.8888888888888888,
              "#fdca26"
             ],
             [
              1,
              "#f0f921"
             ]
            ],
            "type": "histogram2dcontour"
           }
          ],
          "mesh3d": [
           {
            "colorbar": {
             "outlinewidth": 0,
             "ticks": ""
            },
            "type": "mesh3d"
           }
          ],
          "parcoords": [
           {
            "line": {
             "colorbar": {
              "outlinewidth": 0,
              "ticks": ""
             }
            },
            "type": "parcoords"
           }
          ],
          "pie": [
           {
            "automargin": true,
            "type": "pie"
           }
          ],
          "scatter": [
           {
            "fillpattern": {
             "fillmode": "overlay",
             "size": 10,
             "solidity": 0.2
            },
            "type": "scatter"
           }
          ],
          "scatter3d": [
           {
            "line": {
             "colorbar": {
              "outlinewidth": 0,
              "ticks": ""
             }
            },
            "marker": {
             "colorbar": {
              "outlinewidth": 0,
              "ticks": ""
             }
            },
            "type": "scatter3d"
           }
          ],
          "scattercarpet": [
           {
            "marker": {
             "colorbar": {
              "outlinewidth": 0,
              "ticks": ""
             }
            },
            "type": "scattercarpet"
           }
          ],
          "scattergeo": [
           {
            "marker": {
             "colorbar": {
              "outlinewidth": 0,
              "ticks": ""
             }
            },
            "type": "scattergeo"
           }
          ],
          "scattergl": [
           {
            "marker": {
             "colorbar": {
              "outlinewidth": 0,
              "ticks": ""
             }
            },
            "type": "scattergl"
           }
          ],
          "scattermap": [
           {
            "marker": {
             "colorbar": {
              "outlinewidth": 0,
              "ticks": ""
             }
            },
            "type": "scattermap"
           }
          ],
          "scattermapbox": [
           {
            "marker": {
             "colorbar": {
              "outlinewidth": 0,
              "ticks": ""
             }
            },
            "type": "scattermapbox"
           }
          ],
          "scatterpolar": [
           {
            "marker": {
             "colorbar": {
              "outlinewidth": 0,
              "ticks": ""
             }
            },
            "type": "scatterpolar"
           }
          ],
          "scatterpolargl": [
           {
            "marker": {
             "colorbar": {
              "outlinewidth": 0,
              "ticks": ""
             }
            },
            "type": "scatterpolargl"
           }
          ],
          "scatterternary": [
           {
            "marker": {
             "colorbar": {
              "outlinewidth": 0,
              "ticks": ""
             }
            },
            "type": "scatterternary"
           }
          ],
          "surface": [
           {
            "colorbar": {
             "outlinewidth": 0,
             "ticks": ""
            },
            "colorscale": [
             [
              0,
              "#0d0887"
             ],
             [
              0.1111111111111111,
              "#46039f"
             ],
             [
              0.2222222222222222,
              "#7201a8"
             ],
             [
              0.3333333333333333,
              "#9c179e"
             ],
             [
              0.4444444444444444,
              "#bd3786"
             ],
             [
              0.5555555555555556,
              "#d8576b"
             ],
             [
              0.6666666666666666,
              "#ed7953"
             ],
             [
              0.7777777777777778,
              "#fb9f3a"
             ],
             [
              0.8888888888888888,
              "#fdca26"
             ],
             [
              1,
              "#f0f921"
             ]
            ],
            "type": "surface"
           }
          ],
          "table": [
           {
            "cells": {
             "fill": {
              "color": "#EBF0F8"
             },
             "line": {
              "color": "white"
             }
            },
            "header": {
             "fill": {
              "color": "#C8D4E3"
             },
             "line": {
              "color": "white"
             }
            },
            "type": "table"
           }
          ]
         },
         "layout": {
          "annotationdefaults": {
           "arrowcolor": "#2a3f5f",
           "arrowhead": 0,
           "arrowwidth": 1
          },
          "autotypenumbers": "strict",
          "coloraxis": {
           "colorbar": {
            "outlinewidth": 0,
            "ticks": ""
           }
          },
          "colorscale": {
           "diverging": [
            [
             0,
             "#8e0152"
            ],
            [
             0.1,
             "#c51b7d"
            ],
            [
             0.2,
             "#de77ae"
            ],
            [
             0.3,
             "#f1b6da"
            ],
            [
             0.4,
             "#fde0ef"
            ],
            [
             0.5,
             "#f7f7f7"
            ],
            [
             0.6,
             "#e6f5d0"
            ],
            [
             0.7,
             "#b8e186"
            ],
            [
             0.8,
             "#7fbc41"
            ],
            [
             0.9,
             "#4d9221"
            ],
            [
             1,
             "#276419"
            ]
           ],
           "sequential": [
            [
             0,
             "#0d0887"
            ],
            [
             0.1111111111111111,
             "#46039f"
            ],
            [
             0.2222222222222222,
             "#7201a8"
            ],
            [
             0.3333333333333333,
             "#9c179e"
            ],
            [
             0.4444444444444444,
             "#bd3786"
            ],
            [
             0.5555555555555556,
             "#d8576b"
            ],
            [
             0.6666666666666666,
             "#ed7953"
            ],
            [
             0.7777777777777778,
             "#fb9f3a"
            ],
            [
             0.8888888888888888,
             "#fdca26"
            ],
            [
             1,
             "#f0f921"
            ]
           ],
           "sequentialminus": [
            [
             0,
             "#0d0887"
            ],
            [
             0.1111111111111111,
             "#46039f"
            ],
            [
             0.2222222222222222,
             "#7201a8"
            ],
            [
             0.3333333333333333,
             "#9c179e"
            ],
            [
             0.4444444444444444,
             "#bd3786"
            ],
            [
             0.5555555555555556,
             "#d8576b"
            ],
            [
             0.6666666666666666,
             "#ed7953"
            ],
            [
             0.7777777777777778,
             "#fb9f3a"
            ],
            [
             0.8888888888888888,
             "#fdca26"
            ],
            [
             1,
             "#f0f921"
            ]
           ]
          },
          "colorway": [
           "#636efa",
           "#EF553B",
           "#00cc96",
           "#ab63fa",
           "#FFA15A",
           "#19d3f3",
           "#FF6692",
           "#B6E880",
           "#FF97FF",
           "#FECB52"
          ],
          "font": {
           "color": "#2a3f5f"
          },
          "geo": {
           "bgcolor": "white",
           "lakecolor": "white",
           "landcolor": "#E5ECF6",
           "showlakes": true,
           "showland": true,
           "subunitcolor": "white"
          },
          "hoverlabel": {
           "align": "left"
          },
          "hovermode": "closest",
          "mapbox": {
           "style": "light"
          },
          "paper_bgcolor": "white",
          "plot_bgcolor": "#E5ECF6",
          "polar": {
           "angularaxis": {
            "gridcolor": "white",
            "linecolor": "white",
            "ticks": ""
           },
           "bgcolor": "#E5ECF6",
           "radialaxis": {
            "gridcolor": "white",
            "linecolor": "white",
            "ticks": ""
           }
          },
          "scene": {
           "xaxis": {
            "backgroundcolor": "#E5ECF6",
            "gridcolor": "white",
            "gridwidth": 2,
            "linecolor": "white",
            "showbackground": true,
            "ticks": "",
            "zerolinecolor": "white"
           },
           "yaxis": {
            "backgroundcolor": "#E5ECF6",
            "gridcolor": "white",
            "gridwidth": 2,
            "linecolor": "white",
            "showbackground": true,
            "ticks": "",
            "zerolinecolor": "white"
           },
           "zaxis": {
            "backgroundcolor": "#E5ECF6",
            "gridcolor": "white",
            "gridwidth": 2,
            "linecolor": "white",
            "showbackground": true,
            "ticks": "",
            "zerolinecolor": "white"
           }
          },
          "shapedefaults": {
           "line": {
            "color": "#2a3f5f"
           }
          },
          "ternary": {
           "aaxis": {
            "gridcolor": "white",
            "linecolor": "white",
            "ticks": ""
           },
           "baxis": {
            "gridcolor": "white",
            "linecolor": "white",
            "ticks": ""
           },
           "bgcolor": "#E5ECF6",
           "caxis": {
            "gridcolor": "white",
            "linecolor": "white",
            "ticks": ""
           }
          },
          "title": {
           "x": 0.05
          },
          "xaxis": {
           "automargin": true,
           "gridcolor": "white",
           "linecolor": "white",
           "ticks": "",
           "title": {
            "standoff": 15
           },
           "zerolinecolor": "white",
           "zerolinewidth": 2
          },
          "yaxis": {
           "automargin": true,
           "gridcolor": "white",
           "linecolor": "white",
           "ticks": "",
           "title": {
            "standoff": 15
           },
           "zerolinecolor": "white",
           "zerolinewidth": 2
          }
         }
        },
        "title": {
         "text": "Visit Frequency by Gender"
        },
        "width": 600,
        "xaxis": {
         "anchor": "y",
         "domain": [
          0,
          1
         ],
         "title": {
          "text": "Visit Frequency"
         }
        },
        "yaxis": {
         "anchor": "x",
         "domain": [
          0,
          1
         ],
         "title": {
          "text": "Number of Customers"
         }
        }
       }
      }
     },
     "metadata": {},
     "output_type": "display_data"
    }
   ],
   "source": [
    "restaurant_copy[['VisitFrequency', 'Gender']].value_counts()\n",
    "\n",
    "# Create bar chart of visit frequency by gender\n",
    "visit_gender = restaurant_copy[['VisitFrequency', 'Gender']].value_counts().reset_index()\n",
    "visit_gender.columns = ['VisitFrequency', 'Gender', 'Count']\n",
    "\n",
    "fig = px.bar(visit_gender, \n",
    "            x='VisitFrequency',\n",
    "            y='Count',\n",
    "            color='Gender',\n",
    "            title='Visit Frequency by Gender',\n",
    "            barmode='group')\n",
    "\n",
    "# Update layout\n",
    "fig.update_layout(\n",
    "    xaxis_title=\"Visit Frequency\",\n",
    "    yaxis_title=\"Number of Customers\"\n",
    ")\n",
    "fig.update_layout(width=600)\n",
    "fig.show()\n",
    "\n"
   ]
  },
  {
   "cell_type": "code",
   "execution_count": 127,
   "metadata": {},
   "outputs": [
    {
     "data": {
      "application/vnd.plotly.v1+json": {
       "config": {
        "plotlyServerURL": "https://plot.ly"
       },
       "data": [
        {
         "alignmentgroup": "True",
         "hovertemplate": "TimeOfVisit=Dinner<br>VisitFrequency=%{x}<br>Count=%{y}<extra></extra>",
         "legendgroup": "Dinner",
         "marker": {
          "color": "#636efa",
          "pattern": {
           "shape": ""
          }
         },
         "name": "Dinner",
         "offsetgroup": "Dinner",
         "orientation": "v",
         "showlegend": true,
         "textposition": "auto",
         "type": "bar",
         "x": [
          "Weekly",
          "Monthly",
          "Rarely",
          "Daily"
         ],
         "xaxis": "x",
         "y": {
          "bdata": "0ACJAGIAMQA=",
          "dtype": "i2"
         },
         "yaxis": "y"
        },
        {
         "alignmentgroup": "True",
         "hovertemplate": "TimeOfVisit=Breakfast<br>VisitFrequency=%{x}<br>Count=%{y}<extra></extra>",
         "legendgroup": "Breakfast",
         "marker": {
          "color": "#EF553B",
          "pattern": {
           "shape": ""
          }
         },
         "name": "Breakfast",
         "offsetgroup": "Breakfast",
         "orientation": "v",
         "showlegend": true,
         "textposition": "auto",
         "type": "bar",
         "x": [
          "Weekly",
          "Monthly",
          "Rarely",
          "Daily"
         ],
         "xaxis": "x",
         "y": {
          "bdata": "zACSAGgANAA=",
          "dtype": "i2"
         },
         "yaxis": "y"
        },
        {
         "alignmentgroup": "True",
         "hovertemplate": "TimeOfVisit=Lunch<br>VisitFrequency=%{x}<br>Count=%{y}<extra></extra>",
         "legendgroup": "Lunch",
         "marker": {
          "color": "#00cc96",
          "pattern": {
           "shape": ""
          }
         },
         "name": "Lunch",
         "offsetgroup": "Lunch",
         "orientation": "v",
         "showlegend": true,
         "textposition": "auto",
         "type": "bar",
         "x": [
          "Weekly",
          "Monthly",
          "Rarely",
          "Daily"
         ],
         "xaxis": "x",
         "y": {
          "bdata": "wgCRAG8ANAA=",
          "dtype": "i2"
         },
         "yaxis": "y"
        }
       ],
       "layout": {
        "barmode": "group",
        "legend": {
         "title": {
          "text": "TimeOfVisit"
         },
         "tracegroupgap": 0
        },
        "template": {
         "data": {
          "bar": [
           {
            "error_x": {
             "color": "#2a3f5f"
            },
            "error_y": {
             "color": "#2a3f5f"
            },
            "marker": {
             "line": {
              "color": "#E5ECF6",
              "width": 0.5
             },
             "pattern": {
              "fillmode": "overlay",
              "size": 10,
              "solidity": 0.2
             }
            },
            "type": "bar"
           }
          ],
          "barpolar": [
           {
            "marker": {
             "line": {
              "color": "#E5ECF6",
              "width": 0.5
             },
             "pattern": {
              "fillmode": "overlay",
              "size": 10,
              "solidity": 0.2
             }
            },
            "type": "barpolar"
           }
          ],
          "carpet": [
           {
            "aaxis": {
             "endlinecolor": "#2a3f5f",
             "gridcolor": "white",
             "linecolor": "white",
             "minorgridcolor": "white",
             "startlinecolor": "#2a3f5f"
            },
            "baxis": {
             "endlinecolor": "#2a3f5f",
             "gridcolor": "white",
             "linecolor": "white",
             "minorgridcolor": "white",
             "startlinecolor": "#2a3f5f"
            },
            "type": "carpet"
           }
          ],
          "choropleth": [
           {
            "colorbar": {
             "outlinewidth": 0,
             "ticks": ""
            },
            "type": "choropleth"
           }
          ],
          "contour": [
           {
            "colorbar": {
             "outlinewidth": 0,
             "ticks": ""
            },
            "colorscale": [
             [
              0,
              "#0d0887"
             ],
             [
              0.1111111111111111,
              "#46039f"
             ],
             [
              0.2222222222222222,
              "#7201a8"
             ],
             [
              0.3333333333333333,
              "#9c179e"
             ],
             [
              0.4444444444444444,
              "#bd3786"
             ],
             [
              0.5555555555555556,
              "#d8576b"
             ],
             [
              0.6666666666666666,
              "#ed7953"
             ],
             [
              0.7777777777777778,
              "#fb9f3a"
             ],
             [
              0.8888888888888888,
              "#fdca26"
             ],
             [
              1,
              "#f0f921"
             ]
            ],
            "type": "contour"
           }
          ],
          "contourcarpet": [
           {
            "colorbar": {
             "outlinewidth": 0,
             "ticks": ""
            },
            "type": "contourcarpet"
           }
          ],
          "heatmap": [
           {
            "colorbar": {
             "outlinewidth": 0,
             "ticks": ""
            },
            "colorscale": [
             [
              0,
              "#0d0887"
             ],
             [
              0.1111111111111111,
              "#46039f"
             ],
             [
              0.2222222222222222,
              "#7201a8"
             ],
             [
              0.3333333333333333,
              "#9c179e"
             ],
             [
              0.4444444444444444,
              "#bd3786"
             ],
             [
              0.5555555555555556,
              "#d8576b"
             ],
             [
              0.6666666666666666,
              "#ed7953"
             ],
             [
              0.7777777777777778,
              "#fb9f3a"
             ],
             [
              0.8888888888888888,
              "#fdca26"
             ],
             [
              1,
              "#f0f921"
             ]
            ],
            "type": "heatmap"
           }
          ],
          "histogram": [
           {
            "marker": {
             "pattern": {
              "fillmode": "overlay",
              "size": 10,
              "solidity": 0.2
             }
            },
            "type": "histogram"
           }
          ],
          "histogram2d": [
           {
            "colorbar": {
             "outlinewidth": 0,
             "ticks": ""
            },
            "colorscale": [
             [
              0,
              "#0d0887"
             ],
             [
              0.1111111111111111,
              "#46039f"
             ],
             [
              0.2222222222222222,
              "#7201a8"
             ],
             [
              0.3333333333333333,
              "#9c179e"
             ],
             [
              0.4444444444444444,
              "#bd3786"
             ],
             [
              0.5555555555555556,
              "#d8576b"
             ],
             [
              0.6666666666666666,
              "#ed7953"
             ],
             [
              0.7777777777777778,
              "#fb9f3a"
             ],
             [
              0.8888888888888888,
              "#fdca26"
             ],
             [
              1,
              "#f0f921"
             ]
            ],
            "type": "histogram2d"
           }
          ],
          "histogram2dcontour": [
           {
            "colorbar": {
             "outlinewidth": 0,
             "ticks": ""
            },
            "colorscale": [
             [
              0,
              "#0d0887"
             ],
             [
              0.1111111111111111,
              "#46039f"
             ],
             [
              0.2222222222222222,
              "#7201a8"
             ],
             [
              0.3333333333333333,
              "#9c179e"
             ],
             [
              0.4444444444444444,
              "#bd3786"
             ],
             [
              0.5555555555555556,
              "#d8576b"
             ],
             [
              0.6666666666666666,
              "#ed7953"
             ],
             [
              0.7777777777777778,
              "#fb9f3a"
             ],
             [
              0.8888888888888888,
              "#fdca26"
             ],
             [
              1,
              "#f0f921"
             ]
            ],
            "type": "histogram2dcontour"
           }
          ],
          "mesh3d": [
           {
            "colorbar": {
             "outlinewidth": 0,
             "ticks": ""
            },
            "type": "mesh3d"
           }
          ],
          "parcoords": [
           {
            "line": {
             "colorbar": {
              "outlinewidth": 0,
              "ticks": ""
             }
            },
            "type": "parcoords"
           }
          ],
          "pie": [
           {
            "automargin": true,
            "type": "pie"
           }
          ],
          "scatter": [
           {
            "fillpattern": {
             "fillmode": "overlay",
             "size": 10,
             "solidity": 0.2
            },
            "type": "scatter"
           }
          ],
          "scatter3d": [
           {
            "line": {
             "colorbar": {
              "outlinewidth": 0,
              "ticks": ""
             }
            },
            "marker": {
             "colorbar": {
              "outlinewidth": 0,
              "ticks": ""
             }
            },
            "type": "scatter3d"
           }
          ],
          "scattercarpet": [
           {
            "marker": {
             "colorbar": {
              "outlinewidth": 0,
              "ticks": ""
             }
            },
            "type": "scattercarpet"
           }
          ],
          "scattergeo": [
           {
            "marker": {
             "colorbar": {
              "outlinewidth": 0,
              "ticks": ""
             }
            },
            "type": "scattergeo"
           }
          ],
          "scattergl": [
           {
            "marker": {
             "colorbar": {
              "outlinewidth": 0,
              "ticks": ""
             }
            },
            "type": "scattergl"
           }
          ],
          "scattermap": [
           {
            "marker": {
             "colorbar": {
              "outlinewidth": 0,
              "ticks": ""
             }
            },
            "type": "scattermap"
           }
          ],
          "scattermapbox": [
           {
            "marker": {
             "colorbar": {
              "outlinewidth": 0,
              "ticks": ""
             }
            },
            "type": "scattermapbox"
           }
          ],
          "scatterpolar": [
           {
            "marker": {
             "colorbar": {
              "outlinewidth": 0,
              "ticks": ""
             }
            },
            "type": "scatterpolar"
           }
          ],
          "scatterpolargl": [
           {
            "marker": {
             "colorbar": {
              "outlinewidth": 0,
              "ticks": ""
             }
            },
            "type": "scatterpolargl"
           }
          ],
          "scatterternary": [
           {
            "marker": {
             "colorbar": {
              "outlinewidth": 0,
              "ticks": ""
             }
            },
            "type": "scatterternary"
           }
          ],
          "surface": [
           {
            "colorbar": {
             "outlinewidth": 0,
             "ticks": ""
            },
            "colorscale": [
             [
              0,
              "#0d0887"
             ],
             [
              0.1111111111111111,
              "#46039f"
             ],
             [
              0.2222222222222222,
              "#7201a8"
             ],
             [
              0.3333333333333333,
              "#9c179e"
             ],
             [
              0.4444444444444444,
              "#bd3786"
             ],
             [
              0.5555555555555556,
              "#d8576b"
             ],
             [
              0.6666666666666666,
              "#ed7953"
             ],
             [
              0.7777777777777778,
              "#fb9f3a"
             ],
             [
              0.8888888888888888,
              "#fdca26"
             ],
             [
              1,
              "#f0f921"
             ]
            ],
            "type": "surface"
           }
          ],
          "table": [
           {
            "cells": {
             "fill": {
              "color": "#EBF0F8"
             },
             "line": {
              "color": "white"
             }
            },
            "header": {
             "fill": {
              "color": "#C8D4E3"
             },
             "line": {
              "color": "white"
             }
            },
            "type": "table"
           }
          ]
         },
         "layout": {
          "annotationdefaults": {
           "arrowcolor": "#2a3f5f",
           "arrowhead": 0,
           "arrowwidth": 1
          },
          "autotypenumbers": "strict",
          "coloraxis": {
           "colorbar": {
            "outlinewidth": 0,
            "ticks": ""
           }
          },
          "colorscale": {
           "diverging": [
            [
             0,
             "#8e0152"
            ],
            [
             0.1,
             "#c51b7d"
            ],
            [
             0.2,
             "#de77ae"
            ],
            [
             0.3,
             "#f1b6da"
            ],
            [
             0.4,
             "#fde0ef"
            ],
            [
             0.5,
             "#f7f7f7"
            ],
            [
             0.6,
             "#e6f5d0"
            ],
            [
             0.7,
             "#b8e186"
            ],
            [
             0.8,
             "#7fbc41"
            ],
            [
             0.9,
             "#4d9221"
            ],
            [
             1,
             "#276419"
            ]
           ],
           "sequential": [
            [
             0,
             "#0d0887"
            ],
            [
             0.1111111111111111,
             "#46039f"
            ],
            [
             0.2222222222222222,
             "#7201a8"
            ],
            [
             0.3333333333333333,
             "#9c179e"
            ],
            [
             0.4444444444444444,
             "#bd3786"
            ],
            [
             0.5555555555555556,
             "#d8576b"
            ],
            [
             0.6666666666666666,
             "#ed7953"
            ],
            [
             0.7777777777777778,
             "#fb9f3a"
            ],
            [
             0.8888888888888888,
             "#fdca26"
            ],
            [
             1,
             "#f0f921"
            ]
           ],
           "sequentialminus": [
            [
             0,
             "#0d0887"
            ],
            [
             0.1111111111111111,
             "#46039f"
            ],
            [
             0.2222222222222222,
             "#7201a8"
            ],
            [
             0.3333333333333333,
             "#9c179e"
            ],
            [
             0.4444444444444444,
             "#bd3786"
            ],
            [
             0.5555555555555556,
             "#d8576b"
            ],
            [
             0.6666666666666666,
             "#ed7953"
            ],
            [
             0.7777777777777778,
             "#fb9f3a"
            ],
            [
             0.8888888888888888,
             "#fdca26"
            ],
            [
             1,
             "#f0f921"
            ]
           ]
          },
          "colorway": [
           "#636efa",
           "#EF553B",
           "#00cc96",
           "#ab63fa",
           "#FFA15A",
           "#19d3f3",
           "#FF6692",
           "#B6E880",
           "#FF97FF",
           "#FECB52"
          ],
          "font": {
           "color": "#2a3f5f"
          },
          "geo": {
           "bgcolor": "white",
           "lakecolor": "white",
           "landcolor": "#E5ECF6",
           "showlakes": true,
           "showland": true,
           "subunitcolor": "white"
          },
          "hoverlabel": {
           "align": "left"
          },
          "hovermode": "closest",
          "mapbox": {
           "style": "light"
          },
          "paper_bgcolor": "white",
          "plot_bgcolor": "#E5ECF6",
          "polar": {
           "angularaxis": {
            "gridcolor": "white",
            "linecolor": "white",
            "ticks": ""
           },
           "bgcolor": "#E5ECF6",
           "radialaxis": {
            "gridcolor": "white",
            "linecolor": "white",
            "ticks": ""
           }
          },
          "scene": {
           "xaxis": {
            "backgroundcolor": "#E5ECF6",
            "gridcolor": "white",
            "gridwidth": 2,
            "linecolor": "white",
            "showbackground": true,
            "ticks": "",
            "zerolinecolor": "white"
           },
           "yaxis": {
            "backgroundcolor": "#E5ECF6",
            "gridcolor": "white",
            "gridwidth": 2,
            "linecolor": "white",
            "showbackground": true,
            "ticks": "",
            "zerolinecolor": "white"
           },
           "zaxis": {
            "backgroundcolor": "#E5ECF6",
            "gridcolor": "white",
            "gridwidth": 2,
            "linecolor": "white",
            "showbackground": true,
            "ticks": "",
            "zerolinecolor": "white"
           }
          },
          "shapedefaults": {
           "line": {
            "color": "#2a3f5f"
           }
          },
          "ternary": {
           "aaxis": {
            "gridcolor": "white",
            "linecolor": "white",
            "ticks": ""
           },
           "baxis": {
            "gridcolor": "white",
            "linecolor": "white",
            "ticks": ""
           },
           "bgcolor": "#E5ECF6",
           "caxis": {
            "gridcolor": "white",
            "linecolor": "white",
            "ticks": ""
           }
          },
          "title": {
           "x": 0.05
          },
          "xaxis": {
           "automargin": true,
           "gridcolor": "white",
           "linecolor": "white",
           "ticks": "",
           "title": {
            "standoff": 15
           },
           "zerolinecolor": "white",
           "zerolinewidth": 2
          },
          "yaxis": {
           "automargin": true,
           "gridcolor": "white",
           "linecolor": "white",
           "ticks": "",
           "title": {
            "standoff": 15
           },
           "zerolinecolor": "white",
           "zerolinewidth": 2
          }
         }
        },
        "title": {
         "text": "Visit Frequency by Time of Visit"
        },
        "width": 600,
        "xaxis": {
         "anchor": "y",
         "domain": [
          0,
          1
         ],
         "title": {
          "text": "Visit Frequency"
         }
        },
        "yaxis": {
         "anchor": "x",
         "domain": [
          0,
          1
         ],
         "title": {
          "text": "Number of Customers"
         }
        }
       }
      }
     },
     "metadata": {},
     "output_type": "display_data"
    }
   ],
   "source": [
    "restaurant_copy[['VisitFrequency', 'TimeOfVisit']].value_counts()\n",
    "\n",
    "# Create bar chart of visit frequency by time of visit\n",
    "visit_time = restaurant_copy[['VisitFrequency', 'TimeOfVisit']].value_counts().reset_index()\n",
    "visit_time.columns = ['VisitFrequency', 'TimeOfVisit', 'Count']\n",
    "\n",
    "fig = px.bar(visit_time,\n",
    "             x='VisitFrequency', \n",
    "             y='Count',\n",
    "             color='TimeOfVisit',\n",
    "             title='Visit Frequency by Time of Visit',\n",
    "             barmode='group')\n",
    "\n",
    "# Update layout\n",
    "fig.update_layout(\n",
    "    xaxis_title=\"Visit Frequency\",\n",
    "    yaxis_title=\"Number of Customers\"\n",
    ")\n",
    "fig.update_layout(width=600)\n",
    "fig.show()\n"
   ]
  },
  {
   "cell_type": "code",
   "execution_count": 128,
   "metadata": {},
   "outputs": [
    {
     "data": {
      "application/vnd.plotly.v1+json": {
       "config": {
        "plotlyServerURL": "https://plot.ly"
       },
       "data": [
        {
         "domain": {
          "x": [
           0,
           1
          ],
          "y": [
           0,
           1
          ]
         },
         "hovertemplate": "Time=%{label}<br>Count=%{value}<extra></extra>",
         "labels": [
          "Breakfast",
          "Lunch",
          "Dinner"
         ],
         "legendgroup": "",
         "name": "",
         "showlegend": true,
         "type": "pie",
         "values": {
          "bdata": "+gH2AewB",
          "dtype": "i2"
         }
        }
       ],
       "layout": {
        "legend": {
         "tracegroupgap": 0
        },
        "showlegend": true,
        "template": {
         "data": {
          "bar": [
           {
            "error_x": {
             "color": "#2a3f5f"
            },
            "error_y": {
             "color": "#2a3f5f"
            },
            "marker": {
             "line": {
              "color": "#E5ECF6",
              "width": 0.5
             },
             "pattern": {
              "fillmode": "overlay",
              "size": 10,
              "solidity": 0.2
             }
            },
            "type": "bar"
           }
          ],
          "barpolar": [
           {
            "marker": {
             "line": {
              "color": "#E5ECF6",
              "width": 0.5
             },
             "pattern": {
              "fillmode": "overlay",
              "size": 10,
              "solidity": 0.2
             }
            },
            "type": "barpolar"
           }
          ],
          "carpet": [
           {
            "aaxis": {
             "endlinecolor": "#2a3f5f",
             "gridcolor": "white",
             "linecolor": "white",
             "minorgridcolor": "white",
             "startlinecolor": "#2a3f5f"
            },
            "baxis": {
             "endlinecolor": "#2a3f5f",
             "gridcolor": "white",
             "linecolor": "white",
             "minorgridcolor": "white",
             "startlinecolor": "#2a3f5f"
            },
            "type": "carpet"
           }
          ],
          "choropleth": [
           {
            "colorbar": {
             "outlinewidth": 0,
             "ticks": ""
            },
            "type": "choropleth"
           }
          ],
          "contour": [
           {
            "colorbar": {
             "outlinewidth": 0,
             "ticks": ""
            },
            "colorscale": [
             [
              0,
              "#0d0887"
             ],
             [
              0.1111111111111111,
              "#46039f"
             ],
             [
              0.2222222222222222,
              "#7201a8"
             ],
             [
              0.3333333333333333,
              "#9c179e"
             ],
             [
              0.4444444444444444,
              "#bd3786"
             ],
             [
              0.5555555555555556,
              "#d8576b"
             ],
             [
              0.6666666666666666,
              "#ed7953"
             ],
             [
              0.7777777777777778,
              "#fb9f3a"
             ],
             [
              0.8888888888888888,
              "#fdca26"
             ],
             [
              1,
              "#f0f921"
             ]
            ],
            "type": "contour"
           }
          ],
          "contourcarpet": [
           {
            "colorbar": {
             "outlinewidth": 0,
             "ticks": ""
            },
            "type": "contourcarpet"
           }
          ],
          "heatmap": [
           {
            "colorbar": {
             "outlinewidth": 0,
             "ticks": ""
            },
            "colorscale": [
             [
              0,
              "#0d0887"
             ],
             [
              0.1111111111111111,
              "#46039f"
             ],
             [
              0.2222222222222222,
              "#7201a8"
             ],
             [
              0.3333333333333333,
              "#9c179e"
             ],
             [
              0.4444444444444444,
              "#bd3786"
             ],
             [
              0.5555555555555556,
              "#d8576b"
             ],
             [
              0.6666666666666666,
              "#ed7953"
             ],
             [
              0.7777777777777778,
              "#fb9f3a"
             ],
             [
              0.8888888888888888,
              "#fdca26"
             ],
             [
              1,
              "#f0f921"
             ]
            ],
            "type": "heatmap"
           }
          ],
          "histogram": [
           {
            "marker": {
             "pattern": {
              "fillmode": "overlay",
              "size": 10,
              "solidity": 0.2
             }
            },
            "type": "histogram"
           }
          ],
          "histogram2d": [
           {
            "colorbar": {
             "outlinewidth": 0,
             "ticks": ""
            },
            "colorscale": [
             [
              0,
              "#0d0887"
             ],
             [
              0.1111111111111111,
              "#46039f"
             ],
             [
              0.2222222222222222,
              "#7201a8"
             ],
             [
              0.3333333333333333,
              "#9c179e"
             ],
             [
              0.4444444444444444,
              "#bd3786"
             ],
             [
              0.5555555555555556,
              "#d8576b"
             ],
             [
              0.6666666666666666,
              "#ed7953"
             ],
             [
              0.7777777777777778,
              "#fb9f3a"
             ],
             [
              0.8888888888888888,
              "#fdca26"
             ],
             [
              1,
              "#f0f921"
             ]
            ],
            "type": "histogram2d"
           }
          ],
          "histogram2dcontour": [
           {
            "colorbar": {
             "outlinewidth": 0,
             "ticks": ""
            },
            "colorscale": [
             [
              0,
              "#0d0887"
             ],
             [
              0.1111111111111111,
              "#46039f"
             ],
             [
              0.2222222222222222,
              "#7201a8"
             ],
             [
              0.3333333333333333,
              "#9c179e"
             ],
             [
              0.4444444444444444,
              "#bd3786"
             ],
             [
              0.5555555555555556,
              "#d8576b"
             ],
             [
              0.6666666666666666,
              "#ed7953"
             ],
             [
              0.7777777777777778,
              "#fb9f3a"
             ],
             [
              0.8888888888888888,
              "#fdca26"
             ],
             [
              1,
              "#f0f921"
             ]
            ],
            "type": "histogram2dcontour"
           }
          ],
          "mesh3d": [
           {
            "colorbar": {
             "outlinewidth": 0,
             "ticks": ""
            },
            "type": "mesh3d"
           }
          ],
          "parcoords": [
           {
            "line": {
             "colorbar": {
              "outlinewidth": 0,
              "ticks": ""
             }
            },
            "type": "parcoords"
           }
          ],
          "pie": [
           {
            "automargin": true,
            "type": "pie"
           }
          ],
          "scatter": [
           {
            "fillpattern": {
             "fillmode": "overlay",
             "size": 10,
             "solidity": 0.2
            },
            "type": "scatter"
           }
          ],
          "scatter3d": [
           {
            "line": {
             "colorbar": {
              "outlinewidth": 0,
              "ticks": ""
             }
            },
            "marker": {
             "colorbar": {
              "outlinewidth": 0,
              "ticks": ""
             }
            },
            "type": "scatter3d"
           }
          ],
          "scattercarpet": [
           {
            "marker": {
             "colorbar": {
              "outlinewidth": 0,
              "ticks": ""
             }
            },
            "type": "scattercarpet"
           }
          ],
          "scattergeo": [
           {
            "marker": {
             "colorbar": {
              "outlinewidth": 0,
              "ticks": ""
             }
            },
            "type": "scattergeo"
           }
          ],
          "scattergl": [
           {
            "marker": {
             "colorbar": {
              "outlinewidth": 0,
              "ticks": ""
             }
            },
            "type": "scattergl"
           }
          ],
          "scattermap": [
           {
            "marker": {
             "colorbar": {
              "outlinewidth": 0,
              "ticks": ""
             }
            },
            "type": "scattermap"
           }
          ],
          "scattermapbox": [
           {
            "marker": {
             "colorbar": {
              "outlinewidth": 0,
              "ticks": ""
             }
            },
            "type": "scattermapbox"
           }
          ],
          "scatterpolar": [
           {
            "marker": {
             "colorbar": {
              "outlinewidth": 0,
              "ticks": ""
             }
            },
            "type": "scatterpolar"
           }
          ],
          "scatterpolargl": [
           {
            "marker": {
             "colorbar": {
              "outlinewidth": 0,
              "ticks": ""
             }
            },
            "type": "scatterpolargl"
           }
          ],
          "scatterternary": [
           {
            "marker": {
             "colorbar": {
              "outlinewidth": 0,
              "ticks": ""
             }
            },
            "type": "scatterternary"
           }
          ],
          "surface": [
           {
            "colorbar": {
             "outlinewidth": 0,
             "ticks": ""
            },
            "colorscale": [
             [
              0,
              "#0d0887"
             ],
             [
              0.1111111111111111,
              "#46039f"
             ],
             [
              0.2222222222222222,
              "#7201a8"
             ],
             [
              0.3333333333333333,
              "#9c179e"
             ],
             [
              0.4444444444444444,
              "#bd3786"
             ],
             [
              0.5555555555555556,
              "#d8576b"
             ],
             [
              0.6666666666666666,
              "#ed7953"
             ],
             [
              0.7777777777777778,
              "#fb9f3a"
             ],
             [
              0.8888888888888888,
              "#fdca26"
             ],
             [
              1,
              "#f0f921"
             ]
            ],
            "type": "surface"
           }
          ],
          "table": [
           {
            "cells": {
             "fill": {
              "color": "#EBF0F8"
             },
             "line": {
              "color": "white"
             }
            },
            "header": {
             "fill": {
              "color": "#C8D4E3"
             },
             "line": {
              "color": "white"
             }
            },
            "type": "table"
           }
          ]
         },
         "layout": {
          "annotationdefaults": {
           "arrowcolor": "#2a3f5f",
           "arrowhead": 0,
           "arrowwidth": 1
          },
          "autotypenumbers": "strict",
          "coloraxis": {
           "colorbar": {
            "outlinewidth": 0,
            "ticks": ""
           }
          },
          "colorscale": {
           "diverging": [
            [
             0,
             "#8e0152"
            ],
            [
             0.1,
             "#c51b7d"
            ],
            [
             0.2,
             "#de77ae"
            ],
            [
             0.3,
             "#f1b6da"
            ],
            [
             0.4,
             "#fde0ef"
            ],
            [
             0.5,
             "#f7f7f7"
            ],
            [
             0.6,
             "#e6f5d0"
            ],
            [
             0.7,
             "#b8e186"
            ],
            [
             0.8,
             "#7fbc41"
            ],
            [
             0.9,
             "#4d9221"
            ],
            [
             1,
             "#276419"
            ]
           ],
           "sequential": [
            [
             0,
             "#0d0887"
            ],
            [
             0.1111111111111111,
             "#46039f"
            ],
            [
             0.2222222222222222,
             "#7201a8"
            ],
            [
             0.3333333333333333,
             "#9c179e"
            ],
            [
             0.4444444444444444,
             "#bd3786"
            ],
            [
             0.5555555555555556,
             "#d8576b"
            ],
            [
             0.6666666666666666,
             "#ed7953"
            ],
            [
             0.7777777777777778,
             "#fb9f3a"
            ],
            [
             0.8888888888888888,
             "#fdca26"
            ],
            [
             1,
             "#f0f921"
            ]
           ],
           "sequentialminus": [
            [
             0,
             "#0d0887"
            ],
            [
             0.1111111111111111,
             "#46039f"
            ],
            [
             0.2222222222222222,
             "#7201a8"
            ],
            [
             0.3333333333333333,
             "#9c179e"
            ],
            [
             0.4444444444444444,
             "#bd3786"
            ],
            [
             0.5555555555555556,
             "#d8576b"
            ],
            [
             0.6666666666666666,
             "#ed7953"
            ],
            [
             0.7777777777777778,
             "#fb9f3a"
            ],
            [
             0.8888888888888888,
             "#fdca26"
            ],
            [
             1,
             "#f0f921"
            ]
           ]
          },
          "colorway": [
           "#636efa",
           "#EF553B",
           "#00cc96",
           "#ab63fa",
           "#FFA15A",
           "#19d3f3",
           "#FF6692",
           "#B6E880",
           "#FF97FF",
           "#FECB52"
          ],
          "font": {
           "color": "#2a3f5f"
          },
          "geo": {
           "bgcolor": "white",
           "lakecolor": "white",
           "landcolor": "#E5ECF6",
           "showlakes": true,
           "showland": true,
           "subunitcolor": "white"
          },
          "hoverlabel": {
           "align": "left"
          },
          "hovermode": "closest",
          "mapbox": {
           "style": "light"
          },
          "paper_bgcolor": "white",
          "plot_bgcolor": "#E5ECF6",
          "polar": {
           "angularaxis": {
            "gridcolor": "white",
            "linecolor": "white",
            "ticks": ""
           },
           "bgcolor": "#E5ECF6",
           "radialaxis": {
            "gridcolor": "white",
            "linecolor": "white",
            "ticks": ""
           }
          },
          "scene": {
           "xaxis": {
            "backgroundcolor": "#E5ECF6",
            "gridcolor": "white",
            "gridwidth": 2,
            "linecolor": "white",
            "showbackground": true,
            "ticks": "",
            "zerolinecolor": "white"
           },
           "yaxis": {
            "backgroundcolor": "#E5ECF6",
            "gridcolor": "white",
            "gridwidth": 2,
            "linecolor": "white",
            "showbackground": true,
            "ticks": "",
            "zerolinecolor": "white"
           },
           "zaxis": {
            "backgroundcolor": "#E5ECF6",
            "gridcolor": "white",
            "gridwidth": 2,
            "linecolor": "white",
            "showbackground": true,
            "ticks": "",
            "zerolinecolor": "white"
           }
          },
          "shapedefaults": {
           "line": {
            "color": "#2a3f5f"
           }
          },
          "ternary": {
           "aaxis": {
            "gridcolor": "white",
            "linecolor": "white",
            "ticks": ""
           },
           "baxis": {
            "gridcolor": "white",
            "linecolor": "white",
            "ticks": ""
           },
           "bgcolor": "#E5ECF6",
           "caxis": {
            "gridcolor": "white",
            "linecolor": "white",
            "ticks": ""
           }
          },
          "title": {
           "x": 0.05
          },
          "xaxis": {
           "automargin": true,
           "gridcolor": "white",
           "linecolor": "white",
           "ticks": "",
           "title": {
            "standoff": 15
           },
           "zerolinecolor": "white",
           "zerolinewidth": 2
          },
          "yaxis": {
           "automargin": true,
           "gridcolor": "white",
           "linecolor": "white",
           "ticks": "",
           "title": {
            "standoff": 15
           },
           "zerolinecolor": "white",
           "zerolinewidth": 2
          }
         }
        },
        "title": {
         "text": "Distribution of Visit Times"
        },
        "width": 600
       }
      }
     },
     "metadata": {},
     "output_type": "display_data"
    }
   ],
   "source": [
    "restaurant_copy['TimeOfVisit'].value_counts()\n",
    "\n",
    "# Create pie chart of time of visit distribution\n",
    "time_counts = restaurant_copy['TimeOfVisit'].value_counts().reset_index()\n",
    "time_counts.columns = ['Time', 'Count']\n",
    "\n",
    "fig = px.pie(time_counts,\n",
    "            values='Count',\n",
    "            names='Time',\n",
    "            title='Distribution of Visit Times')\n",
    "\n",
    "# Update layout\n",
    "fig.update_layout(\n",
    "    showlegend=True\n",
    ")\n",
    "fig.update_layout(width=600)\n",
    "fig.show()\n",
    "\n",
    "\n"
   ]
  },
  {
   "cell_type": "code",
   "execution_count": 129,
   "metadata": {},
   "outputs": [
    {
     "data": {
      "application/vnd.plotly.v1+json": {
       "config": {
        "plotlyServerURL": "https://plot.ly"
       },
       "data": [
        {
         "hovertemplate": "Gender=%{x}<br>Count=%{y}<extra></extra>",
         "legendgroup": "Female",
         "marker": {
          "color": "#636efa",
          "pattern": {
           "shape": ""
          }
         },
         "name": "Female",
         "orientation": "v",
         "showlegend": true,
         "textposition": "auto",
         "type": "bar",
         "x": [
          "Female"
         ],
         "xaxis": "x",
         "y": {
          "bdata": "9wI=",
          "dtype": "i2"
         },
         "yaxis": "y"
        },
        {
         "hovertemplate": "Gender=%{x}<br>Count=%{y}<extra></extra>",
         "legendgroup": "Male",
         "marker": {
          "color": "#EF553B",
          "pattern": {
           "shape": ""
          }
         },
         "name": "Male",
         "orientation": "v",
         "showlegend": true,
         "textposition": "auto",
         "type": "bar",
         "x": [
          "Male"
         ],
         "xaxis": "x",
         "y": {
          "bdata": "5QI=",
          "dtype": "i2"
         },
         "yaxis": "y"
        }
       ],
       "layout": {
        "barmode": "relative",
        "legend": {
         "title": {
          "text": "Gender"
         },
         "tracegroupgap": 0
        },
        "showlegend": false,
        "template": {
         "data": {
          "bar": [
           {
            "error_x": {
             "color": "#2a3f5f"
            },
            "error_y": {
             "color": "#2a3f5f"
            },
            "marker": {
             "line": {
              "color": "#E5ECF6",
              "width": 0.5
             },
             "pattern": {
              "fillmode": "overlay",
              "size": 10,
              "solidity": 0.2
             }
            },
            "type": "bar"
           }
          ],
          "barpolar": [
           {
            "marker": {
             "line": {
              "color": "#E5ECF6",
              "width": 0.5
             },
             "pattern": {
              "fillmode": "overlay",
              "size": 10,
              "solidity": 0.2
             }
            },
            "type": "barpolar"
           }
          ],
          "carpet": [
           {
            "aaxis": {
             "endlinecolor": "#2a3f5f",
             "gridcolor": "white",
             "linecolor": "white",
             "minorgridcolor": "white",
             "startlinecolor": "#2a3f5f"
            },
            "baxis": {
             "endlinecolor": "#2a3f5f",
             "gridcolor": "white",
             "linecolor": "white",
             "minorgridcolor": "white",
             "startlinecolor": "#2a3f5f"
            },
            "type": "carpet"
           }
          ],
          "choropleth": [
           {
            "colorbar": {
             "outlinewidth": 0,
             "ticks": ""
            },
            "type": "choropleth"
           }
          ],
          "contour": [
           {
            "colorbar": {
             "outlinewidth": 0,
             "ticks": ""
            },
            "colorscale": [
             [
              0,
              "#0d0887"
             ],
             [
              0.1111111111111111,
              "#46039f"
             ],
             [
              0.2222222222222222,
              "#7201a8"
             ],
             [
              0.3333333333333333,
              "#9c179e"
             ],
             [
              0.4444444444444444,
              "#bd3786"
             ],
             [
              0.5555555555555556,
              "#d8576b"
             ],
             [
              0.6666666666666666,
              "#ed7953"
             ],
             [
              0.7777777777777778,
              "#fb9f3a"
             ],
             [
              0.8888888888888888,
              "#fdca26"
             ],
             [
              1,
              "#f0f921"
             ]
            ],
            "type": "contour"
           }
          ],
          "contourcarpet": [
           {
            "colorbar": {
             "outlinewidth": 0,
             "ticks": ""
            },
            "type": "contourcarpet"
           }
          ],
          "heatmap": [
           {
            "colorbar": {
             "outlinewidth": 0,
             "ticks": ""
            },
            "colorscale": [
             [
              0,
              "#0d0887"
             ],
             [
              0.1111111111111111,
              "#46039f"
             ],
             [
              0.2222222222222222,
              "#7201a8"
             ],
             [
              0.3333333333333333,
              "#9c179e"
             ],
             [
              0.4444444444444444,
              "#bd3786"
             ],
             [
              0.5555555555555556,
              "#d8576b"
             ],
             [
              0.6666666666666666,
              "#ed7953"
             ],
             [
              0.7777777777777778,
              "#fb9f3a"
             ],
             [
              0.8888888888888888,
              "#fdca26"
             ],
             [
              1,
              "#f0f921"
             ]
            ],
            "type": "heatmap"
           }
          ],
          "histogram": [
           {
            "marker": {
             "pattern": {
              "fillmode": "overlay",
              "size": 10,
              "solidity": 0.2
             }
            },
            "type": "histogram"
           }
          ],
          "histogram2d": [
           {
            "colorbar": {
             "outlinewidth": 0,
             "ticks": ""
            },
            "colorscale": [
             [
              0,
              "#0d0887"
             ],
             [
              0.1111111111111111,
              "#46039f"
             ],
             [
              0.2222222222222222,
              "#7201a8"
             ],
             [
              0.3333333333333333,
              "#9c179e"
             ],
             [
              0.4444444444444444,
              "#bd3786"
             ],
             [
              0.5555555555555556,
              "#d8576b"
             ],
             [
              0.6666666666666666,
              "#ed7953"
             ],
             [
              0.7777777777777778,
              "#fb9f3a"
             ],
             [
              0.8888888888888888,
              "#fdca26"
             ],
             [
              1,
              "#f0f921"
             ]
            ],
            "type": "histogram2d"
           }
          ],
          "histogram2dcontour": [
           {
            "colorbar": {
             "outlinewidth": 0,
             "ticks": ""
            },
            "colorscale": [
             [
              0,
              "#0d0887"
             ],
             [
              0.1111111111111111,
              "#46039f"
             ],
             [
              0.2222222222222222,
              "#7201a8"
             ],
             [
              0.3333333333333333,
              "#9c179e"
             ],
             [
              0.4444444444444444,
              "#bd3786"
             ],
             [
              0.5555555555555556,
              "#d8576b"
             ],
             [
              0.6666666666666666,
              "#ed7953"
             ],
             [
              0.7777777777777778,
              "#fb9f3a"
             ],
             [
              0.8888888888888888,
              "#fdca26"
             ],
             [
              1,
              "#f0f921"
             ]
            ],
            "type": "histogram2dcontour"
           }
          ],
          "mesh3d": [
           {
            "colorbar": {
             "outlinewidth": 0,
             "ticks": ""
            },
            "type": "mesh3d"
           }
          ],
          "parcoords": [
           {
            "line": {
             "colorbar": {
              "outlinewidth": 0,
              "ticks": ""
             }
            },
            "type": "parcoords"
           }
          ],
          "pie": [
           {
            "automargin": true,
            "type": "pie"
           }
          ],
          "scatter": [
           {
            "fillpattern": {
             "fillmode": "overlay",
             "size": 10,
             "solidity": 0.2
            },
            "type": "scatter"
           }
          ],
          "scatter3d": [
           {
            "line": {
             "colorbar": {
              "outlinewidth": 0,
              "ticks": ""
             }
            },
            "marker": {
             "colorbar": {
              "outlinewidth": 0,
              "ticks": ""
             }
            },
            "type": "scatter3d"
           }
          ],
          "scattercarpet": [
           {
            "marker": {
             "colorbar": {
              "outlinewidth": 0,
              "ticks": ""
             }
            },
            "type": "scattercarpet"
           }
          ],
          "scattergeo": [
           {
            "marker": {
             "colorbar": {
              "outlinewidth": 0,
              "ticks": ""
             }
            },
            "type": "scattergeo"
           }
          ],
          "scattergl": [
           {
            "marker": {
             "colorbar": {
              "outlinewidth": 0,
              "ticks": ""
             }
            },
            "type": "scattergl"
           }
          ],
          "scattermap": [
           {
            "marker": {
             "colorbar": {
              "outlinewidth": 0,
              "ticks": ""
             }
            },
            "type": "scattermap"
           }
          ],
          "scattermapbox": [
           {
            "marker": {
             "colorbar": {
              "outlinewidth": 0,
              "ticks": ""
             }
            },
            "type": "scattermapbox"
           }
          ],
          "scatterpolar": [
           {
            "marker": {
             "colorbar": {
              "outlinewidth": 0,
              "ticks": ""
             }
            },
            "type": "scatterpolar"
           }
          ],
          "scatterpolargl": [
           {
            "marker": {
             "colorbar": {
              "outlinewidth": 0,
              "ticks": ""
             }
            },
            "type": "scatterpolargl"
           }
          ],
          "scatterternary": [
           {
            "marker": {
             "colorbar": {
              "outlinewidth": 0,
              "ticks": ""
             }
            },
            "type": "scatterternary"
           }
          ],
          "surface": [
           {
            "colorbar": {
             "outlinewidth": 0,
             "ticks": ""
            },
            "colorscale": [
             [
              0,
              "#0d0887"
             ],
             [
              0.1111111111111111,
              "#46039f"
             ],
             [
              0.2222222222222222,
              "#7201a8"
             ],
             [
              0.3333333333333333,
              "#9c179e"
             ],
             [
              0.4444444444444444,
              "#bd3786"
             ],
             [
              0.5555555555555556,
              "#d8576b"
             ],
             [
              0.6666666666666666,
              "#ed7953"
             ],
             [
              0.7777777777777778,
              "#fb9f3a"
             ],
             [
              0.8888888888888888,
              "#fdca26"
             ],
             [
              1,
              "#f0f921"
             ]
            ],
            "type": "surface"
           }
          ],
          "table": [
           {
            "cells": {
             "fill": {
              "color": "#EBF0F8"
             },
             "line": {
              "color": "white"
             }
            },
            "header": {
             "fill": {
              "color": "#C8D4E3"
             },
             "line": {
              "color": "white"
             }
            },
            "type": "table"
           }
          ]
         },
         "layout": {
          "annotationdefaults": {
           "arrowcolor": "#2a3f5f",
           "arrowhead": 0,
           "arrowwidth": 1
          },
          "autotypenumbers": "strict",
          "coloraxis": {
           "colorbar": {
            "outlinewidth": 0,
            "ticks": ""
           }
          },
          "colorscale": {
           "diverging": [
            [
             0,
             "#8e0152"
            ],
            [
             0.1,
             "#c51b7d"
            ],
            [
             0.2,
             "#de77ae"
            ],
            [
             0.3,
             "#f1b6da"
            ],
            [
             0.4,
             "#fde0ef"
            ],
            [
             0.5,
             "#f7f7f7"
            ],
            [
             0.6,
             "#e6f5d0"
            ],
            [
             0.7,
             "#b8e186"
            ],
            [
             0.8,
             "#7fbc41"
            ],
            [
             0.9,
             "#4d9221"
            ],
            [
             1,
             "#276419"
            ]
           ],
           "sequential": [
            [
             0,
             "#0d0887"
            ],
            [
             0.1111111111111111,
             "#46039f"
            ],
            [
             0.2222222222222222,
             "#7201a8"
            ],
            [
             0.3333333333333333,
             "#9c179e"
            ],
            [
             0.4444444444444444,
             "#bd3786"
            ],
            [
             0.5555555555555556,
             "#d8576b"
            ],
            [
             0.6666666666666666,
             "#ed7953"
            ],
            [
             0.7777777777777778,
             "#fb9f3a"
            ],
            [
             0.8888888888888888,
             "#fdca26"
            ],
            [
             1,
             "#f0f921"
            ]
           ],
           "sequentialminus": [
            [
             0,
             "#0d0887"
            ],
            [
             0.1111111111111111,
             "#46039f"
            ],
            [
             0.2222222222222222,
             "#7201a8"
            ],
            [
             0.3333333333333333,
             "#9c179e"
            ],
            [
             0.4444444444444444,
             "#bd3786"
            ],
            [
             0.5555555555555556,
             "#d8576b"
            ],
            [
             0.6666666666666666,
             "#ed7953"
            ],
            [
             0.7777777777777778,
             "#fb9f3a"
            ],
            [
             0.8888888888888888,
             "#fdca26"
            ],
            [
             1,
             "#f0f921"
            ]
           ]
          },
          "colorway": [
           "#636efa",
           "#EF553B",
           "#00cc96",
           "#ab63fa",
           "#FFA15A",
           "#19d3f3",
           "#FF6692",
           "#B6E880",
           "#FF97FF",
           "#FECB52"
          ],
          "font": {
           "color": "#2a3f5f"
          },
          "geo": {
           "bgcolor": "white",
           "lakecolor": "white",
           "landcolor": "#E5ECF6",
           "showlakes": true,
           "showland": true,
           "subunitcolor": "white"
          },
          "hoverlabel": {
           "align": "left"
          },
          "hovermode": "closest",
          "mapbox": {
           "style": "light"
          },
          "paper_bgcolor": "white",
          "plot_bgcolor": "#E5ECF6",
          "polar": {
           "angularaxis": {
            "gridcolor": "white",
            "linecolor": "white",
            "ticks": ""
           },
           "bgcolor": "#E5ECF6",
           "radialaxis": {
            "gridcolor": "white",
            "linecolor": "white",
            "ticks": ""
           }
          },
          "scene": {
           "xaxis": {
            "backgroundcolor": "#E5ECF6",
            "gridcolor": "white",
            "gridwidth": 2,
            "linecolor": "white",
            "showbackground": true,
            "ticks": "",
            "zerolinecolor": "white"
           },
           "yaxis": {
            "backgroundcolor": "#E5ECF6",
            "gridcolor": "white",
            "gridwidth": 2,
            "linecolor": "white",
            "showbackground": true,
            "ticks": "",
            "zerolinecolor": "white"
           },
           "zaxis": {
            "backgroundcolor": "#E5ECF6",
            "gridcolor": "white",
            "gridwidth": 2,
            "linecolor": "white",
            "showbackground": true,
            "ticks": "",
            "zerolinecolor": "white"
           }
          },
          "shapedefaults": {
           "line": {
            "color": "#2a3f5f"
           }
          },
          "ternary": {
           "aaxis": {
            "gridcolor": "white",
            "linecolor": "white",
            "ticks": ""
           },
           "baxis": {
            "gridcolor": "white",
            "linecolor": "white",
            "ticks": ""
           },
           "bgcolor": "#E5ECF6",
           "caxis": {
            "gridcolor": "white",
            "linecolor": "white",
            "ticks": ""
           }
          },
          "title": {
           "x": 0.05
          },
          "xaxis": {
           "automargin": true,
           "gridcolor": "white",
           "linecolor": "white",
           "ticks": "",
           "title": {
            "standoff": 15
           },
           "zerolinecolor": "white",
           "zerolinewidth": 2
          },
          "yaxis": {
           "automargin": true,
           "gridcolor": "white",
           "linecolor": "white",
           "ticks": "",
           "title": {
            "standoff": 15
           },
           "zerolinecolor": "white",
           "zerolinewidth": 2
          }
         }
        },
        "title": {
         "text": "Distribution of Customer Gender"
        },
        "width": 600,
        "xaxis": {
         "anchor": "y",
         "categoryarray": [
          "Female",
          "Male"
         ],
         "categoryorder": "array",
         "domain": [
          0,
          1
         ],
         "title": {
          "text": "Gender"
         }
        },
        "yaxis": {
         "anchor": "x",
         "domain": [
          0,
          1
         ],
         "title": {
          "text": "Number of Customers"
         }
        }
       }
      }
     },
     "metadata": {},
     "output_type": "display_data"
    }
   ],
   "source": [
    "restaurant_copy['Gender'].value_counts()\n",
    "\n",
    "# Create bar chart of gender distribution\n",
    "gender_counts = restaurant_copy['Gender'].value_counts().reset_index()\n",
    "gender_counts.columns = ['Gender', 'Count']\n",
    "\n",
    "fig = px.bar(gender_counts,\n",
    "            x='Gender',\n",
    "            y='Count',\n",
    "            title='Distribution of Customer Gender',\n",
    "            color='Gender')\n",
    "\n",
    "# Update layout\n",
    "fig.update_layout(\n",
    "    showlegend=False,\n",
    "    xaxis_title=\"Gender\",\n",
    "    yaxis_title=\"Number of Customers\"\n",
    ")\n",
    "fig.update_layout(width=600)\n",
    "fig.show()\n"
   ]
  },
  {
   "cell_type": "code",
   "execution_count": 130,
   "metadata": {},
   "outputs": [
    {
     "data": {
      "application/vnd.plotly.v1+json": {
       "config": {
        "plotlyServerURL": "https://plot.ly"
       },
       "data": [
        {
         "hovertemplate": "Cuisine=%{x}<br>Count=%{y}<extra></extra>",
         "legendgroup": "Italian",
         "marker": {
          "color": "#636efa",
          "pattern": {
           "shape": ""
          }
         },
         "name": "Italian",
         "orientation": "v",
         "showlegend": true,
         "textposition": "auto",
         "type": "bar",
         "x": [
          "Italian"
         ],
         "xaxis": "x",
         "y": {
          "bdata": "RQE=",
          "dtype": "i2"
         },
         "yaxis": "y"
        },
        {
         "hovertemplate": "Cuisine=%{x}<br>Count=%{y}<extra></extra>",
         "legendgroup": "Chinese",
         "marker": {
          "color": "#EF553B",
          "pattern": {
           "shape": ""
          }
         },
         "name": "Chinese",
         "orientation": "v",
         "showlegend": true,
         "textposition": "auto",
         "type": "bar",
         "x": [
          "Chinese"
         ],
         "xaxis": "x",
         "y": {
          "bdata": "NgE=",
          "dtype": "i2"
         },
         "yaxis": "y"
        },
        {
         "hovertemplate": "Cuisine=%{x}<br>Count=%{y}<extra></extra>",
         "legendgroup": "Mexican",
         "marker": {
          "color": "#00cc96",
          "pattern": {
           "shape": ""
          }
         },
         "name": "Mexican",
         "orientation": "v",
         "showlegend": true,
         "textposition": "auto",
         "type": "bar",
         "x": [
          "Mexican"
         ],
         "xaxis": "x",
         "y": {
          "bdata": "KwE=",
          "dtype": "i2"
         },
         "yaxis": "y"
        },
        {
         "hovertemplate": "Cuisine=%{x}<br>Count=%{y}<extra></extra>",
         "legendgroup": "Indian",
         "marker": {
          "color": "#ab63fa",
          "pattern": {
           "shape": ""
          }
         },
         "name": "Indian",
         "orientation": "v",
         "showlegend": true,
         "textposition": "auto",
         "type": "bar",
         "x": [
          "Indian"
         ],
         "xaxis": "x",
         "y": {
          "bdata": "KAE=",
          "dtype": "i2"
         },
         "yaxis": "y"
        },
        {
         "hovertemplate": "Cuisine=%{x}<br>Count=%{y}<extra></extra>",
         "legendgroup": "American",
         "marker": {
          "color": "#FFA15A",
          "pattern": {
           "shape": ""
          }
         },
         "name": "American",
         "orientation": "v",
         "showlegend": true,
         "textposition": "auto",
         "type": "bar",
         "x": [
          "American"
         ],
         "xaxis": "x",
         "y": {
          "bdata": "DgE=",
          "dtype": "i2"
         },
         "yaxis": "y"
        }
       ],
       "layout": {
        "barmode": "relative",
        "legend": {
         "title": {
          "text": "Cuisine"
         },
         "tracegroupgap": 0
        },
        "showlegend": false,
        "template": {
         "data": {
          "bar": [
           {
            "error_x": {
             "color": "#2a3f5f"
            },
            "error_y": {
             "color": "#2a3f5f"
            },
            "marker": {
             "line": {
              "color": "#E5ECF6",
              "width": 0.5
             },
             "pattern": {
              "fillmode": "overlay",
              "size": 10,
              "solidity": 0.2
             }
            },
            "type": "bar"
           }
          ],
          "barpolar": [
           {
            "marker": {
             "line": {
              "color": "#E5ECF6",
              "width": 0.5
             },
             "pattern": {
              "fillmode": "overlay",
              "size": 10,
              "solidity": 0.2
             }
            },
            "type": "barpolar"
           }
          ],
          "carpet": [
           {
            "aaxis": {
             "endlinecolor": "#2a3f5f",
             "gridcolor": "white",
             "linecolor": "white",
             "minorgridcolor": "white",
             "startlinecolor": "#2a3f5f"
            },
            "baxis": {
             "endlinecolor": "#2a3f5f",
             "gridcolor": "white",
             "linecolor": "white",
             "minorgridcolor": "white",
             "startlinecolor": "#2a3f5f"
            },
            "type": "carpet"
           }
          ],
          "choropleth": [
           {
            "colorbar": {
             "outlinewidth": 0,
             "ticks": ""
            },
            "type": "choropleth"
           }
          ],
          "contour": [
           {
            "colorbar": {
             "outlinewidth": 0,
             "ticks": ""
            },
            "colorscale": [
             [
              0,
              "#0d0887"
             ],
             [
              0.1111111111111111,
              "#46039f"
             ],
             [
              0.2222222222222222,
              "#7201a8"
             ],
             [
              0.3333333333333333,
              "#9c179e"
             ],
             [
              0.4444444444444444,
              "#bd3786"
             ],
             [
              0.5555555555555556,
              "#d8576b"
             ],
             [
              0.6666666666666666,
              "#ed7953"
             ],
             [
              0.7777777777777778,
              "#fb9f3a"
             ],
             [
              0.8888888888888888,
              "#fdca26"
             ],
             [
              1,
              "#f0f921"
             ]
            ],
            "type": "contour"
           }
          ],
          "contourcarpet": [
           {
            "colorbar": {
             "outlinewidth": 0,
             "ticks": ""
            },
            "type": "contourcarpet"
           }
          ],
          "heatmap": [
           {
            "colorbar": {
             "outlinewidth": 0,
             "ticks": ""
            },
            "colorscale": [
             [
              0,
              "#0d0887"
             ],
             [
              0.1111111111111111,
              "#46039f"
             ],
             [
              0.2222222222222222,
              "#7201a8"
             ],
             [
              0.3333333333333333,
              "#9c179e"
             ],
             [
              0.4444444444444444,
              "#bd3786"
             ],
             [
              0.5555555555555556,
              "#d8576b"
             ],
             [
              0.6666666666666666,
              "#ed7953"
             ],
             [
              0.7777777777777778,
              "#fb9f3a"
             ],
             [
              0.8888888888888888,
              "#fdca26"
             ],
             [
              1,
              "#f0f921"
             ]
            ],
            "type": "heatmap"
           }
          ],
          "histogram": [
           {
            "marker": {
             "pattern": {
              "fillmode": "overlay",
              "size": 10,
              "solidity": 0.2
             }
            },
            "type": "histogram"
           }
          ],
          "histogram2d": [
           {
            "colorbar": {
             "outlinewidth": 0,
             "ticks": ""
            },
            "colorscale": [
             [
              0,
              "#0d0887"
             ],
             [
              0.1111111111111111,
              "#46039f"
             ],
             [
              0.2222222222222222,
              "#7201a8"
             ],
             [
              0.3333333333333333,
              "#9c179e"
             ],
             [
              0.4444444444444444,
              "#bd3786"
             ],
             [
              0.5555555555555556,
              "#d8576b"
             ],
             [
              0.6666666666666666,
              "#ed7953"
             ],
             [
              0.7777777777777778,
              "#fb9f3a"
             ],
             [
              0.8888888888888888,
              "#fdca26"
             ],
             [
              1,
              "#f0f921"
             ]
            ],
            "type": "histogram2d"
           }
          ],
          "histogram2dcontour": [
           {
            "colorbar": {
             "outlinewidth": 0,
             "ticks": ""
            },
            "colorscale": [
             [
              0,
              "#0d0887"
             ],
             [
              0.1111111111111111,
              "#46039f"
             ],
             [
              0.2222222222222222,
              "#7201a8"
             ],
             [
              0.3333333333333333,
              "#9c179e"
             ],
             [
              0.4444444444444444,
              "#bd3786"
             ],
             [
              0.5555555555555556,
              "#d8576b"
             ],
             [
              0.6666666666666666,
              "#ed7953"
             ],
             [
              0.7777777777777778,
              "#fb9f3a"
             ],
             [
              0.8888888888888888,
              "#fdca26"
             ],
             [
              1,
              "#f0f921"
             ]
            ],
            "type": "histogram2dcontour"
           }
          ],
          "mesh3d": [
           {
            "colorbar": {
             "outlinewidth": 0,
             "ticks": ""
            },
            "type": "mesh3d"
           }
          ],
          "parcoords": [
           {
            "line": {
             "colorbar": {
              "outlinewidth": 0,
              "ticks": ""
             }
            },
            "type": "parcoords"
           }
          ],
          "pie": [
           {
            "automargin": true,
            "type": "pie"
           }
          ],
          "scatter": [
           {
            "fillpattern": {
             "fillmode": "overlay",
             "size": 10,
             "solidity": 0.2
            },
            "type": "scatter"
           }
          ],
          "scatter3d": [
           {
            "line": {
             "colorbar": {
              "outlinewidth": 0,
              "ticks": ""
             }
            },
            "marker": {
             "colorbar": {
              "outlinewidth": 0,
              "ticks": ""
             }
            },
            "type": "scatter3d"
           }
          ],
          "scattercarpet": [
           {
            "marker": {
             "colorbar": {
              "outlinewidth": 0,
              "ticks": ""
             }
            },
            "type": "scattercarpet"
           }
          ],
          "scattergeo": [
           {
            "marker": {
             "colorbar": {
              "outlinewidth": 0,
              "ticks": ""
             }
            },
            "type": "scattergeo"
           }
          ],
          "scattergl": [
           {
            "marker": {
             "colorbar": {
              "outlinewidth": 0,
              "ticks": ""
             }
            },
            "type": "scattergl"
           }
          ],
          "scattermap": [
           {
            "marker": {
             "colorbar": {
              "outlinewidth": 0,
              "ticks": ""
             }
            },
            "type": "scattermap"
           }
          ],
          "scattermapbox": [
           {
            "marker": {
             "colorbar": {
              "outlinewidth": 0,
              "ticks": ""
             }
            },
            "type": "scattermapbox"
           }
          ],
          "scatterpolar": [
           {
            "marker": {
             "colorbar": {
              "outlinewidth": 0,
              "ticks": ""
             }
            },
            "type": "scatterpolar"
           }
          ],
          "scatterpolargl": [
           {
            "marker": {
             "colorbar": {
              "outlinewidth": 0,
              "ticks": ""
             }
            },
            "type": "scatterpolargl"
           }
          ],
          "scatterternary": [
           {
            "marker": {
             "colorbar": {
              "outlinewidth": 0,
              "ticks": ""
             }
            },
            "type": "scatterternary"
           }
          ],
          "surface": [
           {
            "colorbar": {
             "outlinewidth": 0,
             "ticks": ""
            },
            "colorscale": [
             [
              0,
              "#0d0887"
             ],
             [
              0.1111111111111111,
              "#46039f"
             ],
             [
              0.2222222222222222,
              "#7201a8"
             ],
             [
              0.3333333333333333,
              "#9c179e"
             ],
             [
              0.4444444444444444,
              "#bd3786"
             ],
             [
              0.5555555555555556,
              "#d8576b"
             ],
             [
              0.6666666666666666,
              "#ed7953"
             ],
             [
              0.7777777777777778,
              "#fb9f3a"
             ],
             [
              0.8888888888888888,
              "#fdca26"
             ],
             [
              1,
              "#f0f921"
             ]
            ],
            "type": "surface"
           }
          ],
          "table": [
           {
            "cells": {
             "fill": {
              "color": "#EBF0F8"
             },
             "line": {
              "color": "white"
             }
            },
            "header": {
             "fill": {
              "color": "#C8D4E3"
             },
             "line": {
              "color": "white"
             }
            },
            "type": "table"
           }
          ]
         },
         "layout": {
          "annotationdefaults": {
           "arrowcolor": "#2a3f5f",
           "arrowhead": 0,
           "arrowwidth": 1
          },
          "autotypenumbers": "strict",
          "coloraxis": {
           "colorbar": {
            "outlinewidth": 0,
            "ticks": ""
           }
          },
          "colorscale": {
           "diverging": [
            [
             0,
             "#8e0152"
            ],
            [
             0.1,
             "#c51b7d"
            ],
            [
             0.2,
             "#de77ae"
            ],
            [
             0.3,
             "#f1b6da"
            ],
            [
             0.4,
             "#fde0ef"
            ],
            [
             0.5,
             "#f7f7f7"
            ],
            [
             0.6,
             "#e6f5d0"
            ],
            [
             0.7,
             "#b8e186"
            ],
            [
             0.8,
             "#7fbc41"
            ],
            [
             0.9,
             "#4d9221"
            ],
            [
             1,
             "#276419"
            ]
           ],
           "sequential": [
            [
             0,
             "#0d0887"
            ],
            [
             0.1111111111111111,
             "#46039f"
            ],
            [
             0.2222222222222222,
             "#7201a8"
            ],
            [
             0.3333333333333333,
             "#9c179e"
            ],
            [
             0.4444444444444444,
             "#bd3786"
            ],
            [
             0.5555555555555556,
             "#d8576b"
            ],
            [
             0.6666666666666666,
             "#ed7953"
            ],
            [
             0.7777777777777778,
             "#fb9f3a"
            ],
            [
             0.8888888888888888,
             "#fdca26"
            ],
            [
             1,
             "#f0f921"
            ]
           ],
           "sequentialminus": [
            [
             0,
             "#0d0887"
            ],
            [
             0.1111111111111111,
             "#46039f"
            ],
            [
             0.2222222222222222,
             "#7201a8"
            ],
            [
             0.3333333333333333,
             "#9c179e"
            ],
            [
             0.4444444444444444,
             "#bd3786"
            ],
            [
             0.5555555555555556,
             "#d8576b"
            ],
            [
             0.6666666666666666,
             "#ed7953"
            ],
            [
             0.7777777777777778,
             "#fb9f3a"
            ],
            [
             0.8888888888888888,
             "#fdca26"
            ],
            [
             1,
             "#f0f921"
            ]
           ]
          },
          "colorway": [
           "#636efa",
           "#EF553B",
           "#00cc96",
           "#ab63fa",
           "#FFA15A",
           "#19d3f3",
           "#FF6692",
           "#B6E880",
           "#FF97FF",
           "#FECB52"
          ],
          "font": {
           "color": "#2a3f5f"
          },
          "geo": {
           "bgcolor": "white",
           "lakecolor": "white",
           "landcolor": "#E5ECF6",
           "showlakes": true,
           "showland": true,
           "subunitcolor": "white"
          },
          "hoverlabel": {
           "align": "left"
          },
          "hovermode": "closest",
          "mapbox": {
           "style": "light"
          },
          "paper_bgcolor": "white",
          "plot_bgcolor": "#E5ECF6",
          "polar": {
           "angularaxis": {
            "gridcolor": "white",
            "linecolor": "white",
            "ticks": ""
           },
           "bgcolor": "#E5ECF6",
           "radialaxis": {
            "gridcolor": "white",
            "linecolor": "white",
            "ticks": ""
           }
          },
          "scene": {
           "xaxis": {
            "backgroundcolor": "#E5ECF6",
            "gridcolor": "white",
            "gridwidth": 2,
            "linecolor": "white",
            "showbackground": true,
            "ticks": "",
            "zerolinecolor": "white"
           },
           "yaxis": {
            "backgroundcolor": "#E5ECF6",
            "gridcolor": "white",
            "gridwidth": 2,
            "linecolor": "white",
            "showbackground": true,
            "ticks": "",
            "zerolinecolor": "white"
           },
           "zaxis": {
            "backgroundcolor": "#E5ECF6",
            "gridcolor": "white",
            "gridwidth": 2,
            "linecolor": "white",
            "showbackground": true,
            "ticks": "",
            "zerolinecolor": "white"
           }
          },
          "shapedefaults": {
           "line": {
            "color": "#2a3f5f"
           }
          },
          "ternary": {
           "aaxis": {
            "gridcolor": "white",
            "linecolor": "white",
            "ticks": ""
           },
           "baxis": {
            "gridcolor": "white",
            "linecolor": "white",
            "ticks": ""
           },
           "bgcolor": "#E5ECF6",
           "caxis": {
            "gridcolor": "white",
            "linecolor": "white",
            "ticks": ""
           }
          },
          "title": {
           "x": 0.05
          },
          "xaxis": {
           "automargin": true,
           "gridcolor": "white",
           "linecolor": "white",
           "ticks": "",
           "title": {
            "standoff": 15
           },
           "zerolinecolor": "white",
           "zerolinewidth": 2
          },
          "yaxis": {
           "automargin": true,
           "gridcolor": "white",
           "linecolor": "white",
           "ticks": "",
           "title": {
            "standoff": 15
           },
           "zerolinecolor": "white",
           "zerolinewidth": 2
          }
         }
        },
        "title": {
         "text": "Distribution of Preferred Cuisines"
        },
        "width": 600,
        "xaxis": {
         "anchor": "y",
         "categoryarray": [
          "Italian",
          "Chinese",
          "Mexican",
          "Indian",
          "American"
         ],
         "categoryorder": "array",
         "domain": [
          0,
          1
         ],
         "title": {
          "text": "Cuisine Type"
         }
        },
        "yaxis": {
         "anchor": "x",
         "domain": [
          0,
          1
         ],
         "title": {
          "text": "Number of Customers"
         }
        }
       }
      }
     },
     "metadata": {},
     "output_type": "display_data"
    }
   ],
   "source": [
    "restaurant_copy['PreferredCuisine'].value_counts()\n",
    "\n",
    "\n",
    "\n",
    "# Create bar chart of preferred cuisines\n",
    "cuisine_counts = restaurant_copy['PreferredCuisine'].value_counts().reset_index()\n",
    "cuisine_counts.columns = ['Cuisine', 'Count']\n",
    "\n",
    "fig = px.bar(cuisine_counts,\n",
    "            x='Cuisine',\n",
    "            y='Count', \n",
    "            title='Distribution of Preferred Cuisines',\n",
    "            color='Cuisine')\n",
    "\n",
    "# Update layout\n",
    "fig.update_layout(\n",
    "    showlegend=False,\n",
    "    xaxis_title=\"Cuisine Type\",\n",
    "    yaxis_title=\"Number of Customers\"\n",
    ")\n",
    "\n",
    "fig.update_layout(width=600)\n",
    "fig.show()\n",
    "\n"
   ]
  },
  {
   "cell_type": "code",
   "execution_count": 131,
   "metadata": {},
   "outputs": [
    {
     "data": {
      "application/vnd.plotly.v1+json": {
       "config": {
        "plotlyServerURL": "https://plot.ly"
       },
       "data": [
        {
         "hovertemplate": "Rating Type=%{x}<br>Average Rating (1-5)=%{y}<extra></extra>",
         "legendgroup": "ServiceRating",
         "marker": {
          "color": "#636efa",
          "pattern": {
           "shape": ""
          }
         },
         "name": "ServiceRating",
         "orientation": "v",
         "showlegend": true,
         "textposition": "auto",
         "type": "bar",
         "x": [
          "ServiceRating"
         ],
         "xaxis": "x",
         "y": {
          "bdata": "JzEIrBxaCEA=",
          "dtype": "f8"
         },
         "yaxis": "y"
        },
        {
         "hovertemplate": "Rating Type=%{x}<br>Average Rating (1-5)=%{y}<extra></extra>",
         "legendgroup": "FoodRating",
         "marker": {
          "color": "#EF553B",
          "pattern": {
           "shape": ""
          }
         },
         "name": "FoodRating",
         "orientation": "v",
         "showlegend": true,
         "textposition": "auto",
         "type": "bar",
         "x": [
          "FoodRating"
         ],
         "xaxis": "x",
         "y": {
          "bdata": "xwQP5on6B0A=",
          "dtype": "f8"
         },
         "yaxis": "y"
        },
        {
         "hovertemplate": "Rating Type=%{x}<br>Average Rating (1-5)=%{y}<extra></extra>",
         "legendgroup": "AmbianceRating",
         "marker": {
          "color": "#00cc96",
          "pattern": {
           "shape": ""
          }
         },
         "name": "AmbianceRating",
         "orientation": "v",
         "showlegend": true,
         "textposition": "auto",
         "type": "bar",
         "x": [
          "AmbianceRating"
         ],
         "xaxis": "x",
         "y": {
          "bdata": "s1bHBA/mB0A=",
          "dtype": "f8"
         },
         "yaxis": "y"
        }
       ],
       "layout": {
        "barmode": "relative",
        "height": 500,
        "legend": {
         "title": {
          "text": "Rating Type"
         },
         "tracegroupgap": 0
        },
        "showlegend": false,
        "template": {
         "data": {
          "bar": [
           {
            "error_x": {
             "color": "#2a3f5f"
            },
            "error_y": {
             "color": "#2a3f5f"
            },
            "marker": {
             "line": {
              "color": "#E5ECF6",
              "width": 0.5
             },
             "pattern": {
              "fillmode": "overlay",
              "size": 10,
              "solidity": 0.2
             }
            },
            "type": "bar"
           }
          ],
          "barpolar": [
           {
            "marker": {
             "line": {
              "color": "#E5ECF6",
              "width": 0.5
             },
             "pattern": {
              "fillmode": "overlay",
              "size": 10,
              "solidity": 0.2
             }
            },
            "type": "barpolar"
           }
          ],
          "carpet": [
           {
            "aaxis": {
             "endlinecolor": "#2a3f5f",
             "gridcolor": "white",
             "linecolor": "white",
             "minorgridcolor": "white",
             "startlinecolor": "#2a3f5f"
            },
            "baxis": {
             "endlinecolor": "#2a3f5f",
             "gridcolor": "white",
             "linecolor": "white",
             "minorgridcolor": "white",
             "startlinecolor": "#2a3f5f"
            },
            "type": "carpet"
           }
          ],
          "choropleth": [
           {
            "colorbar": {
             "outlinewidth": 0,
             "ticks": ""
            },
            "type": "choropleth"
           }
          ],
          "contour": [
           {
            "colorbar": {
             "outlinewidth": 0,
             "ticks": ""
            },
            "colorscale": [
             [
              0,
              "#0d0887"
             ],
             [
              0.1111111111111111,
              "#46039f"
             ],
             [
              0.2222222222222222,
              "#7201a8"
             ],
             [
              0.3333333333333333,
              "#9c179e"
             ],
             [
              0.4444444444444444,
              "#bd3786"
             ],
             [
              0.5555555555555556,
              "#d8576b"
             ],
             [
              0.6666666666666666,
              "#ed7953"
             ],
             [
              0.7777777777777778,
              "#fb9f3a"
             ],
             [
              0.8888888888888888,
              "#fdca26"
             ],
             [
              1,
              "#f0f921"
             ]
            ],
            "type": "contour"
           }
          ],
          "contourcarpet": [
           {
            "colorbar": {
             "outlinewidth": 0,
             "ticks": ""
            },
            "type": "contourcarpet"
           }
          ],
          "heatmap": [
           {
            "colorbar": {
             "outlinewidth": 0,
             "ticks": ""
            },
            "colorscale": [
             [
              0,
              "#0d0887"
             ],
             [
              0.1111111111111111,
              "#46039f"
             ],
             [
              0.2222222222222222,
              "#7201a8"
             ],
             [
              0.3333333333333333,
              "#9c179e"
             ],
             [
              0.4444444444444444,
              "#bd3786"
             ],
             [
              0.5555555555555556,
              "#d8576b"
             ],
             [
              0.6666666666666666,
              "#ed7953"
             ],
             [
              0.7777777777777778,
              "#fb9f3a"
             ],
             [
              0.8888888888888888,
              "#fdca26"
             ],
             [
              1,
              "#f0f921"
             ]
            ],
            "type": "heatmap"
           }
          ],
          "histogram": [
           {
            "marker": {
             "pattern": {
              "fillmode": "overlay",
              "size": 10,
              "solidity": 0.2
             }
            },
            "type": "histogram"
           }
          ],
          "histogram2d": [
           {
            "colorbar": {
             "outlinewidth": 0,
             "ticks": ""
            },
            "colorscale": [
             [
              0,
              "#0d0887"
             ],
             [
              0.1111111111111111,
              "#46039f"
             ],
             [
              0.2222222222222222,
              "#7201a8"
             ],
             [
              0.3333333333333333,
              "#9c179e"
             ],
             [
              0.4444444444444444,
              "#bd3786"
             ],
             [
              0.5555555555555556,
              "#d8576b"
             ],
             [
              0.6666666666666666,
              "#ed7953"
             ],
             [
              0.7777777777777778,
              "#fb9f3a"
             ],
             [
              0.8888888888888888,
              "#fdca26"
             ],
             [
              1,
              "#f0f921"
             ]
            ],
            "type": "histogram2d"
           }
          ],
          "histogram2dcontour": [
           {
            "colorbar": {
             "outlinewidth": 0,
             "ticks": ""
            },
            "colorscale": [
             [
              0,
              "#0d0887"
             ],
             [
              0.1111111111111111,
              "#46039f"
             ],
             [
              0.2222222222222222,
              "#7201a8"
             ],
             [
              0.3333333333333333,
              "#9c179e"
             ],
             [
              0.4444444444444444,
              "#bd3786"
             ],
             [
              0.5555555555555556,
              "#d8576b"
             ],
             [
              0.6666666666666666,
              "#ed7953"
             ],
             [
              0.7777777777777778,
              "#fb9f3a"
             ],
             [
              0.8888888888888888,
              "#fdca26"
             ],
             [
              1,
              "#f0f921"
             ]
            ],
            "type": "histogram2dcontour"
           }
          ],
          "mesh3d": [
           {
            "colorbar": {
             "outlinewidth": 0,
             "ticks": ""
            },
            "type": "mesh3d"
           }
          ],
          "parcoords": [
           {
            "line": {
             "colorbar": {
              "outlinewidth": 0,
              "ticks": ""
             }
            },
            "type": "parcoords"
           }
          ],
          "pie": [
           {
            "automargin": true,
            "type": "pie"
           }
          ],
          "scatter": [
           {
            "fillpattern": {
             "fillmode": "overlay",
             "size": 10,
             "solidity": 0.2
            },
            "type": "scatter"
           }
          ],
          "scatter3d": [
           {
            "line": {
             "colorbar": {
              "outlinewidth": 0,
              "ticks": ""
             }
            },
            "marker": {
             "colorbar": {
              "outlinewidth": 0,
              "ticks": ""
             }
            },
            "type": "scatter3d"
           }
          ],
          "scattercarpet": [
           {
            "marker": {
             "colorbar": {
              "outlinewidth": 0,
              "ticks": ""
             }
            },
            "type": "scattercarpet"
           }
          ],
          "scattergeo": [
           {
            "marker": {
             "colorbar": {
              "outlinewidth": 0,
              "ticks": ""
             }
            },
            "type": "scattergeo"
           }
          ],
          "scattergl": [
           {
            "marker": {
             "colorbar": {
              "outlinewidth": 0,
              "ticks": ""
             }
            },
            "type": "scattergl"
           }
          ],
          "scattermap": [
           {
            "marker": {
             "colorbar": {
              "outlinewidth": 0,
              "ticks": ""
             }
            },
            "type": "scattermap"
           }
          ],
          "scattermapbox": [
           {
            "marker": {
             "colorbar": {
              "outlinewidth": 0,
              "ticks": ""
             }
            },
            "type": "scattermapbox"
           }
          ],
          "scatterpolar": [
           {
            "marker": {
             "colorbar": {
              "outlinewidth": 0,
              "ticks": ""
             }
            },
            "type": "scatterpolar"
           }
          ],
          "scatterpolargl": [
           {
            "marker": {
             "colorbar": {
              "outlinewidth": 0,
              "ticks": ""
             }
            },
            "type": "scatterpolargl"
           }
          ],
          "scatterternary": [
           {
            "marker": {
             "colorbar": {
              "outlinewidth": 0,
              "ticks": ""
             }
            },
            "type": "scatterternary"
           }
          ],
          "surface": [
           {
            "colorbar": {
             "outlinewidth": 0,
             "ticks": ""
            },
            "colorscale": [
             [
              0,
              "#0d0887"
             ],
             [
              0.1111111111111111,
              "#46039f"
             ],
             [
              0.2222222222222222,
              "#7201a8"
             ],
             [
              0.3333333333333333,
              "#9c179e"
             ],
             [
              0.4444444444444444,
              "#bd3786"
             ],
             [
              0.5555555555555556,
              "#d8576b"
             ],
             [
              0.6666666666666666,
              "#ed7953"
             ],
             [
              0.7777777777777778,
              "#fb9f3a"
             ],
             [
              0.8888888888888888,
              "#fdca26"
             ],
             [
              1,
              "#f0f921"
             ]
            ],
            "type": "surface"
           }
          ],
          "table": [
           {
            "cells": {
             "fill": {
              "color": "#EBF0F8"
             },
             "line": {
              "color": "white"
             }
            },
            "header": {
             "fill": {
              "color": "#C8D4E3"
             },
             "line": {
              "color": "white"
             }
            },
            "type": "table"
           }
          ]
         },
         "layout": {
          "annotationdefaults": {
           "arrowcolor": "#2a3f5f",
           "arrowhead": 0,
           "arrowwidth": 1
          },
          "autotypenumbers": "strict",
          "coloraxis": {
           "colorbar": {
            "outlinewidth": 0,
            "ticks": ""
           }
          },
          "colorscale": {
           "diverging": [
            [
             0,
             "#8e0152"
            ],
            [
             0.1,
             "#c51b7d"
            ],
            [
             0.2,
             "#de77ae"
            ],
            [
             0.3,
             "#f1b6da"
            ],
            [
             0.4,
             "#fde0ef"
            ],
            [
             0.5,
             "#f7f7f7"
            ],
            [
             0.6,
             "#e6f5d0"
            ],
            [
             0.7,
             "#b8e186"
            ],
            [
             0.8,
             "#7fbc41"
            ],
            [
             0.9,
             "#4d9221"
            ],
            [
             1,
             "#276419"
            ]
           ],
           "sequential": [
            [
             0,
             "#0d0887"
            ],
            [
             0.1111111111111111,
             "#46039f"
            ],
            [
             0.2222222222222222,
             "#7201a8"
            ],
            [
             0.3333333333333333,
             "#9c179e"
            ],
            [
             0.4444444444444444,
             "#bd3786"
            ],
            [
             0.5555555555555556,
             "#d8576b"
            ],
            [
             0.6666666666666666,
             "#ed7953"
            ],
            [
             0.7777777777777778,
             "#fb9f3a"
            ],
            [
             0.8888888888888888,
             "#fdca26"
            ],
            [
             1,
             "#f0f921"
            ]
           ],
           "sequentialminus": [
            [
             0,
             "#0d0887"
            ],
            [
             0.1111111111111111,
             "#46039f"
            ],
            [
             0.2222222222222222,
             "#7201a8"
            ],
            [
             0.3333333333333333,
             "#9c179e"
            ],
            [
             0.4444444444444444,
             "#bd3786"
            ],
            [
             0.5555555555555556,
             "#d8576b"
            ],
            [
             0.6666666666666666,
             "#ed7953"
            ],
            [
             0.7777777777777778,
             "#fb9f3a"
            ],
            [
             0.8888888888888888,
             "#fdca26"
            ],
            [
             1,
             "#f0f921"
            ]
           ]
          },
          "colorway": [
           "#636efa",
           "#EF553B",
           "#00cc96",
           "#ab63fa",
           "#FFA15A",
           "#19d3f3",
           "#FF6692",
           "#B6E880",
           "#FF97FF",
           "#FECB52"
          ],
          "font": {
           "color": "#2a3f5f"
          },
          "geo": {
           "bgcolor": "white",
           "lakecolor": "white",
           "landcolor": "#E5ECF6",
           "showlakes": true,
           "showland": true,
           "subunitcolor": "white"
          },
          "hoverlabel": {
           "align": "left"
          },
          "hovermode": "closest",
          "mapbox": {
           "style": "light"
          },
          "paper_bgcolor": "white",
          "plot_bgcolor": "#E5ECF6",
          "polar": {
           "angularaxis": {
            "gridcolor": "white",
            "linecolor": "white",
            "ticks": ""
           },
           "bgcolor": "#E5ECF6",
           "radialaxis": {
            "gridcolor": "white",
            "linecolor": "white",
            "ticks": ""
           }
          },
          "scene": {
           "xaxis": {
            "backgroundcolor": "#E5ECF6",
            "gridcolor": "white",
            "gridwidth": 2,
            "linecolor": "white",
            "showbackground": true,
            "ticks": "",
            "zerolinecolor": "white"
           },
           "yaxis": {
            "backgroundcolor": "#E5ECF6",
            "gridcolor": "white",
            "gridwidth": 2,
            "linecolor": "white",
            "showbackground": true,
            "ticks": "",
            "zerolinecolor": "white"
           },
           "zaxis": {
            "backgroundcolor": "#E5ECF6",
            "gridcolor": "white",
            "gridwidth": 2,
            "linecolor": "white",
            "showbackground": true,
            "ticks": "",
            "zerolinecolor": "white"
           }
          },
          "shapedefaults": {
           "line": {
            "color": "#2a3f5f"
           }
          },
          "ternary": {
           "aaxis": {
            "gridcolor": "white",
            "linecolor": "white",
            "ticks": ""
           },
           "baxis": {
            "gridcolor": "white",
            "linecolor": "white",
            "ticks": ""
           },
           "bgcolor": "#E5ECF6",
           "caxis": {
            "gridcolor": "white",
            "linecolor": "white",
            "ticks": ""
           }
          },
          "title": {
           "x": 0.05
          },
          "xaxis": {
           "automargin": true,
           "gridcolor": "white",
           "linecolor": "white",
           "ticks": "",
           "title": {
            "standoff": 15
           },
           "zerolinecolor": "white",
           "zerolinewidth": 2
          },
          "yaxis": {
           "automargin": true,
           "gridcolor": "white",
           "linecolor": "white",
           "ticks": "",
           "title": {
            "standoff": 15
           },
           "zerolinecolor": "white",
           "zerolinewidth": 2
          }
         }
        },
        "title": {
         "text": "Average Ratings by Category"
        },
        "width": 700,
        "xaxis": {
         "anchor": "y",
         "categoryarray": [
          "ServiceRating",
          "FoodRating",
          "AmbianceRating"
         ],
         "categoryorder": "array",
         "domain": [
          0,
          1
         ],
         "title": {
          "text": "Rating Category"
         }
        },
        "yaxis": {
         "anchor": "x",
         "domain": [
          0,
          1
         ],
         "range": [
          0,
          5
         ],
         "title": {
          "text": "Average Rating (1-5)"
         }
        }
       }
      }
     },
     "metadata": {},
     "output_type": "display_data"
    }
   ],
   "source": [
    "restaurant_copy[['ServiceRating', 'FoodRating', 'AmbianceRating']].mean()\n",
    "\n",
    "\n",
    "# Create a dataframe with the averages\n",
    "avg_ratings = restaurant_copy[['ServiceRating', 'FoodRating', 'AmbianceRating']].mean().reset_index()\n",
    "avg_ratings.columns = ['Rating Type', 'Average Score']\n",
    "\n",
    "# Create bar chart\n",
    "fig = px.bar(avg_ratings, \n",
    "            x='Rating Type', \n",
    "            y='Average Score',\n",
    "            title='Average Ratings by Category',\n",
    "            labels={'Average Score': 'Average Rating (1-5)'},\n",
    "            color='Rating Type')\n",
    "\n",
    "# Update layout\n",
    "fig.update_layout(\n",
    "    showlegend=False,\n",
    "    xaxis_title=\"Rating Category\",\n",
    "    yaxis_range=[0,5]\n",
    ")\n",
    "\n",
    "\n",
    "fig.update_layout(height=500, width=700)\n",
    "fig.show()\n"
   ]
  },
  {
   "cell_type": "code",
   "execution_count": 132,
   "metadata": {},
   "outputs": [
    {
     "data": {
      "text/plain": [
       "np.float64(3.0095555555555555)"
      ]
     },
     "execution_count": 132,
     "metadata": {},
     "output_type": "execute_result"
    }
   ],
   "source": [
    "restaurant_copy['OverallRating'] = restaurant_copy[['ServiceRating', 'FoodRating', 'AmbianceRating']].mean(axis=1)\n",
    "restaurant_copy['OverallRating'].mean()"
   ]
  },
  {
   "cell_type": "code",
   "execution_count": 133,
   "metadata": {},
   "outputs": [
    {
     "data": {
      "application/vnd.plotly.v1+json": {
       "config": {
        "plotlyServerURL": "https://plot.ly"
       },
       "data": [
        {
         "hovertemplate": "Time of Visit=%{x}<br>Total Spend ($)=%{text}<extra></extra>",
         "legendgroup": "Breakfast",
         "marker": {
          "color": "#636efa",
          "pattern": {
           "shape": ""
          }
         },
         "name": "Breakfast",
         "orientation": "v",
         "showlegend": true,
         "text": {
          "bdata": "mrcYBb996UA=",
          "dtype": "f8"
         },
         "textposition": "outside",
         "texttemplate": "%{text:.2f}",
         "type": "bar",
         "x": [
          "Breakfast"
         ],
         "xaxis": "x",
         "y": {
          "bdata": "mrcYBb996UA=",
          "dtype": "f8"
         },
         "yaxis": "y"
        },
        {
         "hovertemplate": "Time of Visit=%{x}<br>Total Spend ($)=%{text}<extra></extra>",
         "legendgroup": "Lunch",
         "marker": {
          "color": "#EF553B",
          "pattern": {
           "shape": ""
          }
         },
         "name": "Lunch",
         "orientation": "v",
         "showlegend": true,
         "text": {
          "bdata": "8ijg3TaJ6kA=",
          "dtype": "f8"
         },
         "textposition": "outside",
         "texttemplate": "%{text:.2f}",
         "type": "bar",
         "x": [
          "Lunch"
         ],
         "xaxis": "x",
         "y": {
          "bdata": "8ijg3TaJ6kA=",
          "dtype": "f8"
         },
         "yaxis": "y"
        },
        {
         "hovertemplate": "Time of Visit=%{x}<br>Total Spend ($)=%{text}<extra></extra>",
         "legendgroup": "Dinner",
         "marker": {
          "color": "#00cc96",
          "pattern": {
           "shape": ""
          }
         },
         "name": "Dinner",
         "orientation": "v",
         "showlegend": true,
         "text": {
          "bdata": "ABkxSRpc6UA=",
          "dtype": "f8"
         },
         "textposition": "outside",
         "texttemplate": "%{text:.2f}",
         "type": "bar",
         "x": [
          "Dinner"
         ],
         "xaxis": "x",
         "y": {
          "bdata": "ABkxSRpc6UA=",
          "dtype": "f8"
         },
         "yaxis": "y"
        }
       ],
       "layout": {
        "barmode": "relative",
        "height": 500,
        "legend": {
         "title": {
          "text": "Time of Visit"
         },
         "tracegroupgap": 0
        },
        "template": {
         "data": {
          "bar": [
           {
            "error_x": {
             "color": "#2a3f5f"
            },
            "error_y": {
             "color": "#2a3f5f"
            },
            "marker": {
             "line": {
              "color": "#E5ECF6",
              "width": 0.5
             },
             "pattern": {
              "fillmode": "overlay",
              "size": 10,
              "solidity": 0.2
             }
            },
            "type": "bar"
           }
          ],
          "barpolar": [
           {
            "marker": {
             "line": {
              "color": "#E5ECF6",
              "width": 0.5
             },
             "pattern": {
              "fillmode": "overlay",
              "size": 10,
              "solidity": 0.2
             }
            },
            "type": "barpolar"
           }
          ],
          "carpet": [
           {
            "aaxis": {
             "endlinecolor": "#2a3f5f",
             "gridcolor": "white",
             "linecolor": "white",
             "minorgridcolor": "white",
             "startlinecolor": "#2a3f5f"
            },
            "baxis": {
             "endlinecolor": "#2a3f5f",
             "gridcolor": "white",
             "linecolor": "white",
             "minorgridcolor": "white",
             "startlinecolor": "#2a3f5f"
            },
            "type": "carpet"
           }
          ],
          "choropleth": [
           {
            "colorbar": {
             "outlinewidth": 0,
             "ticks": ""
            },
            "type": "choropleth"
           }
          ],
          "contour": [
           {
            "colorbar": {
             "outlinewidth": 0,
             "ticks": ""
            },
            "colorscale": [
             [
              0,
              "#0d0887"
             ],
             [
              0.1111111111111111,
              "#46039f"
             ],
             [
              0.2222222222222222,
              "#7201a8"
             ],
             [
              0.3333333333333333,
              "#9c179e"
             ],
             [
              0.4444444444444444,
              "#bd3786"
             ],
             [
              0.5555555555555556,
              "#d8576b"
             ],
             [
              0.6666666666666666,
              "#ed7953"
             ],
             [
              0.7777777777777778,
              "#fb9f3a"
             ],
             [
              0.8888888888888888,
              "#fdca26"
             ],
             [
              1,
              "#f0f921"
             ]
            ],
            "type": "contour"
           }
          ],
          "contourcarpet": [
           {
            "colorbar": {
             "outlinewidth": 0,
             "ticks": ""
            },
            "type": "contourcarpet"
           }
          ],
          "heatmap": [
           {
            "colorbar": {
             "outlinewidth": 0,
             "ticks": ""
            },
            "colorscale": [
             [
              0,
              "#0d0887"
             ],
             [
              0.1111111111111111,
              "#46039f"
             ],
             [
              0.2222222222222222,
              "#7201a8"
             ],
             [
              0.3333333333333333,
              "#9c179e"
             ],
             [
              0.4444444444444444,
              "#bd3786"
             ],
             [
              0.5555555555555556,
              "#d8576b"
             ],
             [
              0.6666666666666666,
              "#ed7953"
             ],
             [
              0.7777777777777778,
              "#fb9f3a"
             ],
             [
              0.8888888888888888,
              "#fdca26"
             ],
             [
              1,
              "#f0f921"
             ]
            ],
            "type": "heatmap"
           }
          ],
          "histogram": [
           {
            "marker": {
             "pattern": {
              "fillmode": "overlay",
              "size": 10,
              "solidity": 0.2
             }
            },
            "type": "histogram"
           }
          ],
          "histogram2d": [
           {
            "colorbar": {
             "outlinewidth": 0,
             "ticks": ""
            },
            "colorscale": [
             [
              0,
              "#0d0887"
             ],
             [
              0.1111111111111111,
              "#46039f"
             ],
             [
              0.2222222222222222,
              "#7201a8"
             ],
             [
              0.3333333333333333,
              "#9c179e"
             ],
             [
              0.4444444444444444,
              "#bd3786"
             ],
             [
              0.5555555555555556,
              "#d8576b"
             ],
             [
              0.6666666666666666,
              "#ed7953"
             ],
             [
              0.7777777777777778,
              "#fb9f3a"
             ],
             [
              0.8888888888888888,
              "#fdca26"
             ],
             [
              1,
              "#f0f921"
             ]
            ],
            "type": "histogram2d"
           }
          ],
          "histogram2dcontour": [
           {
            "colorbar": {
             "outlinewidth": 0,
             "ticks": ""
            },
            "colorscale": [
             [
              0,
              "#0d0887"
             ],
             [
              0.1111111111111111,
              "#46039f"
             ],
             [
              0.2222222222222222,
              "#7201a8"
             ],
             [
              0.3333333333333333,
              "#9c179e"
             ],
             [
              0.4444444444444444,
              "#bd3786"
             ],
             [
              0.5555555555555556,
              "#d8576b"
             ],
             [
              0.6666666666666666,
              "#ed7953"
             ],
             [
              0.7777777777777778,
              "#fb9f3a"
             ],
             [
              0.8888888888888888,
              "#fdca26"
             ],
             [
              1,
              "#f0f921"
             ]
            ],
            "type": "histogram2dcontour"
           }
          ],
          "mesh3d": [
           {
            "colorbar": {
             "outlinewidth": 0,
             "ticks": ""
            },
            "type": "mesh3d"
           }
          ],
          "parcoords": [
           {
            "line": {
             "colorbar": {
              "outlinewidth": 0,
              "ticks": ""
             }
            },
            "type": "parcoords"
           }
          ],
          "pie": [
           {
            "automargin": true,
            "type": "pie"
           }
          ],
          "scatter": [
           {
            "fillpattern": {
             "fillmode": "overlay",
             "size": 10,
             "solidity": 0.2
            },
            "type": "scatter"
           }
          ],
          "scatter3d": [
           {
            "line": {
             "colorbar": {
              "outlinewidth": 0,
              "ticks": ""
             }
            },
            "marker": {
             "colorbar": {
              "outlinewidth": 0,
              "ticks": ""
             }
            },
            "type": "scatter3d"
           }
          ],
          "scattercarpet": [
           {
            "marker": {
             "colorbar": {
              "outlinewidth": 0,
              "ticks": ""
             }
            },
            "type": "scattercarpet"
           }
          ],
          "scattergeo": [
           {
            "marker": {
             "colorbar": {
              "outlinewidth": 0,
              "ticks": ""
             }
            },
            "type": "scattergeo"
           }
          ],
          "scattergl": [
           {
            "marker": {
             "colorbar": {
              "outlinewidth": 0,
              "ticks": ""
             }
            },
            "type": "scattergl"
           }
          ],
          "scattermap": [
           {
            "marker": {
             "colorbar": {
              "outlinewidth": 0,
              "ticks": ""
             }
            },
            "type": "scattermap"
           }
          ],
          "scattermapbox": [
           {
            "marker": {
             "colorbar": {
              "outlinewidth": 0,
              "ticks": ""
             }
            },
            "type": "scattermapbox"
           }
          ],
          "scatterpolar": [
           {
            "marker": {
             "colorbar": {
              "outlinewidth": 0,
              "ticks": ""
             }
            },
            "type": "scatterpolar"
           }
          ],
          "scatterpolargl": [
           {
            "marker": {
             "colorbar": {
              "outlinewidth": 0,
              "ticks": ""
             }
            },
            "type": "scatterpolargl"
           }
          ],
          "scatterternary": [
           {
            "marker": {
             "colorbar": {
              "outlinewidth": 0,
              "ticks": ""
             }
            },
            "type": "scatterternary"
           }
          ],
          "surface": [
           {
            "colorbar": {
             "outlinewidth": 0,
             "ticks": ""
            },
            "colorscale": [
             [
              0,
              "#0d0887"
             ],
             [
              0.1111111111111111,
              "#46039f"
             ],
             [
              0.2222222222222222,
              "#7201a8"
             ],
             [
              0.3333333333333333,
              "#9c179e"
             ],
             [
              0.4444444444444444,
              "#bd3786"
             ],
             [
              0.5555555555555556,
              "#d8576b"
             ],
             [
              0.6666666666666666,
              "#ed7953"
             ],
             [
              0.7777777777777778,
              "#fb9f3a"
             ],
             [
              0.8888888888888888,
              "#fdca26"
             ],
             [
              1,
              "#f0f921"
             ]
            ],
            "type": "surface"
           }
          ],
          "table": [
           {
            "cells": {
             "fill": {
              "color": "#EBF0F8"
             },
             "line": {
              "color": "white"
             }
            },
            "header": {
             "fill": {
              "color": "#C8D4E3"
             },
             "line": {
              "color": "white"
             }
            },
            "type": "table"
           }
          ]
         },
         "layout": {
          "annotationdefaults": {
           "arrowcolor": "#2a3f5f",
           "arrowhead": 0,
           "arrowwidth": 1
          },
          "autotypenumbers": "strict",
          "coloraxis": {
           "colorbar": {
            "outlinewidth": 0,
            "ticks": ""
           }
          },
          "colorscale": {
           "diverging": [
            [
             0,
             "#8e0152"
            ],
            [
             0.1,
             "#c51b7d"
            ],
            [
             0.2,
             "#de77ae"
            ],
            [
             0.3,
             "#f1b6da"
            ],
            [
             0.4,
             "#fde0ef"
            ],
            [
             0.5,
             "#f7f7f7"
            ],
            [
             0.6,
             "#e6f5d0"
            ],
            [
             0.7,
             "#b8e186"
            ],
            [
             0.8,
             "#7fbc41"
            ],
            [
             0.9,
             "#4d9221"
            ],
            [
             1,
             "#276419"
            ]
           ],
           "sequential": [
            [
             0,
             "#0d0887"
            ],
            [
             0.1111111111111111,
             "#46039f"
            ],
            [
             0.2222222222222222,
             "#7201a8"
            ],
            [
             0.3333333333333333,
             "#9c179e"
            ],
            [
             0.4444444444444444,
             "#bd3786"
            ],
            [
             0.5555555555555556,
             "#d8576b"
            ],
            [
             0.6666666666666666,
             "#ed7953"
            ],
            [
             0.7777777777777778,
             "#fb9f3a"
            ],
            [
             0.8888888888888888,
             "#fdca26"
            ],
            [
             1,
             "#f0f921"
            ]
           ],
           "sequentialminus": [
            [
             0,
             "#0d0887"
            ],
            [
             0.1111111111111111,
             "#46039f"
            ],
            [
             0.2222222222222222,
             "#7201a8"
            ],
            [
             0.3333333333333333,
             "#9c179e"
            ],
            [
             0.4444444444444444,
             "#bd3786"
            ],
            [
             0.5555555555555556,
             "#d8576b"
            ],
            [
             0.6666666666666666,
             "#ed7953"
            ],
            [
             0.7777777777777778,
             "#fb9f3a"
            ],
            [
             0.8888888888888888,
             "#fdca26"
            ],
            [
             1,
             "#f0f921"
            ]
           ]
          },
          "colorway": [
           "#636efa",
           "#EF553B",
           "#00cc96",
           "#ab63fa",
           "#FFA15A",
           "#19d3f3",
           "#FF6692",
           "#B6E880",
           "#FF97FF",
           "#FECB52"
          ],
          "font": {
           "color": "#2a3f5f"
          },
          "geo": {
           "bgcolor": "white",
           "lakecolor": "white",
           "landcolor": "#E5ECF6",
           "showlakes": true,
           "showland": true,
           "subunitcolor": "white"
          },
          "hoverlabel": {
           "align": "left"
          },
          "hovermode": "closest",
          "mapbox": {
           "style": "light"
          },
          "paper_bgcolor": "white",
          "plot_bgcolor": "#E5ECF6",
          "polar": {
           "angularaxis": {
            "gridcolor": "white",
            "linecolor": "white",
            "ticks": ""
           },
           "bgcolor": "#E5ECF6",
           "radialaxis": {
            "gridcolor": "white",
            "linecolor": "white",
            "ticks": ""
           }
          },
          "scene": {
           "xaxis": {
            "backgroundcolor": "#E5ECF6",
            "gridcolor": "white",
            "gridwidth": 2,
            "linecolor": "white",
            "showbackground": true,
            "ticks": "",
            "zerolinecolor": "white"
           },
           "yaxis": {
            "backgroundcolor": "#E5ECF6",
            "gridcolor": "white",
            "gridwidth": 2,
            "linecolor": "white",
            "showbackground": true,
            "ticks": "",
            "zerolinecolor": "white"
           },
           "zaxis": {
            "backgroundcolor": "#E5ECF6",
            "gridcolor": "white",
            "gridwidth": 2,
            "linecolor": "white",
            "showbackground": true,
            "ticks": "",
            "zerolinecolor": "white"
           }
          },
          "shapedefaults": {
           "line": {
            "color": "#2a3f5f"
           }
          },
          "ternary": {
           "aaxis": {
            "gridcolor": "white",
            "linecolor": "white",
            "ticks": ""
           },
           "baxis": {
            "gridcolor": "white",
            "linecolor": "white",
            "ticks": ""
           },
           "bgcolor": "#E5ECF6",
           "caxis": {
            "gridcolor": "white",
            "linecolor": "white",
            "ticks": ""
           }
          },
          "title": {
           "x": 0.05
          },
          "xaxis": {
           "automargin": true,
           "gridcolor": "white",
           "linecolor": "white",
           "ticks": "",
           "title": {
            "standoff": 15
           },
           "zerolinecolor": "white",
           "zerolinewidth": 2
          },
          "yaxis": {
           "automargin": true,
           "gridcolor": "white",
           "linecolor": "white",
           "ticks": "",
           "title": {
            "standoff": 15
           },
           "zerolinecolor": "white",
           "zerolinewidth": 2
          }
         }
        },
        "title": {
         "text": "Total Average Spend by Time of Visit"
        },
        "width": 700,
        "xaxis": {
         "anchor": "y",
         "categoryarray": [
          "Breakfast",
          "Lunch",
          "Dinner"
         ],
         "categoryorder": "array",
         "domain": [
          0,
          1
         ],
         "title": {
          "text": "Time of Visit"
         }
        },
        "yaxis": {
         "anchor": "x",
         "domain": [
          0,
          1
         ],
         "title": {
          "text": "Total Spend ($)"
         }
        }
       }
      }
     },
     "metadata": {},
     "output_type": "display_data"
    }
   ],
   "source": [
    "# Calculate sums\n",
    "breakfast_sum = restaurant_copy[restaurant_copy['TimeOfVisit'] == 'Breakfast']['AverageSpend'].sum()\n",
    "lunch_sum = restaurant_copy[restaurant_copy['TimeOfVisit'] == 'Lunch']['AverageSpend'].sum()\n",
    "dinner_sum = restaurant_copy[restaurant_copy['TimeOfVisit'] == 'Dinner']['AverageSpend'].sum()\n",
    "\n",
    "# Create a DataFrame for plotting\n",
    "data = pd.DataFrame({\n",
    "    'TimeOfVisit': ['Breakfast', 'Lunch', 'Dinner'],\n",
    "    'TotalAverageSpend': [breakfast_sum, lunch_sum, dinner_sum]\n",
    "})\n",
    "\n",
    "# Plotly bar chart\n",
    "fig = px.bar(data, x='TimeOfVisit', y='TotalAverageSpend', \n",
    "                title='Total Average Spend by Time of Visit',\n",
    "                color='TimeOfVisit',\n",
    "                labels={'TotalAverageSpend': 'Total Spend ($)', 'TimeOfVisit': 'Time of Visit'},\n",
    "                text='TotalAverageSpend')\n",
    "\n",
    "fig.update_traces(texttemplate='%{text:.2f}', textposition='outside')\n",
    "fig.update_layout(yaxis=dict(title='Total Spend ($)'), xaxis=dict(title='Time of Visit'), width=700, height=500)\n",
    "\n",
    "fig.show()"
   ]
  },
  {
   "cell_type": "code",
   "execution_count": 134,
   "metadata": {},
   "outputs": [
    {
     "data": {
      "application/vnd.plotly.v1+json": {
       "config": {
        "plotlyServerURL": "https://plot.ly"
       },
       "data": [
        {
         "hovertemplate": "Dining Occasion=%{x}<br>Total Spend ($)=%{text}<extra></extra>",
         "legendgroup": "Casual",
         "marker": {
          "color": "#636efa",
          "pattern": {
           "shape": ""
          }
         },
         "name": "Casual",
         "orientation": "v",
         "showlegend": true,
         "text": {
          "bdata": "Cgn2UR9I6EA=",
          "dtype": "f8"
         },
         "textposition": "outside",
         "texttemplate": "%{text:.2f}",
         "type": "bar",
         "x": [
          "Casual"
         ],
         "xaxis": "x",
         "y": {
          "bdata": "Cgn2UR9I6EA=",
          "dtype": "f8"
         },
         "yaxis": "y"
        },
        {
         "hovertemplate": "Dining Occasion=%{x}<br>Total Spend ($)=%{text}<extra></extra>",
         "legendgroup": "Business",
         "marker": {
          "color": "#EF553B",
          "pattern": {
           "shape": ""
          }
         },
         "name": "Business",
         "orientation": "v",
         "showlegend": true,
         "text": {
          "bdata": "04MEoug76kA=",
          "dtype": "f8"
         },
         "textposition": "outside",
         "texttemplate": "%{text:.2f}",
         "type": "bar",
         "x": [
          "Business"
         ],
         "xaxis": "x",
         "y": {
          "bdata": "04MEoug76kA=",
          "dtype": "f8"
         },
         "yaxis": "y"
        },
        {
         "hovertemplate": "Dining Occasion=%{x}<br>Total Spend ($)=%{text}<extra></extra>",
         "legendgroup": "Celebration",
         "marker": {
          "color": "#00cc96",
          "pattern": {
           "shape": ""
          }
         },
         "name": "Celebration",
         "orientation": "v",
         "showlegend": true,
         "text": {
          "bdata": "sGwvOAjf6kA=",
          "dtype": "f8"
         },
         "textposition": "outside",
         "texttemplate": "%{text:.2f}",
         "type": "bar",
         "x": [
          "Celebration"
         ],
         "xaxis": "x",
         "y": {
          "bdata": "sGwvOAjf6kA=",
          "dtype": "f8"
         },
         "yaxis": "y"
        }
       ],
       "layout": {
        "barmode": "relative",
        "height": 500,
        "legend": {
         "title": {
          "text": "Dining Occasion"
         },
         "tracegroupgap": 0
        },
        "template": {
         "data": {
          "bar": [
           {
            "error_x": {
             "color": "#2a3f5f"
            },
            "error_y": {
             "color": "#2a3f5f"
            },
            "marker": {
             "line": {
              "color": "#E5ECF6",
              "width": 0.5
             },
             "pattern": {
              "fillmode": "overlay",
              "size": 10,
              "solidity": 0.2
             }
            },
            "type": "bar"
           }
          ],
          "barpolar": [
           {
            "marker": {
             "line": {
              "color": "#E5ECF6",
              "width": 0.5
             },
             "pattern": {
              "fillmode": "overlay",
              "size": 10,
              "solidity": 0.2
             }
            },
            "type": "barpolar"
           }
          ],
          "carpet": [
           {
            "aaxis": {
             "endlinecolor": "#2a3f5f",
             "gridcolor": "white",
             "linecolor": "white",
             "minorgridcolor": "white",
             "startlinecolor": "#2a3f5f"
            },
            "baxis": {
             "endlinecolor": "#2a3f5f",
             "gridcolor": "white",
             "linecolor": "white",
             "minorgridcolor": "white",
             "startlinecolor": "#2a3f5f"
            },
            "type": "carpet"
           }
          ],
          "choropleth": [
           {
            "colorbar": {
             "outlinewidth": 0,
             "ticks": ""
            },
            "type": "choropleth"
           }
          ],
          "contour": [
           {
            "colorbar": {
             "outlinewidth": 0,
             "ticks": ""
            },
            "colorscale": [
             [
              0,
              "#0d0887"
             ],
             [
              0.1111111111111111,
              "#46039f"
             ],
             [
              0.2222222222222222,
              "#7201a8"
             ],
             [
              0.3333333333333333,
              "#9c179e"
             ],
             [
              0.4444444444444444,
              "#bd3786"
             ],
             [
              0.5555555555555556,
              "#d8576b"
             ],
             [
              0.6666666666666666,
              "#ed7953"
             ],
             [
              0.7777777777777778,
              "#fb9f3a"
             ],
             [
              0.8888888888888888,
              "#fdca26"
             ],
             [
              1,
              "#f0f921"
             ]
            ],
            "type": "contour"
           }
          ],
          "contourcarpet": [
           {
            "colorbar": {
             "outlinewidth": 0,
             "ticks": ""
            },
            "type": "contourcarpet"
           }
          ],
          "heatmap": [
           {
            "colorbar": {
             "outlinewidth": 0,
             "ticks": ""
            },
            "colorscale": [
             [
              0,
              "#0d0887"
             ],
             [
              0.1111111111111111,
              "#46039f"
             ],
             [
              0.2222222222222222,
              "#7201a8"
             ],
             [
              0.3333333333333333,
              "#9c179e"
             ],
             [
              0.4444444444444444,
              "#bd3786"
             ],
             [
              0.5555555555555556,
              "#d8576b"
             ],
             [
              0.6666666666666666,
              "#ed7953"
             ],
             [
              0.7777777777777778,
              "#fb9f3a"
             ],
             [
              0.8888888888888888,
              "#fdca26"
             ],
             [
              1,
              "#f0f921"
             ]
            ],
            "type": "heatmap"
           }
          ],
          "histogram": [
           {
            "marker": {
             "pattern": {
              "fillmode": "overlay",
              "size": 10,
              "solidity": 0.2
             }
            },
            "type": "histogram"
           }
          ],
          "histogram2d": [
           {
            "colorbar": {
             "outlinewidth": 0,
             "ticks": ""
            },
            "colorscale": [
             [
              0,
              "#0d0887"
             ],
             [
              0.1111111111111111,
              "#46039f"
             ],
             [
              0.2222222222222222,
              "#7201a8"
             ],
             [
              0.3333333333333333,
              "#9c179e"
             ],
             [
              0.4444444444444444,
              "#bd3786"
             ],
             [
              0.5555555555555556,
              "#d8576b"
             ],
             [
              0.6666666666666666,
              "#ed7953"
             ],
             [
              0.7777777777777778,
              "#fb9f3a"
             ],
             [
              0.8888888888888888,
              "#fdca26"
             ],
             [
              1,
              "#f0f921"
             ]
            ],
            "type": "histogram2d"
           }
          ],
          "histogram2dcontour": [
           {
            "colorbar": {
             "outlinewidth": 0,
             "ticks": ""
            },
            "colorscale": [
             [
              0,
              "#0d0887"
             ],
             [
              0.1111111111111111,
              "#46039f"
             ],
             [
              0.2222222222222222,
              "#7201a8"
             ],
             [
              0.3333333333333333,
              "#9c179e"
             ],
             [
              0.4444444444444444,
              "#bd3786"
             ],
             [
              0.5555555555555556,
              "#d8576b"
             ],
             [
              0.6666666666666666,
              "#ed7953"
             ],
             [
              0.7777777777777778,
              "#fb9f3a"
             ],
             [
              0.8888888888888888,
              "#fdca26"
             ],
             [
              1,
              "#f0f921"
             ]
            ],
            "type": "histogram2dcontour"
           }
          ],
          "mesh3d": [
           {
            "colorbar": {
             "outlinewidth": 0,
             "ticks": ""
            },
            "type": "mesh3d"
           }
          ],
          "parcoords": [
           {
            "line": {
             "colorbar": {
              "outlinewidth": 0,
              "ticks": ""
             }
            },
            "type": "parcoords"
           }
          ],
          "pie": [
           {
            "automargin": true,
            "type": "pie"
           }
          ],
          "scatter": [
           {
            "fillpattern": {
             "fillmode": "overlay",
             "size": 10,
             "solidity": 0.2
            },
            "type": "scatter"
           }
          ],
          "scatter3d": [
           {
            "line": {
             "colorbar": {
              "outlinewidth": 0,
              "ticks": ""
             }
            },
            "marker": {
             "colorbar": {
              "outlinewidth": 0,
              "ticks": ""
             }
            },
            "type": "scatter3d"
           }
          ],
          "scattercarpet": [
           {
            "marker": {
             "colorbar": {
              "outlinewidth": 0,
              "ticks": ""
             }
            },
            "type": "scattercarpet"
           }
          ],
          "scattergeo": [
           {
            "marker": {
             "colorbar": {
              "outlinewidth": 0,
              "ticks": ""
             }
            },
            "type": "scattergeo"
           }
          ],
          "scattergl": [
           {
            "marker": {
             "colorbar": {
              "outlinewidth": 0,
              "ticks": ""
             }
            },
            "type": "scattergl"
           }
          ],
          "scattermap": [
           {
            "marker": {
             "colorbar": {
              "outlinewidth": 0,
              "ticks": ""
             }
            },
            "type": "scattermap"
           }
          ],
          "scattermapbox": [
           {
            "marker": {
             "colorbar": {
              "outlinewidth": 0,
              "ticks": ""
             }
            },
            "type": "scattermapbox"
           }
          ],
          "scatterpolar": [
           {
            "marker": {
             "colorbar": {
              "outlinewidth": 0,
              "ticks": ""
             }
            },
            "type": "scatterpolar"
           }
          ],
          "scatterpolargl": [
           {
            "marker": {
             "colorbar": {
              "outlinewidth": 0,
              "ticks": ""
             }
            },
            "type": "scatterpolargl"
           }
          ],
          "scatterternary": [
           {
            "marker": {
             "colorbar": {
              "outlinewidth": 0,
              "ticks": ""
             }
            },
            "type": "scatterternary"
           }
          ],
          "surface": [
           {
            "colorbar": {
             "outlinewidth": 0,
             "ticks": ""
            },
            "colorscale": [
             [
              0,
              "#0d0887"
             ],
             [
              0.1111111111111111,
              "#46039f"
             ],
             [
              0.2222222222222222,
              "#7201a8"
             ],
             [
              0.3333333333333333,
              "#9c179e"
             ],
             [
              0.4444444444444444,
              "#bd3786"
             ],
             [
              0.5555555555555556,
              "#d8576b"
             ],
             [
              0.6666666666666666,
              "#ed7953"
             ],
             [
              0.7777777777777778,
              "#fb9f3a"
             ],
             [
              0.8888888888888888,
              "#fdca26"
             ],
             [
              1,
              "#f0f921"
             ]
            ],
            "type": "surface"
           }
          ],
          "table": [
           {
            "cells": {
             "fill": {
              "color": "#EBF0F8"
             },
             "line": {
              "color": "white"
             }
            },
            "header": {
             "fill": {
              "color": "#C8D4E3"
             },
             "line": {
              "color": "white"
             }
            },
            "type": "table"
           }
          ]
         },
         "layout": {
          "annotationdefaults": {
           "arrowcolor": "#2a3f5f",
           "arrowhead": 0,
           "arrowwidth": 1
          },
          "autotypenumbers": "strict",
          "coloraxis": {
           "colorbar": {
            "outlinewidth": 0,
            "ticks": ""
           }
          },
          "colorscale": {
           "diverging": [
            [
             0,
             "#8e0152"
            ],
            [
             0.1,
             "#c51b7d"
            ],
            [
             0.2,
             "#de77ae"
            ],
            [
             0.3,
             "#f1b6da"
            ],
            [
             0.4,
             "#fde0ef"
            ],
            [
             0.5,
             "#f7f7f7"
            ],
            [
             0.6,
             "#e6f5d0"
            ],
            [
             0.7,
             "#b8e186"
            ],
            [
             0.8,
             "#7fbc41"
            ],
            [
             0.9,
             "#4d9221"
            ],
            [
             1,
             "#276419"
            ]
           ],
           "sequential": [
            [
             0,
             "#0d0887"
            ],
            [
             0.1111111111111111,
             "#46039f"
            ],
            [
             0.2222222222222222,
             "#7201a8"
            ],
            [
             0.3333333333333333,
             "#9c179e"
            ],
            [
             0.4444444444444444,
             "#bd3786"
            ],
            [
             0.5555555555555556,
             "#d8576b"
            ],
            [
             0.6666666666666666,
             "#ed7953"
            ],
            [
             0.7777777777777778,
             "#fb9f3a"
            ],
            [
             0.8888888888888888,
             "#fdca26"
            ],
            [
             1,
             "#f0f921"
            ]
           ],
           "sequentialminus": [
            [
             0,
             "#0d0887"
            ],
            [
             0.1111111111111111,
             "#46039f"
            ],
            [
             0.2222222222222222,
             "#7201a8"
            ],
            [
             0.3333333333333333,
             "#9c179e"
            ],
            [
             0.4444444444444444,
             "#bd3786"
            ],
            [
             0.5555555555555556,
             "#d8576b"
            ],
            [
             0.6666666666666666,
             "#ed7953"
            ],
            [
             0.7777777777777778,
             "#fb9f3a"
            ],
            [
             0.8888888888888888,
             "#fdca26"
            ],
            [
             1,
             "#f0f921"
            ]
           ]
          },
          "colorway": [
           "#636efa",
           "#EF553B",
           "#00cc96",
           "#ab63fa",
           "#FFA15A",
           "#19d3f3",
           "#FF6692",
           "#B6E880",
           "#FF97FF",
           "#FECB52"
          ],
          "font": {
           "color": "#2a3f5f"
          },
          "geo": {
           "bgcolor": "white",
           "lakecolor": "white",
           "landcolor": "#E5ECF6",
           "showlakes": true,
           "showland": true,
           "subunitcolor": "white"
          },
          "hoverlabel": {
           "align": "left"
          },
          "hovermode": "closest",
          "mapbox": {
           "style": "light"
          },
          "paper_bgcolor": "white",
          "plot_bgcolor": "#E5ECF6",
          "polar": {
           "angularaxis": {
            "gridcolor": "white",
            "linecolor": "white",
            "ticks": ""
           },
           "bgcolor": "#E5ECF6",
           "radialaxis": {
            "gridcolor": "white",
            "linecolor": "white",
            "ticks": ""
           }
          },
          "scene": {
           "xaxis": {
            "backgroundcolor": "#E5ECF6",
            "gridcolor": "white",
            "gridwidth": 2,
            "linecolor": "white",
            "showbackground": true,
            "ticks": "",
            "zerolinecolor": "white"
           },
           "yaxis": {
            "backgroundcolor": "#E5ECF6",
            "gridcolor": "white",
            "gridwidth": 2,
            "linecolor": "white",
            "showbackground": true,
            "ticks": "",
            "zerolinecolor": "white"
           },
           "zaxis": {
            "backgroundcolor": "#E5ECF6",
            "gridcolor": "white",
            "gridwidth": 2,
            "linecolor": "white",
            "showbackground": true,
            "ticks": "",
            "zerolinecolor": "white"
           }
          },
          "shapedefaults": {
           "line": {
            "color": "#2a3f5f"
           }
          },
          "ternary": {
           "aaxis": {
            "gridcolor": "white",
            "linecolor": "white",
            "ticks": ""
           },
           "baxis": {
            "gridcolor": "white",
            "linecolor": "white",
            "ticks": ""
           },
           "bgcolor": "#E5ECF6",
           "caxis": {
            "gridcolor": "white",
            "linecolor": "white",
            "ticks": ""
           }
          },
          "title": {
           "x": 0.05
          },
          "xaxis": {
           "automargin": true,
           "gridcolor": "white",
           "linecolor": "white",
           "ticks": "",
           "title": {
            "standoff": 15
           },
           "zerolinecolor": "white",
           "zerolinewidth": 2
          },
          "yaxis": {
           "automargin": true,
           "gridcolor": "white",
           "linecolor": "white",
           "ticks": "",
           "title": {
            "standoff": 15
           },
           "zerolinecolor": "white",
           "zerolinewidth": 2
          }
         }
        },
        "title": {
         "text": "Total Average Spend by Dining Occasion"
        },
        "width": 700,
        "xaxis": {
         "anchor": "y",
         "categoryarray": [
          "Casual",
          "Business",
          "Celebration"
         ],
         "categoryorder": "array",
         "domain": [
          0,
          1
         ],
         "title": {
          "text": "Time of Visit"
         }
        },
        "yaxis": {
         "anchor": "x",
         "domain": [
          0,
          1
         ],
         "title": {
          "text": "Total Spend ($)"
         }
        }
       }
      }
     },
     "metadata": {},
     "output_type": "display_data"
    }
   ],
   "source": [
    "# Calculate sums\n",
    "breakfast_sum = restaurant_copy[restaurant_copy['DiningOccasion'] == 'Casual']['AverageSpend'].sum()\n",
    "lunch_sum = restaurant_copy[restaurant_copy['DiningOccasion'] == 'Business']['AverageSpend'].sum()\n",
    "dinner_sum = restaurant_copy[restaurant_copy['DiningOccasion'] == 'Celebration']['AverageSpend'].sum()\n",
    "\n",
    "# Create a DataFrame for plotting\n",
    "data = pd.DataFrame({\n",
    "    'DiningOccasion': ['Casual', 'Business', 'Celebration'],\n",
    "    'TotalAverageSpend': [breakfast_sum, lunch_sum, dinner_sum]\n",
    "})\n",
    "\n",
    "# Plotly bar chart\n",
    "fig = px.bar(data, x='DiningOccasion', y='TotalAverageSpend', \n",
    "                title='Total Average Spend by Dining Occasion',\n",
    "                color='DiningOccasion',\n",
    "                labels={'TotalAverageSpend': 'Total Spend ($)', 'DiningOccasion': 'Dining Occasion'},\n",
    "                text='TotalAverageSpend')\n",
    "\n",
    "fig.update_traces(texttemplate='%{text:.2f}', textposition='outside')\n",
    "fig.update_layout(yaxis=dict(title='Total Spend ($)'), xaxis=dict(title='Time of Visit'), width=700, height=500)\n",
    "\n",
    "fig.show()"
   ]
  },
  {
   "cell_type": "code",
   "execution_count": 135,
   "metadata": {},
   "outputs": [
    {
     "data": {
      "application/vnd.plotly.v1+json": {
       "config": {
        "plotlyServerURL": "https://plot.ly"
       },
       "data": [
        {
         "hovertemplate": "VisitFrequency=Weekly<br>Income=%{x}<br>Count=%{y}<extra></extra>",
         "legendgroup": "Weekly",
         "marker": {
          "color": "#636efa",
          "symbol": "circle"
         },
         "mode": "markers",
         "name": "Weekly",
         "showlegend": true,
         "type": "scattergl",
         "x": {
          "bdata": "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",
          "dtype": "i4"
         },
         "xaxis": "x",
         "y": {
          "bdata": "AQEBAQEBAQEBAQEBAQEBAQEBAQEBAQEBAQEBAQEBAQEBAQEBAQEBAQEBAQEBAQEBAQEBAQEBAQEBAQEBAQEBAQEBAQEBAQEBAQEBAQEBAQEBAQEBAQEBAQEBAQEBAQEBAQEBAQEBAQEBAQEBAQEBAQEBAQEBAQEBAQEBAQEBAQEBAQEBAQEBAQEBAQEBAQEBAQEBAQEBAQEBAQEBAQEBAQEBAQEBAQEBAQEBAQEBAQEBAQEBAQEBAQEBAQEBAQEBAQEBAQEBAQEBAQEBAQEBAQEBAQEBAQEBAQEBAQEBAQEBAQEBAQEBAQEBAQEBAQEBAQEBAQEBAQEBAQEBAQEBAQEBAQEBAQEBAQEBAQEBAQEBAQEBAQEBAQEBAQEBAQEBAQEBAQEBAQEBAQEBAQEBAQEBAQEBAQEBAQEBAQEBAQEBAQEBAQEBAQEBAQEBAQEBAQEBAQEBAQEBAQEBAQEBAQEBAQEBAQEBAQEBAQEBAQEBAQEBAQEBAQEBAQEBAQEBAQEBAQEBAQEBAQEBAQEBAQEBAQEBAQEBAQEBAQEBAQEBAQEBAQEBAQEBAQEBAQEBAQEBAQEBAQEBAQEBAQEBAQEBAQEBAQEBAQEBAQEBAQEBAQEBAQEBAQEBAQEBAQEBAQEBAQEBAQEBAQEBAQEBAQEBAQEBAQEBAQEBAQEBAQEBAQEBAQEBAQEBAQEBAQEBAQEBAQEBAQEBAQEBAQEBAQEBAQEBAQEBAQEBAQEBAQEBAQEBAQEBAQEBAQEBAQEBAQEBAQEBAQEBAQEBAQEBAQEBAQEBAQEBAQEBAQEB",
          "dtype": "i1"
         },
         "yaxis": "y"
        },
        {
         "hovertemplate": "VisitFrequency=Rarely<br>Income=%{x}<br>Count=%{y}<extra></extra>",
         "legendgroup": "Rarely",
         "marker": {
          "color": "#EF553B",
          "symbol": "circle"
         },
         "mode": "markers",
         "name": "Rarely",
         "showlegend": true,
         "type": "scattergl",
         "x": {
          "bdata": "tk4AAJ5RAABbUgAAIFQAABFWAADjVgAA+FcAAE1ZAADdWgAARl0AAMtdAAAbXgAA42EAADNlAACbZgAAZ2oAAH9qAAACbQAAGG0AALduAAAucgAASHQAAE93AADQeAAAB3kAANN5AAAqgAAAxYMAAEuJAABDigAAzYoAAAGLAAC5iwAAeYwAAP+NAACPjwAAXZYAAD2YAAC5mAAASpoAAH+aAADCmwAAW50AABKgAABRoAAAa6EAAAyjAAA+pAAAR6QAAFGkAAB2pAAAJaUAAD6pAABnqgAAjK0AAFuzAABCtAAAKbUAALm2AAAMtwAAKLcAAB+5AABzugAAkbsAAF69AABevgAABsAAAODBAAAmyAAA9ckAAAXNAADmzQAA7c0AAPvPAACy0AAAXdIAALfSAAA20wAA8tkAADbcAABZ3gAAY94AAKzfAAA24gAACeQAAMPlAABY5wAA0vMAAIf2AACJ+QAAgv0AADL+AABVAAEARAIBAOYEAQBJBgEAmQcBAC4KAQB5DAEAqQwBAK4MAQApDgEAew4BAEkQAQCCEQEAOhMBAC0UAQDoFgEA8RgBAEUZAQCbGgEADRsBAEMeAQC4IAEAeiEBAHolAQDrJgEA0y0BAN4xAQANMwEAPTQBAFI0AQA5NQEASTcBAMw4AQArPAEAODwBAFs8AQDmPQEAID4BAPs+AQBiPwEAB0MBAFNDAQCDQwEAVEoBAC1NAQAPUAEAQ1QBAMpUAQDlVAEA21YBAHxaAQA+WwEA1FwBAHReAQA0XwEA52ABAFlmAQB1aAEAy2oBAAJrAQBIbgEAFnABAC5xAQAqdQEA73gBAI95AQAAegEAo3sBAIt8AQAvfQEA4n0BAP5+AQDYgAEAb4EBAIKCAQA4gwEA9YMBAAeEAQCshAEAyIQBAGaHAQCuhwEAi4oBAG2NAQB8jQEAfo0BADiOAQBBjgEAFY8BAHWQAQACkQEA2JEBAIWSAQBFlAEAVJQBAP6UAQDulQEA7JYBAM2XAQCPmgEArZoBAL2aAQA6mwEAiZwBAN2gAQAdoQEAoaMBAG6kAQABpwEAzqkBAHmqAQD9rAEAua4BAO6wAQAnsgEAYbQBAAy1AQBftQEAt7UBAM22AQBuuwEAnrsBAEm/AQDlvwEA+cEBAIjDAQDFwwEACsQBAF7EAQBQxgEAuMkBAOXJAQATygEAhdABAPjRAQBS0gEAvdMBALnUAQBV1QEArtcBAMzZAQDl2QEAitsBAADdAQB73QEAQ94BAAXfAQBL4AEAqOABAK3gAQAL4QEAh+EBAFjjAQAu5AEAEegBAD3pAQDa6gEAie4BAFXvAQBb7wEAZO8BAKbvAQBC9AEA3vkBAF/+AQCQ/gEADf8BAJsDAgCGBQIAxQUCAMYFAgDABwIAAwsCAN0LAgCMDAIAQg4CAMARAgDWEgIAexQCAFoWAgCBFgIAjRgCAEgeAgCBHgIAjyACANohAgBlIgIAfyMCAMgoAgD6KAIAKSoCAHEsAgByLAIAmCwCAPMsAgAXLgIAHC4CADwwAgC6MAIAgjICAPoyAgCSMwIADzUCABI1AgBfNgIAYDYCAGM3AgCuOAIAfDoCAKA6AgD2PAIAfD0CAKc9AgB5PgIAoj8CADBCAgBvQwIA1kMCAC9JAgBgSQIA",
          "dtype": "i4"
         },
         "xaxis": "x",
         "y": {
          "bdata": "AQEBAQEBAQEBAQEBAQEBAQEBAQEBAQEBAQEBAQEBAQEBAQEBAQEBAQEBAQEBAQEBAQEBAQEBAQEBAQEBAQEBAQEBAQEBAQEBAQEBAQEBAQEBAQEBAQEBAQIBAQEBAQEBAQEBAQEBAQEBAQEBAQEBAQEBAQEBAQEBAQEBAQEBAQEBAQEBAQEBAQEBAQEBAQEBAQEBAQEBAQEBAQEBAQEBAQEBAQEBAQEBAQEBAQEBAQEBAQEBAQEBAQEBAQEBAQEBAQEBAQEBAQEBAQEBAQEBAQEBAQEBAQEBAQEBAQEBAQEBAQEBAQEBAQEBAQEBAQEBAQEBAQEBAQEBAQEBAQEBAQEBAQEBAQEBAQEBAQEBAQEBAQEBAQEBAQEBAQEBAQEBAQEBAQEBAQEBAQEBAQEBAQEBAQEBAQEB",
          "dtype": "i1"
         },
         "yaxis": "y"
        },
        {
         "hovertemplate": "VisitFrequency=Daily<br>Income=%{x}<br>Count=%{y}<extra></extra>",
         "legendgroup": "Daily",
         "marker": {
          "color": "#00cc96",
          "symbol": "circle"
         },
         "mode": "markers",
         "name": "Daily",
         "showlegend": true,
         "type": "scattergl",
         "x": {
          "bdata": "WE8AABZUAAArVAAAmlUAAKBWAAAqXwAA418AAC1gAAD/YwAAtWQAAKJnAABsaAAAmWgAAJ1uAABocgAANHwAAEiGAAAYhwAAYYkAAFOMAACDjgAAIZYAAIuXAAAQmAAASpgAAA6ZAAAQmgAA1JoAAIacAACrnwAAcqIAAN+nAAApqwAAe6wAABqtAAD/sQAAbrMAACm1AACRwAAA8cAAAKHCAADTwgAAh8UAAPvIAAChygAArMwAAJ3SAAC22AAAadwAABLgAAAf4QAAquEAAGvlAAD76wAALe0AANX5AAChBwEAngkBAL8OAQBGEAEAbBABAOkTAQDAFwEAfxkBAJoZAQB3IAEA2iEBAEYiAQCHIgEAcSMBANIlAQAgJwEAxigBACorAQAuLQEAWS0BAAowAQAGMQEADzQBAHI0AQANOwEABkABAGJNAQA8TwEAsFsBAO9bAQDFXAEAP18BAFVfAQBzXwEA5mQBAHxmAQA0ZwEAeGgBAC1sAQD/bgEAFHQBAAp/AQB/iwEACpQBAP6UAQAmmAEA6JsBAPibAQDHngEATqYBAL2qAQD3qgEAgrEBACe0AQDstAEAEcMBAFbFAQBhxgEAzMoBAFHMAQBKzwEAHtEBABDVAQBm1QEAaNUBANvWAQCo2QEAvt0BADPgAQCH6wEAPOwBAGvsAQAf7wEAg/MBAHL2AQAI/wEA3P8BAAgKAgBzDAIAeRECAMQUAgC6GQIA8R4CADkhAgD8IwIATiQCAEowAgBkMQIAfDMCAOI0AgBdOgIAekECAHBEAgD2RQIAlEgCAJpIAgA=",
          "dtype": "i4"
         },
         "xaxis": "x",
         "y": {
          "bdata": "AQEBAQEBAQEBAQEBAQEBAQEBAQEBAQEBAQEBAQEBAQEBAQEBAQEBAQEBAQEBAQEBAQEBAQEBAQEBAgEBAQEBAQEBAQEBAQEBAQEBAQEBAQEBAQEBAQEBAQEBAQEBAQEBAQEBAQEBAQEBAQEBAQEBAQEBAQEBAQEBAQEBAQEBAQEBAQEBAQEBAQEBAQEBAQEBAQEBAQEBAQE=",
          "dtype": "i1"
         },
         "yaxis": "y"
        },
        {
         "hovertemplate": "VisitFrequency=Monthly<br>Income=%{x}<br>Count=%{y}<extra></extra>",
         "legendgroup": "Monthly",
         "marker": {
          "color": "#ab63fa",
          "symbol": "circle"
         },
         "mode": "markers",
         "name": "Monthly",
         "showlegend": true,
         "type": "scattergl",
         "x": {
          "bdata": "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",
          "dtype": "i4"
         },
         "xaxis": "x",
         "y": {
          "bdata": "AQEBAgEBAQEBAQEBAQEBAQEBAQEBAQEBAQEBAQEBAQEBAQEBAQEBAQEBAQEBAQEBAQEBAQEBAQEBAQEBAQEBAQEBAQEBAQEBAQEBAQEBAQEBAQEBAQEBAQEBAQEBAQEBAQEBAQEBAQEBAQEBAQEBAQEBAQEBAQEBAQEBAQEBAQEBAQEBAQEBAQEBAQEBAQEBAQEBAQEBAQEBAQEBAQEBAQEBAQEBAQEBAQEBAQEBAQEBAQEBAQEBAQEBAQEBAQEBAQEBAQEBAQEBAQEBAQEBAQEBAQEBAQEBAQEBAQEBAQEBAQEBAQEBAQEBAQEBAQEBAQEBAQEBAQEBAQEBAQEBAQEBAQEBAQEBAQEBAQEBAQEBAQEBAQEBAQEBAQEBAQEBAQEBAQEBAQEBAQEBAQEBAQEBAQEBAQEBAQEBAQEBAQEBAQEBAQEBAQEBAQEBAQEBAQEBAQEBAQEBAQEBAQEBAQEBAQEBAQEBAQEBAQEBAQEBAQEBAQEBAQEBAQEBAQEBAQEBAQEBAQEBAQEBAQEBAQEBAQEBAQEBAQEBAQEBAQEBAQEBAQEBAQEBAQ==",
          "dtype": "i1"
         },
         "yaxis": "y"
        }
       ],
       "layout": {
        "legend": {
         "title": {
          "text": "VisitFrequency"
         },
         "tracegroupgap": 0
        },
        "template": {
         "data": {
          "bar": [
           {
            "error_x": {
             "color": "#2a3f5f"
            },
            "error_y": {
             "color": "#2a3f5f"
            },
            "marker": {
             "line": {
              "color": "#E5ECF6",
              "width": 0.5
             },
             "pattern": {
              "fillmode": "overlay",
              "size": 10,
              "solidity": 0.2
             }
            },
            "type": "bar"
           }
          ],
          "barpolar": [
           {
            "marker": {
             "line": {
              "color": "#E5ECF6",
              "width": 0.5
             },
             "pattern": {
              "fillmode": "overlay",
              "size": 10,
              "solidity": 0.2
             }
            },
            "type": "barpolar"
           }
          ],
          "carpet": [
           {
            "aaxis": {
             "endlinecolor": "#2a3f5f",
             "gridcolor": "white",
             "linecolor": "white",
             "minorgridcolor": "white",
             "startlinecolor": "#2a3f5f"
            },
            "baxis": {
             "endlinecolor": "#2a3f5f",
             "gridcolor": "white",
             "linecolor": "white",
             "minorgridcolor": "white",
             "startlinecolor": "#2a3f5f"
            },
            "type": "carpet"
           }
          ],
          "choropleth": [
           {
            "colorbar": {
             "outlinewidth": 0,
             "ticks": ""
            },
            "type": "choropleth"
           }
          ],
          "contour": [
           {
            "colorbar": {
             "outlinewidth": 0,
             "ticks": ""
            },
            "colorscale": [
             [
              0,
              "#0d0887"
             ],
             [
              0.1111111111111111,
              "#46039f"
             ],
             [
              0.2222222222222222,
              "#7201a8"
             ],
             [
              0.3333333333333333,
              "#9c179e"
             ],
             [
              0.4444444444444444,
              "#bd3786"
             ],
             [
              0.5555555555555556,
              "#d8576b"
             ],
             [
              0.6666666666666666,
              "#ed7953"
             ],
             [
              0.7777777777777778,
              "#fb9f3a"
             ],
             [
              0.8888888888888888,
              "#fdca26"
             ],
             [
              1,
              "#f0f921"
             ]
            ],
            "type": "contour"
           }
          ],
          "contourcarpet": [
           {
            "colorbar": {
             "outlinewidth": 0,
             "ticks": ""
            },
            "type": "contourcarpet"
           }
          ],
          "heatmap": [
           {
            "colorbar": {
             "outlinewidth": 0,
             "ticks": ""
            },
            "colorscale": [
             [
              0,
              "#0d0887"
             ],
             [
              0.1111111111111111,
              "#46039f"
             ],
             [
              0.2222222222222222,
              "#7201a8"
             ],
             [
              0.3333333333333333,
              "#9c179e"
             ],
             [
              0.4444444444444444,
              "#bd3786"
             ],
             [
              0.5555555555555556,
              "#d8576b"
             ],
             [
              0.6666666666666666,
              "#ed7953"
             ],
             [
              0.7777777777777778,
              "#fb9f3a"
             ],
             [
              0.8888888888888888,
              "#fdca26"
             ],
             [
              1,
              "#f0f921"
             ]
            ],
            "type": "heatmap"
           }
          ],
          "histogram": [
           {
            "marker": {
             "pattern": {
              "fillmode": "overlay",
              "size": 10,
              "solidity": 0.2
             }
            },
            "type": "histogram"
           }
          ],
          "histogram2d": [
           {
            "colorbar": {
             "outlinewidth": 0,
             "ticks": ""
            },
            "colorscale": [
             [
              0,
              "#0d0887"
             ],
             [
              0.1111111111111111,
              "#46039f"
             ],
             [
              0.2222222222222222,
              "#7201a8"
             ],
             [
              0.3333333333333333,
              "#9c179e"
             ],
             [
              0.4444444444444444,
              "#bd3786"
             ],
             [
              0.5555555555555556,
              "#d8576b"
             ],
             [
              0.6666666666666666,
              "#ed7953"
             ],
             [
              0.7777777777777778,
              "#fb9f3a"
             ],
             [
              0.8888888888888888,
              "#fdca26"
             ],
             [
              1,
              "#f0f921"
             ]
            ],
            "type": "histogram2d"
           }
          ],
          "histogram2dcontour": [
           {
            "colorbar": {
             "outlinewidth": 0,
             "ticks": ""
            },
            "colorscale": [
             [
              0,
              "#0d0887"
             ],
             [
              0.1111111111111111,
              "#46039f"
             ],
             [
              0.2222222222222222,
              "#7201a8"
             ],
             [
              0.3333333333333333,
              "#9c179e"
             ],
             [
              0.4444444444444444,
              "#bd3786"
             ],
             [
              0.5555555555555556,
              "#d8576b"
             ],
             [
              0.6666666666666666,
              "#ed7953"
             ],
             [
              0.7777777777777778,
              "#fb9f3a"
             ],
             [
              0.8888888888888888,
              "#fdca26"
             ],
             [
              1,
              "#f0f921"
             ]
            ],
            "type": "histogram2dcontour"
           }
          ],
          "mesh3d": [
           {
            "colorbar": {
             "outlinewidth": 0,
             "ticks": ""
            },
            "type": "mesh3d"
           }
          ],
          "parcoords": [
           {
            "line": {
             "colorbar": {
              "outlinewidth": 0,
              "ticks": ""
             }
            },
            "type": "parcoords"
           }
          ],
          "pie": [
           {
            "automargin": true,
            "type": "pie"
           }
          ],
          "scatter": [
           {
            "fillpattern": {
             "fillmode": "overlay",
             "size": 10,
             "solidity": 0.2
            },
            "type": "scatter"
           }
          ],
          "scatter3d": [
           {
            "line": {
             "colorbar": {
              "outlinewidth": 0,
              "ticks": ""
             }
            },
            "marker": {
             "colorbar": {
              "outlinewidth": 0,
              "ticks": ""
             }
            },
            "type": "scatter3d"
           }
          ],
          "scattercarpet": [
           {
            "marker": {
             "colorbar": {
              "outlinewidth": 0,
              "ticks": ""
             }
            },
            "type": "scattercarpet"
           }
          ],
          "scattergeo": [
           {
            "marker": {
             "colorbar": {
              "outlinewidth": 0,
              "ticks": ""
             }
            },
            "type": "scattergeo"
           }
          ],
          "scattergl": [
           {
            "marker": {
             "colorbar": {
              "outlinewidth": 0,
              "ticks": ""
             }
            },
            "type": "scattergl"
           }
          ],
          "scattermap": [
           {
            "marker": {
             "colorbar": {
              "outlinewidth": 0,
              "ticks": ""
             }
            },
            "type": "scattermap"
           }
          ],
          "scattermapbox": [
           {
            "marker": {
             "colorbar": {
              "outlinewidth": 0,
              "ticks": ""
             }
            },
            "type": "scattermapbox"
           }
          ],
          "scatterpolar": [
           {
            "marker": {
             "colorbar": {
              "outlinewidth": 0,
              "ticks": ""
             }
            },
            "type": "scatterpolar"
           }
          ],
          "scatterpolargl": [
           {
            "marker": {
             "colorbar": {
              "outlinewidth": 0,
              "ticks": ""
             }
            },
            "type": "scatterpolargl"
           }
          ],
          "scatterternary": [
           {
            "marker": {
             "colorbar": {
              "outlinewidth": 0,
              "ticks": ""
             }
            },
            "type": "scatterternary"
           }
          ],
          "surface": [
           {
            "colorbar": {
             "outlinewidth": 0,
             "ticks": ""
            },
            "colorscale": [
             [
              0,
              "#0d0887"
             ],
             [
              0.1111111111111111,
              "#46039f"
             ],
             [
              0.2222222222222222,
              "#7201a8"
             ],
             [
              0.3333333333333333,
              "#9c179e"
             ],
             [
              0.4444444444444444,
              "#bd3786"
             ],
             [
              0.5555555555555556,
              "#d8576b"
             ],
             [
              0.6666666666666666,
              "#ed7953"
             ],
             [
              0.7777777777777778,
              "#fb9f3a"
             ],
             [
              0.8888888888888888,
              "#fdca26"
             ],
             [
              1,
              "#f0f921"
             ]
            ],
            "type": "surface"
           }
          ],
          "table": [
           {
            "cells": {
             "fill": {
              "color": "#EBF0F8"
             },
             "line": {
              "color": "white"
             }
            },
            "header": {
             "fill": {
              "color": "#C8D4E3"
             },
             "line": {
              "color": "white"
             }
            },
            "type": "table"
           }
          ]
         },
         "layout": {
          "annotationdefaults": {
           "arrowcolor": "#2a3f5f",
           "arrowhead": 0,
           "arrowwidth": 1
          },
          "autotypenumbers": "strict",
          "coloraxis": {
           "colorbar": {
            "outlinewidth": 0,
            "ticks": ""
           }
          },
          "colorscale": {
           "diverging": [
            [
             0,
             "#8e0152"
            ],
            [
             0.1,
             "#c51b7d"
            ],
            [
             0.2,
             "#de77ae"
            ],
            [
             0.3,
             "#f1b6da"
            ],
            [
             0.4,
             "#fde0ef"
            ],
            [
             0.5,
             "#f7f7f7"
            ],
            [
             0.6,
             "#e6f5d0"
            ],
            [
             0.7,
             "#b8e186"
            ],
            [
             0.8,
             "#7fbc41"
            ],
            [
             0.9,
             "#4d9221"
            ],
            [
             1,
             "#276419"
            ]
           ],
           "sequential": [
            [
             0,
             "#0d0887"
            ],
            [
             0.1111111111111111,
             "#46039f"
            ],
            [
             0.2222222222222222,
             "#7201a8"
            ],
            [
             0.3333333333333333,
             "#9c179e"
            ],
            [
             0.4444444444444444,
             "#bd3786"
            ],
            [
             0.5555555555555556,
             "#d8576b"
            ],
            [
             0.6666666666666666,
             "#ed7953"
            ],
            [
             0.7777777777777778,
             "#fb9f3a"
            ],
            [
             0.8888888888888888,
             "#fdca26"
            ],
            [
             1,
             "#f0f921"
            ]
           ],
           "sequentialminus": [
            [
             0,
             "#0d0887"
            ],
            [
             0.1111111111111111,
             "#46039f"
            ],
            [
             0.2222222222222222,
             "#7201a8"
            ],
            [
             0.3333333333333333,
             "#9c179e"
            ],
            [
             0.4444444444444444,
             "#bd3786"
            ],
            [
             0.5555555555555556,
             "#d8576b"
            ],
            [
             0.6666666666666666,
             "#ed7953"
            ],
            [
             0.7777777777777778,
             "#fb9f3a"
            ],
            [
             0.8888888888888888,
             "#fdca26"
            ],
            [
             1,
             "#f0f921"
            ]
           ]
          },
          "colorway": [
           "#636efa",
           "#EF553B",
           "#00cc96",
           "#ab63fa",
           "#FFA15A",
           "#19d3f3",
           "#FF6692",
           "#B6E880",
           "#FF97FF",
           "#FECB52"
          ],
          "font": {
           "color": "#2a3f5f"
          },
          "geo": {
           "bgcolor": "white",
           "lakecolor": "white",
           "landcolor": "#E5ECF6",
           "showlakes": true,
           "showland": true,
           "subunitcolor": "white"
          },
          "hoverlabel": {
           "align": "left"
          },
          "hovermode": "closest",
          "mapbox": {
           "style": "light"
          },
          "paper_bgcolor": "white",
          "plot_bgcolor": "#E5ECF6",
          "polar": {
           "angularaxis": {
            "gridcolor": "white",
            "linecolor": "white",
            "ticks": ""
           },
           "bgcolor": "#E5ECF6",
           "radialaxis": {
            "gridcolor": "white",
            "linecolor": "white",
            "ticks": ""
           }
          },
          "scene": {
           "xaxis": {
            "backgroundcolor": "#E5ECF6",
            "gridcolor": "white",
            "gridwidth": 2,
            "linecolor": "white",
            "showbackground": true,
            "ticks": "",
            "zerolinecolor": "white"
           },
           "yaxis": {
            "backgroundcolor": "#E5ECF6",
            "gridcolor": "white",
            "gridwidth": 2,
            "linecolor": "white",
            "showbackground": true,
            "ticks": "",
            "zerolinecolor": "white"
           },
           "zaxis": {
            "backgroundcolor": "#E5ECF6",
            "gridcolor": "white",
            "gridwidth": 2,
            "linecolor": "white",
            "showbackground": true,
            "ticks": "",
            "zerolinecolor": "white"
           }
          },
          "shapedefaults": {
           "line": {
            "color": "#2a3f5f"
           }
          },
          "ternary": {
           "aaxis": {
            "gridcolor": "white",
            "linecolor": "white",
            "ticks": ""
           },
           "baxis": {
            "gridcolor": "white",
            "linecolor": "white",
            "ticks": ""
           },
           "bgcolor": "#E5ECF6",
           "caxis": {
            "gridcolor": "white",
            "linecolor": "white",
            "ticks": ""
           }
          },
          "title": {
           "x": 0.05
          },
          "xaxis": {
           "automargin": true,
           "gridcolor": "white",
           "linecolor": "white",
           "ticks": "",
           "title": {
            "standoff": 15
           },
           "zerolinecolor": "white",
           "zerolinewidth": 2
          },
          "yaxis": {
           "automargin": true,
           "gridcolor": "white",
           "linecolor": "white",
           "ticks": "",
           "title": {
            "standoff": 15
           },
           "zerolinecolor": "white",
           "zerolinewidth": 2
          }
         }
        },
        "title": {
         "text": "Customer Segmentation by Income and Visit Frequency"
        },
        "xaxis": {
         "anchor": "y",
         "domain": [
          0,
          1
         ],
         "title": {
          "text": "Income"
         }
        },
        "yaxis": {
         "anchor": "x",
         "domain": [
          0,
          1
         ],
         "title": {
          "text": "Count"
         }
        }
       }
      }
     },
     "metadata": {},
     "output_type": "display_data"
    }
   ],
   "source": [
    "import pandas as pd\n",
    "import plotly.express as px\n",
    "\n",
    "# Load the dataset\n",
    "restaurant = pd.read_csv(\"restaurant_customer_satisfaction.csv\")\n",
    "\n",
    "# Clean data\n",
    "restaurant.dropna(inplace=True)\n",
    "\n",
    "# -----------------------------------------------\n",
    "# 1. Customer Segmentation Analysis\n",
    "# -----------------------------------------------\n",
    "\n",
    "# Segmentation based on income and visit frequency\n",
    "income_segment = restaurant.groupby([\"Income\", \"VisitFrequency\"]).size().reset_index(name=\"Count\")\n",
    "\n",
    "fig = px.scatter(income_segment, x=\"Income\", y=\"Count\", color=\"VisitFrequency\",\n",
    "                    title=\"Customer Segmentation by Income and Visit Frequency\")\n",
    "fig.show()\n",
    "\n"
   ]
  },
  {
   "cell_type": "code",
   "execution_count": 136,
   "metadata": {},
   "outputs": [
    {
     "data": {
      "application/vnd.plotly.v1+json": {
       "config": {
        "plotlyServerURL": "https://plot.ly"
       },
       "data": [
        {
         "alignmentgroup": "True",
         "hovertemplate": "LoyaltyProgramMember=%{x}<br>Count=%{y}<br>HighSatisfaction=%{marker.color}<extra></extra>",
         "legendgroup": "",
         "marker": {
          "color": {
           "bdata": "AAEAAQ==",
           "dtype": "i1"
          },
          "coloraxis": "coloraxis",
          "pattern": {
           "shape": ""
          }
         },
         "name": "",
         "offsetgroup": "",
         "orientation": "v",
         "showlegend": false,
         "textposition": "auto",
         "type": "bar",
         "x": {
          "bdata": "AAABAQ==",
          "dtype": "i1"
         },
         "xaxis": "x",
         "y": {
          "bdata": "zQI/AEYCigA=",
          "dtype": "i2"
         },
         "yaxis": "y"
        }
       ],
       "layout": {
        "barmode": "group",
        "coloraxis": {
         "colorbar": {
          "title": {
           "text": "HighSatisfaction"
          }
         },
         "colorscale": [
          [
           0,
           "#0d0887"
          ],
          [
           0.1111111111111111,
           "#46039f"
          ],
          [
           0.2222222222222222,
           "#7201a8"
          ],
          [
           0.3333333333333333,
           "#9c179e"
          ],
          [
           0.4444444444444444,
           "#bd3786"
          ],
          [
           0.5555555555555556,
           "#d8576b"
          ],
          [
           0.6666666666666666,
           "#ed7953"
          ],
          [
           0.7777777777777778,
           "#fb9f3a"
          ],
          [
           0.8888888888888888,
           "#fdca26"
          ],
          [
           1,
           "#f0f921"
          ]
         ]
        },
        "legend": {
         "tracegroupgap": 0
        },
        "template": {
         "data": {
          "bar": [
           {
            "error_x": {
             "color": "#2a3f5f"
            },
            "error_y": {
             "color": "#2a3f5f"
            },
            "marker": {
             "line": {
              "color": "#E5ECF6",
              "width": 0.5
             },
             "pattern": {
              "fillmode": "overlay",
              "size": 10,
              "solidity": 0.2
             }
            },
            "type": "bar"
           }
          ],
          "barpolar": [
           {
            "marker": {
             "line": {
              "color": "#E5ECF6",
              "width": 0.5
             },
             "pattern": {
              "fillmode": "overlay",
              "size": 10,
              "solidity": 0.2
             }
            },
            "type": "barpolar"
           }
          ],
          "carpet": [
           {
            "aaxis": {
             "endlinecolor": "#2a3f5f",
             "gridcolor": "white",
             "linecolor": "white",
             "minorgridcolor": "white",
             "startlinecolor": "#2a3f5f"
            },
            "baxis": {
             "endlinecolor": "#2a3f5f",
             "gridcolor": "white",
             "linecolor": "white",
             "minorgridcolor": "white",
             "startlinecolor": "#2a3f5f"
            },
            "type": "carpet"
           }
          ],
          "choropleth": [
           {
            "colorbar": {
             "outlinewidth": 0,
             "ticks": ""
            },
            "type": "choropleth"
           }
          ],
          "contour": [
           {
            "colorbar": {
             "outlinewidth": 0,
             "ticks": ""
            },
            "colorscale": [
             [
              0,
              "#0d0887"
             ],
             [
              0.1111111111111111,
              "#46039f"
             ],
             [
              0.2222222222222222,
              "#7201a8"
             ],
             [
              0.3333333333333333,
              "#9c179e"
             ],
             [
              0.4444444444444444,
              "#bd3786"
             ],
             [
              0.5555555555555556,
              "#d8576b"
             ],
             [
              0.6666666666666666,
              "#ed7953"
             ],
             [
              0.7777777777777778,
              "#fb9f3a"
             ],
             [
              0.8888888888888888,
              "#fdca26"
             ],
             [
              1,
              "#f0f921"
             ]
            ],
            "type": "contour"
           }
          ],
          "contourcarpet": [
           {
            "colorbar": {
             "outlinewidth": 0,
             "ticks": ""
            },
            "type": "contourcarpet"
           }
          ],
          "heatmap": [
           {
            "colorbar": {
             "outlinewidth": 0,
             "ticks": ""
            },
            "colorscale": [
             [
              0,
              "#0d0887"
             ],
             [
              0.1111111111111111,
              "#46039f"
             ],
             [
              0.2222222222222222,
              "#7201a8"
             ],
             [
              0.3333333333333333,
              "#9c179e"
             ],
             [
              0.4444444444444444,
              "#bd3786"
             ],
             [
              0.5555555555555556,
              "#d8576b"
             ],
             [
              0.6666666666666666,
              "#ed7953"
             ],
             [
              0.7777777777777778,
              "#fb9f3a"
             ],
             [
              0.8888888888888888,
              "#fdca26"
             ],
             [
              1,
              "#f0f921"
             ]
            ],
            "type": "heatmap"
           }
          ],
          "histogram": [
           {
            "marker": {
             "pattern": {
              "fillmode": "overlay",
              "size": 10,
              "solidity": 0.2
             }
            },
            "type": "histogram"
           }
          ],
          "histogram2d": [
           {
            "colorbar": {
             "outlinewidth": 0,
             "ticks": ""
            },
            "colorscale": [
             [
              0,
              "#0d0887"
             ],
             [
              0.1111111111111111,
              "#46039f"
             ],
             [
              0.2222222222222222,
              "#7201a8"
             ],
             [
              0.3333333333333333,
              "#9c179e"
             ],
             [
              0.4444444444444444,
              "#bd3786"
             ],
             [
              0.5555555555555556,
              "#d8576b"
             ],
             [
              0.6666666666666666,
              "#ed7953"
             ],
             [
              0.7777777777777778,
              "#fb9f3a"
             ],
             [
              0.8888888888888888,
              "#fdca26"
             ],
             [
              1,
              "#f0f921"
             ]
            ],
            "type": "histogram2d"
           }
          ],
          "histogram2dcontour": [
           {
            "colorbar": {
             "outlinewidth": 0,
             "ticks": ""
            },
            "colorscale": [
             [
              0,
              "#0d0887"
             ],
             [
              0.1111111111111111,
              "#46039f"
             ],
             [
              0.2222222222222222,
              "#7201a8"
             ],
             [
              0.3333333333333333,
              "#9c179e"
             ],
             [
              0.4444444444444444,
              "#bd3786"
             ],
             [
              0.5555555555555556,
              "#d8576b"
             ],
             [
              0.6666666666666666,
              "#ed7953"
             ],
             [
              0.7777777777777778,
              "#fb9f3a"
             ],
             [
              0.8888888888888888,
              "#fdca26"
             ],
             [
              1,
              "#f0f921"
             ]
            ],
            "type": "histogram2dcontour"
           }
          ],
          "mesh3d": [
           {
            "colorbar": {
             "outlinewidth": 0,
             "ticks": ""
            },
            "type": "mesh3d"
           }
          ],
          "parcoords": [
           {
            "line": {
             "colorbar": {
              "outlinewidth": 0,
              "ticks": ""
             }
            },
            "type": "parcoords"
           }
          ],
          "pie": [
           {
            "automargin": true,
            "type": "pie"
           }
          ],
          "scatter": [
           {
            "fillpattern": {
             "fillmode": "overlay",
             "size": 10,
             "solidity": 0.2
            },
            "type": "scatter"
           }
          ],
          "scatter3d": [
           {
            "line": {
             "colorbar": {
              "outlinewidth": 0,
              "ticks": ""
             }
            },
            "marker": {
             "colorbar": {
              "outlinewidth": 0,
              "ticks": ""
             }
            },
            "type": "scatter3d"
           }
          ],
          "scattercarpet": [
           {
            "marker": {
             "colorbar": {
              "outlinewidth": 0,
              "ticks": ""
             }
            },
            "type": "scattercarpet"
           }
          ],
          "scattergeo": [
           {
            "marker": {
             "colorbar": {
              "outlinewidth": 0,
              "ticks": ""
             }
            },
            "type": "scattergeo"
           }
          ],
          "scattergl": [
           {
            "marker": {
             "colorbar": {
              "outlinewidth": 0,
              "ticks": ""
             }
            },
            "type": "scattergl"
           }
          ],
          "scattermap": [
           {
            "marker": {
             "colorbar": {
              "outlinewidth": 0,
              "ticks": ""
             }
            },
            "type": "scattermap"
           }
          ],
          "scattermapbox": [
           {
            "marker": {
             "colorbar": {
              "outlinewidth": 0,
              "ticks": ""
             }
            },
            "type": "scattermapbox"
           }
          ],
          "scatterpolar": [
           {
            "marker": {
             "colorbar": {
              "outlinewidth": 0,
              "ticks": ""
             }
            },
            "type": "scatterpolar"
           }
          ],
          "scatterpolargl": [
           {
            "marker": {
             "colorbar": {
              "outlinewidth": 0,
              "ticks": ""
             }
            },
            "type": "scatterpolargl"
           }
          ],
          "scatterternary": [
           {
            "marker": {
             "colorbar": {
              "outlinewidth": 0,
              "ticks": ""
             }
            },
            "type": "scatterternary"
           }
          ],
          "surface": [
           {
            "colorbar": {
             "outlinewidth": 0,
             "ticks": ""
            },
            "colorscale": [
             [
              0,
              "#0d0887"
             ],
             [
              0.1111111111111111,
              "#46039f"
             ],
             [
              0.2222222222222222,
              "#7201a8"
             ],
             [
              0.3333333333333333,
              "#9c179e"
             ],
             [
              0.4444444444444444,
              "#bd3786"
             ],
             [
              0.5555555555555556,
              "#d8576b"
             ],
             [
              0.6666666666666666,
              "#ed7953"
             ],
             [
              0.7777777777777778,
              "#fb9f3a"
             ],
             [
              0.8888888888888888,
              "#fdca26"
             ],
             [
              1,
              "#f0f921"
             ]
            ],
            "type": "surface"
           }
          ],
          "table": [
           {
            "cells": {
             "fill": {
              "color": "#EBF0F8"
             },
             "line": {
              "color": "white"
             }
            },
            "header": {
             "fill": {
              "color": "#C8D4E3"
             },
             "line": {
              "color": "white"
             }
            },
            "type": "table"
           }
          ]
         },
         "layout": {
          "annotationdefaults": {
           "arrowcolor": "#2a3f5f",
           "arrowhead": 0,
           "arrowwidth": 1
          },
          "autotypenumbers": "strict",
          "coloraxis": {
           "colorbar": {
            "outlinewidth": 0,
            "ticks": ""
           }
          },
          "colorscale": {
           "diverging": [
            [
             0,
             "#8e0152"
            ],
            [
             0.1,
             "#c51b7d"
            ],
            [
             0.2,
             "#de77ae"
            ],
            [
             0.3,
             "#f1b6da"
            ],
            [
             0.4,
             "#fde0ef"
            ],
            [
             0.5,
             "#f7f7f7"
            ],
            [
             0.6,
             "#e6f5d0"
            ],
            [
             0.7,
             "#b8e186"
            ],
            [
             0.8,
             "#7fbc41"
            ],
            [
             0.9,
             "#4d9221"
            ],
            [
             1,
             "#276419"
            ]
           ],
           "sequential": [
            [
             0,
             "#0d0887"
            ],
            [
             0.1111111111111111,
             "#46039f"
            ],
            [
             0.2222222222222222,
             "#7201a8"
            ],
            [
             0.3333333333333333,
             "#9c179e"
            ],
            [
             0.4444444444444444,
             "#bd3786"
            ],
            [
             0.5555555555555556,
             "#d8576b"
            ],
            [
             0.6666666666666666,
             "#ed7953"
            ],
            [
             0.7777777777777778,
             "#fb9f3a"
            ],
            [
             0.8888888888888888,
             "#fdca26"
            ],
            [
             1,
             "#f0f921"
            ]
           ],
           "sequentialminus": [
            [
             0,
             "#0d0887"
            ],
            [
             0.1111111111111111,
             "#46039f"
            ],
            [
             0.2222222222222222,
             "#7201a8"
            ],
            [
             0.3333333333333333,
             "#9c179e"
            ],
            [
             0.4444444444444444,
             "#bd3786"
            ],
            [
             0.5555555555555556,
             "#d8576b"
            ],
            [
             0.6666666666666666,
             "#ed7953"
            ],
            [
             0.7777777777777778,
             "#fb9f3a"
            ],
            [
             0.8888888888888888,
             "#fdca26"
            ],
            [
             1,
             "#f0f921"
            ]
           ]
          },
          "colorway": [
           "#636efa",
           "#EF553B",
           "#00cc96",
           "#ab63fa",
           "#FFA15A",
           "#19d3f3",
           "#FF6692",
           "#B6E880",
           "#FF97FF",
           "#FECB52"
          ],
          "font": {
           "color": "#2a3f5f"
          },
          "geo": {
           "bgcolor": "white",
           "lakecolor": "white",
           "landcolor": "#E5ECF6",
           "showlakes": true,
           "showland": true,
           "subunitcolor": "white"
          },
          "hoverlabel": {
           "align": "left"
          },
          "hovermode": "closest",
          "mapbox": {
           "style": "light"
          },
          "paper_bgcolor": "white",
          "plot_bgcolor": "#E5ECF6",
          "polar": {
           "angularaxis": {
            "gridcolor": "white",
            "linecolor": "white",
            "ticks": ""
           },
           "bgcolor": "#E5ECF6",
           "radialaxis": {
            "gridcolor": "white",
            "linecolor": "white",
            "ticks": ""
           }
          },
          "scene": {
           "xaxis": {
            "backgroundcolor": "#E5ECF6",
            "gridcolor": "white",
            "gridwidth": 2,
            "linecolor": "white",
            "showbackground": true,
            "ticks": "",
            "zerolinecolor": "white"
           },
           "yaxis": {
            "backgroundcolor": "#E5ECF6",
            "gridcolor": "white",
            "gridwidth": 2,
            "linecolor": "white",
            "showbackground": true,
            "ticks": "",
            "zerolinecolor": "white"
           },
           "zaxis": {
            "backgroundcolor": "#E5ECF6",
            "gridcolor": "white",
            "gridwidth": 2,
            "linecolor": "white",
            "showbackground": true,
            "ticks": "",
            "zerolinecolor": "white"
           }
          },
          "shapedefaults": {
           "line": {
            "color": "#2a3f5f"
           }
          },
          "ternary": {
           "aaxis": {
            "gridcolor": "white",
            "linecolor": "white",
            "ticks": ""
           },
           "baxis": {
            "gridcolor": "white",
            "linecolor": "white",
            "ticks": ""
           },
           "bgcolor": "#E5ECF6",
           "caxis": {
            "gridcolor": "white",
            "linecolor": "white",
            "ticks": ""
           }
          },
          "title": {
           "x": 0.05
          },
          "xaxis": {
           "automargin": true,
           "gridcolor": "white",
           "linecolor": "white",
           "ticks": "",
           "title": {
            "standoff": 15
           },
           "zerolinecolor": "white",
           "zerolinewidth": 2
          },
          "yaxis": {
           "automargin": true,
           "gridcolor": "white",
           "linecolor": "white",
           "ticks": "",
           "title": {
            "standoff": 15
           },
           "zerolinecolor": "white",
           "zerolinewidth": 2
          }
         }
        },
        "title": {
         "text": "Loyalty Program Members and Satisfaction Levels"
        },
        "xaxis": {
         "anchor": "y",
         "domain": [
          0,
          1
         ],
         "title": {
          "text": "LoyaltyProgramMember"
         }
        },
        "yaxis": {
         "anchor": "x",
         "domain": [
          0,
          1
         ],
         "title": {
          "text": "Count"
         }
        }
       }
      }
     },
     "metadata": {},
     "output_type": "display_data"
    }
   ],
   "source": [
    "# -----------------------------------------------\n",
    "# 2. Loyalty and High Satisfaction Customers\n",
    "# -----------------------------------------------\n",
    "\n",
    "# Analyze loyalty program members and satisfaction levels\n",
    "loyalty_data = restaurant.groupby([\"LoyaltyProgramMember\", \"HighSatisfaction\"]).size().reset_index(name=\"Count\")\n",
    "\n",
    "fig = px.bar(loyalty_data, x=\"LoyaltyProgramMember\", y=\"Count\", color=\"HighSatisfaction\",\n",
    "             title=\"Loyalty Program Members and Satisfaction Levels\", barmode=\"group\")\n",
    "fig.show()\n"
   ]
  },
  {
   "cell_type": "code",
   "execution_count": 137,
   "metadata": {},
   "outputs": [
    {
     "data": {
      "application/vnd.plotly.v1+json": {
       "config": {
        "plotlyServerURL": "https://plot.ly"
       },
       "data": [
        {
         "hovertemplate": "TimeOfVisit=%{x}<br>AverageSpend=%{text}<extra></extra>",
         "legendgroup": "Breakfast",
         "marker": {
          "color": "#636efa",
          "pattern": {
           "shape": ""
          }
         },
         "name": "Breakfast",
         "orientation": "v",
         "showlegend": true,
         "text": {
          "bdata": "mrcYBb996UA=",
          "dtype": "f8"
         },
         "textposition": "outside",
         "texttemplate": "%{text:.2f}",
         "type": "bar",
         "x": [
          "Breakfast"
         ],
         "xaxis": "x",
         "y": {
          "bdata": "mrcYBb996UA=",
          "dtype": "f8"
         },
         "yaxis": "y"
        },
        {
         "hovertemplate": "TimeOfVisit=%{x}<br>AverageSpend=%{text}<extra></extra>",
         "legendgroup": "Dinner",
         "marker": {
          "color": "#EF553B",
          "pattern": {
           "shape": ""
          }
         },
         "name": "Dinner",
         "orientation": "v",
         "showlegend": true,
         "text": {
          "bdata": "ABkxSRpc6UA=",
          "dtype": "f8"
         },
         "textposition": "outside",
         "texttemplate": "%{text:.2f}",
         "type": "bar",
         "x": [
          "Dinner"
         ],
         "xaxis": "x",
         "y": {
          "bdata": "ABkxSRpc6UA=",
          "dtype": "f8"
         },
         "yaxis": "y"
        },
        {
         "hovertemplate": "TimeOfVisit=%{x}<br>AverageSpend=%{text}<extra></extra>",
         "legendgroup": "Lunch",
         "marker": {
          "color": "#00cc96",
          "pattern": {
           "shape": ""
          }
         },
         "name": "Lunch",
         "orientation": "v",
         "showlegend": true,
         "text": {
          "bdata": "8yjg3TaJ6kA=",
          "dtype": "f8"
         },
         "textposition": "outside",
         "texttemplate": "%{text:.2f}",
         "type": "bar",
         "x": [
          "Lunch"
         ],
         "xaxis": "x",
         "y": {
          "bdata": "8yjg3TaJ6kA=",
          "dtype": "f8"
         },
         "yaxis": "y"
        }
       ],
       "layout": {
        "barmode": "relative",
        "legend": {
         "title": {
          "text": "TimeOfVisit"
         },
         "tracegroupgap": 0
        },
        "template": {
         "data": {
          "bar": [
           {
            "error_x": {
             "color": "#2a3f5f"
            },
            "error_y": {
             "color": "#2a3f5f"
            },
            "marker": {
             "line": {
              "color": "#E5ECF6",
              "width": 0.5
             },
             "pattern": {
              "fillmode": "overlay",
              "size": 10,
              "solidity": 0.2
             }
            },
            "type": "bar"
           }
          ],
          "barpolar": [
           {
            "marker": {
             "line": {
              "color": "#E5ECF6",
              "width": 0.5
             },
             "pattern": {
              "fillmode": "overlay",
              "size": 10,
              "solidity": 0.2
             }
            },
            "type": "barpolar"
           }
          ],
          "carpet": [
           {
            "aaxis": {
             "endlinecolor": "#2a3f5f",
             "gridcolor": "white",
             "linecolor": "white",
             "minorgridcolor": "white",
             "startlinecolor": "#2a3f5f"
            },
            "baxis": {
             "endlinecolor": "#2a3f5f",
             "gridcolor": "white",
             "linecolor": "white",
             "minorgridcolor": "white",
             "startlinecolor": "#2a3f5f"
            },
            "type": "carpet"
           }
          ],
          "choropleth": [
           {
            "colorbar": {
             "outlinewidth": 0,
             "ticks": ""
            },
            "type": "choropleth"
           }
          ],
          "contour": [
           {
            "colorbar": {
             "outlinewidth": 0,
             "ticks": ""
            },
            "colorscale": [
             [
              0,
              "#0d0887"
             ],
             [
              0.1111111111111111,
              "#46039f"
             ],
             [
              0.2222222222222222,
              "#7201a8"
             ],
             [
              0.3333333333333333,
              "#9c179e"
             ],
             [
              0.4444444444444444,
              "#bd3786"
             ],
             [
              0.5555555555555556,
              "#d8576b"
             ],
             [
              0.6666666666666666,
              "#ed7953"
             ],
             [
              0.7777777777777778,
              "#fb9f3a"
             ],
             [
              0.8888888888888888,
              "#fdca26"
             ],
             [
              1,
              "#f0f921"
             ]
            ],
            "type": "contour"
           }
          ],
          "contourcarpet": [
           {
            "colorbar": {
             "outlinewidth": 0,
             "ticks": ""
            },
            "type": "contourcarpet"
           }
          ],
          "heatmap": [
           {
            "colorbar": {
             "outlinewidth": 0,
             "ticks": ""
            },
            "colorscale": [
             [
              0,
              "#0d0887"
             ],
             [
              0.1111111111111111,
              "#46039f"
             ],
             [
              0.2222222222222222,
              "#7201a8"
             ],
             [
              0.3333333333333333,
              "#9c179e"
             ],
             [
              0.4444444444444444,
              "#bd3786"
             ],
             [
              0.5555555555555556,
              "#d8576b"
             ],
             [
              0.6666666666666666,
              "#ed7953"
             ],
             [
              0.7777777777777778,
              "#fb9f3a"
             ],
             [
              0.8888888888888888,
              "#fdca26"
             ],
             [
              1,
              "#f0f921"
             ]
            ],
            "type": "heatmap"
           }
          ],
          "histogram": [
           {
            "marker": {
             "pattern": {
              "fillmode": "overlay",
              "size": 10,
              "solidity": 0.2
             }
            },
            "type": "histogram"
           }
          ],
          "histogram2d": [
           {
            "colorbar": {
             "outlinewidth": 0,
             "ticks": ""
            },
            "colorscale": [
             [
              0,
              "#0d0887"
             ],
             [
              0.1111111111111111,
              "#46039f"
             ],
             [
              0.2222222222222222,
              "#7201a8"
             ],
             [
              0.3333333333333333,
              "#9c179e"
             ],
             [
              0.4444444444444444,
              "#bd3786"
             ],
             [
              0.5555555555555556,
              "#d8576b"
             ],
             [
              0.6666666666666666,
              "#ed7953"
             ],
             [
              0.7777777777777778,
              "#fb9f3a"
             ],
             [
              0.8888888888888888,
              "#fdca26"
             ],
             [
              1,
              "#f0f921"
             ]
            ],
            "type": "histogram2d"
           }
          ],
          "histogram2dcontour": [
           {
            "colorbar": {
             "outlinewidth": 0,
             "ticks": ""
            },
            "colorscale": [
             [
              0,
              "#0d0887"
             ],
             [
              0.1111111111111111,
              "#46039f"
             ],
             [
              0.2222222222222222,
              "#7201a8"
             ],
             [
              0.3333333333333333,
              "#9c179e"
             ],
             [
              0.4444444444444444,
              "#bd3786"
             ],
             [
              0.5555555555555556,
              "#d8576b"
             ],
             [
              0.6666666666666666,
              "#ed7953"
             ],
             [
              0.7777777777777778,
              "#fb9f3a"
             ],
             [
              0.8888888888888888,
              "#fdca26"
             ],
             [
              1,
              "#f0f921"
             ]
            ],
            "type": "histogram2dcontour"
           }
          ],
          "mesh3d": [
           {
            "colorbar": {
             "outlinewidth": 0,
             "ticks": ""
            },
            "type": "mesh3d"
           }
          ],
          "parcoords": [
           {
            "line": {
             "colorbar": {
              "outlinewidth": 0,
              "ticks": ""
             }
            },
            "type": "parcoords"
           }
          ],
          "pie": [
           {
            "automargin": true,
            "type": "pie"
           }
          ],
          "scatter": [
           {
            "fillpattern": {
             "fillmode": "overlay",
             "size": 10,
             "solidity": 0.2
            },
            "type": "scatter"
           }
          ],
          "scatter3d": [
           {
            "line": {
             "colorbar": {
              "outlinewidth": 0,
              "ticks": ""
             }
            },
            "marker": {
             "colorbar": {
              "outlinewidth": 0,
              "ticks": ""
             }
            },
            "type": "scatter3d"
           }
          ],
          "scattercarpet": [
           {
            "marker": {
             "colorbar": {
              "outlinewidth": 0,
              "ticks": ""
             }
            },
            "type": "scattercarpet"
           }
          ],
          "scattergeo": [
           {
            "marker": {
             "colorbar": {
              "outlinewidth": 0,
              "ticks": ""
             }
            },
            "type": "scattergeo"
           }
          ],
          "scattergl": [
           {
            "marker": {
             "colorbar": {
              "outlinewidth": 0,
              "ticks": ""
             }
            },
            "type": "scattergl"
           }
          ],
          "scattermap": [
           {
            "marker": {
             "colorbar": {
              "outlinewidth": 0,
              "ticks": ""
             }
            },
            "type": "scattermap"
           }
          ],
          "scattermapbox": [
           {
            "marker": {
             "colorbar": {
              "outlinewidth": 0,
              "ticks": ""
             }
            },
            "type": "scattermapbox"
           }
          ],
          "scatterpolar": [
           {
            "marker": {
             "colorbar": {
              "outlinewidth": 0,
              "ticks": ""
             }
            },
            "type": "scatterpolar"
           }
          ],
          "scatterpolargl": [
           {
            "marker": {
             "colorbar": {
              "outlinewidth": 0,
              "ticks": ""
             }
            },
            "type": "scatterpolargl"
           }
          ],
          "scatterternary": [
           {
            "marker": {
             "colorbar": {
              "outlinewidth": 0,
              "ticks": ""
             }
            },
            "type": "scatterternary"
           }
          ],
          "surface": [
           {
            "colorbar": {
             "outlinewidth": 0,
             "ticks": ""
            },
            "colorscale": [
             [
              0,
              "#0d0887"
             ],
             [
              0.1111111111111111,
              "#46039f"
             ],
             [
              0.2222222222222222,
              "#7201a8"
             ],
             [
              0.3333333333333333,
              "#9c179e"
             ],
             [
              0.4444444444444444,
              "#bd3786"
             ],
             [
              0.5555555555555556,
              "#d8576b"
             ],
             [
              0.6666666666666666,
              "#ed7953"
             ],
             [
              0.7777777777777778,
              "#fb9f3a"
             ],
             [
              0.8888888888888888,
              "#fdca26"
             ],
             [
              1,
              "#f0f921"
             ]
            ],
            "type": "surface"
           }
          ],
          "table": [
           {
            "cells": {
             "fill": {
              "color": "#EBF0F8"
             },
             "line": {
              "color": "white"
             }
            },
            "header": {
             "fill": {
              "color": "#C8D4E3"
             },
             "line": {
              "color": "white"
             }
            },
            "type": "table"
           }
          ]
         },
         "layout": {
          "annotationdefaults": {
           "arrowcolor": "#2a3f5f",
           "arrowhead": 0,
           "arrowwidth": 1
          },
          "autotypenumbers": "strict",
          "coloraxis": {
           "colorbar": {
            "outlinewidth": 0,
            "ticks": ""
           }
          },
          "colorscale": {
           "diverging": [
            [
             0,
             "#8e0152"
            ],
            [
             0.1,
             "#c51b7d"
            ],
            [
             0.2,
             "#de77ae"
            ],
            [
             0.3,
             "#f1b6da"
            ],
            [
             0.4,
             "#fde0ef"
            ],
            [
             0.5,
             "#f7f7f7"
            ],
            [
             0.6,
             "#e6f5d0"
            ],
            [
             0.7,
             "#b8e186"
            ],
            [
             0.8,
             "#7fbc41"
            ],
            [
             0.9,
             "#4d9221"
            ],
            [
             1,
             "#276419"
            ]
           ],
           "sequential": [
            [
             0,
             "#0d0887"
            ],
            [
             0.1111111111111111,
             "#46039f"
            ],
            [
             0.2222222222222222,
             "#7201a8"
            ],
            [
             0.3333333333333333,
             "#9c179e"
            ],
            [
             0.4444444444444444,
             "#bd3786"
            ],
            [
             0.5555555555555556,
             "#d8576b"
            ],
            [
             0.6666666666666666,
             "#ed7953"
            ],
            [
             0.7777777777777778,
             "#fb9f3a"
            ],
            [
             0.8888888888888888,
             "#fdca26"
            ],
            [
             1,
             "#f0f921"
            ]
           ],
           "sequentialminus": [
            [
             0,
             "#0d0887"
            ],
            [
             0.1111111111111111,
             "#46039f"
            ],
            [
             0.2222222222222222,
             "#7201a8"
            ],
            [
             0.3333333333333333,
             "#9c179e"
            ],
            [
             0.4444444444444444,
             "#bd3786"
            ],
            [
             0.5555555555555556,
             "#d8576b"
            ],
            [
             0.6666666666666666,
             "#ed7953"
            ],
            [
             0.7777777777777778,
             "#fb9f3a"
            ],
            [
             0.8888888888888888,
             "#fdca26"
            ],
            [
             1,
             "#f0f921"
            ]
           ]
          },
          "colorway": [
           "#636efa",
           "#EF553B",
           "#00cc96",
           "#ab63fa",
           "#FFA15A",
           "#19d3f3",
           "#FF6692",
           "#B6E880",
           "#FF97FF",
           "#FECB52"
          ],
          "font": {
           "color": "#2a3f5f"
          },
          "geo": {
           "bgcolor": "white",
           "lakecolor": "white",
           "landcolor": "#E5ECF6",
           "showlakes": true,
           "showland": true,
           "subunitcolor": "white"
          },
          "hoverlabel": {
           "align": "left"
          },
          "hovermode": "closest",
          "mapbox": {
           "style": "light"
          },
          "paper_bgcolor": "white",
          "plot_bgcolor": "#E5ECF6",
          "polar": {
           "angularaxis": {
            "gridcolor": "white",
            "linecolor": "white",
            "ticks": ""
           },
           "bgcolor": "#E5ECF6",
           "radialaxis": {
            "gridcolor": "white",
            "linecolor": "white",
            "ticks": ""
           }
          },
          "scene": {
           "xaxis": {
            "backgroundcolor": "#E5ECF6",
            "gridcolor": "white",
            "gridwidth": 2,
            "linecolor": "white",
            "showbackground": true,
            "ticks": "",
            "zerolinecolor": "white"
           },
           "yaxis": {
            "backgroundcolor": "#E5ECF6",
            "gridcolor": "white",
            "gridwidth": 2,
            "linecolor": "white",
            "showbackground": true,
            "ticks": "",
            "zerolinecolor": "white"
           },
           "zaxis": {
            "backgroundcolor": "#E5ECF6",
            "gridcolor": "white",
            "gridwidth": 2,
            "linecolor": "white",
            "showbackground": true,
            "ticks": "",
            "zerolinecolor": "white"
           }
          },
          "shapedefaults": {
           "line": {
            "color": "#2a3f5f"
           }
          },
          "ternary": {
           "aaxis": {
            "gridcolor": "white",
            "linecolor": "white",
            "ticks": ""
           },
           "baxis": {
            "gridcolor": "white",
            "linecolor": "white",
            "ticks": ""
           },
           "bgcolor": "#E5ECF6",
           "caxis": {
            "gridcolor": "white",
            "linecolor": "white",
            "ticks": ""
           }
          },
          "title": {
           "x": 0.05
          },
          "xaxis": {
           "automargin": true,
           "gridcolor": "white",
           "linecolor": "white",
           "ticks": "",
           "title": {
            "standoff": 15
           },
           "zerolinecolor": "white",
           "zerolinewidth": 2
          },
          "yaxis": {
           "automargin": true,
           "gridcolor": "white",
           "linecolor": "white",
           "ticks": "",
           "title": {
            "standoff": 15
           },
           "zerolinecolor": "white",
           "zerolinewidth": 2
          }
         }
        },
        "title": {
         "text": "Total Spend by Time of Visit"
        },
        "xaxis": {
         "anchor": "y",
         "categoryarray": [
          "Breakfast",
          "Dinner",
          "Lunch"
         ],
         "categoryorder": "array",
         "domain": [
          0,
          1
         ],
         "title": {
          "text": "TimeOfVisit"
         }
        },
        "yaxis": {
         "anchor": "x",
         "domain": [
          0,
          1
         ],
         "title": {
          "text": "AverageSpend"
         }
        }
       }
      }
     },
     "metadata": {},
     "output_type": "display_data"
    }
   ],
   "source": [
    "\n",
    "# -----------------------------------------------\n",
    "# 3. Optimal Service Time & Revenue Impact\n",
    "# -----------------------------------------------\n",
    "\n",
    "# Analyze revenue across different times\n",
    "time_spend = restaurant.groupby(\"TimeOfVisit\")[\"AverageSpend\"].sum().reset_index()\n",
    "\n",
    "fig = px.bar(time_spend, x=\"TimeOfVisit\", y=\"AverageSpend\", title=\"Total Spend by Time of Visit\",\n",
    "             color=\"TimeOfVisit\", text=\"AverageSpend\")\n",
    "fig.update_traces(texttemplate='%{text:.2f}', textposition='outside')\n",
    "fig.show()\n"
   ]
  },
  {
   "cell_type": "code",
   "execution_count": 138,
   "metadata": {},
   "outputs": [
    {
     "data": {
      "application/vnd.plotly.v1+json": {
       "config": {
        "plotlyServerURL": "https://plot.ly"
       },
       "data": [
        {
         "hovertemplate": "WaitTime=%{x}<br>OverallRating=%{marker.color}<extra></extra>",
         "legendgroup": "",
         "marker": {
          "color": {
           "bdata": "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",
           "dtype": "f8"
          },
          "coloraxis": "coloraxis",
          "symbol": "circle"
         },
         "mode": "markers",
         "name": "",
         "showlegend": false,
         "type": "scattergl",
         "x": {
          "bdata": "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",
          "dtype": "f8"
         },
         "xaxis": "x",
         "y": {
          "bdata": "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",
          "dtype": "f8"
         },
         "yaxis": "y"
        }
       ],
       "layout": {
        "coloraxis": {
         "colorbar": {
          "title": {
           "text": "OverallRating"
          }
         },
         "colorscale": [
          [
           0,
           "#0d0887"
          ],
          [
           0.1111111111111111,
           "#46039f"
          ],
          [
           0.2222222222222222,
           "#7201a8"
          ],
          [
           0.3333333333333333,
           "#9c179e"
          ],
          [
           0.4444444444444444,
           "#bd3786"
          ],
          [
           0.5555555555555556,
           "#d8576b"
          ],
          [
           0.6666666666666666,
           "#ed7953"
          ],
          [
           0.7777777777777778,
           "#fb9f3a"
          ],
          [
           0.8888888888888888,
           "#fdca26"
          ],
          [
           1,
           "#f0f921"
          ]
         ]
        },
        "legend": {
         "tracegroupgap": 0
        },
        "template": {
         "data": {
          "bar": [
           {
            "error_x": {
             "color": "#2a3f5f"
            },
            "error_y": {
             "color": "#2a3f5f"
            },
            "marker": {
             "line": {
              "color": "#E5ECF6",
              "width": 0.5
             },
             "pattern": {
              "fillmode": "overlay",
              "size": 10,
              "solidity": 0.2
             }
            },
            "type": "bar"
           }
          ],
          "barpolar": [
           {
            "marker": {
             "line": {
              "color": "#E5ECF6",
              "width": 0.5
             },
             "pattern": {
              "fillmode": "overlay",
              "size": 10,
              "solidity": 0.2
             }
            },
            "type": "barpolar"
           }
          ],
          "carpet": [
           {
            "aaxis": {
             "endlinecolor": "#2a3f5f",
             "gridcolor": "white",
             "linecolor": "white",
             "minorgridcolor": "white",
             "startlinecolor": "#2a3f5f"
            },
            "baxis": {
             "endlinecolor": "#2a3f5f",
             "gridcolor": "white",
             "linecolor": "white",
             "minorgridcolor": "white",
             "startlinecolor": "#2a3f5f"
            },
            "type": "carpet"
           }
          ],
          "choropleth": [
           {
            "colorbar": {
             "outlinewidth": 0,
             "ticks": ""
            },
            "type": "choropleth"
           }
          ],
          "contour": [
           {
            "colorbar": {
             "outlinewidth": 0,
             "ticks": ""
            },
            "colorscale": [
             [
              0,
              "#0d0887"
             ],
             [
              0.1111111111111111,
              "#46039f"
             ],
             [
              0.2222222222222222,
              "#7201a8"
             ],
             [
              0.3333333333333333,
              "#9c179e"
             ],
             [
              0.4444444444444444,
              "#bd3786"
             ],
             [
              0.5555555555555556,
              "#d8576b"
             ],
             [
              0.6666666666666666,
              "#ed7953"
             ],
             [
              0.7777777777777778,
              "#fb9f3a"
             ],
             [
              0.8888888888888888,
              "#fdca26"
             ],
             [
              1,
              "#f0f921"
             ]
            ],
            "type": "contour"
           }
          ],
          "contourcarpet": [
           {
            "colorbar": {
             "outlinewidth": 0,
             "ticks": ""
            },
            "type": "contourcarpet"
           }
          ],
          "heatmap": [
           {
            "colorbar": {
             "outlinewidth": 0,
             "ticks": ""
            },
            "colorscale": [
             [
              0,
              "#0d0887"
             ],
             [
              0.1111111111111111,
              "#46039f"
             ],
             [
              0.2222222222222222,
              "#7201a8"
             ],
             [
              0.3333333333333333,
              "#9c179e"
             ],
             [
              0.4444444444444444,
              "#bd3786"
             ],
             [
              0.5555555555555556,
              "#d8576b"
             ],
             [
              0.6666666666666666,
              "#ed7953"
             ],
             [
              0.7777777777777778,
              "#fb9f3a"
             ],
             [
              0.8888888888888888,
              "#fdca26"
             ],
             [
              1,
              "#f0f921"
             ]
            ],
            "type": "heatmap"
           }
          ],
          "histogram": [
           {
            "marker": {
             "pattern": {
              "fillmode": "overlay",
              "size": 10,
              "solidity": 0.2
             }
            },
            "type": "histogram"
           }
          ],
          "histogram2d": [
           {
            "colorbar": {
             "outlinewidth": 0,
             "ticks": ""
            },
            "colorscale": [
             [
              0,
              "#0d0887"
             ],
             [
              0.1111111111111111,
              "#46039f"
             ],
             [
              0.2222222222222222,
              "#7201a8"
             ],
             [
              0.3333333333333333,
              "#9c179e"
             ],
             [
              0.4444444444444444,
              "#bd3786"
             ],
             [
              0.5555555555555556,
              "#d8576b"
             ],
             [
              0.6666666666666666,
              "#ed7953"
             ],
             [
              0.7777777777777778,
              "#fb9f3a"
             ],
             [
              0.8888888888888888,
              "#fdca26"
             ],
             [
              1,
              "#f0f921"
             ]
            ],
            "type": "histogram2d"
           }
          ],
          "histogram2dcontour": [
           {
            "colorbar": {
             "outlinewidth": 0,
             "ticks": ""
            },
            "colorscale": [
             [
              0,
              "#0d0887"
             ],
             [
              0.1111111111111111,
              "#46039f"
             ],
             [
              0.2222222222222222,
              "#7201a8"
             ],
             [
              0.3333333333333333,
              "#9c179e"
             ],
             [
              0.4444444444444444,
              "#bd3786"
             ],
             [
              0.5555555555555556,
              "#d8576b"
             ],
             [
              0.6666666666666666,
              "#ed7953"
             ],
             [
              0.7777777777777778,
              "#fb9f3a"
             ],
             [
              0.8888888888888888,
              "#fdca26"
             ],
             [
              1,
              "#f0f921"
             ]
            ],
            "type": "histogram2dcontour"
           }
          ],
          "mesh3d": [
           {
            "colorbar": {
             "outlinewidth": 0,
             "ticks": ""
            },
            "type": "mesh3d"
           }
          ],
          "parcoords": [
           {
            "line": {
             "colorbar": {
              "outlinewidth": 0,
              "ticks": ""
             }
            },
            "type": "parcoords"
           }
          ],
          "pie": [
           {
            "automargin": true,
            "type": "pie"
           }
          ],
          "scatter": [
           {
            "fillpattern": {
             "fillmode": "overlay",
             "size": 10,
             "solidity": 0.2
            },
            "type": "scatter"
           }
          ],
          "scatter3d": [
           {
            "line": {
             "colorbar": {
              "outlinewidth": 0,
              "ticks": ""
             }
            },
            "marker": {
             "colorbar": {
              "outlinewidth": 0,
              "ticks": ""
             }
            },
            "type": "scatter3d"
           }
          ],
          "scattercarpet": [
           {
            "marker": {
             "colorbar": {
              "outlinewidth": 0,
              "ticks": ""
             }
            },
            "type": "scattercarpet"
           }
          ],
          "scattergeo": [
           {
            "marker": {
             "colorbar": {
              "outlinewidth": 0,
              "ticks": ""
             }
            },
            "type": "scattergeo"
           }
          ],
          "scattergl": [
           {
            "marker": {
             "colorbar": {
              "outlinewidth": 0,
              "ticks": ""
             }
            },
            "type": "scattergl"
           }
          ],
          "scattermap": [
           {
            "marker": {
             "colorbar": {
              "outlinewidth": 0,
              "ticks": ""
             }
            },
            "type": "scattermap"
           }
          ],
          "scattermapbox": [
           {
            "marker": {
             "colorbar": {
              "outlinewidth": 0,
              "ticks": ""
             }
            },
            "type": "scattermapbox"
           }
          ],
          "scatterpolar": [
           {
            "marker": {
             "colorbar": {
              "outlinewidth": 0,
              "ticks": ""
             }
            },
            "type": "scatterpolar"
           }
          ],
          "scatterpolargl": [
           {
            "marker": {
             "colorbar": {
              "outlinewidth": 0,
              "ticks": ""
             }
            },
            "type": "scatterpolargl"
           }
          ],
          "scatterternary": [
           {
            "marker": {
             "colorbar": {
              "outlinewidth": 0,
              "ticks": ""
             }
            },
            "type": "scatterternary"
           }
          ],
          "surface": [
           {
            "colorbar": {
             "outlinewidth": 0,
             "ticks": ""
            },
            "colorscale": [
             [
              0,
              "#0d0887"
             ],
             [
              0.1111111111111111,
              "#46039f"
             ],
             [
              0.2222222222222222,
              "#7201a8"
             ],
             [
              0.3333333333333333,
              "#9c179e"
             ],
             [
              0.4444444444444444,
              "#bd3786"
             ],
             [
              0.5555555555555556,
              "#d8576b"
             ],
             [
              0.6666666666666666,
              "#ed7953"
             ],
             [
              0.7777777777777778,
              "#fb9f3a"
             ],
             [
              0.8888888888888888,
              "#fdca26"
             ],
             [
              1,
              "#f0f921"
             ]
            ],
            "type": "surface"
           }
          ],
          "table": [
           {
            "cells": {
             "fill": {
              "color": "#EBF0F8"
             },
             "line": {
              "color": "white"
             }
            },
            "header": {
             "fill": {
              "color": "#C8D4E3"
             },
             "line": {
              "color": "white"
             }
            },
            "type": "table"
           }
          ]
         },
         "layout": {
          "annotationdefaults": {
           "arrowcolor": "#2a3f5f",
           "arrowhead": 0,
           "arrowwidth": 1
          },
          "autotypenumbers": "strict",
          "coloraxis": {
           "colorbar": {
            "outlinewidth": 0,
            "ticks": ""
           }
          },
          "colorscale": {
           "diverging": [
            [
             0,
             "#8e0152"
            ],
            [
             0.1,
             "#c51b7d"
            ],
            [
             0.2,
             "#de77ae"
            ],
            [
             0.3,
             "#f1b6da"
            ],
            [
             0.4,
             "#fde0ef"
            ],
            [
             0.5,
             "#f7f7f7"
            ],
            [
             0.6,
             "#e6f5d0"
            ],
            [
             0.7,
             "#b8e186"
            ],
            [
             0.8,
             "#7fbc41"
            ],
            [
             0.9,
             "#4d9221"
            ],
            [
             1,
             "#276419"
            ]
           ],
           "sequential": [
            [
             0,
             "#0d0887"
            ],
            [
             0.1111111111111111,
             "#46039f"
            ],
            [
             0.2222222222222222,
             "#7201a8"
            ],
            [
             0.3333333333333333,
             "#9c179e"
            ],
            [
             0.4444444444444444,
             "#bd3786"
            ],
            [
             0.5555555555555556,
             "#d8576b"
            ],
            [
             0.6666666666666666,
             "#ed7953"
            ],
            [
             0.7777777777777778,
             "#fb9f3a"
            ],
            [
             0.8888888888888888,
             "#fdca26"
            ],
            [
             1,
             "#f0f921"
            ]
           ],
           "sequentialminus": [
            [
             0,
             "#0d0887"
            ],
            [
             0.1111111111111111,
             "#46039f"
            ],
            [
             0.2222222222222222,
             "#7201a8"
            ],
            [
             0.3333333333333333,
             "#9c179e"
            ],
            [
             0.4444444444444444,
             "#bd3786"
            ],
            [
             0.5555555555555556,
             "#d8576b"
            ],
            [
             0.6666666666666666,
             "#ed7953"
            ],
            [
             0.7777777777777778,
             "#fb9f3a"
            ],
            [
             0.8888888888888888,
             "#fdca26"
            ],
            [
             1,
             "#f0f921"
            ]
           ]
          },
          "colorway": [
           "#636efa",
           "#EF553B",
           "#00cc96",
           "#ab63fa",
           "#FFA15A",
           "#19d3f3",
           "#FF6692",
           "#B6E880",
           "#FF97FF",
           "#FECB52"
          ],
          "font": {
           "color": "#2a3f5f"
          },
          "geo": {
           "bgcolor": "white",
           "lakecolor": "white",
           "landcolor": "#E5ECF6",
           "showlakes": true,
           "showland": true,
           "subunitcolor": "white"
          },
          "hoverlabel": {
           "align": "left"
          },
          "hovermode": "closest",
          "mapbox": {
           "style": "light"
          },
          "paper_bgcolor": "white",
          "plot_bgcolor": "#E5ECF6",
          "polar": {
           "angularaxis": {
            "gridcolor": "white",
            "linecolor": "white",
            "ticks": ""
           },
           "bgcolor": "#E5ECF6",
           "radialaxis": {
            "gridcolor": "white",
            "linecolor": "white",
            "ticks": ""
           }
          },
          "scene": {
           "xaxis": {
            "backgroundcolor": "#E5ECF6",
            "gridcolor": "white",
            "gridwidth": 2,
            "linecolor": "white",
            "showbackground": true,
            "ticks": "",
            "zerolinecolor": "white"
           },
           "yaxis": {
            "backgroundcolor": "#E5ECF6",
            "gridcolor": "white",
            "gridwidth": 2,
            "linecolor": "white",
            "showbackground": true,
            "ticks": "",
            "zerolinecolor": "white"
           },
           "zaxis": {
            "backgroundcolor": "#E5ECF6",
            "gridcolor": "white",
            "gridwidth": 2,
            "linecolor": "white",
            "showbackground": true,
            "ticks": "",
            "zerolinecolor": "white"
           }
          },
          "shapedefaults": {
           "line": {
            "color": "#2a3f5f"
           }
          },
          "ternary": {
           "aaxis": {
            "gridcolor": "white",
            "linecolor": "white",
            "ticks": ""
           },
           "baxis": {
            "gridcolor": "white",
            "linecolor": "white",
            "ticks": ""
           },
           "bgcolor": "#E5ECF6",
           "caxis": {
            "gridcolor": "white",
            "linecolor": "white",
            "ticks": ""
           }
          },
          "title": {
           "x": 0.05
          },
          "xaxis": {
           "automargin": true,
           "gridcolor": "white",
           "linecolor": "white",
           "ticks": "",
           "title": {
            "standoff": 15
           },
           "zerolinecolor": "white",
           "zerolinewidth": 2
          },
          "yaxis": {
           "automargin": true,
           "gridcolor": "white",
           "linecolor": "white",
           "ticks": "",
           "title": {
            "standoff": 15
           },
           "zerolinecolor": "white",
           "zerolinewidth": 2
          }
         }
        },
        "title": {
         "text": "Customer Wait Time vs Overall Rating"
        },
        "xaxis": {
         "anchor": "y",
         "domain": [
          0,
          1
         ],
         "title": {
          "text": "WaitTime"
         }
        },
        "yaxis": {
         "anchor": "x",
         "domain": [
          0,
          1
         ],
         "title": {
          "text": "OverallRating"
         }
        }
       }
      }
     },
     "metadata": {},
     "output_type": "display_data"
    }
   ],
   "source": [
    "\n",
    "# -----------------------------------------------\n",
    "# 4. Customer Wait Time and Ratings\n",
    "# -----------------------------------------------\n",
    "\n",
    "# Analyze relationship between wait time and overall rating\n",
    "fig = px.scatter(restaurant_copy, x=\"WaitTime\", y=\"OverallRating\",\n",
    "                 title=\"Customer Wait Time vs Overall Rating\", color=\"OverallRating\")\n",
    "fig.show()\n"
   ]
  },
  {
   "cell_type": "code",
   "execution_count": 139,
   "metadata": {},
   "outputs": [
    {
     "data": {
      "application/vnd.plotly.v1+json": {
       "config": {
        "plotlyServerURL": "https://plot.ly"
       },
       "data": [
        {
         "hovertemplate": "Cuisine=%{x}<br>Count=%{y}<extra></extra>",
         "legendgroup": "Italian",
         "marker": {
          "color": "#636efa",
          "pattern": {
           "shape": ""
          }
         },
         "name": "Italian",
         "orientation": "v",
         "showlegend": true,
         "textposition": "auto",
         "type": "bar",
         "x": [
          "Italian"
         ],
         "xaxis": "x",
         "y": {
          "bdata": "RQE=",
          "dtype": "i2"
         },
         "yaxis": "y"
        },
        {
         "hovertemplate": "Cuisine=%{x}<br>Count=%{y}<extra></extra>",
         "legendgroup": "Chinese",
         "marker": {
          "color": "#EF553B",
          "pattern": {
           "shape": ""
          }
         },
         "name": "Chinese",
         "orientation": "v",
         "showlegend": true,
         "textposition": "auto",
         "type": "bar",
         "x": [
          "Chinese"
         ],
         "xaxis": "x",
         "y": {
          "bdata": "NgE=",
          "dtype": "i2"
         },
         "yaxis": "y"
        },
        {
         "hovertemplate": "Cuisine=%{x}<br>Count=%{y}<extra></extra>",
         "legendgroup": "Mexican",
         "marker": {
          "color": "#00cc96",
          "pattern": {
           "shape": ""
          }
         },
         "name": "Mexican",
         "orientation": "v",
         "showlegend": true,
         "textposition": "auto",
         "type": "bar",
         "x": [
          "Mexican"
         ],
         "xaxis": "x",
         "y": {
          "bdata": "KwE=",
          "dtype": "i2"
         },
         "yaxis": "y"
        },
        {
         "hovertemplate": "Cuisine=%{x}<br>Count=%{y}<extra></extra>",
         "legendgroup": "Indian",
         "marker": {
          "color": "#ab63fa",
          "pattern": {
           "shape": ""
          }
         },
         "name": "Indian",
         "orientation": "v",
         "showlegend": true,
         "textposition": "auto",
         "type": "bar",
         "x": [
          "Indian"
         ],
         "xaxis": "x",
         "y": {
          "bdata": "KAE=",
          "dtype": "i2"
         },
         "yaxis": "y"
        },
        {
         "hovertemplate": "Cuisine=%{x}<br>Count=%{y}<extra></extra>",
         "legendgroup": "American",
         "marker": {
          "color": "#FFA15A",
          "pattern": {
           "shape": ""
          }
         },
         "name": "American",
         "orientation": "v",
         "showlegend": true,
         "textposition": "auto",
         "type": "bar",
         "x": [
          "American"
         ],
         "xaxis": "x",
         "y": {
          "bdata": "DgE=",
          "dtype": "i2"
         },
         "yaxis": "y"
        }
       ],
       "layout": {
        "barmode": "relative",
        "legend": {
         "title": {
          "text": "Cuisine"
         },
         "tracegroupgap": 0
        },
        "template": {
         "data": {
          "bar": [
           {
            "error_x": {
             "color": "#2a3f5f"
            },
            "error_y": {
             "color": "#2a3f5f"
            },
            "marker": {
             "line": {
              "color": "#E5ECF6",
              "width": 0.5
             },
             "pattern": {
              "fillmode": "overlay",
              "size": 10,
              "solidity": 0.2
             }
            },
            "type": "bar"
           }
          ],
          "barpolar": [
           {
            "marker": {
             "line": {
              "color": "#E5ECF6",
              "width": 0.5
             },
             "pattern": {
              "fillmode": "overlay",
              "size": 10,
              "solidity": 0.2
             }
            },
            "type": "barpolar"
           }
          ],
          "carpet": [
           {
            "aaxis": {
             "endlinecolor": "#2a3f5f",
             "gridcolor": "white",
             "linecolor": "white",
             "minorgridcolor": "white",
             "startlinecolor": "#2a3f5f"
            },
            "baxis": {
             "endlinecolor": "#2a3f5f",
             "gridcolor": "white",
             "linecolor": "white",
             "minorgridcolor": "white",
             "startlinecolor": "#2a3f5f"
            },
            "type": "carpet"
           }
          ],
          "choropleth": [
           {
            "colorbar": {
             "outlinewidth": 0,
             "ticks": ""
            },
            "type": "choropleth"
           }
          ],
          "contour": [
           {
            "colorbar": {
             "outlinewidth": 0,
             "ticks": ""
            },
            "colorscale": [
             [
              0,
              "#0d0887"
             ],
             [
              0.1111111111111111,
              "#46039f"
             ],
             [
              0.2222222222222222,
              "#7201a8"
             ],
             [
              0.3333333333333333,
              "#9c179e"
             ],
             [
              0.4444444444444444,
              "#bd3786"
             ],
             [
              0.5555555555555556,
              "#d8576b"
             ],
             [
              0.6666666666666666,
              "#ed7953"
             ],
             [
              0.7777777777777778,
              "#fb9f3a"
             ],
             [
              0.8888888888888888,
              "#fdca26"
             ],
             [
              1,
              "#f0f921"
             ]
            ],
            "type": "contour"
           }
          ],
          "contourcarpet": [
           {
            "colorbar": {
             "outlinewidth": 0,
             "ticks": ""
            },
            "type": "contourcarpet"
           }
          ],
          "heatmap": [
           {
            "colorbar": {
             "outlinewidth": 0,
             "ticks": ""
            },
            "colorscale": [
             [
              0,
              "#0d0887"
             ],
             [
              0.1111111111111111,
              "#46039f"
             ],
             [
              0.2222222222222222,
              "#7201a8"
             ],
             [
              0.3333333333333333,
              "#9c179e"
             ],
             [
              0.4444444444444444,
              "#bd3786"
             ],
             [
              0.5555555555555556,
              "#d8576b"
             ],
             [
              0.6666666666666666,
              "#ed7953"
             ],
             [
              0.7777777777777778,
              "#fb9f3a"
             ],
             [
              0.8888888888888888,
              "#fdca26"
             ],
             [
              1,
              "#f0f921"
             ]
            ],
            "type": "heatmap"
           }
          ],
          "histogram": [
           {
            "marker": {
             "pattern": {
              "fillmode": "overlay",
              "size": 10,
              "solidity": 0.2
             }
            },
            "type": "histogram"
           }
          ],
          "histogram2d": [
           {
            "colorbar": {
             "outlinewidth": 0,
             "ticks": ""
            },
            "colorscale": [
             [
              0,
              "#0d0887"
             ],
             [
              0.1111111111111111,
              "#46039f"
             ],
             [
              0.2222222222222222,
              "#7201a8"
             ],
             [
              0.3333333333333333,
              "#9c179e"
             ],
             [
              0.4444444444444444,
              "#bd3786"
             ],
             [
              0.5555555555555556,
              "#d8576b"
             ],
             [
              0.6666666666666666,
              "#ed7953"
             ],
             [
              0.7777777777777778,
              "#fb9f3a"
             ],
             [
              0.8888888888888888,
              "#fdca26"
             ],
             [
              1,
              "#f0f921"
             ]
            ],
            "type": "histogram2d"
           }
          ],
          "histogram2dcontour": [
           {
            "colorbar": {
             "outlinewidth": 0,
             "ticks": ""
            },
            "colorscale": [
             [
              0,
              "#0d0887"
             ],
             [
              0.1111111111111111,
              "#46039f"
             ],
             [
              0.2222222222222222,
              "#7201a8"
             ],
             [
              0.3333333333333333,
              "#9c179e"
             ],
             [
              0.4444444444444444,
              "#bd3786"
             ],
             [
              0.5555555555555556,
              "#d8576b"
             ],
             [
              0.6666666666666666,
              "#ed7953"
             ],
             [
              0.7777777777777778,
              "#fb9f3a"
             ],
             [
              0.8888888888888888,
              "#fdca26"
             ],
             [
              1,
              "#f0f921"
             ]
            ],
            "type": "histogram2dcontour"
           }
          ],
          "mesh3d": [
           {
            "colorbar": {
             "outlinewidth": 0,
             "ticks": ""
            },
            "type": "mesh3d"
           }
          ],
          "parcoords": [
           {
            "line": {
             "colorbar": {
              "outlinewidth": 0,
              "ticks": ""
             }
            },
            "type": "parcoords"
           }
          ],
          "pie": [
           {
            "automargin": true,
            "type": "pie"
           }
          ],
          "scatter": [
           {
            "fillpattern": {
             "fillmode": "overlay",
             "size": 10,
             "solidity": 0.2
            },
            "type": "scatter"
           }
          ],
          "scatter3d": [
           {
            "line": {
             "colorbar": {
              "outlinewidth": 0,
              "ticks": ""
             }
            },
            "marker": {
             "colorbar": {
              "outlinewidth": 0,
              "ticks": ""
             }
            },
            "type": "scatter3d"
           }
          ],
          "scattercarpet": [
           {
            "marker": {
             "colorbar": {
              "outlinewidth": 0,
              "ticks": ""
             }
            },
            "type": "scattercarpet"
           }
          ],
          "scattergeo": [
           {
            "marker": {
             "colorbar": {
              "outlinewidth": 0,
              "ticks": ""
             }
            },
            "type": "scattergeo"
           }
          ],
          "scattergl": [
           {
            "marker": {
             "colorbar": {
              "outlinewidth": 0,
              "ticks": ""
             }
            },
            "type": "scattergl"
           }
          ],
          "scattermap": [
           {
            "marker": {
             "colorbar": {
              "outlinewidth": 0,
              "ticks": ""
             }
            },
            "type": "scattermap"
           }
          ],
          "scattermapbox": [
           {
            "marker": {
             "colorbar": {
              "outlinewidth": 0,
              "ticks": ""
             }
            },
            "type": "scattermapbox"
           }
          ],
          "scatterpolar": [
           {
            "marker": {
             "colorbar": {
              "outlinewidth": 0,
              "ticks": ""
             }
            },
            "type": "scatterpolar"
           }
          ],
          "scatterpolargl": [
           {
            "marker": {
             "colorbar": {
              "outlinewidth": 0,
              "ticks": ""
             }
            },
            "type": "scatterpolargl"
           }
          ],
          "scatterternary": [
           {
            "marker": {
             "colorbar": {
              "outlinewidth": 0,
              "ticks": ""
             }
            },
            "type": "scatterternary"
           }
          ],
          "surface": [
           {
            "colorbar": {
             "outlinewidth": 0,
             "ticks": ""
            },
            "colorscale": [
             [
              0,
              "#0d0887"
             ],
             [
              0.1111111111111111,
              "#46039f"
             ],
             [
              0.2222222222222222,
              "#7201a8"
             ],
             [
              0.3333333333333333,
              "#9c179e"
             ],
             [
              0.4444444444444444,
              "#bd3786"
             ],
             [
              0.5555555555555556,
              "#d8576b"
             ],
             [
              0.6666666666666666,
              "#ed7953"
             ],
             [
              0.7777777777777778,
              "#fb9f3a"
             ],
             [
              0.8888888888888888,
              "#fdca26"
             ],
             [
              1,
              "#f0f921"
             ]
            ],
            "type": "surface"
           }
          ],
          "table": [
           {
            "cells": {
             "fill": {
              "color": "#EBF0F8"
             },
             "line": {
              "color": "white"
             }
            },
            "header": {
             "fill": {
              "color": "#C8D4E3"
             },
             "line": {
              "color": "white"
             }
            },
            "type": "table"
           }
          ]
         },
         "layout": {
          "annotationdefaults": {
           "arrowcolor": "#2a3f5f",
           "arrowhead": 0,
           "arrowwidth": 1
          },
          "autotypenumbers": "strict",
          "coloraxis": {
           "colorbar": {
            "outlinewidth": 0,
            "ticks": ""
           }
          },
          "colorscale": {
           "diverging": [
            [
             0,
             "#8e0152"
            ],
            [
             0.1,
             "#c51b7d"
            ],
            [
             0.2,
             "#de77ae"
            ],
            [
             0.3,
             "#f1b6da"
            ],
            [
             0.4,
             "#fde0ef"
            ],
            [
             0.5,
             "#f7f7f7"
            ],
            [
             0.6,
             "#e6f5d0"
            ],
            [
             0.7,
             "#b8e186"
            ],
            [
             0.8,
             "#7fbc41"
            ],
            [
             0.9,
             "#4d9221"
            ],
            [
             1,
             "#276419"
            ]
           ],
           "sequential": [
            [
             0,
             "#0d0887"
            ],
            [
             0.1111111111111111,
             "#46039f"
            ],
            [
             0.2222222222222222,
             "#7201a8"
            ],
            [
             0.3333333333333333,
             "#9c179e"
            ],
            [
             0.4444444444444444,
             "#bd3786"
            ],
            [
             0.5555555555555556,
             "#d8576b"
            ],
            [
             0.6666666666666666,
             "#ed7953"
            ],
            [
             0.7777777777777778,
             "#fb9f3a"
            ],
            [
             0.8888888888888888,
             "#fdca26"
            ],
            [
             1,
             "#f0f921"
            ]
           ],
           "sequentialminus": [
            [
             0,
             "#0d0887"
            ],
            [
             0.1111111111111111,
             "#46039f"
            ],
            [
             0.2222222222222222,
             "#7201a8"
            ],
            [
             0.3333333333333333,
             "#9c179e"
            ],
            [
             0.4444444444444444,
             "#bd3786"
            ],
            [
             0.5555555555555556,
             "#d8576b"
            ],
            [
             0.6666666666666666,
             "#ed7953"
            ],
            [
             0.7777777777777778,
             "#fb9f3a"
            ],
            [
             0.8888888888888888,
             "#fdca26"
            ],
            [
             1,
             "#f0f921"
            ]
           ]
          },
          "colorway": [
           "#636efa",
           "#EF553B",
           "#00cc96",
           "#ab63fa",
           "#FFA15A",
           "#19d3f3",
           "#FF6692",
           "#B6E880",
           "#FF97FF",
           "#FECB52"
          ],
          "font": {
           "color": "#2a3f5f"
          },
          "geo": {
           "bgcolor": "white",
           "lakecolor": "white",
           "landcolor": "#E5ECF6",
           "showlakes": true,
           "showland": true,
           "subunitcolor": "white"
          },
          "hoverlabel": {
           "align": "left"
          },
          "hovermode": "closest",
          "mapbox": {
           "style": "light"
          },
          "paper_bgcolor": "white",
          "plot_bgcolor": "#E5ECF6",
          "polar": {
           "angularaxis": {
            "gridcolor": "white",
            "linecolor": "white",
            "ticks": ""
           },
           "bgcolor": "#E5ECF6",
           "radialaxis": {
            "gridcolor": "white",
            "linecolor": "white",
            "ticks": ""
           }
          },
          "scene": {
           "xaxis": {
            "backgroundcolor": "#E5ECF6",
            "gridcolor": "white",
            "gridwidth": 2,
            "linecolor": "white",
            "showbackground": true,
            "ticks": "",
            "zerolinecolor": "white"
           },
           "yaxis": {
            "backgroundcolor": "#E5ECF6",
            "gridcolor": "white",
            "gridwidth": 2,
            "linecolor": "white",
            "showbackground": true,
            "ticks": "",
            "zerolinecolor": "white"
           },
           "zaxis": {
            "backgroundcolor": "#E5ECF6",
            "gridcolor": "white",
            "gridwidth": 2,
            "linecolor": "white",
            "showbackground": true,
            "ticks": "",
            "zerolinecolor": "white"
           }
          },
          "shapedefaults": {
           "line": {
            "color": "#2a3f5f"
           }
          },
          "ternary": {
           "aaxis": {
            "gridcolor": "white",
            "linecolor": "white",
            "ticks": ""
           },
           "baxis": {
            "gridcolor": "white",
            "linecolor": "white",
            "ticks": ""
           },
           "bgcolor": "#E5ECF6",
           "caxis": {
            "gridcolor": "white",
            "linecolor": "white",
            "ticks": ""
           }
          },
          "title": {
           "x": 0.05
          },
          "xaxis": {
           "automargin": true,
           "gridcolor": "white",
           "linecolor": "white",
           "ticks": "",
           "title": {
            "standoff": 15
           },
           "zerolinecolor": "white",
           "zerolinewidth": 2
          },
          "yaxis": {
           "automargin": true,
           "gridcolor": "white",
           "linecolor": "white",
           "ticks": "",
           "title": {
            "standoff": 15
           },
           "zerolinecolor": "white",
           "zerolinewidth": 2
          }
         }
        },
        "title": {
         "text": "Preferred Cuisines Distribution"
        },
        "xaxis": {
         "anchor": "y",
         "categoryarray": [
          "Italian",
          "Chinese",
          "Mexican",
          "Indian",
          "American"
         ],
         "categoryorder": "array",
         "domain": [
          0,
          1
         ],
         "title": {
          "text": "Cuisine"
         }
        },
        "yaxis": {
         "anchor": "x",
         "domain": [
          0,
          1
         ],
         "title": {
          "text": "Count"
         }
        }
       }
      }
     },
     "metadata": {},
     "output_type": "display_data"
    }
   ],
   "source": [
    "\n",
    "# -----------------------------------------------\n",
    "# 5. Preferred Cuisine Trends & Targeted Marketing\n",
    "# -----------------------------------------------\n",
    "\n",
    "# Count preferred cuisine choices\n",
    "cuisine_counts = restaurant[\"PreferredCuisine\"].value_counts().reset_index()\n",
    "cuisine_counts.columns = [\"Cuisine\", \"Count\"]\n",
    "\n",
    "fig = px.bar(cuisine_counts, x=\"Cuisine\", y=\"Count\",\n",
    "             title=\"Preferred Cuisines Distribution\", color=\"Cuisine\")\n",
    "fig.show()\n"
   ]
  },
  {
   "cell_type": "code",
   "execution_count": 140,
   "metadata": {},
   "outputs": [
    {
     "data": {
      "application/vnd.plotly.v1+json": {
       "config": {
        "plotlyServerURL": "https://plot.ly"
       },
       "data": [
        {
         "branchvalues": "total",
         "domain": {
          "x": [
           0,
           1
          ],
          "y": [
           0,
           1
          ]
         },
         "hovertemplate": "labels=%{label}<br>Count=%{value}<br>parent=%{parent}<br>id=%{id}<extra></extra>",
         "ids": [
          "0/0/0",
          "0/0/1",
          "0/1/0",
          "0/1/1",
          "1/0/0",
          "1/0/1",
          "1/1/0",
          "1/1/1",
          "0/0",
          "0/1",
          "1/0",
          "1/1",
          "0",
          "1"
         ],
         "labels": [
          "0",
          "1",
          "0",
          "1",
          "0",
          "1",
          "0",
          "1",
          "0",
          "1",
          "0",
          "1",
          "0",
          "1"
         ],
         "name": "",
         "parents": [
          "0/0",
          "0/0",
          "0/1",
          "0/1",
          "1/0",
          "1/0",
          "1/1",
          "1/1",
          "0",
          "0",
          "1",
          "1",
          "",
          ""
         ],
         "type": "sunburst",
         "values": {
          "bdata": "AAAAAABogkAAAAAAAIBBQAAAAAAAIHdAAAAAAACATkAAAAAAACBsQAAAAAAAgEVAAAAAAADAXEAAAAAAAABPQAAAAAAAgINAAAAAAADwekAAAAAAAMBwQAAAAAAAIGZAAAAAAAB8kEAAAAAAANB7QA==",
          "dtype": "f8"
         }
        }
       ],
       "layout": {
        "legend": {
         "tracegroupgap": 0
        },
        "template": {
         "data": {
          "bar": [
           {
            "error_x": {
             "color": "#2a3f5f"
            },
            "error_y": {
             "color": "#2a3f5f"
            },
            "marker": {
             "line": {
              "color": "#E5ECF6",
              "width": 0.5
             },
             "pattern": {
              "fillmode": "overlay",
              "size": 10,
              "solidity": 0.2
             }
            },
            "type": "bar"
           }
          ],
          "barpolar": [
           {
            "marker": {
             "line": {
              "color": "#E5ECF6",
              "width": 0.5
             },
             "pattern": {
              "fillmode": "overlay",
              "size": 10,
              "solidity": 0.2
             }
            },
            "type": "barpolar"
           }
          ],
          "carpet": [
           {
            "aaxis": {
             "endlinecolor": "#2a3f5f",
             "gridcolor": "white",
             "linecolor": "white",
             "minorgridcolor": "white",
             "startlinecolor": "#2a3f5f"
            },
            "baxis": {
             "endlinecolor": "#2a3f5f",
             "gridcolor": "white",
             "linecolor": "white",
             "minorgridcolor": "white",
             "startlinecolor": "#2a3f5f"
            },
            "type": "carpet"
           }
          ],
          "choropleth": [
           {
            "colorbar": {
             "outlinewidth": 0,
             "ticks": ""
            },
            "type": "choropleth"
           }
          ],
          "contour": [
           {
            "colorbar": {
             "outlinewidth": 0,
             "ticks": ""
            },
            "colorscale": [
             [
              0,
              "#0d0887"
             ],
             [
              0.1111111111111111,
              "#46039f"
             ],
             [
              0.2222222222222222,
              "#7201a8"
             ],
             [
              0.3333333333333333,
              "#9c179e"
             ],
             [
              0.4444444444444444,
              "#bd3786"
             ],
             [
              0.5555555555555556,
              "#d8576b"
             ],
             [
              0.6666666666666666,
              "#ed7953"
             ],
             [
              0.7777777777777778,
              "#fb9f3a"
             ],
             [
              0.8888888888888888,
              "#fdca26"
             ],
             [
              1,
              "#f0f921"
             ]
            ],
            "type": "contour"
           }
          ],
          "contourcarpet": [
           {
            "colorbar": {
             "outlinewidth": 0,
             "ticks": ""
            },
            "type": "contourcarpet"
           }
          ],
          "heatmap": [
           {
            "colorbar": {
             "outlinewidth": 0,
             "ticks": ""
            },
            "colorscale": [
             [
              0,
              "#0d0887"
             ],
             [
              0.1111111111111111,
              "#46039f"
             ],
             [
              0.2222222222222222,
              "#7201a8"
             ],
             [
              0.3333333333333333,
              "#9c179e"
             ],
             [
              0.4444444444444444,
              "#bd3786"
             ],
             [
              0.5555555555555556,
              "#d8576b"
             ],
             [
              0.6666666666666666,
              "#ed7953"
             ],
             [
              0.7777777777777778,
              "#fb9f3a"
             ],
             [
              0.8888888888888888,
              "#fdca26"
             ],
             [
              1,
              "#f0f921"
             ]
            ],
            "type": "heatmap"
           }
          ],
          "histogram": [
           {
            "marker": {
             "pattern": {
              "fillmode": "overlay",
              "size": 10,
              "solidity": 0.2
             }
            },
            "type": "histogram"
           }
          ],
          "histogram2d": [
           {
            "colorbar": {
             "outlinewidth": 0,
             "ticks": ""
            },
            "colorscale": [
             [
              0,
              "#0d0887"
             ],
             [
              0.1111111111111111,
              "#46039f"
             ],
             [
              0.2222222222222222,
              "#7201a8"
             ],
             [
              0.3333333333333333,
              "#9c179e"
             ],
             [
              0.4444444444444444,
              "#bd3786"
             ],
             [
              0.5555555555555556,
              "#d8576b"
             ],
             [
              0.6666666666666666,
              "#ed7953"
             ],
             [
              0.7777777777777778,
              "#fb9f3a"
             ],
             [
              0.8888888888888888,
              "#fdca26"
             ],
             [
              1,
              "#f0f921"
             ]
            ],
            "type": "histogram2d"
           }
          ],
          "histogram2dcontour": [
           {
            "colorbar": {
             "outlinewidth": 0,
             "ticks": ""
            },
            "colorscale": [
             [
              0,
              "#0d0887"
             ],
             [
              0.1111111111111111,
              "#46039f"
             ],
             [
              0.2222222222222222,
              "#7201a8"
             ],
             [
              0.3333333333333333,
              "#9c179e"
             ],
             [
              0.4444444444444444,
              "#bd3786"
             ],
             [
              0.5555555555555556,
              "#d8576b"
             ],
             [
              0.6666666666666666,
              "#ed7953"
             ],
             [
              0.7777777777777778,
              "#fb9f3a"
             ],
             [
              0.8888888888888888,
              "#fdca26"
             ],
             [
              1,
              "#f0f921"
             ]
            ],
            "type": "histogram2dcontour"
           }
          ],
          "mesh3d": [
           {
            "colorbar": {
             "outlinewidth": 0,
             "ticks": ""
            },
            "type": "mesh3d"
           }
          ],
          "parcoords": [
           {
            "line": {
             "colorbar": {
              "outlinewidth": 0,
              "ticks": ""
             }
            },
            "type": "parcoords"
           }
          ],
          "pie": [
           {
            "automargin": true,
            "type": "pie"
           }
          ],
          "scatter": [
           {
            "fillpattern": {
             "fillmode": "overlay",
             "size": 10,
             "solidity": 0.2
            },
            "type": "scatter"
           }
          ],
          "scatter3d": [
           {
            "line": {
             "colorbar": {
              "outlinewidth": 0,
              "ticks": ""
             }
            },
            "marker": {
             "colorbar": {
              "outlinewidth": 0,
              "ticks": ""
             }
            },
            "type": "scatter3d"
           }
          ],
          "scattercarpet": [
           {
            "marker": {
             "colorbar": {
              "outlinewidth": 0,
              "ticks": ""
             }
            },
            "type": "scattercarpet"
           }
          ],
          "scattergeo": [
           {
            "marker": {
             "colorbar": {
              "outlinewidth": 0,
              "ticks": ""
             }
            },
            "type": "scattergeo"
           }
          ],
          "scattergl": [
           {
            "marker": {
             "colorbar": {
              "outlinewidth": 0,
              "ticks": ""
             }
            },
            "type": "scattergl"
           }
          ],
          "scattermap": [
           {
            "marker": {
             "colorbar": {
              "outlinewidth": 0,
              "ticks": ""
             }
            },
            "type": "scattermap"
           }
          ],
          "scattermapbox": [
           {
            "marker": {
             "colorbar": {
              "outlinewidth": 0,
              "ticks": ""
             }
            },
            "type": "scattermapbox"
           }
          ],
          "scatterpolar": [
           {
            "marker": {
             "colorbar": {
              "outlinewidth": 0,
              "ticks": ""
             }
            },
            "type": "scatterpolar"
           }
          ],
          "scatterpolargl": [
           {
            "marker": {
             "colorbar": {
              "outlinewidth": 0,
              "ticks": ""
             }
            },
            "type": "scatterpolargl"
           }
          ],
          "scatterternary": [
           {
            "marker": {
             "colorbar": {
              "outlinewidth": 0,
              "ticks": ""
             }
            },
            "type": "scatterternary"
           }
          ],
          "surface": [
           {
            "colorbar": {
             "outlinewidth": 0,
             "ticks": ""
            },
            "colorscale": [
             [
              0,
              "#0d0887"
             ],
             [
              0.1111111111111111,
              "#46039f"
             ],
             [
              0.2222222222222222,
              "#7201a8"
             ],
             [
              0.3333333333333333,
              "#9c179e"
             ],
             [
              0.4444444444444444,
              "#bd3786"
             ],
             [
              0.5555555555555556,
              "#d8576b"
             ],
             [
              0.6666666666666666,
              "#ed7953"
             ],
             [
              0.7777777777777778,
              "#fb9f3a"
             ],
             [
              0.8888888888888888,
              "#fdca26"
             ],
             [
              1,
              "#f0f921"
             ]
            ],
            "type": "surface"
           }
          ],
          "table": [
           {
            "cells": {
             "fill": {
              "color": "#EBF0F8"
             },
             "line": {
              "color": "white"
             }
            },
            "header": {
             "fill": {
              "color": "#C8D4E3"
             },
             "line": {
              "color": "white"
             }
            },
            "type": "table"
           }
          ]
         },
         "layout": {
          "annotationdefaults": {
           "arrowcolor": "#2a3f5f",
           "arrowhead": 0,
           "arrowwidth": 1
          },
          "autotypenumbers": "strict",
          "coloraxis": {
           "colorbar": {
            "outlinewidth": 0,
            "ticks": ""
           }
          },
          "colorscale": {
           "diverging": [
            [
             0,
             "#8e0152"
            ],
            [
             0.1,
             "#c51b7d"
            ],
            [
             0.2,
             "#de77ae"
            ],
            [
             0.3,
             "#f1b6da"
            ],
            [
             0.4,
             "#fde0ef"
            ],
            [
             0.5,
             "#f7f7f7"
            ],
            [
             0.6,
             "#e6f5d0"
            ],
            [
             0.7,
             "#b8e186"
            ],
            [
             0.8,
             "#7fbc41"
            ],
            [
             0.9,
             "#4d9221"
            ],
            [
             1,
             "#276419"
            ]
           ],
           "sequential": [
            [
             0,
             "#0d0887"
            ],
            [
             0.1111111111111111,
             "#46039f"
            ],
            [
             0.2222222222222222,
             "#7201a8"
            ],
            [
             0.3333333333333333,
             "#9c179e"
            ],
            [
             0.4444444444444444,
             "#bd3786"
            ],
            [
             0.5555555555555556,
             "#d8576b"
            ],
            [
             0.6666666666666666,
             "#ed7953"
            ],
            [
             0.7777777777777778,
             "#fb9f3a"
            ],
            [
             0.8888888888888888,
             "#fdca26"
            ],
            [
             1,
             "#f0f921"
            ]
           ],
           "sequentialminus": [
            [
             0,
             "#0d0887"
            ],
            [
             0.1111111111111111,
             "#46039f"
            ],
            [
             0.2222222222222222,
             "#7201a8"
            ],
            [
             0.3333333333333333,
             "#9c179e"
            ],
            [
             0.4444444444444444,
             "#bd3786"
            ],
            [
             0.5555555555555556,
             "#d8576b"
            ],
            [
             0.6666666666666666,
             "#ed7953"
            ],
            [
             0.7777777777777778,
             "#fb9f3a"
            ],
            [
             0.8888888888888888,
             "#fdca26"
            ],
            [
             1,
             "#f0f921"
            ]
           ]
          },
          "colorway": [
           "#636efa",
           "#EF553B",
           "#00cc96",
           "#ab63fa",
           "#FFA15A",
           "#19d3f3",
           "#FF6692",
           "#B6E880",
           "#FF97FF",
           "#FECB52"
          ],
          "font": {
           "color": "#2a3f5f"
          },
          "geo": {
           "bgcolor": "white",
           "lakecolor": "white",
           "landcolor": "#E5ECF6",
           "showlakes": true,
           "showland": true,
           "subunitcolor": "white"
          },
          "hoverlabel": {
           "align": "left"
          },
          "hovermode": "closest",
          "mapbox": {
           "style": "light"
          },
          "paper_bgcolor": "white",
          "plot_bgcolor": "#E5ECF6",
          "polar": {
           "angularaxis": {
            "gridcolor": "white",
            "linecolor": "white",
            "ticks": ""
           },
           "bgcolor": "#E5ECF6",
           "radialaxis": {
            "gridcolor": "white",
            "linecolor": "white",
            "ticks": ""
           }
          },
          "scene": {
           "xaxis": {
            "backgroundcolor": "#E5ECF6",
            "gridcolor": "white",
            "gridwidth": 2,
            "linecolor": "white",
            "showbackground": true,
            "ticks": "",
            "zerolinecolor": "white"
           },
           "yaxis": {
            "backgroundcolor": "#E5ECF6",
            "gridcolor": "white",
            "gridwidth": 2,
            "linecolor": "white",
            "showbackground": true,
            "ticks": "",
            "zerolinecolor": "white"
           },
           "zaxis": {
            "backgroundcolor": "#E5ECF6",
            "gridcolor": "white",
            "gridwidth": 2,
            "linecolor": "white",
            "showbackground": true,
            "ticks": "",
            "zerolinecolor": "white"
           }
          },
          "shapedefaults": {
           "line": {
            "color": "#2a3f5f"
           }
          },
          "ternary": {
           "aaxis": {
            "gridcolor": "white",
            "linecolor": "white",
            "ticks": ""
           },
           "baxis": {
            "gridcolor": "white",
            "linecolor": "white",
            "ticks": ""
           },
           "bgcolor": "#E5ECF6",
           "caxis": {
            "gridcolor": "white",
            "linecolor": "white",
            "ticks": ""
           }
          },
          "title": {
           "x": 0.05
          },
          "xaxis": {
           "automargin": true,
           "gridcolor": "white",
           "linecolor": "white",
           "ticks": "",
           "title": {
            "standoff": 15
           },
           "zerolinecolor": "white",
           "zerolinewidth": 2
          },
          "yaxis": {
           "automargin": true,
           "gridcolor": "white",
           "linecolor": "white",
           "ticks": "",
           "title": {
            "standoff": 15
           },
           "zerolinecolor": "white",
           "zerolinewidth": 2
          }
         }
        },
        "title": {
         "text": "Impact of Online Reservation and Delivery on Satisfaction"
        }
       }
      }
     },
     "metadata": {},
     "output_type": "display_data"
    }
   ],
   "source": [
    "\n",
    "# -----------------------------------------------\n",
    "# 6. Online Reservation and Delivery Impact\n",
    "# -----------------------------------------------\n",
    "\n",
    "# Analyze online reservations vs delivery impact on satisfaction\n",
    "online_delivery_data = restaurant.groupby([\"OnlineReservation\", \"DeliveryOrder\", \"HighSatisfaction\"]).size().reset_index(name=\"Count\")\n",
    "\n",
    "fig = px.sunburst(online_delivery_data, path=[\"OnlineReservation\", \"DeliveryOrder\", \"HighSatisfaction\"], values=\"Count\",\n",
    "                  title=\"Impact of Online Reservation and Delivery on Satisfaction\")\n",
    "fig.show()\n"
   ]
  },
  {
   "cell_type": "code",
   "execution_count": 141,
   "metadata": {},
   "outputs": [
    {
     "data": {
      "application/vnd.plotly.v1+json": {
       "config": {
        "plotlyServerURL": "https://plot.ly"
       },
       "data": [
        {
         "hovertemplate": "GroupSize=%{marker.color}<br>AverageSpend=%{y}<extra></extra>",
         "legendgroup": "",
         "marker": {
          "color": {
           "bdata": "AwEGAQEIBgYFCQUIBAQCAgQDAQQFCQUGBwEGAQcDAwMCAwECAQIIAQcICAEIBQMGCAECAQgEBgEEAwcBBAYBAggCAQIGAQgFBgQDCQEHAwkIBgQEAwYIBwQBAwIHAgQCBggIAwEGAQcIBwkDCQMCBwcHBQQFBwkHBwEBAQUFAwQIBAkJCQQGBgMEAwEIBgcJAQEFCAUDCQkBBQcHCAYCBAcBAgUFAwkICAEGAwQHBAMJCAYFAwUICAcFBQYHBwIJBAICCAcIBAgEAggHBQkHBQgCBwUGBgkCBwgIAQgGBgQCCAMIAwEGAgkIAQMBBAkFBwUCBAIIBgEIAgcHAggJBAIDBAcDBAECBwUDCAEHAgUCBwkHAwQJCQQBAQMFBQkFBAgGBAMCAwYHBAMCBQkHBQgJBQMBAgQBAwUEBQkDCAYICAYIBAgJBQgICQIHAQQFBAIFAgcHCAYCBAgJBwYDBQIBAwcBBAMJBAUIBAUIAgQCAgkGBwkIBAkBCQUDBgMJBgQFAwQEBwIIAwMHCAIEBAYFBwUJCQYCBAgHBAkGCAIEAwkCAQQHBAYIAgcHBAYECAUBBAUFCAQIBAIDBAkEAgkCAwUJAQcIBAkHCAcEAQIICQgHBQEBBwUGAgUCAwgEBQUGAQUJAQICAgQBCQcEBgYICAUDCAYFCAQFBQcJAgMDBgcCAgEHBQQGBAEHBQEHBwMHAQMCAgMCAgMHBQkEAQQCAQQJAQEDCQMBCQgFBgUBBwIJCAEBBgUDCAIHBQIFCAUCBgcFBAUFBwgGBwcCAwYCAwcIAwgEAgYJCQkIBwgGCQQGBwgIAwYHCAkBBgcBAQIHBwMIAwYGBgkIAQQDCAcHBwcDBAcCCAgIBgMCCAIBBAkGAgMJBQYBCQMCAQYJBgUJBwMIAwcDBwQGBAICCAYDAwIFAQQGAQQCCQMIAgYJBAQJBgcCBgIJBQEIBAMFCQMCBQgGAQkEAQYHAwkJAgYIBQQGAwMDBwUEBQkDAQgEAgUBCAMCBwcIAgUHAwgJBQUIBAMHAQEDBwgHBwgHAwYEBAMFBwcDCQgECQgEBgkBCQQICQIDCQQDAQUGBQICBggIBAMEBAUFAQkJBQECBwQEAwUDBAgJCQYFBQYCCQkGBAQHBAMJBQkIAgYJCAgHBwEFBAEICQcEAwIFAggFAQMJCAgJBwEDBwEGAwYFBgQJBgUDBAcGBwcCCAkIAQIDAwUCCAkCBQIFBggGBQEHAwgDAwkCCQYFAQQHBgQFCQIGBQUIAQgHBgQCAQYIAwQGCQUBBAcBAwkCCAEDBAECBgcFAQcJBwMCBQYCAgcDCQEHAwQJAgcBAQUIAwgJAgQDBwgHBggGAQcBAgEJCQcGCAMBCAEIBAUDCAgHCQgBCAcECAIJBQIGAQcJBAgIAQcFBgQFAgcJCQcDAQUEAQQECQIGAQICBQkCBQkEAwEJAwQGBwkCCAkCBgYJBwYEBwcFCAgIAgMBBwMHAgQHCAUGBQMCAgMGAgQJCAkBAwgICQYFBgYIAwEGCAYICQUGBwIBAwEJCAIDBgkJBwEIBwUICAEDAgEBBgEDBAMIAQUJCAMFBQIJCQYGBgIHBAkECQQIAwgBBgIHAgIHBgkIAQYEBwUDAQMGBwgJAgUIBAYEBAQCAQkEBAkGBAgIBAMHBAkIBgcEBQQEBQkDBgEDBAYDBQICCAcHBggICAkIBAcBBwIFBwcEAwYCAwkCAQIEBgUHBAEGAgkJAgEJAwcCCQgDBQMJBAYHCQYJBQYHAgYBAQkBBQUJAQECBAkCAwYFAgIFAwYBAwgIBwQGBAcEBAMICAMGCAcBAwUDBQIFBAUHBggGBggCBwkGBgEEAgMJAgEDAQcEAQgCBwMEBAEFBQQHAwMJBgEGAQcGBAYHAgMBBwQEAQYFCQIBBAIHBQUGAQcCAgQDBgkEBQcDBAcHBgkCAwEFAwYEAQYFBwYDBAgEBAQHAgUEBggBBgUHBgcEBQYDBwgFCQQGBAIEBAYE",
           "dtype": "i1"
          },
          "coloraxis": "coloraxis",
          "symbol": "circle"
         },
         "mode": "markers",
         "name": "",
         "showlegend": false,
         "type": "scattergl",
         "x": {
          "bdata": "AwEGAQEIBgYFCQUIBAQCAgQDAQQFCQUGBwEGAQcDAwMCAwECAQIIAQcICAEIBQMGCAECAQgEBgEEAwcBBAYBAggCAQIGAQgFBgQDCQEHAwkIBgQEAwYIBwQBAwIHAgQCBggIAwEGAQcIBwkDCQMCBwcHBQQFBwkHBwEBAQUFAwQIBAkJCQQGBgMEAwEIBgcJAQEFCAUDCQkBBQcHCAYCBAcBAgUFAwkICAEGAwQHBAMJCAYFAwUICAcFBQYHBwIJBAICCAcIBAgEAggHBQkHBQgCBwUGBgkCBwgIAQgGBgQCCAMIAwEGAgkIAQMBBAkFBwUCBAIIBgEIAgcHAggJBAIDBAcDBAECBwUDCAEHAgUCBwkHAwQJCQQBAQMFBQkFBAgGBAMCAwYHBAMCBQkHBQgJBQMBAgQBAwUEBQkDCAYICAYIBAgJBQgICQIHAQQFBAIFAgcHCAYCBAgJBwYDBQIBAwcBBAMJBAUIBAUIAgQCAgkGBwkIBAkBCQUDBgMJBgQFAwQEBwIIAwMHCAIEBAYFBwUJCQYCBAgHBAkGCAIEAwkCAQQHBAYIAgcHBAYECAUBBAUFCAQIBAIDBAkEAgkCAwUJAQcIBAkHCAcEAQIICQgHBQEBBwUGAgUCAwgEBQUGAQUJAQICAgQBCQcEBgYICAUDCAYFCAQFBQcJAgMDBgcCAgEHBQQGBAEHBQEHBwMHAQMCAgMCAgMHBQkEAQQCAQQJAQEDCQMBCQgFBgUBBwIJCAEBBgUDCAIHBQIFCAUCBgcFBAUFBwgGBwcCAwYCAwcIAwgEAgYJCQkIBwgGCQQGBwgIAwYHCAkBBgcBAQIHBwMIAwYGBgkIAQQDCAcHBwcDBAcCCAgIBgMCCAIBBAkGAgMJBQYBCQMCAQYJBgUJBwMIAwcDBwQGBAICCAYDAwIFAQQGAQQCCQMIAgYJBAQJBgcCBgIJBQEIBAMFCQMCBQgGAQkEAQYHAwkJAgYIBQQGAwMDBwUEBQkDAQgEAgUBCAMCBwcIAgUHAwgJBQUIBAMHAQEDBwgHBwgHAwYEBAMFBwcDCQgECQgEBgkBCQQICQIDCQQDAQUGBQICBggIBAMEBAUFAQkJBQECBwQEAwUDBAgJCQYFBQYCCQkGBAQHBAMJBQkIAgYJCAgHBwEFBAEICQcEAwIFAggFAQMJCAgJBwEDBwEGAwYFBgQJBgUDBAcGBwcCCAkIAQIDAwUCCAkCBQIFBggGBQEHAwgDAwkCCQYFAQQHBgQFCQIGBQUIAQgHBgQCAQYIAwQGCQUBBAcBAwkCCAEDBAECBgcFAQcJBwMCBQYCAgcDCQEHAwQJAgcBAQUIAwgJAgQDBwgHBggGAQcBAgEJCQcGCAMBCAEIBAUDCAgHCQgBCAcECAIJBQIGAQcJBAgIAQcFBgQFAgcJCQcDAQUEAQQECQIGAQICBQkCBQkEAwEJAwQGBwkCCAkCBgYJBwYEBwcFCAgIAgMBBwMHAgQHCAUGBQMCAgMGAgQJCAkBAwgICQYFBgYIAwEGCAYICQUGBwIBAwEJCAIDBgkJBwEIBwUICAEDAgEBBgEDBAMIAQUJCAMFBQIJCQYGBgIHBAkECQQIAwgBBgIHAgIHBgkIAQYEBwUDAQMGBwgJAgUIBAYEBAQCAQkEBAkGBAgIBAMHBAkIBgcEBQQEBQkDBgEDBAYDBQICCAcHBggICAkIBAcBBwIFBwcEAwYCAwkCAQIEBgUHBAEGAgkJAgEJAwcCCQgDBQMJBAYHCQYJBQYHAgYBAQkBBQUJAQECBAkCAwYFAgIFAwYBAwgIBwQGBAcEBAMICAMGCAcBAwUDBQIFBAUHBggGBggCBwkGBgEEAgMJAgEDAQcEAQgCBwMEBAEFBQQHAwMJBgEGAQcGBAYHAgMBBwQEAQYFCQIBBAIHBQUGAQcCAgQDBgkEBQcDBAcHBgkCAwEFAwYEAQYFBwYDBAgEBAQHAgUEBggBBgUHBgcEBQYDBwgFCQQGBAIEBAYE",
          "dtype": "i1"
         },
         "xaxis": "x",
         "y": {
          "bdata": "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",
          "dtype": "f8"
         },
         "yaxis": "y"
        }
       ],
       "layout": {
        "coloraxis": {
         "colorbar": {
          "title": {
           "text": "GroupSize"
          }
         },
         "colorscale": [
          [
           0,
           "#0d0887"
          ],
          [
           0.1111111111111111,
           "#46039f"
          ],
          [
           0.2222222222222222,
           "#7201a8"
          ],
          [
           0.3333333333333333,
           "#9c179e"
          ],
          [
           0.4444444444444444,
           "#bd3786"
          ],
          [
           0.5555555555555556,
           "#d8576b"
          ],
          [
           0.6666666666666666,
           "#ed7953"
          ],
          [
           0.7777777777777778,
           "#fb9f3a"
          ],
          [
           0.8888888888888888,
           "#fdca26"
          ],
          [
           1,
           "#f0f921"
          ]
         ]
        },
        "legend": {
         "tracegroupgap": 0
        },
        "template": {
         "data": {
          "bar": [
           {
            "error_x": {
             "color": "#2a3f5f"
            },
            "error_y": {
             "color": "#2a3f5f"
            },
            "marker": {
             "line": {
              "color": "#E5ECF6",
              "width": 0.5
             },
             "pattern": {
              "fillmode": "overlay",
              "size": 10,
              "solidity": 0.2
             }
            },
            "type": "bar"
           }
          ],
          "barpolar": [
           {
            "marker": {
             "line": {
              "color": "#E5ECF6",
              "width": 0.5
             },
             "pattern": {
              "fillmode": "overlay",
              "size": 10,
              "solidity": 0.2
             }
            },
            "type": "barpolar"
           }
          ],
          "carpet": [
           {
            "aaxis": {
             "endlinecolor": "#2a3f5f",
             "gridcolor": "white",
             "linecolor": "white",
             "minorgridcolor": "white",
             "startlinecolor": "#2a3f5f"
            },
            "baxis": {
             "endlinecolor": "#2a3f5f",
             "gridcolor": "white",
             "linecolor": "white",
             "minorgridcolor": "white",
             "startlinecolor": "#2a3f5f"
            },
            "type": "carpet"
           }
          ],
          "choropleth": [
           {
            "colorbar": {
             "outlinewidth": 0,
             "ticks": ""
            },
            "type": "choropleth"
           }
          ],
          "contour": [
           {
            "colorbar": {
             "outlinewidth": 0,
             "ticks": ""
            },
            "colorscale": [
             [
              0,
              "#0d0887"
             ],
             [
              0.1111111111111111,
              "#46039f"
             ],
             [
              0.2222222222222222,
              "#7201a8"
             ],
             [
              0.3333333333333333,
              "#9c179e"
             ],
             [
              0.4444444444444444,
              "#bd3786"
             ],
             [
              0.5555555555555556,
              "#d8576b"
             ],
             [
              0.6666666666666666,
              "#ed7953"
             ],
             [
              0.7777777777777778,
              "#fb9f3a"
             ],
             [
              0.8888888888888888,
              "#fdca26"
             ],
             [
              1,
              "#f0f921"
             ]
            ],
            "type": "contour"
           }
          ],
          "contourcarpet": [
           {
            "colorbar": {
             "outlinewidth": 0,
             "ticks": ""
            },
            "type": "contourcarpet"
           }
          ],
          "heatmap": [
           {
            "colorbar": {
             "outlinewidth": 0,
             "ticks": ""
            },
            "colorscale": [
             [
              0,
              "#0d0887"
             ],
             [
              0.1111111111111111,
              "#46039f"
             ],
             [
              0.2222222222222222,
              "#7201a8"
             ],
             [
              0.3333333333333333,
              "#9c179e"
             ],
             [
              0.4444444444444444,
              "#bd3786"
             ],
             [
              0.5555555555555556,
              "#d8576b"
             ],
             [
              0.6666666666666666,
              "#ed7953"
             ],
             [
              0.7777777777777778,
              "#fb9f3a"
             ],
             [
              0.8888888888888888,
              "#fdca26"
             ],
             [
              1,
              "#f0f921"
             ]
            ],
            "type": "heatmap"
           }
          ],
          "histogram": [
           {
            "marker": {
             "pattern": {
              "fillmode": "overlay",
              "size": 10,
              "solidity": 0.2
             }
            },
            "type": "histogram"
           }
          ],
          "histogram2d": [
           {
            "colorbar": {
             "outlinewidth": 0,
             "ticks": ""
            },
            "colorscale": [
             [
              0,
              "#0d0887"
             ],
             [
              0.1111111111111111,
              "#46039f"
             ],
             [
              0.2222222222222222,
              "#7201a8"
             ],
             [
              0.3333333333333333,
              "#9c179e"
             ],
             [
              0.4444444444444444,
              "#bd3786"
             ],
             [
              0.5555555555555556,
              "#d8576b"
             ],
             [
              0.6666666666666666,
              "#ed7953"
             ],
             [
              0.7777777777777778,
              "#fb9f3a"
             ],
             [
              0.8888888888888888,
              "#fdca26"
             ],
             [
              1,
              "#f0f921"
             ]
            ],
            "type": "histogram2d"
           }
          ],
          "histogram2dcontour": [
           {
            "colorbar": {
             "outlinewidth": 0,
             "ticks": ""
            },
            "colorscale": [
             [
              0,
              "#0d0887"
             ],
             [
              0.1111111111111111,
              "#46039f"
             ],
             [
              0.2222222222222222,
              "#7201a8"
             ],
             [
              0.3333333333333333,
              "#9c179e"
             ],
             [
              0.4444444444444444,
              "#bd3786"
             ],
             [
              0.5555555555555556,
              "#d8576b"
             ],
             [
              0.6666666666666666,
              "#ed7953"
             ],
             [
              0.7777777777777778,
              "#fb9f3a"
             ],
             [
              0.8888888888888888,
              "#fdca26"
             ],
             [
              1,
              "#f0f921"
             ]
            ],
            "type": "histogram2dcontour"
           }
          ],
          "mesh3d": [
           {
            "colorbar": {
             "outlinewidth": 0,
             "ticks": ""
            },
            "type": "mesh3d"
           }
          ],
          "parcoords": [
           {
            "line": {
             "colorbar": {
              "outlinewidth": 0,
              "ticks": ""
             }
            },
            "type": "parcoords"
           }
          ],
          "pie": [
           {
            "automargin": true,
            "type": "pie"
           }
          ],
          "scatter": [
           {
            "fillpattern": {
             "fillmode": "overlay",
             "size": 10,
             "solidity": 0.2
            },
            "type": "scatter"
           }
          ],
          "scatter3d": [
           {
            "line": {
             "colorbar": {
              "outlinewidth": 0,
              "ticks": ""
             }
            },
            "marker": {
             "colorbar": {
              "outlinewidth": 0,
              "ticks": ""
             }
            },
            "type": "scatter3d"
           }
          ],
          "scattercarpet": [
           {
            "marker": {
             "colorbar": {
              "outlinewidth": 0,
              "ticks": ""
             }
            },
            "type": "scattercarpet"
           }
          ],
          "scattergeo": [
           {
            "marker": {
             "colorbar": {
              "outlinewidth": 0,
              "ticks": ""
             }
            },
            "type": "scattergeo"
           }
          ],
          "scattergl": [
           {
            "marker": {
             "colorbar": {
              "outlinewidth": 0,
              "ticks": ""
             }
            },
            "type": "scattergl"
           }
          ],
          "scattermap": [
           {
            "marker": {
             "colorbar": {
              "outlinewidth": 0,
              "ticks": ""
             }
            },
            "type": "scattermap"
           }
          ],
          "scattermapbox": [
           {
            "marker": {
             "colorbar": {
              "outlinewidth": 0,
              "ticks": ""
             }
            },
            "type": "scattermapbox"
           }
          ],
          "scatterpolar": [
           {
            "marker": {
             "colorbar": {
              "outlinewidth": 0,
              "ticks": ""
             }
            },
            "type": "scatterpolar"
           }
          ],
          "scatterpolargl": [
           {
            "marker": {
             "colorbar": {
              "outlinewidth": 0,
              "ticks": ""
             }
            },
            "type": "scatterpolargl"
           }
          ],
          "scatterternary": [
           {
            "marker": {
             "colorbar": {
              "outlinewidth": 0,
              "ticks": ""
             }
            },
            "type": "scatterternary"
           }
          ],
          "surface": [
           {
            "colorbar": {
             "outlinewidth": 0,
             "ticks": ""
            },
            "colorscale": [
             [
              0,
              "#0d0887"
             ],
             [
              0.1111111111111111,
              "#46039f"
             ],
             [
              0.2222222222222222,
              "#7201a8"
             ],
             [
              0.3333333333333333,
              "#9c179e"
             ],
             [
              0.4444444444444444,
              "#bd3786"
             ],
             [
              0.5555555555555556,
              "#d8576b"
             ],
             [
              0.6666666666666666,
              "#ed7953"
             ],
             [
              0.7777777777777778,
              "#fb9f3a"
             ],
             [
              0.8888888888888888,
              "#fdca26"
             ],
             [
              1,
              "#f0f921"
             ]
            ],
            "type": "surface"
           }
          ],
          "table": [
           {
            "cells": {
             "fill": {
              "color": "#EBF0F8"
             },
             "line": {
              "color": "white"
             }
            },
            "header": {
             "fill": {
              "color": "#C8D4E3"
             },
             "line": {
              "color": "white"
             }
            },
            "type": "table"
           }
          ]
         },
         "layout": {
          "annotationdefaults": {
           "arrowcolor": "#2a3f5f",
           "arrowhead": 0,
           "arrowwidth": 1
          },
          "autotypenumbers": "strict",
          "coloraxis": {
           "colorbar": {
            "outlinewidth": 0,
            "ticks": ""
           }
          },
          "colorscale": {
           "diverging": [
            [
             0,
             "#8e0152"
            ],
            [
             0.1,
             "#c51b7d"
            ],
            [
             0.2,
             "#de77ae"
            ],
            [
             0.3,
             "#f1b6da"
            ],
            [
             0.4,
             "#fde0ef"
            ],
            [
             0.5,
             "#f7f7f7"
            ],
            [
             0.6,
             "#e6f5d0"
            ],
            [
             0.7,
             "#b8e186"
            ],
            [
             0.8,
             "#7fbc41"
            ],
            [
             0.9,
             "#4d9221"
            ],
            [
             1,
             "#276419"
            ]
           ],
           "sequential": [
            [
             0,
             "#0d0887"
            ],
            [
             0.1111111111111111,
             "#46039f"
            ],
            [
             0.2222222222222222,
             "#7201a8"
            ],
            [
             0.3333333333333333,
             "#9c179e"
            ],
            [
             0.4444444444444444,
             "#bd3786"
            ],
            [
             0.5555555555555556,
             "#d8576b"
            ],
            [
             0.6666666666666666,
             "#ed7953"
            ],
            [
             0.7777777777777778,
             "#fb9f3a"
            ],
            [
             0.8888888888888888,
             "#fdca26"
            ],
            [
             1,
             "#f0f921"
            ]
           ],
           "sequentialminus": [
            [
             0,
             "#0d0887"
            ],
            [
             0.1111111111111111,
             "#46039f"
            ],
            [
             0.2222222222222222,
             "#7201a8"
            ],
            [
             0.3333333333333333,
             "#9c179e"
            ],
            [
             0.4444444444444444,
             "#bd3786"
            ],
            [
             0.5555555555555556,
             "#d8576b"
            ],
            [
             0.6666666666666666,
             "#ed7953"
            ],
            [
             0.7777777777777778,
             "#fb9f3a"
            ],
            [
             0.8888888888888888,
             "#fdca26"
            ],
            [
             1,
             "#f0f921"
            ]
           ]
          },
          "colorway": [
           "#636efa",
           "#EF553B",
           "#00cc96",
           "#ab63fa",
           "#FFA15A",
           "#19d3f3",
           "#FF6692",
           "#B6E880",
           "#FF97FF",
           "#FECB52"
          ],
          "font": {
           "color": "#2a3f5f"
          },
          "geo": {
           "bgcolor": "white",
           "lakecolor": "white",
           "landcolor": "#E5ECF6",
           "showlakes": true,
           "showland": true,
           "subunitcolor": "white"
          },
          "hoverlabel": {
           "align": "left"
          },
          "hovermode": "closest",
          "mapbox": {
           "style": "light"
          },
          "paper_bgcolor": "white",
          "plot_bgcolor": "#E5ECF6",
          "polar": {
           "angularaxis": {
            "gridcolor": "white",
            "linecolor": "white",
            "ticks": ""
           },
           "bgcolor": "#E5ECF6",
           "radialaxis": {
            "gridcolor": "white",
            "linecolor": "white",
            "ticks": ""
           }
          },
          "scene": {
           "xaxis": {
            "backgroundcolor": "#E5ECF6",
            "gridcolor": "white",
            "gridwidth": 2,
            "linecolor": "white",
            "showbackground": true,
            "ticks": "",
            "zerolinecolor": "white"
           },
           "yaxis": {
            "backgroundcolor": "#E5ECF6",
            "gridcolor": "white",
            "gridwidth": 2,
            "linecolor": "white",
            "showbackground": true,
            "ticks": "",
            "zerolinecolor": "white"
           },
           "zaxis": {
            "backgroundcolor": "#E5ECF6",
            "gridcolor": "white",
            "gridwidth": 2,
            "linecolor": "white",
            "showbackground": true,
            "ticks": "",
            "zerolinecolor": "white"
           }
          },
          "shapedefaults": {
           "line": {
            "color": "#2a3f5f"
           }
          },
          "ternary": {
           "aaxis": {
            "gridcolor": "white",
            "linecolor": "white",
            "ticks": ""
           },
           "baxis": {
            "gridcolor": "white",
            "linecolor": "white",
            "ticks": ""
           },
           "bgcolor": "#E5ECF6",
           "caxis": {
            "gridcolor": "white",
            "linecolor": "white",
            "ticks": ""
           }
          },
          "title": {
           "x": 0.05
          },
          "xaxis": {
           "automargin": true,
           "gridcolor": "white",
           "linecolor": "white",
           "ticks": "",
           "title": {
            "standoff": 15
           },
           "zerolinecolor": "white",
           "zerolinewidth": 2
          },
          "yaxis": {
           "automargin": true,
           "gridcolor": "white",
           "linecolor": "white",
           "ticks": "",
           "title": {
            "standoff": 15
           },
           "zerolinecolor": "white",
           "zerolinewidth": 2
          }
         }
        },
        "title": {
         "text": "Group Size vs Average Spend"
        },
        "xaxis": {
         "anchor": "y",
         "domain": [
          0,
          1
         ],
         "title": {
          "text": "GroupSize"
         }
        },
        "yaxis": {
         "anchor": "x",
         "domain": [
          0,
          1
         ],
         "title": {
          "text": "AverageSpend"
         }
        }
       }
      }
     },
     "metadata": {},
     "output_type": "display_data"
    }
   ],
   "source": [
    "\n",
    "# -----------------------------------------------\n",
    "# 7. Cross-Analysis of Group Size and Spend\n",
    "# -----------------------------------------------\n",
    "\n",
    "# Relationship between group size and spend\n",
    "fig = px.scatter(restaurant, x=\"GroupSize\", y=\"AverageSpend\",\n",
    "                 title=\"Group Size vs Average Spend\", color=\"GroupSize\")\n",
    "fig.show()"
   ]
  }
 ],
 "metadata": {
  "kernelspec": {
   "display_name": ".venv",
   "language": "python",
   "name": "python3"
  },
  "language_info": {
   "codemirror_mode": {
    "name": "ipython",
    "version": 3
   },
   "file_extension": ".py",
   "mimetype": "text/x-python",
   "name": "python",
   "nbconvert_exporter": "python",
   "pygments_lexer": "ipython3",
   "version": "3.13.2"
  }
 },
 "nbformat": 4,
 "nbformat_minor": 2
}
